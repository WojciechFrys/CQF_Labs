{
 "cells": [
  {
   "cell_type": "code",
   "execution_count": 1,
   "id": "4defb057-94f9-4fb6-9fb5-10270462b962",
   "metadata": {},
   "outputs": [
    {
     "data": {
      "text/html": [
       "        <script type=\"text/javascript\">\n",
       "        window.PlotlyConfig = {MathJaxConfig: 'local'};\n",
       "        if (window.MathJax && window.MathJax.Hub && window.MathJax.Hub.Config) {window.MathJax.Hub.Config({SVG: {font: \"STIX-Web\"}});}\n",
       "        if (typeof require !== 'undefined') {\n",
       "        require.undef(\"plotly\");\n",
       "        requirejs.config({\n",
       "            paths: {\n",
       "                'plotly': ['https://cdn.plot.ly/plotly-2.18.0.min']\n",
       "            }\n",
       "        });\n",
       "        require(['plotly'], function(Plotly) {\n",
       "            window._Plotly = Plotly;\n",
       "        });\n",
       "        }\n",
       "        </script>\n",
       "        "
      ]
     },
     "metadata": {},
     "output_type": "display_data"
    }
   ],
   "source": [
    "# Import data manipulation libraries\n",
    "import numpy as np\n",
    "import pandas as pd\n",
    "# Import yahoo finance library\n",
    "import yfinance as yf\n",
    "# Import cufflinks for visualization\n",
    "import cufflinks as cf\n",
    "cf.set_config_file(offline=True, theme='solar')\n",
    "# Ignore warnings - optional\n",
    "import warnings\n",
    "warnings.filterwarnings('ignore')"
   ]
  },
  {
   "cell_type": "code",
   "execution_count": 2,
   "id": "e98d28b8-34d8-4444-9c27-55c83ebf26a8",
   "metadata": {},
   "outputs": [
    {
     "data": {
      "text/html": [
       "<div>\n",
       "<style scoped>\n",
       "    .dataframe tbody tr th:only-of-type {\n",
       "        vertical-align: middle;\n",
       "    }\n",
       "\n",
       "    .dataframe tbody tr th {\n",
       "        vertical-align: top;\n",
       "    }\n",
       "\n",
       "    .dataframe thead th {\n",
       "        text-align: right;\n",
       "    }\n",
       "</style>\n",
       "<table border=\"1\" class=\"dataframe\">\n",
       "  <thead>\n",
       "    <tr style=\"text-align: right;\">\n",
       "      <th></th>\n",
       "      <th>Open</th>\n",
       "      <th>High</th>\n",
       "      <th>Low</th>\n",
       "      <th>Close</th>\n",
       "      <th>Adj Close</th>\n",
       "      <th>Volume</th>\n",
       "    </tr>\n",
       "    <tr>\n",
       "      <th>Date</th>\n",
       "      <th></th>\n",
       "      <th></th>\n",
       "      <th></th>\n",
       "      <th></th>\n",
       "      <th></th>\n",
       "      <th></th>\n",
       "    </tr>\n",
       "  </thead>\n",
       "  <tbody>\n",
       "    <tr>\n",
       "      <th>2023-06-26 00:00:00-04:00</th>\n",
       "      <td>432.619995</td>\n",
       "      <td>434.609985</td>\n",
       "      <td>431.190002</td>\n",
       "      <td>431.440002</td>\n",
       "      <td>431.440002</td>\n",
       "      <td>72823600</td>\n",
       "    </tr>\n",
       "    <tr>\n",
       "      <th>2023-06-27 00:00:00-04:00</th>\n",
       "      <td>432.350006</td>\n",
       "      <td>436.809998</td>\n",
       "      <td>431.880005</td>\n",
       "      <td>436.170013</td>\n",
       "      <td>436.170013</td>\n",
       "      <td>72813700</td>\n",
       "    </tr>\n",
       "    <tr>\n",
       "      <th>2023-06-28 00:00:00-04:00</th>\n",
       "      <td>435.049988</td>\n",
       "      <td>437.440002</td>\n",
       "      <td>434.410004</td>\n",
       "      <td>436.390015</td>\n",
       "      <td>436.390015</td>\n",
       "      <td>75636000</td>\n",
       "    </tr>\n",
       "    <tr>\n",
       "      <th>2023-06-29 00:00:00-04:00</th>\n",
       "      <td>435.959991</td>\n",
       "      <td>438.279999</td>\n",
       "      <td>435.540009</td>\n",
       "      <td>438.109985</td>\n",
       "      <td>438.109985</td>\n",
       "      <td>67774800</td>\n",
       "    </tr>\n",
       "    <tr>\n",
       "      <th>2023-06-30 00:00:00-04:00</th>\n",
       "      <td>441.440002</td>\n",
       "      <td>443.609985</td>\n",
       "      <td>441.130005</td>\n",
       "      <td>443.359985</td>\n",
       "      <td>443.359985</td>\n",
       "      <td>45358081</td>\n",
       "    </tr>\n",
       "  </tbody>\n",
       "</table>\n",
       "</div>"
      ],
      "text/plain": [
       "                                 Open        High         Low       Close  \\\n",
       "Date                                                                        \n",
       "2023-06-26 00:00:00-04:00  432.619995  434.609985  431.190002  431.440002   \n",
       "2023-06-27 00:00:00-04:00  432.350006  436.809998  431.880005  436.170013   \n",
       "2023-06-28 00:00:00-04:00  435.049988  437.440002  434.410004  436.390015   \n",
       "2023-06-29 00:00:00-04:00  435.959991  438.279999  435.540009  438.109985   \n",
       "2023-06-30 00:00:00-04:00  441.440002  443.609985  441.130005  443.359985   \n",
       "\n",
       "                            Adj Close    Volume  \n",
       "Date                                             \n",
       "2023-06-26 00:00:00-04:00  431.440002  72823600  \n",
       "2023-06-27 00:00:00-04:00  436.170013  72813700  \n",
       "2023-06-28 00:00:00-04:00  436.390015  75636000  \n",
       "2023-06-29 00:00:00-04:00  438.109985  67774800  \n",
       "2023-06-30 00:00:00-04:00  443.359985  45358081  "
      ]
     },
     "execution_count": 2,
     "metadata": {},
     "output_type": "execute_result"
    }
   ],
   "source": [
    "# Fetch the data by specifying the number of period\n",
    "df1 = yf.download('SPY', period='5d', progress=False)\n",
    "# Display the first five rows of the dataframe to check the results.\n",
    "df1"
   ]
  },
  {
   "cell_type": "code",
   "execution_count": 3,
   "id": "bfa61346-b9fb-4710-add9-b98b7ed25bd7",
   "metadata": {},
   "outputs": [
    {
     "data": {
      "text/html": [
       "<div>\n",
       "<style scoped>\n",
       "    .dataframe tbody tr th:only-of-type {\n",
       "        vertical-align: middle;\n",
       "    }\n",
       "\n",
       "    .dataframe tbody tr th {\n",
       "        vertical-align: top;\n",
       "    }\n",
       "\n",
       "    .dataframe thead th {\n",
       "        text-align: right;\n",
       "    }\n",
       "</style>\n",
       "<table border=\"1\" class=\"dataframe\">\n",
       "  <thead>\n",
       "    <tr style=\"text-align: right;\">\n",
       "      <th></th>\n",
       "      <th>Open</th>\n",
       "      <th>High</th>\n",
       "      <th>Low</th>\n",
       "      <th>Close</th>\n",
       "      <th>Adj Close</th>\n",
       "      <th>Volume</th>\n",
       "    </tr>\n",
       "    <tr>\n",
       "      <th>Date</th>\n",
       "      <th></th>\n",
       "      <th></th>\n",
       "      <th></th>\n",
       "      <th></th>\n",
       "      <th></th>\n",
       "      <th></th>\n",
       "    </tr>\n",
       "  </thead>\n",
       "  <tbody>\n",
       "    <tr>\n",
       "      <th>2022-06-01 00:00:00-04:00</th>\n",
       "      <td>415.170013</td>\n",
       "      <td>416.239990</td>\n",
       "      <td>406.929993</td>\n",
       "      <td>409.589996</td>\n",
       "      <td>401.275543</td>\n",
       "      <td>86585800</td>\n",
       "    </tr>\n",
       "    <tr>\n",
       "      <th>2022-06-02 00:00:00-04:00</th>\n",
       "      <td>409.420013</td>\n",
       "      <td>417.440002</td>\n",
       "      <td>407.040009</td>\n",
       "      <td>417.390015</td>\n",
       "      <td>408.917236</td>\n",
       "      <td>79609600</td>\n",
       "    </tr>\n",
       "    <tr>\n",
       "      <th>2022-06-03 00:00:00-04:00</th>\n",
       "      <td>412.399994</td>\n",
       "      <td>414.040009</td>\n",
       "      <td>409.510010</td>\n",
       "      <td>410.540009</td>\n",
       "      <td>402.206268</td>\n",
       "      <td>71874300</td>\n",
       "    </tr>\n",
       "    <tr>\n",
       "      <th>2022-06-06 00:00:00-04:00</th>\n",
       "      <td>414.779999</td>\n",
       "      <td>416.609985</td>\n",
       "      <td>410.549988</td>\n",
       "      <td>411.790009</td>\n",
       "      <td>403.430939</td>\n",
       "      <td>57508900</td>\n",
       "    </tr>\n",
       "    <tr>\n",
       "      <th>2022-06-07 00:00:00-04:00</th>\n",
       "      <td>408.100006</td>\n",
       "      <td>416.220001</td>\n",
       "      <td>407.609985</td>\n",
       "      <td>415.739990</td>\n",
       "      <td>407.300720</td>\n",
       "      <td>59272400</td>\n",
       "    </tr>\n",
       "  </tbody>\n",
       "</table>\n",
       "</div>"
      ],
      "text/plain": [
       "                                 Open        High         Low       Close  \\\n",
       "Date                                                                        \n",
       "2022-06-01 00:00:00-04:00  415.170013  416.239990  406.929993  409.589996   \n",
       "2022-06-02 00:00:00-04:00  409.420013  417.440002  407.040009  417.390015   \n",
       "2022-06-03 00:00:00-04:00  412.399994  414.040009  409.510010  410.540009   \n",
       "2022-06-06 00:00:00-04:00  414.779999  416.609985  410.549988  411.790009   \n",
       "2022-06-07 00:00:00-04:00  408.100006  416.220001  407.609985  415.739990   \n",
       "\n",
       "                            Adj Close    Volume  \n",
       "Date                                             \n",
       "2022-06-01 00:00:00-04:00  401.275543  86585800  \n",
       "2022-06-02 00:00:00-04:00  408.917236  79609600  \n",
       "2022-06-03 00:00:00-04:00  402.206268  71874300  \n",
       "2022-06-06 00:00:00-04:00  403.430939  57508900  \n",
       "2022-06-07 00:00:00-04:00  407.300720  59272400  "
      ]
     },
     "execution_count": 3,
     "metadata": {},
     "output_type": "execute_result"
    }
   ],
   "source": [
    "# Fetch data by specifying the the start and end dates\n",
    "df2 = yf.download('SPY', start='2022-06-01', end='2022-06-30', progress=False)\n",
    "# Display the first five rows of the dataframe to check the results.\n",
    "df2.head()"
   ]
  },
  {
   "cell_type": "code",
   "execution_count": 4,
   "id": "cbab4b08-b20b-4018-b4b3-ce472d3bcd75",
   "metadata": {},
   "outputs": [
    {
     "data": {
      "text/html": [
       "<div>\n",
       "<style scoped>\n",
       "    .dataframe tbody tr th:only-of-type {\n",
       "        vertical-align: middle;\n",
       "    }\n",
       "\n",
       "    .dataframe tbody tr th {\n",
       "        vertical-align: top;\n",
       "    }\n",
       "\n",
       "    .dataframe thead th {\n",
       "        text-align: right;\n",
       "    }\n",
       "</style>\n",
       "<table border=\"1\" class=\"dataframe\">\n",
       "  <thead>\n",
       "    <tr style=\"text-align: right;\">\n",
       "      <th></th>\n",
       "      <th>Open</th>\n",
       "      <th>High</th>\n",
       "      <th>Low</th>\n",
       "      <th>Close</th>\n",
       "      <th>Adj Close</th>\n",
       "      <th>Volume</th>\n",
       "    </tr>\n",
       "    <tr>\n",
       "      <th>Date</th>\n",
       "      <th></th>\n",
       "      <th></th>\n",
       "      <th></th>\n",
       "      <th></th>\n",
       "      <th></th>\n",
       "      <th></th>\n",
       "    </tr>\n",
       "  </thead>\n",
       "  <tbody>\n",
       "    <tr>\n",
       "      <th>2023-06-26 00:00:00-04:00</th>\n",
       "      <td>432.619995</td>\n",
       "      <td>434.609985</td>\n",
       "      <td>431.190002</td>\n",
       "      <td>431.440002</td>\n",
       "      <td>431.440002</td>\n",
       "      <td>72823600</td>\n",
       "    </tr>\n",
       "    <tr>\n",
       "      <th>2023-06-27 00:00:00-04:00</th>\n",
       "      <td>432.350006</td>\n",
       "      <td>436.809998</td>\n",
       "      <td>431.880005</td>\n",
       "      <td>436.170013</td>\n",
       "      <td>436.170013</td>\n",
       "      <td>72813700</td>\n",
       "    </tr>\n",
       "    <tr>\n",
       "      <th>2023-06-28 00:00:00-04:00</th>\n",
       "      <td>435.049988</td>\n",
       "      <td>437.440002</td>\n",
       "      <td>434.410004</td>\n",
       "      <td>436.390015</td>\n",
       "      <td>436.390015</td>\n",
       "      <td>75636000</td>\n",
       "    </tr>\n",
       "    <tr>\n",
       "      <th>2023-06-29 00:00:00-04:00</th>\n",
       "      <td>435.959991</td>\n",
       "      <td>438.279999</td>\n",
       "      <td>435.540009</td>\n",
       "      <td>438.109985</td>\n",
       "      <td>438.109985</td>\n",
       "      <td>67774800</td>\n",
       "    </tr>\n",
       "    <tr>\n",
       "      <th>2023-06-30 00:00:00-04:00</th>\n",
       "      <td>441.440002</td>\n",
       "      <td>443.609985</td>\n",
       "      <td>441.130005</td>\n",
       "      <td>443.364197</td>\n",
       "      <td>443.364197</td>\n",
       "      <td>45358788</td>\n",
       "    </tr>\n",
       "  </tbody>\n",
       "</table>\n",
       "</div>"
      ],
      "text/plain": [
       "                                 Open        High         Low       Close  \\\n",
       "Date                                                                        \n",
       "2023-06-26 00:00:00-04:00  432.619995  434.609985  431.190002  431.440002   \n",
       "2023-06-27 00:00:00-04:00  432.350006  436.809998  431.880005  436.170013   \n",
       "2023-06-28 00:00:00-04:00  435.049988  437.440002  434.410004  436.390015   \n",
       "2023-06-29 00:00:00-04:00  435.959991  438.279999  435.540009  438.109985   \n",
       "2023-06-30 00:00:00-04:00  441.440002  443.609985  441.130005  443.364197   \n",
       "\n",
       "                            Adj Close    Volume  \n",
       "Date                                             \n",
       "2023-06-26 00:00:00-04:00  431.440002  72823600  \n",
       "2023-06-27 00:00:00-04:00  436.170013  72813700  \n",
       "2023-06-28 00:00:00-04:00  436.390015  75636000  \n",
       "2023-06-29 00:00:00-04:00  438.109985  67774800  \n",
       "2023-06-30 00:00:00-04:00  443.364197  45358788  "
      ]
     },
     "execution_count": 4,
     "metadata": {},
     "output_type": "execute_result"
    }
   ],
   "source": [
    "# Fetch data for year to date (YTD)\n",
    "df3 = yf.download('SPY', period='ytd', progress=False)\n",
    "# Display the last five rows of the dataframe to check the results.\n",
    "df3.tail()"
   ]
  },
  {
   "cell_type": "code",
   "execution_count": 5,
   "id": "d98a32fd-3563-426a-a241-ba954857578f",
   "metadata": {},
   "outputs": [],
   "source": [
    "# Specify stocks\n",
    "# https://en.wikipedia.org/wiki/Dow_Jones_Industrial_Average\n",
    "dow_stocks = ['UNH', 'GS', 'HD', 'AMGN', 'MCD']"
   ]
  },
  {
   "cell_type": "code",
   "execution_count": 6,
   "id": "772b9a21-102e-4f62-9726-063048a2324a",
   "metadata": {},
   "outputs": [
    {
     "data": {
      "text/html": [
       "<div>\n",
       "<style scoped>\n",
       "    .dataframe tbody tr th:only-of-type {\n",
       "        vertical-align: middle;\n",
       "    }\n",
       "\n",
       "    .dataframe tbody tr th {\n",
       "        vertical-align: top;\n",
       "    }\n",
       "\n",
       "    .dataframe thead th {\n",
       "        text-align: right;\n",
       "    }\n",
       "</style>\n",
       "<table border=\"1\" class=\"dataframe\">\n",
       "  <thead>\n",
       "    <tr style=\"text-align: right;\">\n",
       "      <th></th>\n",
       "      <th>AMGN</th>\n",
       "      <th>GS</th>\n",
       "      <th>HD</th>\n",
       "      <th>MCD</th>\n",
       "      <th>UNH</th>\n",
       "    </tr>\n",
       "    <tr>\n",
       "      <th>Date</th>\n",
       "      <th></th>\n",
       "      <th></th>\n",
       "      <th></th>\n",
       "      <th></th>\n",
       "      <th></th>\n",
       "    </tr>\n",
       "  </thead>\n",
       "  <tbody>\n",
       "    <tr>\n",
       "      <th>2023-06-26 00:00:00-04:00</th>\n",
       "      <td>224.729996</td>\n",
       "      <td>312.359985</td>\n",
       "      <td>307.890015</td>\n",
       "      <td>289.089996</td>\n",
       "      <td>479.059998</td>\n",
       "    </tr>\n",
       "    <tr>\n",
       "      <th>2023-06-27 00:00:00-04:00</th>\n",
       "      <td>222.610001</td>\n",
       "      <td>313.450012</td>\n",
       "      <td>313.739990</td>\n",
       "      <td>291.299988</td>\n",
       "      <td>482.559998</td>\n",
       "    </tr>\n",
       "    <tr>\n",
       "      <th>2023-06-28 00:00:00-04:00</th>\n",
       "      <td>221.309998</td>\n",
       "      <td>313.660004</td>\n",
       "      <td>306.510010</td>\n",
       "      <td>291.739990</td>\n",
       "      <td>474.450012</td>\n",
       "    </tr>\n",
       "    <tr>\n",
       "      <th>2023-06-29 00:00:00-04:00</th>\n",
       "      <td>221.160004</td>\n",
       "      <td>323.089996</td>\n",
       "      <td>307.820007</td>\n",
       "      <td>294.470001</td>\n",
       "      <td>476.440002</td>\n",
       "    </tr>\n",
       "    <tr>\n",
       "      <th>2023-06-30 00:00:00-04:00</th>\n",
       "      <td>221.910004</td>\n",
       "      <td>324.153412</td>\n",
       "      <td>309.940002</td>\n",
       "      <td>297.339996</td>\n",
       "      <td>480.089996</td>\n",
       "    </tr>\n",
       "  </tbody>\n",
       "</table>\n",
       "</div>"
      ],
      "text/plain": [
       "                                 AMGN          GS          HD         MCD  \\\n",
       "Date                                                                        \n",
       "2023-06-26 00:00:00-04:00  224.729996  312.359985  307.890015  289.089996   \n",
       "2023-06-27 00:00:00-04:00  222.610001  313.450012  313.739990  291.299988   \n",
       "2023-06-28 00:00:00-04:00  221.309998  313.660004  306.510010  291.739990   \n",
       "2023-06-29 00:00:00-04:00  221.160004  323.089996  307.820007  294.470001   \n",
       "2023-06-30 00:00:00-04:00  221.910004  324.153412  309.940002  297.339996   \n",
       "\n",
       "                                  UNH  \n",
       "Date                                   \n",
       "2023-06-26 00:00:00-04:00  479.059998  \n",
       "2023-06-27 00:00:00-04:00  482.559998  \n",
       "2023-06-28 00:00:00-04:00  474.450012  \n",
       "2023-06-29 00:00:00-04:00  476.440002  \n",
       "2023-06-30 00:00:00-04:00  480.089996  "
      ]
     },
     "execution_count": 6,
     "metadata": {},
     "output_type": "execute_result"
    }
   ],
   "source": [
    "# Fetch data for multiple stocks at once\n",
    "df4 = yf.download(dow_stocks, period='ytd', progress=False)['Adj Close']\n",
    "# Display dataframe\n",
    "df4.tail()"
   ]
  },
  {
   "cell_type": "code",
   "execution_count": 7,
   "id": "b8c50f02-8d8c-496a-96a1-3bdea8299fa9",
   "metadata": {},
   "outputs": [],
   "source": [
    "# Fetch data for multiple fields using comprehension\n",
    "ohlcv = {symbol: yf.download(symbol, period='250d', progress=False) for symbol in dow_stocks}"
   ]
  },
  {
   "cell_type": "code",
   "execution_count": 8,
   "id": "7be54db4-d24d-4777-a4a7-6689f5027476",
   "metadata": {},
   "outputs": [
    {
     "data": {
      "text/plain": [
       "dict_keys(['UNH', 'GS', 'HD', 'AMGN', 'MCD'])"
      ]
     },
     "execution_count": 8,
     "metadata": {},
     "output_type": "execute_result"
    }
   ],
   "source": [
    "ohlcv.keys()"
   ]
  },
  {
   "cell_type": "code",
   "execution_count": 9,
   "id": "324a3232-a25a-43e2-99f2-6420eb23dc4e",
   "metadata": {},
   "outputs": [
    {
     "data": {
      "text/plain": [
       "Date\n",
       "2022-07-05 00:00:00-04:00    288.769012\n",
       "2022-07-06 00:00:00-04:00    285.426575\n",
       "2022-07-07 00:00:00-04:00    290.129272\n",
       "2022-07-08 00:00:00-04:00    288.059692\n",
       "2022-07-11 00:00:00-04:00    284.863007\n",
       "                                ...    \n",
       "2023-06-26 00:00:00-04:00    312.359985\n",
       "2023-06-27 00:00:00-04:00    313.450012\n",
       "2023-06-28 00:00:00-04:00    313.660004\n",
       "2023-06-29 00:00:00-04:00    323.089996\n",
       "2023-06-30 00:00:00-04:00    324.153412\n",
       "Name: Adj Close, Length: 250, dtype: float64"
      ]
     },
     "execution_count": 9,
     "metadata": {},
     "output_type": "execute_result"
    }
   ],
   "source": [
    "# Display GS adjusted close data\n",
    "ohlcv['GS']['Adj Close']"
   ]
  },
  {
   "cell_type": "code",
   "execution_count": 10,
   "id": "bc20fdea-6eaa-43e1-9f18-4a67247ea0c9",
   "metadata": {},
   "outputs": [
    {
     "data": {
      "text/html": [
       "<div>\n",
       "<style scoped>\n",
       "    .dataframe tbody tr th:only-of-type {\n",
       "        vertical-align: middle;\n",
       "    }\n",
       "\n",
       "    .dataframe tbody tr th {\n",
       "        vertical-align: top;\n",
       "    }\n",
       "\n",
       "    .dataframe thead th {\n",
       "        text-align: right;\n",
       "    }\n",
       "</style>\n",
       "<table border=\"1\" class=\"dataframe\">\n",
       "  <thead>\n",
       "    <tr style=\"text-align: right;\">\n",
       "      <th></th>\n",
       "      <th>Open</th>\n",
       "      <th>High</th>\n",
       "      <th>Low</th>\n",
       "      <th>Close</th>\n",
       "      <th>Adj Close</th>\n",
       "      <th>Volume</th>\n",
       "    </tr>\n",
       "    <tr>\n",
       "      <th>Datetime</th>\n",
       "      <th></th>\n",
       "      <th></th>\n",
       "      <th></th>\n",
       "      <th></th>\n",
       "      <th></th>\n",
       "      <th></th>\n",
       "    </tr>\n",
       "  </thead>\n",
       "  <tbody>\n",
       "    <tr>\n",
       "      <th>2023-06-26 09:30:00-04:00</th>\n",
       "      <td>432.619995</td>\n",
       "      <td>432.989990</td>\n",
       "      <td>432.600006</td>\n",
       "      <td>432.910004</td>\n",
       "      <td>432.910004</td>\n",
       "      <td>1171057</td>\n",
       "    </tr>\n",
       "    <tr>\n",
       "      <th>2023-06-26 09:31:00-04:00</th>\n",
       "      <td>432.899994</td>\n",
       "      <td>433.040009</td>\n",
       "      <td>432.750000</td>\n",
       "      <td>432.800507</td>\n",
       "      <td>432.800507</td>\n",
       "      <td>174368</td>\n",
       "    </tr>\n",
       "    <tr>\n",
       "      <th>2023-06-26 09:32:00-04:00</th>\n",
       "      <td>432.809509</td>\n",
       "      <td>432.850006</td>\n",
       "      <td>432.730011</td>\n",
       "      <td>432.730011</td>\n",
       "      <td>432.730011</td>\n",
       "      <td>111918</td>\n",
       "    </tr>\n",
       "    <tr>\n",
       "      <th>2023-06-26 09:33:00-04:00</th>\n",
       "      <td>432.730011</td>\n",
       "      <td>433.109985</td>\n",
       "      <td>432.730011</td>\n",
       "      <td>433.089996</td>\n",
       "      <td>433.089996</td>\n",
       "      <td>144005</td>\n",
       "    </tr>\n",
       "    <tr>\n",
       "      <th>2023-06-26 09:34:00-04:00</th>\n",
       "      <td>433.089996</td>\n",
       "      <td>433.389191</td>\n",
       "      <td>433.079987</td>\n",
       "      <td>433.369995</td>\n",
       "      <td>433.369995</td>\n",
       "      <td>207961</td>\n",
       "    </tr>\n",
       "    <tr>\n",
       "      <th>...</th>\n",
       "      <td>...</td>\n",
       "      <td>...</td>\n",
       "      <td>...</td>\n",
       "      <td>...</td>\n",
       "      <td>...</td>\n",
       "      <td>...</td>\n",
       "    </tr>\n",
       "    <tr>\n",
       "      <th>2023-06-30 12:59:00-04:00</th>\n",
       "      <td>443.489990</td>\n",
       "      <td>443.540009</td>\n",
       "      <td>443.459991</td>\n",
       "      <td>443.494995</td>\n",
       "      <td>443.494995</td>\n",
       "      <td>116467</td>\n",
       "    </tr>\n",
       "    <tr>\n",
       "      <th>2023-06-30 13:00:00-04:00</th>\n",
       "      <td>443.500000</td>\n",
       "      <td>443.519989</td>\n",
       "      <td>443.420013</td>\n",
       "      <td>443.480011</td>\n",
       "      <td>443.480011</td>\n",
       "      <td>97452</td>\n",
       "    </tr>\n",
       "    <tr>\n",
       "      <th>2023-06-30 13:01:00-04:00</th>\n",
       "      <td>443.484985</td>\n",
       "      <td>443.559906</td>\n",
       "      <td>443.475006</td>\n",
       "      <td>443.549988</td>\n",
       "      <td>443.549988</td>\n",
       "      <td>92755</td>\n",
       "    </tr>\n",
       "    <tr>\n",
       "      <th>2023-06-30 13:02:00-04:00</th>\n",
       "      <td>443.559998</td>\n",
       "      <td>443.565002</td>\n",
       "      <td>443.299988</td>\n",
       "      <td>443.359985</td>\n",
       "      <td>443.359985</td>\n",
       "      <td>523350</td>\n",
       "    </tr>\n",
       "    <tr>\n",
       "      <th>2023-06-30 13:03:00-04:00</th>\n",
       "      <td>443.364197</td>\n",
       "      <td>443.364197</td>\n",
       "      <td>443.364197</td>\n",
       "      <td>443.364197</td>\n",
       "      <td>443.364197</td>\n",
       "      <td>0</td>\n",
       "    </tr>\n",
       "  </tbody>\n",
       "</table>\n",
       "<p>1773 rows × 6 columns</p>\n",
       "</div>"
      ],
      "text/plain": [
       "                                 Open        High         Low       Close  \\\n",
       "Datetime                                                                    \n",
       "2023-06-26 09:30:00-04:00  432.619995  432.989990  432.600006  432.910004   \n",
       "2023-06-26 09:31:00-04:00  432.899994  433.040009  432.750000  432.800507   \n",
       "2023-06-26 09:32:00-04:00  432.809509  432.850006  432.730011  432.730011   \n",
       "2023-06-26 09:33:00-04:00  432.730011  433.109985  432.730011  433.089996   \n",
       "2023-06-26 09:34:00-04:00  433.089996  433.389191  433.079987  433.369995   \n",
       "...                               ...         ...         ...         ...   \n",
       "2023-06-30 12:59:00-04:00  443.489990  443.540009  443.459991  443.494995   \n",
       "2023-06-30 13:00:00-04:00  443.500000  443.519989  443.420013  443.480011   \n",
       "2023-06-30 13:01:00-04:00  443.484985  443.559906  443.475006  443.549988   \n",
       "2023-06-30 13:02:00-04:00  443.559998  443.565002  443.299988  443.359985   \n",
       "2023-06-30 13:03:00-04:00  443.364197  443.364197  443.364197  443.364197   \n",
       "\n",
       "                            Adj Close   Volume  \n",
       "Datetime                                        \n",
       "2023-06-26 09:30:00-04:00  432.910004  1171057  \n",
       "2023-06-26 09:31:00-04:00  432.800507   174368  \n",
       "2023-06-26 09:32:00-04:00  432.730011   111918  \n",
       "2023-06-26 09:33:00-04:00  433.089996   144005  \n",
       "2023-06-26 09:34:00-04:00  433.369995   207961  \n",
       "...                               ...      ...  \n",
       "2023-06-30 12:59:00-04:00  443.494995   116467  \n",
       "2023-06-30 13:00:00-04:00  443.480011    97452  \n",
       "2023-06-30 13:01:00-04:00  443.549988    92755  \n",
       "2023-06-30 13:02:00-04:00  443.359985   523350  \n",
       "2023-06-30 13:03:00-04:00  443.364197        0  \n",
       "\n",
       "[1773 rows x 6 columns]"
      ]
     },
     "execution_count": 10,
     "metadata": {},
     "output_type": "execute_result"
    }
   ],
   "source": [
    "# Retrieve intraday data for last five days\n",
    "df6 = yf.download('SPY', period='5d', interval='1m', progress=False)\n",
    "# Display dataframe\n",
    "df6"
   ]
  },
  {
   "cell_type": "code",
   "execution_count": 11,
   "id": "104f72cf-802f-421f-b66f-4d6f32af0dde",
   "metadata": {},
   "outputs": [],
   "source": [
    "spy = yf.Ticker('SPY')"
   ]
  },
  {
   "cell_type": "code",
   "execution_count": 12,
   "id": "56aabdce-32e0-4a7b-ac8e-0eba9f358dd7",
   "metadata": {},
   "outputs": [],
   "source": [
    "# Get SPY option chain for Sept 30th expiration\n",
    "# https://finance.yahoo.com/quote/SPY/options?date=1680220800\n",
    "# spy = yf.Ticker('SPY')\n",
    "options = spy.option_chain('2023-06-30')"
   ]
  },
  {
   "cell_type": "code",
   "execution_count": 13,
   "id": "4c383b48-f90a-4933-91fe-c80d64ce99e7",
   "metadata": {},
   "outputs": [
    {
     "data": {
      "text/plain": [
       "yfinance.ticker.Options"
      ]
     },
     "execution_count": 13,
     "metadata": {},
     "output_type": "execute_result"
    }
   ],
   "source": [
    "type(options)"
   ]
  },
  {
   "cell_type": "code",
   "execution_count": 14,
   "id": "e66939c6-82a0-4be6-8e63-e88532957383",
   "metadata": {},
   "outputs": [
    {
     "data": {
      "text/html": [
       "<div>\n",
       "<style scoped>\n",
       "    .dataframe tbody tr th:only-of-type {\n",
       "        vertical-align: middle;\n",
       "    }\n",
       "\n",
       "    .dataframe tbody tr th {\n",
       "        vertical-align: top;\n",
       "    }\n",
       "\n",
       "    .dataframe thead th {\n",
       "        text-align: right;\n",
       "    }\n",
       "</style>\n",
       "<table border=\"1\" class=\"dataframe\">\n",
       "  <thead>\n",
       "    <tr style=\"text-align: right;\">\n",
       "      <th></th>\n",
       "      <th>contractSymbol</th>\n",
       "      <th>lastTradeDate</th>\n",
       "      <th>strike</th>\n",
       "      <th>lastPrice</th>\n",
       "      <th>bid</th>\n",
       "      <th>ask</th>\n",
       "      <th>change</th>\n",
       "      <th>percentChange</th>\n",
       "      <th>volume</th>\n",
       "      <th>openInterest</th>\n",
       "      <th>impliedVolatility</th>\n",
       "      <th>inTheMoney</th>\n",
       "      <th>contractSize</th>\n",
       "      <th>currency</th>\n",
       "    </tr>\n",
       "  </thead>\n",
       "  <tbody>\n",
       "    <tr>\n",
       "      <th>71</th>\n",
       "      <td>SPY230630C00391000</td>\n",
       "      <td>2023-06-21 15:32:38+00:00</td>\n",
       "      <td>391.0</td>\n",
       "      <td>44.92</td>\n",
       "      <td>52.02</td>\n",
       "      <td>52.19</td>\n",
       "      <td>0.000000</td>\n",
       "      <td>0.000000</td>\n",
       "      <td>6.0</td>\n",
       "      <td>4</td>\n",
       "      <td>0.000010</td>\n",
       "      <td>True</td>\n",
       "      <td>REGULAR</td>\n",
       "      <td>USD</td>\n",
       "    </tr>\n",
       "    <tr>\n",
       "      <th>72</th>\n",
       "      <td>SPY230630C00392000</td>\n",
       "      <td>2023-06-15 19:49:39+00:00</td>\n",
       "      <td>392.0</td>\n",
       "      <td>50.98</td>\n",
       "      <td>51.05</td>\n",
       "      <td>51.23</td>\n",
       "      <td>0.000000</td>\n",
       "      <td>0.000000</td>\n",
       "      <td>57.0</td>\n",
       "      <td>0</td>\n",
       "      <td>0.000010</td>\n",
       "      <td>True</td>\n",
       "      <td>REGULAR</td>\n",
       "      <td>USD</td>\n",
       "    </tr>\n",
       "    <tr>\n",
       "      <th>73</th>\n",
       "      <td>SPY230630C00393000</td>\n",
       "      <td>2023-06-30 15:10:34+00:00</td>\n",
       "      <td>393.0</td>\n",
       "      <td>50.07</td>\n",
       "      <td>49.98</td>\n",
       "      <td>50.17</td>\n",
       "      <td>2.410000</td>\n",
       "      <td>5.056651</td>\n",
       "      <td>1.0</td>\n",
       "      <td>1</td>\n",
       "      <td>0.000010</td>\n",
       "      <td>True</td>\n",
       "      <td>REGULAR</td>\n",
       "      <td>USD</td>\n",
       "    </tr>\n",
       "    <tr>\n",
       "      <th>74</th>\n",
       "      <td>SPY230630C00394000</td>\n",
       "      <td>2023-06-21 16:55:57+00:00</td>\n",
       "      <td>394.0</td>\n",
       "      <td>42.08</td>\n",
       "      <td>49.10</td>\n",
       "      <td>49.28</td>\n",
       "      <td>0.000000</td>\n",
       "      <td>0.000000</td>\n",
       "      <td>1.0</td>\n",
       "      <td>1</td>\n",
       "      <td>0.000010</td>\n",
       "      <td>True</td>\n",
       "      <td>REGULAR</td>\n",
       "      <td>USD</td>\n",
       "    </tr>\n",
       "    <tr>\n",
       "      <th>75</th>\n",
       "      <td>SPY230630C00395000</td>\n",
       "      <td>2023-06-29 15:05:57+00:00</td>\n",
       "      <td>395.0</td>\n",
       "      <td>46.26</td>\n",
       "      <td>48.08</td>\n",
       "      <td>48.25</td>\n",
       "      <td>4.369999</td>\n",
       "      <td>10.432081</td>\n",
       "      <td>1.0</td>\n",
       "      <td>16</td>\n",
       "      <td>0.000010</td>\n",
       "      <td>True</td>\n",
       "      <td>REGULAR</td>\n",
       "      <td>USD</td>\n",
       "    </tr>\n",
       "    <tr>\n",
       "      <th>...</th>\n",
       "      <td>...</td>\n",
       "      <td>...</td>\n",
       "      <td>...</td>\n",
       "      <td>...</td>\n",
       "      <td>...</td>\n",
       "      <td>...</td>\n",
       "      <td>...</td>\n",
       "      <td>...</td>\n",
       "      <td>...</td>\n",
       "      <td>...</td>\n",
       "      <td>...</td>\n",
       "      <td>...</td>\n",
       "      <td>...</td>\n",
       "      <td>...</td>\n",
       "    </tr>\n",
       "    <tr>\n",
       "      <th>161</th>\n",
       "      <td>SPY230630C00525000</td>\n",
       "      <td>2023-06-16 13:30:05+00:00</td>\n",
       "      <td>525.0</td>\n",
       "      <td>0.01</td>\n",
       "      <td>0.00</td>\n",
       "      <td>0.01</td>\n",
       "      <td>0.000000</td>\n",
       "      <td>0.000000</td>\n",
       "      <td>25.0</td>\n",
       "      <td>19758</td>\n",
       "      <td>1.000005</td>\n",
       "      <td>False</td>\n",
       "      <td>REGULAR</td>\n",
       "      <td>USD</td>\n",
       "    </tr>\n",
       "    <tr>\n",
       "      <th>162</th>\n",
       "      <td>SPY230630C00530000</td>\n",
       "      <td>2023-04-25 17:14:01+00:00</td>\n",
       "      <td>530.0</td>\n",
       "      <td>0.01</td>\n",
       "      <td>0.00</td>\n",
       "      <td>0.02</td>\n",
       "      <td>0.000000</td>\n",
       "      <td>0.000000</td>\n",
       "      <td>30.0</td>\n",
       "      <td>688</td>\n",
       "      <td>1.125004</td>\n",
       "      <td>False</td>\n",
       "      <td>REGULAR</td>\n",
       "      <td>USD</td>\n",
       "    </tr>\n",
       "    <tr>\n",
       "      <th>163</th>\n",
       "      <td>SPY230630C00535000</td>\n",
       "      <td>2023-06-30 15:11:53+00:00</td>\n",
       "      <td>535.0</td>\n",
       "      <td>0.01</td>\n",
       "      <td>0.00</td>\n",
       "      <td>0.01</td>\n",
       "      <td>0.000000</td>\n",
       "      <td>0.000000</td>\n",
       "      <td>6.0</td>\n",
       "      <td>1223</td>\n",
       "      <td>1.125004</td>\n",
       "      <td>False</td>\n",
       "      <td>REGULAR</td>\n",
       "      <td>USD</td>\n",
       "    </tr>\n",
       "    <tr>\n",
       "      <th>164</th>\n",
       "      <td>SPY230630C00540000</td>\n",
       "      <td>2023-06-16 14:23:55+00:00</td>\n",
       "      <td>540.0</td>\n",
       "      <td>0.01</td>\n",
       "      <td>0.00</td>\n",
       "      <td>0.01</td>\n",
       "      <td>0.000000</td>\n",
       "      <td>0.000000</td>\n",
       "      <td>2.0</td>\n",
       "      <td>1784</td>\n",
       "      <td>1.156254</td>\n",
       "      <td>False</td>\n",
       "      <td>REGULAR</td>\n",
       "      <td>USD</td>\n",
       "    </tr>\n",
       "    <tr>\n",
       "      <th>165</th>\n",
       "      <td>SPY230630C00545000</td>\n",
       "      <td>2023-06-27 20:03:29+00:00</td>\n",
       "      <td>545.0</td>\n",
       "      <td>0.01</td>\n",
       "      <td>0.00</td>\n",
       "      <td>0.01</td>\n",
       "      <td>0.000000</td>\n",
       "      <td>0.000000</td>\n",
       "      <td>5.0</td>\n",
       "      <td>5363</td>\n",
       "      <td>1.218754</td>\n",
       "      <td>False</td>\n",
       "      <td>REGULAR</td>\n",
       "      <td>USD</td>\n",
       "    </tr>\n",
       "  </tbody>\n",
       "</table>\n",
       "<p>95 rows × 14 columns</p>\n",
       "</div>"
      ],
      "text/plain": [
       "         contractSymbol             lastTradeDate  strike  lastPrice    bid  \\\n",
       "71   SPY230630C00391000 2023-06-21 15:32:38+00:00   391.0      44.92  52.02   \n",
       "72   SPY230630C00392000 2023-06-15 19:49:39+00:00   392.0      50.98  51.05   \n",
       "73   SPY230630C00393000 2023-06-30 15:10:34+00:00   393.0      50.07  49.98   \n",
       "74   SPY230630C00394000 2023-06-21 16:55:57+00:00   394.0      42.08  49.10   \n",
       "75   SPY230630C00395000 2023-06-29 15:05:57+00:00   395.0      46.26  48.08   \n",
       "..                  ...                       ...     ...        ...    ...   \n",
       "161  SPY230630C00525000 2023-06-16 13:30:05+00:00   525.0       0.01   0.00   \n",
       "162  SPY230630C00530000 2023-04-25 17:14:01+00:00   530.0       0.01   0.00   \n",
       "163  SPY230630C00535000 2023-06-30 15:11:53+00:00   535.0       0.01   0.00   \n",
       "164  SPY230630C00540000 2023-06-16 14:23:55+00:00   540.0       0.01   0.00   \n",
       "165  SPY230630C00545000 2023-06-27 20:03:29+00:00   545.0       0.01   0.00   \n",
       "\n",
       "       ask    change  percentChange  volume  openInterest  impliedVolatility  \\\n",
       "71   52.19  0.000000       0.000000     6.0             4           0.000010   \n",
       "72   51.23  0.000000       0.000000    57.0             0           0.000010   \n",
       "73   50.17  2.410000       5.056651     1.0             1           0.000010   \n",
       "74   49.28  0.000000       0.000000     1.0             1           0.000010   \n",
       "75   48.25  4.369999      10.432081     1.0            16           0.000010   \n",
       "..     ...       ...            ...     ...           ...                ...   \n",
       "161   0.01  0.000000       0.000000    25.0         19758           1.000005   \n",
       "162   0.02  0.000000       0.000000    30.0           688           1.125004   \n",
       "163   0.01  0.000000       0.000000     6.0          1223           1.125004   \n",
       "164   0.01  0.000000       0.000000     2.0          1784           1.156254   \n",
       "165   0.01  0.000000       0.000000     5.0          5363           1.218754   \n",
       "\n",
       "     inTheMoney contractSize currency  \n",
       "71         True      REGULAR      USD  \n",
       "72         True      REGULAR      USD  \n",
       "73         True      REGULAR      USD  \n",
       "74         True      REGULAR      USD  \n",
       "75         True      REGULAR      USD  \n",
       "..          ...          ...      ...  \n",
       "161       False      REGULAR      USD  \n",
       "162       False      REGULAR      USD  \n",
       "163       False      REGULAR      USD  \n",
       "164       False      REGULAR      USD  \n",
       "165       False      REGULAR      USD  \n",
       "\n",
       "[95 rows x 14 columns]"
      ]
     },
     "execution_count": 14,
     "metadata": {},
     "output_type": "execute_result"
    }
   ],
   "source": [
    "options.calls.query(\"strike > 390\")"
   ]
  },
  {
   "cell_type": "code",
   "execution_count": 15,
   "id": "39d3ce78-9be5-4d72-8831-8402b7ae61d1",
   "metadata": {},
   "outputs": [
    {
     "data": {
      "text/plain": [
       "['ADANIENT', 'ADANIPORTS', 'APOLLOHOSP', 'ASIANPAINT', 'AXISBANK']"
      ]
     },
     "execution_count": 15,
     "metadata": {},
     "output_type": "execute_result"
    }
   ],
   "source": [
    "# Read data from wikipedia\n",
    "nifty50 = pd.read_html('https://en.wikipedia.org/wiki/NIFTY_50')[2].Symbol.to_list()\n",
    "# Read five symbols\n",
    "nifty50[:5]"
   ]
  },
  {
   "cell_type": "code",
   "execution_count": 16,
   "id": "8332ac89-6e1a-4626-ab80-781daaefc0fd",
   "metadata": {},
   "outputs": [
    {
     "name": "stdout",
     "output_type": "stream",
     "text": [
      "*** file saved ***\n"
     ]
    }
   ],
   "source": [
    "# Save ohlcv data for each securities in stockname.csv format\n",
    "[pd.DataFrame(ohlcv[symbol]).to_csv('.data/'+symbol+'.csv') for symbol in dow_stocks]\n",
    "print('*** file saved ***')"
   ]
  },
  {
   "cell_type": "code",
   "execution_count": 17,
   "id": "76812396-4112-442f-b8a1-d70396c8d15b",
   "metadata": {},
   "outputs": [
    {
     "data": {
      "text/html": [
       "<div>\n",
       "<style scoped>\n",
       "    .dataframe tbody tr th:only-of-type {\n",
       "        vertical-align: middle;\n",
       "    }\n",
       "\n",
       "    .dataframe tbody tr th {\n",
       "        vertical-align: top;\n",
       "    }\n",
       "\n",
       "    .dataframe thead th {\n",
       "        text-align: right;\n",
       "    }\n",
       "</style>\n",
       "<table border=\"1\" class=\"dataframe\">\n",
       "  <thead>\n",
       "    <tr style=\"text-align: right;\">\n",
       "      <th></th>\n",
       "      <th>Open</th>\n",
       "      <th>High</th>\n",
       "      <th>Low</th>\n",
       "      <th>Close</th>\n",
       "      <th>Adj Close</th>\n",
       "      <th>Volume</th>\n",
       "    </tr>\n",
       "    <tr>\n",
       "      <th>Date</th>\n",
       "      <th></th>\n",
       "      <th></th>\n",
       "      <th></th>\n",
       "      <th></th>\n",
       "      <th></th>\n",
       "      <th></th>\n",
       "    </tr>\n",
       "  </thead>\n",
       "  <tbody>\n",
       "    <tr>\n",
       "      <th>2023-06-26 00:00:00-04:00</th>\n",
       "      <td>315.130005</td>\n",
       "      <td>316.640015</td>\n",
       "      <td>312.170013</td>\n",
       "      <td>312.359985</td>\n",
       "      <td>312.359985</td>\n",
       "      <td>2481000</td>\n",
       "    </tr>\n",
       "    <tr>\n",
       "      <th>2023-06-27 00:00:00-04:00</th>\n",
       "      <td>312.410004</td>\n",
       "      <td>315.679993</td>\n",
       "      <td>310.559998</td>\n",
       "      <td>313.450012</td>\n",
       "      <td>313.450012</td>\n",
       "      <td>2156800</td>\n",
       "    </tr>\n",
       "    <tr>\n",
       "      <th>2023-06-28 00:00:00-04:00</th>\n",
       "      <td>311.720001</td>\n",
       "      <td>314.899994</td>\n",
       "      <td>310.690002</td>\n",
       "      <td>313.660004</td>\n",
       "      <td>313.660004</td>\n",
       "      <td>2423500</td>\n",
       "    </tr>\n",
       "    <tr>\n",
       "      <th>2023-06-29 00:00:00-04:00</th>\n",
       "      <td>317.850006</td>\n",
       "      <td>325.500000</td>\n",
       "      <td>316.250000</td>\n",
       "      <td>323.089996</td>\n",
       "      <td>323.089996</td>\n",
       "      <td>3553100</td>\n",
       "    </tr>\n",
       "    <tr>\n",
       "      <th>2023-06-30 00:00:00-04:00</th>\n",
       "      <td>325.820007</td>\n",
       "      <td>326.029999</td>\n",
       "      <td>322.695007</td>\n",
       "      <td>324.153412</td>\n",
       "      <td>324.153412</td>\n",
       "      <td>922723</td>\n",
       "    </tr>\n",
       "  </tbody>\n",
       "</table>\n",
       "</div>"
      ],
      "text/plain": [
       "                                 Open        High         Low       Close  \\\n",
       "Date                                                                        \n",
       "2023-06-26 00:00:00-04:00  315.130005  316.640015  312.170013  312.359985   \n",
       "2023-06-27 00:00:00-04:00  312.410004  315.679993  310.559998  313.450012   \n",
       "2023-06-28 00:00:00-04:00  311.720001  314.899994  310.690002  313.660004   \n",
       "2023-06-29 00:00:00-04:00  317.850006  325.500000  316.250000  323.089996   \n",
       "2023-06-30 00:00:00-04:00  325.820007  326.029999  322.695007  324.153412   \n",
       "\n",
       "                            Adj Close   Volume  \n",
       "Date                                            \n",
       "2023-06-26 00:00:00-04:00  312.359985  2481000  \n",
       "2023-06-27 00:00:00-04:00  313.450012  2156800  \n",
       "2023-06-28 00:00:00-04:00  313.660004  2423500  \n",
       "2023-06-29 00:00:00-04:00  323.089996  3553100  \n",
       "2023-06-30 00:00:00-04:00  324.153412   922723  "
      ]
     },
     "execution_count": 17,
     "metadata": {},
     "output_type": "execute_result"
    }
   ],
   "source": [
    "# Read CSV file\n",
    "gs = pd.read_csv('.data/GS.csv', index_col=0, parse_dates=True)\n",
    "# Display the last five rows of the data frame to check the results\n",
    "gs.tail()"
   ]
  },
  {
   "cell_type": "code",
   "execution_count": 18,
   "id": "e6077eb7-7181-4c8a-9538-afbce34050b8",
   "metadata": {},
   "outputs": [
    {
     "data": {
      "application/vnd.plotly.v1+json": {
       "config": {
        "linkText": "Export to plot.ly",
        "plotlyServerURL": "https://plot.ly",
        "showLink": true
       },
       "data": [
        {
         "line": {
          "color": "rgba(255, 153, 51, 1.0)",
          "dash": "solid",
          "shape": "linear",
          "width": 1.3
         },
         "mode": "lines",
         "name": "Close",
         "text": "",
         "type": "scatter",
         "x": [
          "2023-05-18 00:00:00-04:00",
          "2023-05-19 00:00:00-04:00",
          "2023-05-22 00:00:00-04:00",
          "2023-05-23 00:00:00-04:00",
          "2023-05-24 00:00:00-04:00",
          "2023-05-25 00:00:00-04:00",
          "2023-05-26 00:00:00-04:00",
          "2023-05-30 00:00:00-04:00",
          "2023-05-31 00:00:00-04:00",
          "2023-06-01 00:00:00-04:00",
          "2023-06-02 00:00:00-04:00",
          "2023-06-05 00:00:00-04:00",
          "2023-06-06 00:00:00-04:00",
          "2023-06-07 00:00:00-04:00",
          "2023-06-08 00:00:00-04:00",
          "2023-06-09 00:00:00-04:00",
          "2023-06-12 00:00:00-04:00",
          "2023-06-13 00:00:00-04:00",
          "2023-06-14 00:00:00-04:00",
          "2023-06-15 00:00:00-04:00",
          "2023-06-16 00:00:00-04:00",
          "2023-06-20 00:00:00-04:00",
          "2023-06-21 00:00:00-04:00",
          "2023-06-22 00:00:00-04:00",
          "2023-06-23 00:00:00-04:00",
          "2023-06-26 00:00:00-04:00",
          "2023-06-27 00:00:00-04:00",
          "2023-06-28 00:00:00-04:00",
          "2023-06-29 00:00:00-04:00",
          "2023-06-30 00:00:00-04:00"
         ],
         "y": [
          419.2300109863281,
          418.6199951171875,
          418.7900085449219,
          414.0899963378906,
          411.0899963378906,
          414.6499938964844,
          420.0199890136719,
          420.17999267578125,
          417.8500061035156,
          421.82000732421875,
          427.9200134277344,
          427.1000061035156,
          428.0299987792969,
          426.54998779296875,
          429.1300048828125,
          429.8999938964844,
          433.79998779296875,
          436.6600036621094,
          437.17999267578125,
          442.6000061035156,
          439.4599914550781,
          437.17999267578125,
          434.94000244140625,
          436.510009765625,
          433.2099914550781,
          431.44000244140625,
          436.1700134277344,
          436.3900146484375,
          438.1099853515625,
          443.36419677734375
         ]
        }
       ],
       "layout": {
        "autosize": true,
        "legend": {
         "bgcolor": "#151516",
         "font": {
          "color": "#D9D9D9"
         }
        },
        "paper_bgcolor": "#151516",
        "plot_bgcolor": "#151516",
        "template": {
         "data": {
          "bar": [
           {
            "error_x": {
             "color": "#2a3f5f"
            },
            "error_y": {
             "color": "#2a3f5f"
            },
            "marker": {
             "line": {
              "color": "#E5ECF6",
              "width": 0.5
             },
             "pattern": {
              "fillmode": "overlay",
              "size": 10,
              "solidity": 0.2
             }
            },
            "type": "bar"
           }
          ],
          "barpolar": [
           {
            "marker": {
             "line": {
              "color": "#E5ECF6",
              "width": 0.5
             },
             "pattern": {
              "fillmode": "overlay",
              "size": 10,
              "solidity": 0.2
             }
            },
            "type": "barpolar"
           }
          ],
          "carpet": [
           {
            "aaxis": {
             "endlinecolor": "#2a3f5f",
             "gridcolor": "white",
             "linecolor": "white",
             "minorgridcolor": "white",
             "startlinecolor": "#2a3f5f"
            },
            "baxis": {
             "endlinecolor": "#2a3f5f",
             "gridcolor": "white",
             "linecolor": "white",
             "minorgridcolor": "white",
             "startlinecolor": "#2a3f5f"
            },
            "type": "carpet"
           }
          ],
          "choropleth": [
           {
            "colorbar": {
             "outlinewidth": 0,
             "ticks": ""
            },
            "type": "choropleth"
           }
          ],
          "contour": [
           {
            "colorbar": {
             "outlinewidth": 0,
             "ticks": ""
            },
            "colorscale": [
             [
              0,
              "#0d0887"
             ],
             [
              0.1111111111111111,
              "#46039f"
             ],
             [
              0.2222222222222222,
              "#7201a8"
             ],
             [
              0.3333333333333333,
              "#9c179e"
             ],
             [
              0.4444444444444444,
              "#bd3786"
             ],
             [
              0.5555555555555556,
              "#d8576b"
             ],
             [
              0.6666666666666666,
              "#ed7953"
             ],
             [
              0.7777777777777778,
              "#fb9f3a"
             ],
             [
              0.8888888888888888,
              "#fdca26"
             ],
             [
              1,
              "#f0f921"
             ]
            ],
            "type": "contour"
           }
          ],
          "contourcarpet": [
           {
            "colorbar": {
             "outlinewidth": 0,
             "ticks": ""
            },
            "type": "contourcarpet"
           }
          ],
          "heatmap": [
           {
            "colorbar": {
             "outlinewidth": 0,
             "ticks": ""
            },
            "colorscale": [
             [
              0,
              "#0d0887"
             ],
             [
              0.1111111111111111,
              "#46039f"
             ],
             [
              0.2222222222222222,
              "#7201a8"
             ],
             [
              0.3333333333333333,
              "#9c179e"
             ],
             [
              0.4444444444444444,
              "#bd3786"
             ],
             [
              0.5555555555555556,
              "#d8576b"
             ],
             [
              0.6666666666666666,
              "#ed7953"
             ],
             [
              0.7777777777777778,
              "#fb9f3a"
             ],
             [
              0.8888888888888888,
              "#fdca26"
             ],
             [
              1,
              "#f0f921"
             ]
            ],
            "type": "heatmap"
           }
          ],
          "heatmapgl": [
           {
            "colorbar": {
             "outlinewidth": 0,
             "ticks": ""
            },
            "colorscale": [
             [
              0,
              "#0d0887"
             ],
             [
              0.1111111111111111,
              "#46039f"
             ],
             [
              0.2222222222222222,
              "#7201a8"
             ],
             [
              0.3333333333333333,
              "#9c179e"
             ],
             [
              0.4444444444444444,
              "#bd3786"
             ],
             [
              0.5555555555555556,
              "#d8576b"
             ],
             [
              0.6666666666666666,
              "#ed7953"
             ],
             [
              0.7777777777777778,
              "#fb9f3a"
             ],
             [
              0.8888888888888888,
              "#fdca26"
             ],
             [
              1,
              "#f0f921"
             ]
            ],
            "type": "heatmapgl"
           }
          ],
          "histogram": [
           {
            "marker": {
             "pattern": {
              "fillmode": "overlay",
              "size": 10,
              "solidity": 0.2
             }
            },
            "type": "histogram"
           }
          ],
          "histogram2d": [
           {
            "colorbar": {
             "outlinewidth": 0,
             "ticks": ""
            },
            "colorscale": [
             [
              0,
              "#0d0887"
             ],
             [
              0.1111111111111111,
              "#46039f"
             ],
             [
              0.2222222222222222,
              "#7201a8"
             ],
             [
              0.3333333333333333,
              "#9c179e"
             ],
             [
              0.4444444444444444,
              "#bd3786"
             ],
             [
              0.5555555555555556,
              "#d8576b"
             ],
             [
              0.6666666666666666,
              "#ed7953"
             ],
             [
              0.7777777777777778,
              "#fb9f3a"
             ],
             [
              0.8888888888888888,
              "#fdca26"
             ],
             [
              1,
              "#f0f921"
             ]
            ],
            "type": "histogram2d"
           }
          ],
          "histogram2dcontour": [
           {
            "colorbar": {
             "outlinewidth": 0,
             "ticks": ""
            },
            "colorscale": [
             [
              0,
              "#0d0887"
             ],
             [
              0.1111111111111111,
              "#46039f"
             ],
             [
              0.2222222222222222,
              "#7201a8"
             ],
             [
              0.3333333333333333,
              "#9c179e"
             ],
             [
              0.4444444444444444,
              "#bd3786"
             ],
             [
              0.5555555555555556,
              "#d8576b"
             ],
             [
              0.6666666666666666,
              "#ed7953"
             ],
             [
              0.7777777777777778,
              "#fb9f3a"
             ],
             [
              0.8888888888888888,
              "#fdca26"
             ],
             [
              1,
              "#f0f921"
             ]
            ],
            "type": "histogram2dcontour"
           }
          ],
          "mesh3d": [
           {
            "colorbar": {
             "outlinewidth": 0,
             "ticks": ""
            },
            "type": "mesh3d"
           }
          ],
          "parcoords": [
           {
            "line": {
             "colorbar": {
              "outlinewidth": 0,
              "ticks": ""
             }
            },
            "type": "parcoords"
           }
          ],
          "pie": [
           {
            "automargin": true,
            "type": "pie"
           }
          ],
          "scatter": [
           {
            "fillpattern": {
             "fillmode": "overlay",
             "size": 10,
             "solidity": 0.2
            },
            "type": "scatter"
           }
          ],
          "scatter3d": [
           {
            "line": {
             "colorbar": {
              "outlinewidth": 0,
              "ticks": ""
             }
            },
            "marker": {
             "colorbar": {
              "outlinewidth": 0,
              "ticks": ""
             }
            },
            "type": "scatter3d"
           }
          ],
          "scattercarpet": [
           {
            "marker": {
             "colorbar": {
              "outlinewidth": 0,
              "ticks": ""
             }
            },
            "type": "scattercarpet"
           }
          ],
          "scattergeo": [
           {
            "marker": {
             "colorbar": {
              "outlinewidth": 0,
              "ticks": ""
             }
            },
            "type": "scattergeo"
           }
          ],
          "scattergl": [
           {
            "marker": {
             "colorbar": {
              "outlinewidth": 0,
              "ticks": ""
             }
            },
            "type": "scattergl"
           }
          ],
          "scattermapbox": [
           {
            "marker": {
             "colorbar": {
              "outlinewidth": 0,
              "ticks": ""
             }
            },
            "type": "scattermapbox"
           }
          ],
          "scatterpolar": [
           {
            "marker": {
             "colorbar": {
              "outlinewidth": 0,
              "ticks": ""
             }
            },
            "type": "scatterpolar"
           }
          ],
          "scatterpolargl": [
           {
            "marker": {
             "colorbar": {
              "outlinewidth": 0,
              "ticks": ""
             }
            },
            "type": "scatterpolargl"
           }
          ],
          "scatterternary": [
           {
            "marker": {
             "colorbar": {
              "outlinewidth": 0,
              "ticks": ""
             }
            },
            "type": "scatterternary"
           }
          ],
          "surface": [
           {
            "colorbar": {
             "outlinewidth": 0,
             "ticks": ""
            },
            "colorscale": [
             [
              0,
              "#0d0887"
             ],
             [
              0.1111111111111111,
              "#46039f"
             ],
             [
              0.2222222222222222,
              "#7201a8"
             ],
             [
              0.3333333333333333,
              "#9c179e"
             ],
             [
              0.4444444444444444,
              "#bd3786"
             ],
             [
              0.5555555555555556,
              "#d8576b"
             ],
             [
              0.6666666666666666,
              "#ed7953"
             ],
             [
              0.7777777777777778,
              "#fb9f3a"
             ],
             [
              0.8888888888888888,
              "#fdca26"
             ],
             [
              1,
              "#f0f921"
             ]
            ],
            "type": "surface"
           }
          ],
          "table": [
           {
            "cells": {
             "fill": {
              "color": "#EBF0F8"
             },
             "line": {
              "color": "white"
             }
            },
            "header": {
             "fill": {
              "color": "#C8D4E3"
             },
             "line": {
              "color": "white"
             }
            },
            "type": "table"
           }
          ]
         },
         "layout": {
          "annotationdefaults": {
           "arrowcolor": "#2a3f5f",
           "arrowhead": 0,
           "arrowwidth": 1
          },
          "autotypenumbers": "strict",
          "coloraxis": {
           "colorbar": {
            "outlinewidth": 0,
            "ticks": ""
           }
          },
          "colorscale": {
           "diverging": [
            [
             0,
             "#8e0152"
            ],
            [
             0.1,
             "#c51b7d"
            ],
            [
             0.2,
             "#de77ae"
            ],
            [
             0.3,
             "#f1b6da"
            ],
            [
             0.4,
             "#fde0ef"
            ],
            [
             0.5,
             "#f7f7f7"
            ],
            [
             0.6,
             "#e6f5d0"
            ],
            [
             0.7,
             "#b8e186"
            ],
            [
             0.8,
             "#7fbc41"
            ],
            [
             0.9,
             "#4d9221"
            ],
            [
             1,
             "#276419"
            ]
           ],
           "sequential": [
            [
             0,
             "#0d0887"
            ],
            [
             0.1111111111111111,
             "#46039f"
            ],
            [
             0.2222222222222222,
             "#7201a8"
            ],
            [
             0.3333333333333333,
             "#9c179e"
            ],
            [
             0.4444444444444444,
             "#bd3786"
            ],
            [
             0.5555555555555556,
             "#d8576b"
            ],
            [
             0.6666666666666666,
             "#ed7953"
            ],
            [
             0.7777777777777778,
             "#fb9f3a"
            ],
            [
             0.8888888888888888,
             "#fdca26"
            ],
            [
             1,
             "#f0f921"
            ]
           ],
           "sequentialminus": [
            [
             0,
             "#0d0887"
            ],
            [
             0.1111111111111111,
             "#46039f"
            ],
            [
             0.2222222222222222,
             "#7201a8"
            ],
            [
             0.3333333333333333,
             "#9c179e"
            ],
            [
             0.4444444444444444,
             "#bd3786"
            ],
            [
             0.5555555555555556,
             "#d8576b"
            ],
            [
             0.6666666666666666,
             "#ed7953"
            ],
            [
             0.7777777777777778,
             "#fb9f3a"
            ],
            [
             0.8888888888888888,
             "#fdca26"
            ],
            [
             1,
             "#f0f921"
            ]
           ]
          },
          "colorway": [
           "#636efa",
           "#EF553B",
           "#00cc96",
           "#ab63fa",
           "#FFA15A",
           "#19d3f3",
           "#FF6692",
           "#B6E880",
           "#FF97FF",
           "#FECB52"
          ],
          "font": {
           "color": "#2a3f5f"
          },
          "geo": {
           "bgcolor": "white",
           "lakecolor": "white",
           "landcolor": "#E5ECF6",
           "showlakes": true,
           "showland": true,
           "subunitcolor": "white"
          },
          "hoverlabel": {
           "align": "left"
          },
          "hovermode": "closest",
          "mapbox": {
           "style": "light"
          },
          "paper_bgcolor": "white",
          "plot_bgcolor": "#E5ECF6",
          "polar": {
           "angularaxis": {
            "gridcolor": "white",
            "linecolor": "white",
            "ticks": ""
           },
           "bgcolor": "#E5ECF6",
           "radialaxis": {
            "gridcolor": "white",
            "linecolor": "white",
            "ticks": ""
           }
          },
          "scene": {
           "xaxis": {
            "backgroundcolor": "#E5ECF6",
            "gridcolor": "white",
            "gridwidth": 2,
            "linecolor": "white",
            "showbackground": true,
            "ticks": "",
            "zerolinecolor": "white"
           },
           "yaxis": {
            "backgroundcolor": "#E5ECF6",
            "gridcolor": "white",
            "gridwidth": 2,
            "linecolor": "white",
            "showbackground": true,
            "ticks": "",
            "zerolinecolor": "white"
           },
           "zaxis": {
            "backgroundcolor": "#E5ECF6",
            "gridcolor": "white",
            "gridwidth": 2,
            "linecolor": "white",
            "showbackground": true,
            "ticks": "",
            "zerolinecolor": "white"
           }
          },
          "shapedefaults": {
           "line": {
            "color": "#2a3f5f"
           }
          },
          "ternary": {
           "aaxis": {
            "gridcolor": "white",
            "linecolor": "white",
            "ticks": ""
           },
           "baxis": {
            "gridcolor": "white",
            "linecolor": "white",
            "ticks": ""
           },
           "bgcolor": "#E5ECF6",
           "caxis": {
            "gridcolor": "white",
            "linecolor": "white",
            "ticks": ""
           }
          },
          "title": {
           "x": 0.05
          },
          "xaxis": {
           "automargin": true,
           "gridcolor": "white",
           "linecolor": "white",
           "ticks": "",
           "title": {
            "standoff": 15
           },
           "zerolinecolor": "white",
           "zerolinewidth": 2
          },
          "yaxis": {
           "automargin": true,
           "gridcolor": "white",
           "linecolor": "white",
           "ticks": "",
           "title": {
            "standoff": 15
           },
           "zerolinecolor": "white",
           "zerolinewidth": 2
          }
         }
        },
        "title": {
         "font": {
          "color": "#D9D9D9"
         },
         "text": "Line Chart"
        },
        "xaxis": {
         "autorange": true,
         "gridcolor": "#434343",
         "range": [
          "2023-05-18",
          "2023-06-30"
         ],
         "showgrid": true,
         "tickfont": {
          "color": "#C2C2C2"
         },
         "title": {
          "font": {
           "color": "#D9D9D9"
          },
          "text": ""
         },
         "type": "date",
         "zerolinecolor": "#666570"
        },
        "yaxis": {
         "autorange": true,
         "gridcolor": "#434343",
         "range": [
          409.2969852023655,
          445.1572079128689
         ],
         "showgrid": true,
         "tickfont": {
          "color": "#C2C2C2"
         },
         "title": {
          "font": {
           "color": "#D9D9D9"
          },
          "text": ""
         },
         "type": "linear",
         "zerolinecolor": "#666570"
        }
       }
      },
      "text/html": [
       "<div>                            <div id=\"5374134b-41e2-4292-b8d1-1572260d6fb4\" class=\"plotly-graph-div\" style=\"height:525px; width:100%;\"></div>            <script type=\"text/javascript\">                require([\"plotly\"], function(Plotly) {                    window.PLOTLYENV=window.PLOTLYENV || {};\n",
       "                    window.PLOTLYENV.BASE_URL='https://plot.ly';                                    if (document.getElementById(\"5374134b-41e2-4292-b8d1-1572260d6fb4\")) {                    Plotly.newPlot(                        \"5374134b-41e2-4292-b8d1-1572260d6fb4\",                        [{\"line\":{\"color\":\"rgba(255, 153, 51, 1.0)\",\"dash\":\"solid\",\"shape\":\"linear\",\"width\":1.3},\"mode\":\"lines\",\"name\":\"Close\",\"text\":\"\",\"x\":[\"2023-05-18 00:00:00-04:00\",\"2023-05-19 00:00:00-04:00\",\"2023-05-22 00:00:00-04:00\",\"2023-05-23 00:00:00-04:00\",\"2023-05-24 00:00:00-04:00\",\"2023-05-25 00:00:00-04:00\",\"2023-05-26 00:00:00-04:00\",\"2023-05-30 00:00:00-04:00\",\"2023-05-31 00:00:00-04:00\",\"2023-06-01 00:00:00-04:00\",\"2023-06-02 00:00:00-04:00\",\"2023-06-05 00:00:00-04:00\",\"2023-06-06 00:00:00-04:00\",\"2023-06-07 00:00:00-04:00\",\"2023-06-08 00:00:00-04:00\",\"2023-06-09 00:00:00-04:00\",\"2023-06-12 00:00:00-04:00\",\"2023-06-13 00:00:00-04:00\",\"2023-06-14 00:00:00-04:00\",\"2023-06-15 00:00:00-04:00\",\"2023-06-16 00:00:00-04:00\",\"2023-06-20 00:00:00-04:00\",\"2023-06-21 00:00:00-04:00\",\"2023-06-22 00:00:00-04:00\",\"2023-06-23 00:00:00-04:00\",\"2023-06-26 00:00:00-04:00\",\"2023-06-27 00:00:00-04:00\",\"2023-06-28 00:00:00-04:00\",\"2023-06-29 00:00:00-04:00\",\"2023-06-30 00:00:00-04:00\"],\"y\":[419.2300109863281,418.6199951171875,418.7900085449219,414.0899963378906,411.0899963378906,414.6499938964844,420.0199890136719,420.17999267578125,417.8500061035156,421.82000732421875,427.9200134277344,427.1000061035156,428.0299987792969,426.54998779296875,429.1300048828125,429.8999938964844,433.79998779296875,436.6600036621094,437.17999267578125,442.6000061035156,439.4599914550781,437.17999267578125,434.94000244140625,436.510009765625,433.2099914550781,431.44000244140625,436.1700134277344,436.3900146484375,438.1099853515625,443.36419677734375],\"type\":\"scatter\"}],                        {\"legend\":{\"bgcolor\":\"#151516\",\"font\":{\"color\":\"#D9D9D9\"}},\"paper_bgcolor\":\"#151516\",\"plot_bgcolor\":\"#151516\",\"template\":{\"data\":{\"barpolar\":[{\"marker\":{\"line\":{\"color\":\"#E5ECF6\",\"width\":0.5},\"pattern\":{\"fillmode\":\"overlay\",\"size\":10,\"solidity\":0.2}},\"type\":\"barpolar\"}],\"bar\":[{\"error_x\":{\"color\":\"#2a3f5f\"},\"error_y\":{\"color\":\"#2a3f5f\"},\"marker\":{\"line\":{\"color\":\"#E5ECF6\",\"width\":0.5},\"pattern\":{\"fillmode\":\"overlay\",\"size\":10,\"solidity\":0.2}},\"type\":\"bar\"}],\"carpet\":[{\"aaxis\":{\"endlinecolor\":\"#2a3f5f\",\"gridcolor\":\"white\",\"linecolor\":\"white\",\"minorgridcolor\":\"white\",\"startlinecolor\":\"#2a3f5f\"},\"baxis\":{\"endlinecolor\":\"#2a3f5f\",\"gridcolor\":\"white\",\"linecolor\":\"white\",\"minorgridcolor\":\"white\",\"startlinecolor\":\"#2a3f5f\"},\"type\":\"carpet\"}],\"choropleth\":[{\"colorbar\":{\"outlinewidth\":0,\"ticks\":\"\"},\"type\":\"choropleth\"}],\"contourcarpet\":[{\"colorbar\":{\"outlinewidth\":0,\"ticks\":\"\"},\"type\":\"contourcarpet\"}],\"contour\":[{\"colorbar\":{\"outlinewidth\":0,\"ticks\":\"\"},\"colorscale\":[[0.0,\"#0d0887\"],[0.1111111111111111,\"#46039f\"],[0.2222222222222222,\"#7201a8\"],[0.3333333333333333,\"#9c179e\"],[0.4444444444444444,\"#bd3786\"],[0.5555555555555556,\"#d8576b\"],[0.6666666666666666,\"#ed7953\"],[0.7777777777777778,\"#fb9f3a\"],[0.8888888888888888,\"#fdca26\"],[1.0,\"#f0f921\"]],\"type\":\"contour\"}],\"heatmapgl\":[{\"colorbar\":{\"outlinewidth\":0,\"ticks\":\"\"},\"colorscale\":[[0.0,\"#0d0887\"],[0.1111111111111111,\"#46039f\"],[0.2222222222222222,\"#7201a8\"],[0.3333333333333333,\"#9c179e\"],[0.4444444444444444,\"#bd3786\"],[0.5555555555555556,\"#d8576b\"],[0.6666666666666666,\"#ed7953\"],[0.7777777777777778,\"#fb9f3a\"],[0.8888888888888888,\"#fdca26\"],[1.0,\"#f0f921\"]],\"type\":\"heatmapgl\"}],\"heatmap\":[{\"colorbar\":{\"outlinewidth\":0,\"ticks\":\"\"},\"colorscale\":[[0.0,\"#0d0887\"],[0.1111111111111111,\"#46039f\"],[0.2222222222222222,\"#7201a8\"],[0.3333333333333333,\"#9c179e\"],[0.4444444444444444,\"#bd3786\"],[0.5555555555555556,\"#d8576b\"],[0.6666666666666666,\"#ed7953\"],[0.7777777777777778,\"#fb9f3a\"],[0.8888888888888888,\"#fdca26\"],[1.0,\"#f0f921\"]],\"type\":\"heatmap\"}],\"histogram2dcontour\":[{\"colorbar\":{\"outlinewidth\":0,\"ticks\":\"\"},\"colorscale\":[[0.0,\"#0d0887\"],[0.1111111111111111,\"#46039f\"],[0.2222222222222222,\"#7201a8\"],[0.3333333333333333,\"#9c179e\"],[0.4444444444444444,\"#bd3786\"],[0.5555555555555556,\"#d8576b\"],[0.6666666666666666,\"#ed7953\"],[0.7777777777777778,\"#fb9f3a\"],[0.8888888888888888,\"#fdca26\"],[1.0,\"#f0f921\"]],\"type\":\"histogram2dcontour\"}],\"histogram2d\":[{\"colorbar\":{\"outlinewidth\":0,\"ticks\":\"\"},\"colorscale\":[[0.0,\"#0d0887\"],[0.1111111111111111,\"#46039f\"],[0.2222222222222222,\"#7201a8\"],[0.3333333333333333,\"#9c179e\"],[0.4444444444444444,\"#bd3786\"],[0.5555555555555556,\"#d8576b\"],[0.6666666666666666,\"#ed7953\"],[0.7777777777777778,\"#fb9f3a\"],[0.8888888888888888,\"#fdca26\"],[1.0,\"#f0f921\"]],\"type\":\"histogram2d\"}],\"histogram\":[{\"marker\":{\"pattern\":{\"fillmode\":\"overlay\",\"size\":10,\"solidity\":0.2}},\"type\":\"histogram\"}],\"mesh3d\":[{\"colorbar\":{\"outlinewidth\":0,\"ticks\":\"\"},\"type\":\"mesh3d\"}],\"parcoords\":[{\"line\":{\"colorbar\":{\"outlinewidth\":0,\"ticks\":\"\"}},\"type\":\"parcoords\"}],\"pie\":[{\"automargin\":true,\"type\":\"pie\"}],\"scatter3d\":[{\"line\":{\"colorbar\":{\"outlinewidth\":0,\"ticks\":\"\"}},\"marker\":{\"colorbar\":{\"outlinewidth\":0,\"ticks\":\"\"}},\"type\":\"scatter3d\"}],\"scattercarpet\":[{\"marker\":{\"colorbar\":{\"outlinewidth\":0,\"ticks\":\"\"}},\"type\":\"scattercarpet\"}],\"scattergeo\":[{\"marker\":{\"colorbar\":{\"outlinewidth\":0,\"ticks\":\"\"}},\"type\":\"scattergeo\"}],\"scattergl\":[{\"marker\":{\"colorbar\":{\"outlinewidth\":0,\"ticks\":\"\"}},\"type\":\"scattergl\"}],\"scattermapbox\":[{\"marker\":{\"colorbar\":{\"outlinewidth\":0,\"ticks\":\"\"}},\"type\":\"scattermapbox\"}],\"scatterpolargl\":[{\"marker\":{\"colorbar\":{\"outlinewidth\":0,\"ticks\":\"\"}},\"type\":\"scatterpolargl\"}],\"scatterpolar\":[{\"marker\":{\"colorbar\":{\"outlinewidth\":0,\"ticks\":\"\"}},\"type\":\"scatterpolar\"}],\"scatter\":[{\"fillpattern\":{\"fillmode\":\"overlay\",\"size\":10,\"solidity\":0.2},\"type\":\"scatter\"}],\"scatterternary\":[{\"marker\":{\"colorbar\":{\"outlinewidth\":0,\"ticks\":\"\"}},\"type\":\"scatterternary\"}],\"surface\":[{\"colorbar\":{\"outlinewidth\":0,\"ticks\":\"\"},\"colorscale\":[[0.0,\"#0d0887\"],[0.1111111111111111,\"#46039f\"],[0.2222222222222222,\"#7201a8\"],[0.3333333333333333,\"#9c179e\"],[0.4444444444444444,\"#bd3786\"],[0.5555555555555556,\"#d8576b\"],[0.6666666666666666,\"#ed7953\"],[0.7777777777777778,\"#fb9f3a\"],[0.8888888888888888,\"#fdca26\"],[1.0,\"#f0f921\"]],\"type\":\"surface\"}],\"table\":[{\"cells\":{\"fill\":{\"color\":\"#EBF0F8\"},\"line\":{\"color\":\"white\"}},\"header\":{\"fill\":{\"color\":\"#C8D4E3\"},\"line\":{\"color\":\"white\"}},\"type\":\"table\"}]},\"layout\":{\"annotationdefaults\":{\"arrowcolor\":\"#2a3f5f\",\"arrowhead\":0,\"arrowwidth\":1},\"autotypenumbers\":\"strict\",\"coloraxis\":{\"colorbar\":{\"outlinewidth\":0,\"ticks\":\"\"}},\"colorscale\":{\"diverging\":[[0,\"#8e0152\"],[0.1,\"#c51b7d\"],[0.2,\"#de77ae\"],[0.3,\"#f1b6da\"],[0.4,\"#fde0ef\"],[0.5,\"#f7f7f7\"],[0.6,\"#e6f5d0\"],[0.7,\"#b8e186\"],[0.8,\"#7fbc41\"],[0.9,\"#4d9221\"],[1,\"#276419\"]],\"sequential\":[[0.0,\"#0d0887\"],[0.1111111111111111,\"#46039f\"],[0.2222222222222222,\"#7201a8\"],[0.3333333333333333,\"#9c179e\"],[0.4444444444444444,\"#bd3786\"],[0.5555555555555556,\"#d8576b\"],[0.6666666666666666,\"#ed7953\"],[0.7777777777777778,\"#fb9f3a\"],[0.8888888888888888,\"#fdca26\"],[1.0,\"#f0f921\"]],\"sequentialminus\":[[0.0,\"#0d0887\"],[0.1111111111111111,\"#46039f\"],[0.2222222222222222,\"#7201a8\"],[0.3333333333333333,\"#9c179e\"],[0.4444444444444444,\"#bd3786\"],[0.5555555555555556,\"#d8576b\"],[0.6666666666666666,\"#ed7953\"],[0.7777777777777778,\"#fb9f3a\"],[0.8888888888888888,\"#fdca26\"],[1.0,\"#f0f921\"]]},\"colorway\":[\"#636efa\",\"#EF553B\",\"#00cc96\",\"#ab63fa\",\"#FFA15A\",\"#19d3f3\",\"#FF6692\",\"#B6E880\",\"#FF97FF\",\"#FECB52\"],\"font\":{\"color\":\"#2a3f5f\"},\"geo\":{\"bgcolor\":\"white\",\"lakecolor\":\"white\",\"landcolor\":\"#E5ECF6\",\"showlakes\":true,\"showland\":true,\"subunitcolor\":\"white\"},\"hoverlabel\":{\"align\":\"left\"},\"hovermode\":\"closest\",\"mapbox\":{\"style\":\"light\"},\"paper_bgcolor\":\"white\",\"plot_bgcolor\":\"#E5ECF6\",\"polar\":{\"angularaxis\":{\"gridcolor\":\"white\",\"linecolor\":\"white\",\"ticks\":\"\"},\"bgcolor\":\"#E5ECF6\",\"radialaxis\":{\"gridcolor\":\"white\",\"linecolor\":\"white\",\"ticks\":\"\"}},\"scene\":{\"xaxis\":{\"backgroundcolor\":\"#E5ECF6\",\"gridcolor\":\"white\",\"gridwidth\":2,\"linecolor\":\"white\",\"showbackground\":true,\"ticks\":\"\",\"zerolinecolor\":\"white\"},\"yaxis\":{\"backgroundcolor\":\"#E5ECF6\",\"gridcolor\":\"white\",\"gridwidth\":2,\"linecolor\":\"white\",\"showbackground\":true,\"ticks\":\"\",\"zerolinecolor\":\"white\"},\"zaxis\":{\"backgroundcolor\":\"#E5ECF6\",\"gridcolor\":\"white\",\"gridwidth\":2,\"linecolor\":\"white\",\"showbackground\":true,\"ticks\":\"\",\"zerolinecolor\":\"white\"}},\"shapedefaults\":{\"line\":{\"color\":\"#2a3f5f\"}},\"ternary\":{\"aaxis\":{\"gridcolor\":\"white\",\"linecolor\":\"white\",\"ticks\":\"\"},\"baxis\":{\"gridcolor\":\"white\",\"linecolor\":\"white\",\"ticks\":\"\"},\"bgcolor\":\"#E5ECF6\",\"caxis\":{\"gridcolor\":\"white\",\"linecolor\":\"white\",\"ticks\":\"\"}},\"title\":{\"x\":0.05},\"xaxis\":{\"automargin\":true,\"gridcolor\":\"white\",\"linecolor\":\"white\",\"ticks\":\"\",\"title\":{\"standoff\":15},\"zerolinecolor\":\"white\",\"zerolinewidth\":2},\"yaxis\":{\"automargin\":true,\"gridcolor\":\"white\",\"linecolor\":\"white\",\"ticks\":\"\",\"title\":{\"standoff\":15},\"zerolinecolor\":\"white\",\"zerolinewidth\":2}}},\"title\":{\"font\":{\"color\":\"#D9D9D9\"},\"text\":\"Line Chart\"},\"xaxis\":{\"gridcolor\":\"#434343\",\"showgrid\":true,\"tickfont\":{\"color\":\"#C2C2C2\"},\"title\":{\"font\":{\"color\":\"#D9D9D9\"},\"text\":\"\"},\"zerolinecolor\":\"#666570\"},\"yaxis\":{\"gridcolor\":\"#434343\",\"showgrid\":true,\"tickfont\":{\"color\":\"#C2C2C2\"},\"title\":{\"font\":{\"color\":\"#D9D9D9\"},\"text\":\"\"},\"zerolinecolor\":\"#666570\"}},                        {\"showLink\": true, \"linkText\": \"Export to plot.ly\", \"plotlyServerURL\": \"https://plot.ly\", \"responsive\": true}                    ).then(function(){\n",
       "                            \n",
       "var gd = document.getElementById('5374134b-41e2-4292-b8d1-1572260d6fb4');\n",
       "var x = new MutationObserver(function (mutations, observer) {{\n",
       "        var display = window.getComputedStyle(gd).display;\n",
       "        if (!display || display === 'none') {{\n",
       "            console.log([gd, 'removed!']);\n",
       "            Plotly.purge(gd);\n",
       "            observer.disconnect();\n",
       "        }}\n",
       "}});\n",
       "\n",
       "// Listen for the removal of the full notebook cells\n",
       "var notebookContainer = gd.closest('#notebook-container');\n",
       "if (notebookContainer) {{\n",
       "    x.observe(notebookContainer, {childList: true});\n",
       "}}\n",
       "\n",
       "// Listen for the clearing of the current output cell\n",
       "var outputEl = gd.closest('.output');\n",
       "if (outputEl) {{\n",
       "    x.observe(outputEl, {childList: true});\n",
       "}}\n",
       "\n",
       "                        })                };                });            </script>        </div>"
      ]
     },
     "metadata": {},
     "output_type": "display_data"
    }
   ],
   "source": [
    "df3['Close'][-30:].iplot(kind='line', title='Line Chart')"
   ]
  },
  {
   "cell_type": "code",
   "execution_count": 19,
   "id": "a37407f8-41d0-4360-95ca-c1bbc530aa0f",
   "metadata": {},
   "outputs": [
    {
     "data": {
      "application/vnd.plotly.v1+json": {
       "config": {
        "linkText": "Export to plot.ly",
        "plotlyServerURL": "https://plot.ly",
        "showLink": true
       },
       "data": [
        {
         "close": [
          419.2300109863281,
          418.6199951171875,
          418.7900085449219,
          414.0899963378906,
          411.0899963378906,
          414.6499938964844,
          420.0199890136719,
          420.17999267578125,
          417.8500061035156,
          421.82000732421875,
          427.9200134277344,
          427.1000061035156,
          428.0299987792969,
          426.54998779296875,
          429.1300048828125,
          429.8999938964844,
          433.79998779296875,
          436.6600036621094,
          437.17999267578125,
          442.6000061035156,
          439.4599914550781,
          437.17999267578125,
          434.94000244140625,
          436.510009765625,
          433.2099914550781,
          431.44000244140625,
          436.1700134277344,
          436.3900146484375,
          438.1099853515625,
          443.36419677734375
         ],
         "high": [
          419.6700134277344,
          420.7200012207031,
          420.3900146484375,
          418.7200012207031,
          412.82000732421875,
          416.1600036621094,
          420.7699890136719,
          422.5799865722656,
          419.2200012207031,
          422.9200134277344,
          428.739990234375,
          429.6199951171875,
          428.5799865722656,
          429.6199951171875,
          429.6000061035156,
          431.989990234375,
          433.8800048828125,
          437.3299865722656,
          439.05999755859375,
          443.8999938964844,
          443.6099853515625,
          438.3699951171875,
          436.989990234375,
          436.6199951171875,
          435.05999755859375,
          434.6099853515625,
          436.80999755859375,
          437.44000244140625,
          438.2799987792969,
          443.6099853515625
         ],
         "low": [
          414.6700134277344,
          417.3500061035156,
          417.3500061035156,
          413.67999267578125,
          409.8800048828125,
          412.4100036621094,
          415.25,
          418.739990234375,
          416.2200012207031,
          416.7900085449219,
          423.95001220703125,
          426.3699951171875,
          425.989990234375,
          426.1099853515625,
          425.82000732421875,
          428.8699951171875,
          430.1700134277344,
          434.6300048828125,
          433.5899963378906,
          436.2300109863281,
          438.9700012207031,
          435.0299987792969,
          434.3299865722656,
          433.6000061035156,
          432.4700012207031,
          431.19000244140625,
          431.8800048828125,
          434.4100036621094,
          435.5400085449219,
          441.1300048828125
         ],
         "open": [
          414.8999938964844,
          420.1700134277344,
          418.6400146484375,
          417.0799865722656,
          412.4200134277344,
          414.739990234375,
          415.3299865722656,
          422.0299987792969,
          418.2799987792969,
          418.0899963378906,
          424.5,
          428.2799987792969,
          426.6700134277344,
          428.44000244140625,
          426.6199951171875,
          429.9599914550781,
          430.9200134277344,
          435.32000732421875,
          437.010009765625,
          436.3299865722656,
          443.0199890136719,
          437.45001220703125,
          436.1600036621094,
          433.95001220703125,
          432.92999267578125,
          432.6199951171875,
          432.3500061035156,
          435.04998779296875,
          435.9599914550781,
          441.44000244140625
         ],
         "showlegend": false,
         "type": "ohlc",
         "x": [
          "2023-05-18 00:00:00-04:00",
          "2023-05-19 00:00:00-04:00",
          "2023-05-22 00:00:00-04:00",
          "2023-05-23 00:00:00-04:00",
          "2023-05-24 00:00:00-04:00",
          "2023-05-25 00:00:00-04:00",
          "2023-05-26 00:00:00-04:00",
          "2023-05-30 00:00:00-04:00",
          "2023-05-31 00:00:00-04:00",
          "2023-06-01 00:00:00-04:00",
          "2023-06-02 00:00:00-04:00",
          "2023-06-05 00:00:00-04:00",
          "2023-06-06 00:00:00-04:00",
          "2023-06-07 00:00:00-04:00",
          "2023-06-08 00:00:00-04:00",
          "2023-06-09 00:00:00-04:00",
          "2023-06-12 00:00:00-04:00",
          "2023-06-13 00:00:00-04:00",
          "2023-06-14 00:00:00-04:00",
          "2023-06-15 00:00:00-04:00",
          "2023-06-16 00:00:00-04:00",
          "2023-06-20 00:00:00-04:00",
          "2023-06-21 00:00:00-04:00",
          "2023-06-22 00:00:00-04:00",
          "2023-06-23 00:00:00-04:00",
          "2023-06-26 00:00:00-04:00",
          "2023-06-27 00:00:00-04:00",
          "2023-06-28 00:00:00-04:00",
          "2023-06-29 00:00:00-04:00",
          "2023-06-30 00:00:00-04:00"
         ],
         "yaxis": "y2"
        }
       ],
       "layout": {
        "autosize": true,
        "legend": {
         "bgcolor": "#151516",
         "font": {
          "color": "#D9D9D9"
         }
        },
        "paper_bgcolor": "#151516",
        "plot_bgcolor": "#151516",
        "template": {
         "data": {
          "bar": [
           {
            "error_x": {
             "color": "#2a3f5f"
            },
            "error_y": {
             "color": "#2a3f5f"
            },
            "marker": {
             "line": {
              "color": "#E5ECF6",
              "width": 0.5
             },
             "pattern": {
              "fillmode": "overlay",
              "size": 10,
              "solidity": 0.2
             }
            },
            "type": "bar"
           }
          ],
          "barpolar": [
           {
            "marker": {
             "line": {
              "color": "#E5ECF6",
              "width": 0.5
             },
             "pattern": {
              "fillmode": "overlay",
              "size": 10,
              "solidity": 0.2
             }
            },
            "type": "barpolar"
           }
          ],
          "carpet": [
           {
            "aaxis": {
             "endlinecolor": "#2a3f5f",
             "gridcolor": "white",
             "linecolor": "white",
             "minorgridcolor": "white",
             "startlinecolor": "#2a3f5f"
            },
            "baxis": {
             "endlinecolor": "#2a3f5f",
             "gridcolor": "white",
             "linecolor": "white",
             "minorgridcolor": "white",
             "startlinecolor": "#2a3f5f"
            },
            "type": "carpet"
           }
          ],
          "choropleth": [
           {
            "colorbar": {
             "outlinewidth": 0,
             "ticks": ""
            },
            "type": "choropleth"
           }
          ],
          "contour": [
           {
            "colorbar": {
             "outlinewidth": 0,
             "ticks": ""
            },
            "colorscale": [
             [
              0,
              "#0d0887"
             ],
             [
              0.1111111111111111,
              "#46039f"
             ],
             [
              0.2222222222222222,
              "#7201a8"
             ],
             [
              0.3333333333333333,
              "#9c179e"
             ],
             [
              0.4444444444444444,
              "#bd3786"
             ],
             [
              0.5555555555555556,
              "#d8576b"
             ],
             [
              0.6666666666666666,
              "#ed7953"
             ],
             [
              0.7777777777777778,
              "#fb9f3a"
             ],
             [
              0.8888888888888888,
              "#fdca26"
             ],
             [
              1,
              "#f0f921"
             ]
            ],
            "type": "contour"
           }
          ],
          "contourcarpet": [
           {
            "colorbar": {
             "outlinewidth": 0,
             "ticks": ""
            },
            "type": "contourcarpet"
           }
          ],
          "heatmap": [
           {
            "colorbar": {
             "outlinewidth": 0,
             "ticks": ""
            },
            "colorscale": [
             [
              0,
              "#0d0887"
             ],
             [
              0.1111111111111111,
              "#46039f"
             ],
             [
              0.2222222222222222,
              "#7201a8"
             ],
             [
              0.3333333333333333,
              "#9c179e"
             ],
             [
              0.4444444444444444,
              "#bd3786"
             ],
             [
              0.5555555555555556,
              "#d8576b"
             ],
             [
              0.6666666666666666,
              "#ed7953"
             ],
             [
              0.7777777777777778,
              "#fb9f3a"
             ],
             [
              0.8888888888888888,
              "#fdca26"
             ],
             [
              1,
              "#f0f921"
             ]
            ],
            "type": "heatmap"
           }
          ],
          "heatmapgl": [
           {
            "colorbar": {
             "outlinewidth": 0,
             "ticks": ""
            },
            "colorscale": [
             [
              0,
              "#0d0887"
             ],
             [
              0.1111111111111111,
              "#46039f"
             ],
             [
              0.2222222222222222,
              "#7201a8"
             ],
             [
              0.3333333333333333,
              "#9c179e"
             ],
             [
              0.4444444444444444,
              "#bd3786"
             ],
             [
              0.5555555555555556,
              "#d8576b"
             ],
             [
              0.6666666666666666,
              "#ed7953"
             ],
             [
              0.7777777777777778,
              "#fb9f3a"
             ],
             [
              0.8888888888888888,
              "#fdca26"
             ],
             [
              1,
              "#f0f921"
             ]
            ],
            "type": "heatmapgl"
           }
          ],
          "histogram": [
           {
            "marker": {
             "pattern": {
              "fillmode": "overlay",
              "size": 10,
              "solidity": 0.2
             }
            },
            "type": "histogram"
           }
          ],
          "histogram2d": [
           {
            "colorbar": {
             "outlinewidth": 0,
             "ticks": ""
            },
            "colorscale": [
             [
              0,
              "#0d0887"
             ],
             [
              0.1111111111111111,
              "#46039f"
             ],
             [
              0.2222222222222222,
              "#7201a8"
             ],
             [
              0.3333333333333333,
              "#9c179e"
             ],
             [
              0.4444444444444444,
              "#bd3786"
             ],
             [
              0.5555555555555556,
              "#d8576b"
             ],
             [
              0.6666666666666666,
              "#ed7953"
             ],
             [
              0.7777777777777778,
              "#fb9f3a"
             ],
             [
              0.8888888888888888,
              "#fdca26"
             ],
             [
              1,
              "#f0f921"
             ]
            ],
            "type": "histogram2d"
           }
          ],
          "histogram2dcontour": [
           {
            "colorbar": {
             "outlinewidth": 0,
             "ticks": ""
            },
            "colorscale": [
             [
              0,
              "#0d0887"
             ],
             [
              0.1111111111111111,
              "#46039f"
             ],
             [
              0.2222222222222222,
              "#7201a8"
             ],
             [
              0.3333333333333333,
              "#9c179e"
             ],
             [
              0.4444444444444444,
              "#bd3786"
             ],
             [
              0.5555555555555556,
              "#d8576b"
             ],
             [
              0.6666666666666666,
              "#ed7953"
             ],
             [
              0.7777777777777778,
              "#fb9f3a"
             ],
             [
              0.8888888888888888,
              "#fdca26"
             ],
             [
              1,
              "#f0f921"
             ]
            ],
            "type": "histogram2dcontour"
           }
          ],
          "mesh3d": [
           {
            "colorbar": {
             "outlinewidth": 0,
             "ticks": ""
            },
            "type": "mesh3d"
           }
          ],
          "parcoords": [
           {
            "line": {
             "colorbar": {
              "outlinewidth": 0,
              "ticks": ""
             }
            },
            "type": "parcoords"
           }
          ],
          "pie": [
           {
            "automargin": true,
            "type": "pie"
           }
          ],
          "scatter": [
           {
            "fillpattern": {
             "fillmode": "overlay",
             "size": 10,
             "solidity": 0.2
            },
            "type": "scatter"
           }
          ],
          "scatter3d": [
           {
            "line": {
             "colorbar": {
              "outlinewidth": 0,
              "ticks": ""
             }
            },
            "marker": {
             "colorbar": {
              "outlinewidth": 0,
              "ticks": ""
             }
            },
            "type": "scatter3d"
           }
          ],
          "scattercarpet": [
           {
            "marker": {
             "colorbar": {
              "outlinewidth": 0,
              "ticks": ""
             }
            },
            "type": "scattercarpet"
           }
          ],
          "scattergeo": [
           {
            "marker": {
             "colorbar": {
              "outlinewidth": 0,
              "ticks": ""
             }
            },
            "type": "scattergeo"
           }
          ],
          "scattergl": [
           {
            "marker": {
             "colorbar": {
              "outlinewidth": 0,
              "ticks": ""
             }
            },
            "type": "scattergl"
           }
          ],
          "scattermapbox": [
           {
            "marker": {
             "colorbar": {
              "outlinewidth": 0,
              "ticks": ""
             }
            },
            "type": "scattermapbox"
           }
          ],
          "scatterpolar": [
           {
            "marker": {
             "colorbar": {
              "outlinewidth": 0,
              "ticks": ""
             }
            },
            "type": "scatterpolar"
           }
          ],
          "scatterpolargl": [
           {
            "marker": {
             "colorbar": {
              "outlinewidth": 0,
              "ticks": ""
             }
            },
            "type": "scatterpolargl"
           }
          ],
          "scatterternary": [
           {
            "marker": {
             "colorbar": {
              "outlinewidth": 0,
              "ticks": ""
             }
            },
            "type": "scatterternary"
           }
          ],
          "surface": [
           {
            "colorbar": {
             "outlinewidth": 0,
             "ticks": ""
            },
            "colorscale": [
             [
              0,
              "#0d0887"
             ],
             [
              0.1111111111111111,
              "#46039f"
             ],
             [
              0.2222222222222222,
              "#7201a8"
             ],
             [
              0.3333333333333333,
              "#9c179e"
             ],
             [
              0.4444444444444444,
              "#bd3786"
             ],
             [
              0.5555555555555556,
              "#d8576b"
             ],
             [
              0.6666666666666666,
              "#ed7953"
             ],
             [
              0.7777777777777778,
              "#fb9f3a"
             ],
             [
              0.8888888888888888,
              "#fdca26"
             ],
             [
              1,
              "#f0f921"
             ]
            ],
            "type": "surface"
           }
          ],
          "table": [
           {
            "cells": {
             "fill": {
              "color": "#EBF0F8"
             },
             "line": {
              "color": "white"
             }
            },
            "header": {
             "fill": {
              "color": "#C8D4E3"
             },
             "line": {
              "color": "white"
             }
            },
            "type": "table"
           }
          ]
         },
         "layout": {
          "annotationdefaults": {
           "arrowcolor": "#2a3f5f",
           "arrowhead": 0,
           "arrowwidth": 1
          },
          "autotypenumbers": "strict",
          "coloraxis": {
           "colorbar": {
            "outlinewidth": 0,
            "ticks": ""
           }
          },
          "colorscale": {
           "diverging": [
            [
             0,
             "#8e0152"
            ],
            [
             0.1,
             "#c51b7d"
            ],
            [
             0.2,
             "#de77ae"
            ],
            [
             0.3,
             "#f1b6da"
            ],
            [
             0.4,
             "#fde0ef"
            ],
            [
             0.5,
             "#f7f7f7"
            ],
            [
             0.6,
             "#e6f5d0"
            ],
            [
             0.7,
             "#b8e186"
            ],
            [
             0.8,
             "#7fbc41"
            ],
            [
             0.9,
             "#4d9221"
            ],
            [
             1,
             "#276419"
            ]
           ],
           "sequential": [
            [
             0,
             "#0d0887"
            ],
            [
             0.1111111111111111,
             "#46039f"
            ],
            [
             0.2222222222222222,
             "#7201a8"
            ],
            [
             0.3333333333333333,
             "#9c179e"
            ],
            [
             0.4444444444444444,
             "#bd3786"
            ],
            [
             0.5555555555555556,
             "#d8576b"
            ],
            [
             0.6666666666666666,
             "#ed7953"
            ],
            [
             0.7777777777777778,
             "#fb9f3a"
            ],
            [
             0.8888888888888888,
             "#fdca26"
            ],
            [
             1,
             "#f0f921"
            ]
           ],
           "sequentialminus": [
            [
             0,
             "#0d0887"
            ],
            [
             0.1111111111111111,
             "#46039f"
            ],
            [
             0.2222222222222222,
             "#7201a8"
            ],
            [
             0.3333333333333333,
             "#9c179e"
            ],
            [
             0.4444444444444444,
             "#bd3786"
            ],
            [
             0.5555555555555556,
             "#d8576b"
            ],
            [
             0.6666666666666666,
             "#ed7953"
            ],
            [
             0.7777777777777778,
             "#fb9f3a"
            ],
            [
             0.8888888888888888,
             "#fdca26"
            ],
            [
             1,
             "#f0f921"
            ]
           ]
          },
          "colorway": [
           "#636efa",
           "#EF553B",
           "#00cc96",
           "#ab63fa",
           "#FFA15A",
           "#19d3f3",
           "#FF6692",
           "#B6E880",
           "#FF97FF",
           "#FECB52"
          ],
          "font": {
           "color": "#2a3f5f"
          },
          "geo": {
           "bgcolor": "white",
           "lakecolor": "white",
           "landcolor": "#E5ECF6",
           "showlakes": true,
           "showland": true,
           "subunitcolor": "white"
          },
          "hoverlabel": {
           "align": "left"
          },
          "hovermode": "closest",
          "mapbox": {
           "style": "light"
          },
          "paper_bgcolor": "white",
          "plot_bgcolor": "#E5ECF6",
          "polar": {
           "angularaxis": {
            "gridcolor": "white",
            "linecolor": "white",
            "ticks": ""
           },
           "bgcolor": "#E5ECF6",
           "radialaxis": {
            "gridcolor": "white",
            "linecolor": "white",
            "ticks": ""
           }
          },
          "scene": {
           "xaxis": {
            "backgroundcolor": "#E5ECF6",
            "gridcolor": "white",
            "gridwidth": 2,
            "linecolor": "white",
            "showbackground": true,
            "ticks": "",
            "zerolinecolor": "white"
           },
           "yaxis": {
            "backgroundcolor": "#E5ECF6",
            "gridcolor": "white",
            "gridwidth": 2,
            "linecolor": "white",
            "showbackground": true,
            "ticks": "",
            "zerolinecolor": "white"
           },
           "zaxis": {
            "backgroundcolor": "#E5ECF6",
            "gridcolor": "white",
            "gridwidth": 2,
            "linecolor": "white",
            "showbackground": true,
            "ticks": "",
            "zerolinecolor": "white"
           }
          },
          "shapedefaults": {
           "line": {
            "color": "#2a3f5f"
           }
          },
          "ternary": {
           "aaxis": {
            "gridcolor": "white",
            "linecolor": "white",
            "ticks": ""
           },
           "baxis": {
            "gridcolor": "white",
            "linecolor": "white",
            "ticks": ""
           },
           "bgcolor": "#E5ECF6",
           "caxis": {
            "gridcolor": "white",
            "linecolor": "white",
            "ticks": ""
           }
          },
          "title": {
           "x": 0.05
          },
          "xaxis": {
           "automargin": true,
           "gridcolor": "white",
           "linecolor": "white",
           "ticks": "",
           "title": {
            "standoff": 15
           },
           "zerolinecolor": "white",
           "zerolinewidth": 2
          },
          "yaxis": {
           "automargin": true,
           "gridcolor": "white",
           "linecolor": "white",
           "ticks": "",
           "title": {
            "standoff": 15
           },
           "zerolinecolor": "white",
           "zerolinewidth": 2
          }
         }
        },
        "title": {
         "font": {
          "color": "#D9D9D9"
         },
         "text": "Bar Chart"
        },
        "xaxis": {
         "autorange": true,
         "gridcolor": "#434343",
         "range": [
          "2023-05-17 12:00",
          "2023-06-30 12:00"
         ],
         "rangeslider": {
          "visible": false,
          "yaxis2": {}
         },
         "showgrid": true,
         "tickfont": {
          "color": "#C2C2C2"
         },
         "title": {
          "font": {
           "color": "#D9D9D9"
          },
          "text": ""
         },
         "type": "date",
         "zerolinecolor": "#666570"
        },
        "yaxis": {
         "gridcolor": "#434343",
         "showgrid": true,
         "showticklabels": false,
         "tickfont": {
          "color": "#C2C2C2"
         },
         "title": {
          "font": {
           "color": "#D9D9D9"
          },
          "text": ""
         },
         "zerolinecolor": "#666570"
        },
        "yaxis2": {
         "autorange": true,
         "gridcolor": "#434343",
         "range": [
          407.99000549316406,
          445.7899932861328
         ],
         "showgrid": true,
         "tickfont": {
          "color": "#C2C2C2"
         },
         "title": {
          "font": {
           "color": "#D9D9D9"
          },
          "text": ""
         },
         "zerolinecolor": "#666570"
        }
       }
      },
      "text/html": [
       "<div>                            <div id=\"03a961d7-edba-462b-976c-fb17c1eca968\" class=\"plotly-graph-div\" style=\"height:525px; width:100%;\"></div>            <script type=\"text/javascript\">                require([\"plotly\"], function(Plotly) {                    window.PLOTLYENV=window.PLOTLYENV || {};\n",
       "                    window.PLOTLYENV.BASE_URL='https://plot.ly';                                    if (document.getElementById(\"03a961d7-edba-462b-976c-fb17c1eca968\")) {                    Plotly.newPlot(                        \"03a961d7-edba-462b-976c-fb17c1eca968\",                        [{\"close\":[419.2300109863281,418.6199951171875,418.7900085449219,414.0899963378906,411.0899963378906,414.6499938964844,420.0199890136719,420.17999267578125,417.8500061035156,421.82000732421875,427.9200134277344,427.1000061035156,428.0299987792969,426.54998779296875,429.1300048828125,429.8999938964844,433.79998779296875,436.6600036621094,437.17999267578125,442.6000061035156,439.4599914550781,437.17999267578125,434.94000244140625,436.510009765625,433.2099914550781,431.44000244140625,436.1700134277344,436.3900146484375,438.1099853515625,443.36419677734375],\"high\":[419.6700134277344,420.7200012207031,420.3900146484375,418.7200012207031,412.82000732421875,416.1600036621094,420.7699890136719,422.5799865722656,419.2200012207031,422.9200134277344,428.739990234375,429.6199951171875,428.5799865722656,429.6199951171875,429.6000061035156,431.989990234375,433.8800048828125,437.3299865722656,439.05999755859375,443.8999938964844,443.6099853515625,438.3699951171875,436.989990234375,436.6199951171875,435.05999755859375,434.6099853515625,436.80999755859375,437.44000244140625,438.2799987792969,443.6099853515625],\"low\":[414.6700134277344,417.3500061035156,417.3500061035156,413.67999267578125,409.8800048828125,412.4100036621094,415.25,418.739990234375,416.2200012207031,416.7900085449219,423.95001220703125,426.3699951171875,425.989990234375,426.1099853515625,425.82000732421875,428.8699951171875,430.1700134277344,434.6300048828125,433.5899963378906,436.2300109863281,438.9700012207031,435.0299987792969,434.3299865722656,433.6000061035156,432.4700012207031,431.19000244140625,431.8800048828125,434.4100036621094,435.5400085449219,441.1300048828125],\"open\":[414.8999938964844,420.1700134277344,418.6400146484375,417.0799865722656,412.4200134277344,414.739990234375,415.3299865722656,422.0299987792969,418.2799987792969,418.0899963378906,424.5,428.2799987792969,426.6700134277344,428.44000244140625,426.6199951171875,429.9599914550781,430.9200134277344,435.32000732421875,437.010009765625,436.3299865722656,443.0199890136719,437.45001220703125,436.1600036621094,433.95001220703125,432.92999267578125,432.6199951171875,432.3500061035156,435.04998779296875,435.9599914550781,441.44000244140625],\"showlegend\":false,\"x\":[\"2023-05-18 00:00:00-04:00\",\"2023-05-19 00:00:00-04:00\",\"2023-05-22 00:00:00-04:00\",\"2023-05-23 00:00:00-04:00\",\"2023-05-24 00:00:00-04:00\",\"2023-05-25 00:00:00-04:00\",\"2023-05-26 00:00:00-04:00\",\"2023-05-30 00:00:00-04:00\",\"2023-05-31 00:00:00-04:00\",\"2023-06-01 00:00:00-04:00\",\"2023-06-02 00:00:00-04:00\",\"2023-06-05 00:00:00-04:00\",\"2023-06-06 00:00:00-04:00\",\"2023-06-07 00:00:00-04:00\",\"2023-06-08 00:00:00-04:00\",\"2023-06-09 00:00:00-04:00\",\"2023-06-12 00:00:00-04:00\",\"2023-06-13 00:00:00-04:00\",\"2023-06-14 00:00:00-04:00\",\"2023-06-15 00:00:00-04:00\",\"2023-06-16 00:00:00-04:00\",\"2023-06-20 00:00:00-04:00\",\"2023-06-21 00:00:00-04:00\",\"2023-06-22 00:00:00-04:00\",\"2023-06-23 00:00:00-04:00\",\"2023-06-26 00:00:00-04:00\",\"2023-06-27 00:00:00-04:00\",\"2023-06-28 00:00:00-04:00\",\"2023-06-29 00:00:00-04:00\",\"2023-06-30 00:00:00-04:00\"],\"yaxis\":\"y2\",\"type\":\"ohlc\"}],                        {\"legend\":{\"bgcolor\":\"#151516\",\"font\":{\"color\":\"#D9D9D9\"}},\"paper_bgcolor\":\"#151516\",\"plot_bgcolor\":\"#151516\",\"template\":{\"data\":{\"barpolar\":[{\"marker\":{\"line\":{\"color\":\"#E5ECF6\",\"width\":0.5},\"pattern\":{\"fillmode\":\"overlay\",\"size\":10,\"solidity\":0.2}},\"type\":\"barpolar\"}],\"bar\":[{\"error_x\":{\"color\":\"#2a3f5f\"},\"error_y\":{\"color\":\"#2a3f5f\"},\"marker\":{\"line\":{\"color\":\"#E5ECF6\",\"width\":0.5},\"pattern\":{\"fillmode\":\"overlay\",\"size\":10,\"solidity\":0.2}},\"type\":\"bar\"}],\"carpet\":[{\"aaxis\":{\"endlinecolor\":\"#2a3f5f\",\"gridcolor\":\"white\",\"linecolor\":\"white\",\"minorgridcolor\":\"white\",\"startlinecolor\":\"#2a3f5f\"},\"baxis\":{\"endlinecolor\":\"#2a3f5f\",\"gridcolor\":\"white\",\"linecolor\":\"white\",\"minorgridcolor\":\"white\",\"startlinecolor\":\"#2a3f5f\"},\"type\":\"carpet\"}],\"choropleth\":[{\"colorbar\":{\"outlinewidth\":0,\"ticks\":\"\"},\"type\":\"choropleth\"}],\"contourcarpet\":[{\"colorbar\":{\"outlinewidth\":0,\"ticks\":\"\"},\"type\":\"contourcarpet\"}],\"contour\":[{\"colorbar\":{\"outlinewidth\":0,\"ticks\":\"\"},\"colorscale\":[[0.0,\"#0d0887\"],[0.1111111111111111,\"#46039f\"],[0.2222222222222222,\"#7201a8\"],[0.3333333333333333,\"#9c179e\"],[0.4444444444444444,\"#bd3786\"],[0.5555555555555556,\"#d8576b\"],[0.6666666666666666,\"#ed7953\"],[0.7777777777777778,\"#fb9f3a\"],[0.8888888888888888,\"#fdca26\"],[1.0,\"#f0f921\"]],\"type\":\"contour\"}],\"heatmapgl\":[{\"colorbar\":{\"outlinewidth\":0,\"ticks\":\"\"},\"colorscale\":[[0.0,\"#0d0887\"],[0.1111111111111111,\"#46039f\"],[0.2222222222222222,\"#7201a8\"],[0.3333333333333333,\"#9c179e\"],[0.4444444444444444,\"#bd3786\"],[0.5555555555555556,\"#d8576b\"],[0.6666666666666666,\"#ed7953\"],[0.7777777777777778,\"#fb9f3a\"],[0.8888888888888888,\"#fdca26\"],[1.0,\"#f0f921\"]],\"type\":\"heatmapgl\"}],\"heatmap\":[{\"colorbar\":{\"outlinewidth\":0,\"ticks\":\"\"},\"colorscale\":[[0.0,\"#0d0887\"],[0.1111111111111111,\"#46039f\"],[0.2222222222222222,\"#7201a8\"],[0.3333333333333333,\"#9c179e\"],[0.4444444444444444,\"#bd3786\"],[0.5555555555555556,\"#d8576b\"],[0.6666666666666666,\"#ed7953\"],[0.7777777777777778,\"#fb9f3a\"],[0.8888888888888888,\"#fdca26\"],[1.0,\"#f0f921\"]],\"type\":\"heatmap\"}],\"histogram2dcontour\":[{\"colorbar\":{\"outlinewidth\":0,\"ticks\":\"\"},\"colorscale\":[[0.0,\"#0d0887\"],[0.1111111111111111,\"#46039f\"],[0.2222222222222222,\"#7201a8\"],[0.3333333333333333,\"#9c179e\"],[0.4444444444444444,\"#bd3786\"],[0.5555555555555556,\"#d8576b\"],[0.6666666666666666,\"#ed7953\"],[0.7777777777777778,\"#fb9f3a\"],[0.8888888888888888,\"#fdca26\"],[1.0,\"#f0f921\"]],\"type\":\"histogram2dcontour\"}],\"histogram2d\":[{\"colorbar\":{\"outlinewidth\":0,\"ticks\":\"\"},\"colorscale\":[[0.0,\"#0d0887\"],[0.1111111111111111,\"#46039f\"],[0.2222222222222222,\"#7201a8\"],[0.3333333333333333,\"#9c179e\"],[0.4444444444444444,\"#bd3786\"],[0.5555555555555556,\"#d8576b\"],[0.6666666666666666,\"#ed7953\"],[0.7777777777777778,\"#fb9f3a\"],[0.8888888888888888,\"#fdca26\"],[1.0,\"#f0f921\"]],\"type\":\"histogram2d\"}],\"histogram\":[{\"marker\":{\"pattern\":{\"fillmode\":\"overlay\",\"size\":10,\"solidity\":0.2}},\"type\":\"histogram\"}],\"mesh3d\":[{\"colorbar\":{\"outlinewidth\":0,\"ticks\":\"\"},\"type\":\"mesh3d\"}],\"parcoords\":[{\"line\":{\"colorbar\":{\"outlinewidth\":0,\"ticks\":\"\"}},\"type\":\"parcoords\"}],\"pie\":[{\"automargin\":true,\"type\":\"pie\"}],\"scatter3d\":[{\"line\":{\"colorbar\":{\"outlinewidth\":0,\"ticks\":\"\"}},\"marker\":{\"colorbar\":{\"outlinewidth\":0,\"ticks\":\"\"}},\"type\":\"scatter3d\"}],\"scattercarpet\":[{\"marker\":{\"colorbar\":{\"outlinewidth\":0,\"ticks\":\"\"}},\"type\":\"scattercarpet\"}],\"scattergeo\":[{\"marker\":{\"colorbar\":{\"outlinewidth\":0,\"ticks\":\"\"}},\"type\":\"scattergeo\"}],\"scattergl\":[{\"marker\":{\"colorbar\":{\"outlinewidth\":0,\"ticks\":\"\"}},\"type\":\"scattergl\"}],\"scattermapbox\":[{\"marker\":{\"colorbar\":{\"outlinewidth\":0,\"ticks\":\"\"}},\"type\":\"scattermapbox\"}],\"scatterpolargl\":[{\"marker\":{\"colorbar\":{\"outlinewidth\":0,\"ticks\":\"\"}},\"type\":\"scatterpolargl\"}],\"scatterpolar\":[{\"marker\":{\"colorbar\":{\"outlinewidth\":0,\"ticks\":\"\"}},\"type\":\"scatterpolar\"}],\"scatter\":[{\"fillpattern\":{\"fillmode\":\"overlay\",\"size\":10,\"solidity\":0.2},\"type\":\"scatter\"}],\"scatterternary\":[{\"marker\":{\"colorbar\":{\"outlinewidth\":0,\"ticks\":\"\"}},\"type\":\"scatterternary\"}],\"surface\":[{\"colorbar\":{\"outlinewidth\":0,\"ticks\":\"\"},\"colorscale\":[[0.0,\"#0d0887\"],[0.1111111111111111,\"#46039f\"],[0.2222222222222222,\"#7201a8\"],[0.3333333333333333,\"#9c179e\"],[0.4444444444444444,\"#bd3786\"],[0.5555555555555556,\"#d8576b\"],[0.6666666666666666,\"#ed7953\"],[0.7777777777777778,\"#fb9f3a\"],[0.8888888888888888,\"#fdca26\"],[1.0,\"#f0f921\"]],\"type\":\"surface\"}],\"table\":[{\"cells\":{\"fill\":{\"color\":\"#EBF0F8\"},\"line\":{\"color\":\"white\"}},\"header\":{\"fill\":{\"color\":\"#C8D4E3\"},\"line\":{\"color\":\"white\"}},\"type\":\"table\"}]},\"layout\":{\"annotationdefaults\":{\"arrowcolor\":\"#2a3f5f\",\"arrowhead\":0,\"arrowwidth\":1},\"autotypenumbers\":\"strict\",\"coloraxis\":{\"colorbar\":{\"outlinewidth\":0,\"ticks\":\"\"}},\"colorscale\":{\"diverging\":[[0,\"#8e0152\"],[0.1,\"#c51b7d\"],[0.2,\"#de77ae\"],[0.3,\"#f1b6da\"],[0.4,\"#fde0ef\"],[0.5,\"#f7f7f7\"],[0.6,\"#e6f5d0\"],[0.7,\"#b8e186\"],[0.8,\"#7fbc41\"],[0.9,\"#4d9221\"],[1,\"#276419\"]],\"sequential\":[[0.0,\"#0d0887\"],[0.1111111111111111,\"#46039f\"],[0.2222222222222222,\"#7201a8\"],[0.3333333333333333,\"#9c179e\"],[0.4444444444444444,\"#bd3786\"],[0.5555555555555556,\"#d8576b\"],[0.6666666666666666,\"#ed7953\"],[0.7777777777777778,\"#fb9f3a\"],[0.8888888888888888,\"#fdca26\"],[1.0,\"#f0f921\"]],\"sequentialminus\":[[0.0,\"#0d0887\"],[0.1111111111111111,\"#46039f\"],[0.2222222222222222,\"#7201a8\"],[0.3333333333333333,\"#9c179e\"],[0.4444444444444444,\"#bd3786\"],[0.5555555555555556,\"#d8576b\"],[0.6666666666666666,\"#ed7953\"],[0.7777777777777778,\"#fb9f3a\"],[0.8888888888888888,\"#fdca26\"],[1.0,\"#f0f921\"]]},\"colorway\":[\"#636efa\",\"#EF553B\",\"#00cc96\",\"#ab63fa\",\"#FFA15A\",\"#19d3f3\",\"#FF6692\",\"#B6E880\",\"#FF97FF\",\"#FECB52\"],\"font\":{\"color\":\"#2a3f5f\"},\"geo\":{\"bgcolor\":\"white\",\"lakecolor\":\"white\",\"landcolor\":\"#E5ECF6\",\"showlakes\":true,\"showland\":true,\"subunitcolor\":\"white\"},\"hoverlabel\":{\"align\":\"left\"},\"hovermode\":\"closest\",\"mapbox\":{\"style\":\"light\"},\"paper_bgcolor\":\"white\",\"plot_bgcolor\":\"#E5ECF6\",\"polar\":{\"angularaxis\":{\"gridcolor\":\"white\",\"linecolor\":\"white\",\"ticks\":\"\"},\"bgcolor\":\"#E5ECF6\",\"radialaxis\":{\"gridcolor\":\"white\",\"linecolor\":\"white\",\"ticks\":\"\"}},\"scene\":{\"xaxis\":{\"backgroundcolor\":\"#E5ECF6\",\"gridcolor\":\"white\",\"gridwidth\":2,\"linecolor\":\"white\",\"showbackground\":true,\"ticks\":\"\",\"zerolinecolor\":\"white\"},\"yaxis\":{\"backgroundcolor\":\"#E5ECF6\",\"gridcolor\":\"white\",\"gridwidth\":2,\"linecolor\":\"white\",\"showbackground\":true,\"ticks\":\"\",\"zerolinecolor\":\"white\"},\"zaxis\":{\"backgroundcolor\":\"#E5ECF6\",\"gridcolor\":\"white\",\"gridwidth\":2,\"linecolor\":\"white\",\"showbackground\":true,\"ticks\":\"\",\"zerolinecolor\":\"white\"}},\"shapedefaults\":{\"line\":{\"color\":\"#2a3f5f\"}},\"ternary\":{\"aaxis\":{\"gridcolor\":\"white\",\"linecolor\":\"white\",\"ticks\":\"\"},\"baxis\":{\"gridcolor\":\"white\",\"linecolor\":\"white\",\"ticks\":\"\"},\"bgcolor\":\"#E5ECF6\",\"caxis\":{\"gridcolor\":\"white\",\"linecolor\":\"white\",\"ticks\":\"\"}},\"title\":{\"x\":0.05},\"xaxis\":{\"automargin\":true,\"gridcolor\":\"white\",\"linecolor\":\"white\",\"ticks\":\"\",\"title\":{\"standoff\":15},\"zerolinecolor\":\"white\",\"zerolinewidth\":2},\"yaxis\":{\"automargin\":true,\"gridcolor\":\"white\",\"linecolor\":\"white\",\"ticks\":\"\",\"title\":{\"standoff\":15},\"zerolinecolor\":\"white\",\"zerolinewidth\":2}}},\"title\":{\"font\":{\"color\":\"#D9D9D9\"},\"text\":\"Bar Chart\"},\"xaxis\":{\"gridcolor\":\"#434343\",\"rangeslider\":{\"visible\":false},\"showgrid\":true,\"tickfont\":{\"color\":\"#C2C2C2\"},\"title\":{\"font\":{\"color\":\"#D9D9D9\"},\"text\":\"\"},\"zerolinecolor\":\"#666570\"},\"yaxis\":{\"gridcolor\":\"#434343\",\"showgrid\":true,\"showticklabels\":false,\"tickfont\":{\"color\":\"#C2C2C2\"},\"title\":{\"font\":{\"color\":\"#D9D9D9\"},\"text\":\"\"},\"zerolinecolor\":\"#666570\"},\"yaxis2\":{\"gridcolor\":\"#434343\",\"showgrid\":true,\"tickfont\":{\"color\":\"#C2C2C2\"},\"title\":{\"font\":{\"color\":\"#D9D9D9\"},\"text\":\"\"},\"zerolinecolor\":\"#666570\"}},                        {\"showLink\": true, \"linkText\": \"Export to plot.ly\", \"plotlyServerURL\": \"https://plot.ly\", \"responsive\": true}                    ).then(function(){\n",
       "                            \n",
       "var gd = document.getElementById('03a961d7-edba-462b-976c-fb17c1eca968');\n",
       "var x = new MutationObserver(function (mutations, observer) {{\n",
       "        var display = window.getComputedStyle(gd).display;\n",
       "        if (!display || display === 'none') {{\n",
       "            console.log([gd, 'removed!']);\n",
       "            Plotly.purge(gd);\n",
       "            observer.disconnect();\n",
       "        }}\n",
       "}});\n",
       "\n",
       "// Listen for the removal of the full notebook cells\n",
       "var notebookContainer = gd.closest('#notebook-container');\n",
       "if (notebookContainer) {{\n",
       "    x.observe(notebookContainer, {childList: true});\n",
       "}}\n",
       "\n",
       "// Listen for the clearing of the current output cell\n",
       "var outputEl = gd.closest('.output');\n",
       "if (outputEl) {{\n",
       "    x.observe(outputEl, {childList: true});\n",
       "}}\n",
       "\n",
       "                        })                };                });            </script>        </div>"
      ]
     },
     "metadata": {},
     "output_type": "display_data"
    }
   ],
   "source": [
    "df3[-30:].iplot(kind='ohlc', title='Bar Chart')"
   ]
  },
  {
   "cell_type": "code",
   "execution_count": 20,
   "id": "4710bd5c-d3e3-469d-af98-005293b8e463",
   "metadata": {},
   "outputs": [
    {
     "data": {
      "application/vnd.plotly.v1+json": {
       "config": {
        "linkText": "Export to plot.ly",
        "plotlyServerURL": "https://plot.ly",
        "showLink": true
       },
       "data": [
        {
         "close": [
          419.2300109863281,
          418.6199951171875,
          418.7900085449219,
          414.0899963378906,
          411.0899963378906,
          414.6499938964844,
          420.0199890136719,
          420.17999267578125,
          417.8500061035156,
          421.82000732421875,
          427.9200134277344,
          427.1000061035156,
          428.0299987792969,
          426.54998779296875,
          429.1300048828125,
          429.8999938964844,
          433.79998779296875,
          436.6600036621094,
          437.17999267578125,
          442.6000061035156,
          439.4599914550781,
          437.17999267578125,
          434.94000244140625,
          436.510009765625,
          433.2099914550781,
          431.44000244140625,
          436.1700134277344,
          436.3900146484375,
          438.1099853515625,
          443.36419677734375
         ],
         "high": [
          419.6700134277344,
          420.7200012207031,
          420.3900146484375,
          418.7200012207031,
          412.82000732421875,
          416.1600036621094,
          420.7699890136719,
          422.5799865722656,
          419.2200012207031,
          422.9200134277344,
          428.739990234375,
          429.6199951171875,
          428.5799865722656,
          429.6199951171875,
          429.6000061035156,
          431.989990234375,
          433.8800048828125,
          437.3299865722656,
          439.05999755859375,
          443.8999938964844,
          443.6099853515625,
          438.3699951171875,
          436.989990234375,
          436.6199951171875,
          435.05999755859375,
          434.6099853515625,
          436.80999755859375,
          437.44000244140625,
          438.2799987792969,
          443.6099853515625
         ],
         "low": [
          414.6700134277344,
          417.3500061035156,
          417.3500061035156,
          413.67999267578125,
          409.8800048828125,
          412.4100036621094,
          415.25,
          418.739990234375,
          416.2200012207031,
          416.7900085449219,
          423.95001220703125,
          426.3699951171875,
          425.989990234375,
          426.1099853515625,
          425.82000732421875,
          428.8699951171875,
          430.1700134277344,
          434.6300048828125,
          433.5899963378906,
          436.2300109863281,
          438.9700012207031,
          435.0299987792969,
          434.3299865722656,
          433.6000061035156,
          432.4700012207031,
          431.19000244140625,
          431.8800048828125,
          434.4100036621094,
          435.5400085449219,
          441.1300048828125
         ],
         "open": [
          414.8999938964844,
          420.1700134277344,
          418.6400146484375,
          417.0799865722656,
          412.4200134277344,
          414.739990234375,
          415.3299865722656,
          422.0299987792969,
          418.2799987792969,
          418.0899963378906,
          424.5,
          428.2799987792969,
          426.6700134277344,
          428.44000244140625,
          426.6199951171875,
          429.9599914550781,
          430.9200134277344,
          435.32000732421875,
          437.010009765625,
          436.3299865722656,
          443.0199890136719,
          437.45001220703125,
          436.1600036621094,
          433.95001220703125,
          432.92999267578125,
          432.6199951171875,
          432.3500061035156,
          435.04998779296875,
          435.9599914550781,
          441.44000244140625
         ],
         "showlegend": false,
         "type": "candlestick",
         "x": [
          "2023-05-18 00:00:00-04:00",
          "2023-05-19 00:00:00-04:00",
          "2023-05-22 00:00:00-04:00",
          "2023-05-23 00:00:00-04:00",
          "2023-05-24 00:00:00-04:00",
          "2023-05-25 00:00:00-04:00",
          "2023-05-26 00:00:00-04:00",
          "2023-05-30 00:00:00-04:00",
          "2023-05-31 00:00:00-04:00",
          "2023-06-01 00:00:00-04:00",
          "2023-06-02 00:00:00-04:00",
          "2023-06-05 00:00:00-04:00",
          "2023-06-06 00:00:00-04:00",
          "2023-06-07 00:00:00-04:00",
          "2023-06-08 00:00:00-04:00",
          "2023-06-09 00:00:00-04:00",
          "2023-06-12 00:00:00-04:00",
          "2023-06-13 00:00:00-04:00",
          "2023-06-14 00:00:00-04:00",
          "2023-06-15 00:00:00-04:00",
          "2023-06-16 00:00:00-04:00",
          "2023-06-20 00:00:00-04:00",
          "2023-06-21 00:00:00-04:00",
          "2023-06-22 00:00:00-04:00",
          "2023-06-23 00:00:00-04:00",
          "2023-06-26 00:00:00-04:00",
          "2023-06-27 00:00:00-04:00",
          "2023-06-28 00:00:00-04:00",
          "2023-06-29 00:00:00-04:00",
          "2023-06-30 00:00:00-04:00"
         ],
         "yaxis": "y2"
        }
       ],
       "layout": {
        "autosize": true,
        "legend": {
         "bgcolor": "#151516",
         "font": {
          "color": "#D9D9D9"
         }
        },
        "paper_bgcolor": "#151516",
        "plot_bgcolor": "#151516",
        "template": {
         "data": {
          "bar": [
           {
            "error_x": {
             "color": "#2a3f5f"
            },
            "error_y": {
             "color": "#2a3f5f"
            },
            "marker": {
             "line": {
              "color": "#E5ECF6",
              "width": 0.5
             },
             "pattern": {
              "fillmode": "overlay",
              "size": 10,
              "solidity": 0.2
             }
            },
            "type": "bar"
           }
          ],
          "barpolar": [
           {
            "marker": {
             "line": {
              "color": "#E5ECF6",
              "width": 0.5
             },
             "pattern": {
              "fillmode": "overlay",
              "size": 10,
              "solidity": 0.2
             }
            },
            "type": "barpolar"
           }
          ],
          "carpet": [
           {
            "aaxis": {
             "endlinecolor": "#2a3f5f",
             "gridcolor": "white",
             "linecolor": "white",
             "minorgridcolor": "white",
             "startlinecolor": "#2a3f5f"
            },
            "baxis": {
             "endlinecolor": "#2a3f5f",
             "gridcolor": "white",
             "linecolor": "white",
             "minorgridcolor": "white",
             "startlinecolor": "#2a3f5f"
            },
            "type": "carpet"
           }
          ],
          "choropleth": [
           {
            "colorbar": {
             "outlinewidth": 0,
             "ticks": ""
            },
            "type": "choropleth"
           }
          ],
          "contour": [
           {
            "colorbar": {
             "outlinewidth": 0,
             "ticks": ""
            },
            "colorscale": [
             [
              0,
              "#0d0887"
             ],
             [
              0.1111111111111111,
              "#46039f"
             ],
             [
              0.2222222222222222,
              "#7201a8"
             ],
             [
              0.3333333333333333,
              "#9c179e"
             ],
             [
              0.4444444444444444,
              "#bd3786"
             ],
             [
              0.5555555555555556,
              "#d8576b"
             ],
             [
              0.6666666666666666,
              "#ed7953"
             ],
             [
              0.7777777777777778,
              "#fb9f3a"
             ],
             [
              0.8888888888888888,
              "#fdca26"
             ],
             [
              1,
              "#f0f921"
             ]
            ],
            "type": "contour"
           }
          ],
          "contourcarpet": [
           {
            "colorbar": {
             "outlinewidth": 0,
             "ticks": ""
            },
            "type": "contourcarpet"
           }
          ],
          "heatmap": [
           {
            "colorbar": {
             "outlinewidth": 0,
             "ticks": ""
            },
            "colorscale": [
             [
              0,
              "#0d0887"
             ],
             [
              0.1111111111111111,
              "#46039f"
             ],
             [
              0.2222222222222222,
              "#7201a8"
             ],
             [
              0.3333333333333333,
              "#9c179e"
             ],
             [
              0.4444444444444444,
              "#bd3786"
             ],
             [
              0.5555555555555556,
              "#d8576b"
             ],
             [
              0.6666666666666666,
              "#ed7953"
             ],
             [
              0.7777777777777778,
              "#fb9f3a"
             ],
             [
              0.8888888888888888,
              "#fdca26"
             ],
             [
              1,
              "#f0f921"
             ]
            ],
            "type": "heatmap"
           }
          ],
          "heatmapgl": [
           {
            "colorbar": {
             "outlinewidth": 0,
             "ticks": ""
            },
            "colorscale": [
             [
              0,
              "#0d0887"
             ],
             [
              0.1111111111111111,
              "#46039f"
             ],
             [
              0.2222222222222222,
              "#7201a8"
             ],
             [
              0.3333333333333333,
              "#9c179e"
             ],
             [
              0.4444444444444444,
              "#bd3786"
             ],
             [
              0.5555555555555556,
              "#d8576b"
             ],
             [
              0.6666666666666666,
              "#ed7953"
             ],
             [
              0.7777777777777778,
              "#fb9f3a"
             ],
             [
              0.8888888888888888,
              "#fdca26"
             ],
             [
              1,
              "#f0f921"
             ]
            ],
            "type": "heatmapgl"
           }
          ],
          "histogram": [
           {
            "marker": {
             "pattern": {
              "fillmode": "overlay",
              "size": 10,
              "solidity": 0.2
             }
            },
            "type": "histogram"
           }
          ],
          "histogram2d": [
           {
            "colorbar": {
             "outlinewidth": 0,
             "ticks": ""
            },
            "colorscale": [
             [
              0,
              "#0d0887"
             ],
             [
              0.1111111111111111,
              "#46039f"
             ],
             [
              0.2222222222222222,
              "#7201a8"
             ],
             [
              0.3333333333333333,
              "#9c179e"
             ],
             [
              0.4444444444444444,
              "#bd3786"
             ],
             [
              0.5555555555555556,
              "#d8576b"
             ],
             [
              0.6666666666666666,
              "#ed7953"
             ],
             [
              0.7777777777777778,
              "#fb9f3a"
             ],
             [
              0.8888888888888888,
              "#fdca26"
             ],
             [
              1,
              "#f0f921"
             ]
            ],
            "type": "histogram2d"
           }
          ],
          "histogram2dcontour": [
           {
            "colorbar": {
             "outlinewidth": 0,
             "ticks": ""
            },
            "colorscale": [
             [
              0,
              "#0d0887"
             ],
             [
              0.1111111111111111,
              "#46039f"
             ],
             [
              0.2222222222222222,
              "#7201a8"
             ],
             [
              0.3333333333333333,
              "#9c179e"
             ],
             [
              0.4444444444444444,
              "#bd3786"
             ],
             [
              0.5555555555555556,
              "#d8576b"
             ],
             [
              0.6666666666666666,
              "#ed7953"
             ],
             [
              0.7777777777777778,
              "#fb9f3a"
             ],
             [
              0.8888888888888888,
              "#fdca26"
             ],
             [
              1,
              "#f0f921"
             ]
            ],
            "type": "histogram2dcontour"
           }
          ],
          "mesh3d": [
           {
            "colorbar": {
             "outlinewidth": 0,
             "ticks": ""
            },
            "type": "mesh3d"
           }
          ],
          "parcoords": [
           {
            "line": {
             "colorbar": {
              "outlinewidth": 0,
              "ticks": ""
             }
            },
            "type": "parcoords"
           }
          ],
          "pie": [
           {
            "automargin": true,
            "type": "pie"
           }
          ],
          "scatter": [
           {
            "fillpattern": {
             "fillmode": "overlay",
             "size": 10,
             "solidity": 0.2
            },
            "type": "scatter"
           }
          ],
          "scatter3d": [
           {
            "line": {
             "colorbar": {
              "outlinewidth": 0,
              "ticks": ""
             }
            },
            "marker": {
             "colorbar": {
              "outlinewidth": 0,
              "ticks": ""
             }
            },
            "type": "scatter3d"
           }
          ],
          "scattercarpet": [
           {
            "marker": {
             "colorbar": {
              "outlinewidth": 0,
              "ticks": ""
             }
            },
            "type": "scattercarpet"
           }
          ],
          "scattergeo": [
           {
            "marker": {
             "colorbar": {
              "outlinewidth": 0,
              "ticks": ""
             }
            },
            "type": "scattergeo"
           }
          ],
          "scattergl": [
           {
            "marker": {
             "colorbar": {
              "outlinewidth": 0,
              "ticks": ""
             }
            },
            "type": "scattergl"
           }
          ],
          "scattermapbox": [
           {
            "marker": {
             "colorbar": {
              "outlinewidth": 0,
              "ticks": ""
             }
            },
            "type": "scattermapbox"
           }
          ],
          "scatterpolar": [
           {
            "marker": {
             "colorbar": {
              "outlinewidth": 0,
              "ticks": ""
             }
            },
            "type": "scatterpolar"
           }
          ],
          "scatterpolargl": [
           {
            "marker": {
             "colorbar": {
              "outlinewidth": 0,
              "ticks": ""
             }
            },
            "type": "scatterpolargl"
           }
          ],
          "scatterternary": [
           {
            "marker": {
             "colorbar": {
              "outlinewidth": 0,
              "ticks": ""
             }
            },
            "type": "scatterternary"
           }
          ],
          "surface": [
           {
            "colorbar": {
             "outlinewidth": 0,
             "ticks": ""
            },
            "colorscale": [
             [
              0,
              "#0d0887"
             ],
             [
              0.1111111111111111,
              "#46039f"
             ],
             [
              0.2222222222222222,
              "#7201a8"
             ],
             [
              0.3333333333333333,
              "#9c179e"
             ],
             [
              0.4444444444444444,
              "#bd3786"
             ],
             [
              0.5555555555555556,
              "#d8576b"
             ],
             [
              0.6666666666666666,
              "#ed7953"
             ],
             [
              0.7777777777777778,
              "#fb9f3a"
             ],
             [
              0.8888888888888888,
              "#fdca26"
             ],
             [
              1,
              "#f0f921"
             ]
            ],
            "type": "surface"
           }
          ],
          "table": [
           {
            "cells": {
             "fill": {
              "color": "#EBF0F8"
             },
             "line": {
              "color": "white"
             }
            },
            "header": {
             "fill": {
              "color": "#C8D4E3"
             },
             "line": {
              "color": "white"
             }
            },
            "type": "table"
           }
          ]
         },
         "layout": {
          "annotationdefaults": {
           "arrowcolor": "#2a3f5f",
           "arrowhead": 0,
           "arrowwidth": 1
          },
          "autotypenumbers": "strict",
          "coloraxis": {
           "colorbar": {
            "outlinewidth": 0,
            "ticks": ""
           }
          },
          "colorscale": {
           "diverging": [
            [
             0,
             "#8e0152"
            ],
            [
             0.1,
             "#c51b7d"
            ],
            [
             0.2,
             "#de77ae"
            ],
            [
             0.3,
             "#f1b6da"
            ],
            [
             0.4,
             "#fde0ef"
            ],
            [
             0.5,
             "#f7f7f7"
            ],
            [
             0.6,
             "#e6f5d0"
            ],
            [
             0.7,
             "#b8e186"
            ],
            [
             0.8,
             "#7fbc41"
            ],
            [
             0.9,
             "#4d9221"
            ],
            [
             1,
             "#276419"
            ]
           ],
           "sequential": [
            [
             0,
             "#0d0887"
            ],
            [
             0.1111111111111111,
             "#46039f"
            ],
            [
             0.2222222222222222,
             "#7201a8"
            ],
            [
             0.3333333333333333,
             "#9c179e"
            ],
            [
             0.4444444444444444,
             "#bd3786"
            ],
            [
             0.5555555555555556,
             "#d8576b"
            ],
            [
             0.6666666666666666,
             "#ed7953"
            ],
            [
             0.7777777777777778,
             "#fb9f3a"
            ],
            [
             0.8888888888888888,
             "#fdca26"
            ],
            [
             1,
             "#f0f921"
            ]
           ],
           "sequentialminus": [
            [
             0,
             "#0d0887"
            ],
            [
             0.1111111111111111,
             "#46039f"
            ],
            [
             0.2222222222222222,
             "#7201a8"
            ],
            [
             0.3333333333333333,
             "#9c179e"
            ],
            [
             0.4444444444444444,
             "#bd3786"
            ],
            [
             0.5555555555555556,
             "#d8576b"
            ],
            [
             0.6666666666666666,
             "#ed7953"
            ],
            [
             0.7777777777777778,
             "#fb9f3a"
            ],
            [
             0.8888888888888888,
             "#fdca26"
            ],
            [
             1,
             "#f0f921"
            ]
           ]
          },
          "colorway": [
           "#636efa",
           "#EF553B",
           "#00cc96",
           "#ab63fa",
           "#FFA15A",
           "#19d3f3",
           "#FF6692",
           "#B6E880",
           "#FF97FF",
           "#FECB52"
          ],
          "font": {
           "color": "#2a3f5f"
          },
          "geo": {
           "bgcolor": "white",
           "lakecolor": "white",
           "landcolor": "#E5ECF6",
           "showlakes": true,
           "showland": true,
           "subunitcolor": "white"
          },
          "hoverlabel": {
           "align": "left"
          },
          "hovermode": "closest",
          "mapbox": {
           "style": "light"
          },
          "paper_bgcolor": "white",
          "plot_bgcolor": "#E5ECF6",
          "polar": {
           "angularaxis": {
            "gridcolor": "white",
            "linecolor": "white",
            "ticks": ""
           },
           "bgcolor": "#E5ECF6",
           "radialaxis": {
            "gridcolor": "white",
            "linecolor": "white",
            "ticks": ""
           }
          },
          "scene": {
           "xaxis": {
            "backgroundcolor": "#E5ECF6",
            "gridcolor": "white",
            "gridwidth": 2,
            "linecolor": "white",
            "showbackground": true,
            "ticks": "",
            "zerolinecolor": "white"
           },
           "yaxis": {
            "backgroundcolor": "#E5ECF6",
            "gridcolor": "white",
            "gridwidth": 2,
            "linecolor": "white",
            "showbackground": true,
            "ticks": "",
            "zerolinecolor": "white"
           },
           "zaxis": {
            "backgroundcolor": "#E5ECF6",
            "gridcolor": "white",
            "gridwidth": 2,
            "linecolor": "white",
            "showbackground": true,
            "ticks": "",
            "zerolinecolor": "white"
           }
          },
          "shapedefaults": {
           "line": {
            "color": "#2a3f5f"
           }
          },
          "ternary": {
           "aaxis": {
            "gridcolor": "white",
            "linecolor": "white",
            "ticks": ""
           },
           "baxis": {
            "gridcolor": "white",
            "linecolor": "white",
            "ticks": ""
           },
           "bgcolor": "#E5ECF6",
           "caxis": {
            "gridcolor": "white",
            "linecolor": "white",
            "ticks": ""
           }
          },
          "title": {
           "x": 0.05
          },
          "xaxis": {
           "automargin": true,
           "gridcolor": "white",
           "linecolor": "white",
           "ticks": "",
           "title": {
            "standoff": 15
           },
           "zerolinecolor": "white",
           "zerolinewidth": 2
          },
          "yaxis": {
           "automargin": true,
           "gridcolor": "white",
           "linecolor": "white",
           "ticks": "",
           "title": {
            "standoff": 15
           },
           "zerolinecolor": "white",
           "zerolinewidth": 2
          }
         }
        },
        "title": {
         "font": {
          "color": "#D9D9D9"
         },
         "text": "Candle Chart"
        },
        "xaxis": {
         "autorange": true,
         "gridcolor": "#434343",
         "range": [
          "2023-05-17 12:00",
          "2023-06-30 12:00"
         ],
         "rangeslider": {
          "visible": false,
          "yaxis2": {}
         },
         "showgrid": true,
         "tickfont": {
          "color": "#C2C2C2"
         },
         "title": {
          "font": {
           "color": "#D9D9D9"
          },
          "text": ""
         },
         "type": "date",
         "zerolinecolor": "#666570"
        },
        "yaxis": {
         "gridcolor": "#434343",
         "showgrid": true,
         "showticklabels": false,
         "tickfont": {
          "color": "#C2C2C2"
         },
         "title": {
          "font": {
           "color": "#D9D9D9"
          },
          "text": ""
         },
         "zerolinecolor": "#666570"
        },
        "yaxis2": {
         "autorange": true,
         "gridcolor": "#434343",
         "range": [
          407.99000549316406,
          445.7899932861328
         ],
         "showgrid": true,
         "tickfont": {
          "color": "#C2C2C2"
         },
         "title": {
          "font": {
           "color": "#D9D9D9"
          },
          "text": ""
         },
         "zerolinecolor": "#666570"
        }
       }
      },
      "text/html": [
       "<div>                            <div id=\"29a2485c-e7b4-4269-b300-427e918f36e8\" class=\"plotly-graph-div\" style=\"height:525px; width:100%;\"></div>            <script type=\"text/javascript\">                require([\"plotly\"], function(Plotly) {                    window.PLOTLYENV=window.PLOTLYENV || {};\n",
       "                    window.PLOTLYENV.BASE_URL='https://plot.ly';                                    if (document.getElementById(\"29a2485c-e7b4-4269-b300-427e918f36e8\")) {                    Plotly.newPlot(                        \"29a2485c-e7b4-4269-b300-427e918f36e8\",                        [{\"close\":[419.2300109863281,418.6199951171875,418.7900085449219,414.0899963378906,411.0899963378906,414.6499938964844,420.0199890136719,420.17999267578125,417.8500061035156,421.82000732421875,427.9200134277344,427.1000061035156,428.0299987792969,426.54998779296875,429.1300048828125,429.8999938964844,433.79998779296875,436.6600036621094,437.17999267578125,442.6000061035156,439.4599914550781,437.17999267578125,434.94000244140625,436.510009765625,433.2099914550781,431.44000244140625,436.1700134277344,436.3900146484375,438.1099853515625,443.36419677734375],\"high\":[419.6700134277344,420.7200012207031,420.3900146484375,418.7200012207031,412.82000732421875,416.1600036621094,420.7699890136719,422.5799865722656,419.2200012207031,422.9200134277344,428.739990234375,429.6199951171875,428.5799865722656,429.6199951171875,429.6000061035156,431.989990234375,433.8800048828125,437.3299865722656,439.05999755859375,443.8999938964844,443.6099853515625,438.3699951171875,436.989990234375,436.6199951171875,435.05999755859375,434.6099853515625,436.80999755859375,437.44000244140625,438.2799987792969,443.6099853515625],\"low\":[414.6700134277344,417.3500061035156,417.3500061035156,413.67999267578125,409.8800048828125,412.4100036621094,415.25,418.739990234375,416.2200012207031,416.7900085449219,423.95001220703125,426.3699951171875,425.989990234375,426.1099853515625,425.82000732421875,428.8699951171875,430.1700134277344,434.6300048828125,433.5899963378906,436.2300109863281,438.9700012207031,435.0299987792969,434.3299865722656,433.6000061035156,432.4700012207031,431.19000244140625,431.8800048828125,434.4100036621094,435.5400085449219,441.1300048828125],\"open\":[414.8999938964844,420.1700134277344,418.6400146484375,417.0799865722656,412.4200134277344,414.739990234375,415.3299865722656,422.0299987792969,418.2799987792969,418.0899963378906,424.5,428.2799987792969,426.6700134277344,428.44000244140625,426.6199951171875,429.9599914550781,430.9200134277344,435.32000732421875,437.010009765625,436.3299865722656,443.0199890136719,437.45001220703125,436.1600036621094,433.95001220703125,432.92999267578125,432.6199951171875,432.3500061035156,435.04998779296875,435.9599914550781,441.44000244140625],\"showlegend\":false,\"x\":[\"2023-05-18 00:00:00-04:00\",\"2023-05-19 00:00:00-04:00\",\"2023-05-22 00:00:00-04:00\",\"2023-05-23 00:00:00-04:00\",\"2023-05-24 00:00:00-04:00\",\"2023-05-25 00:00:00-04:00\",\"2023-05-26 00:00:00-04:00\",\"2023-05-30 00:00:00-04:00\",\"2023-05-31 00:00:00-04:00\",\"2023-06-01 00:00:00-04:00\",\"2023-06-02 00:00:00-04:00\",\"2023-06-05 00:00:00-04:00\",\"2023-06-06 00:00:00-04:00\",\"2023-06-07 00:00:00-04:00\",\"2023-06-08 00:00:00-04:00\",\"2023-06-09 00:00:00-04:00\",\"2023-06-12 00:00:00-04:00\",\"2023-06-13 00:00:00-04:00\",\"2023-06-14 00:00:00-04:00\",\"2023-06-15 00:00:00-04:00\",\"2023-06-16 00:00:00-04:00\",\"2023-06-20 00:00:00-04:00\",\"2023-06-21 00:00:00-04:00\",\"2023-06-22 00:00:00-04:00\",\"2023-06-23 00:00:00-04:00\",\"2023-06-26 00:00:00-04:00\",\"2023-06-27 00:00:00-04:00\",\"2023-06-28 00:00:00-04:00\",\"2023-06-29 00:00:00-04:00\",\"2023-06-30 00:00:00-04:00\"],\"yaxis\":\"y2\",\"type\":\"candlestick\"}],                        {\"legend\":{\"bgcolor\":\"#151516\",\"font\":{\"color\":\"#D9D9D9\"}},\"paper_bgcolor\":\"#151516\",\"plot_bgcolor\":\"#151516\",\"template\":{\"data\":{\"barpolar\":[{\"marker\":{\"line\":{\"color\":\"#E5ECF6\",\"width\":0.5},\"pattern\":{\"fillmode\":\"overlay\",\"size\":10,\"solidity\":0.2}},\"type\":\"barpolar\"}],\"bar\":[{\"error_x\":{\"color\":\"#2a3f5f\"},\"error_y\":{\"color\":\"#2a3f5f\"},\"marker\":{\"line\":{\"color\":\"#E5ECF6\",\"width\":0.5},\"pattern\":{\"fillmode\":\"overlay\",\"size\":10,\"solidity\":0.2}},\"type\":\"bar\"}],\"carpet\":[{\"aaxis\":{\"endlinecolor\":\"#2a3f5f\",\"gridcolor\":\"white\",\"linecolor\":\"white\",\"minorgridcolor\":\"white\",\"startlinecolor\":\"#2a3f5f\"},\"baxis\":{\"endlinecolor\":\"#2a3f5f\",\"gridcolor\":\"white\",\"linecolor\":\"white\",\"minorgridcolor\":\"white\",\"startlinecolor\":\"#2a3f5f\"},\"type\":\"carpet\"}],\"choropleth\":[{\"colorbar\":{\"outlinewidth\":0,\"ticks\":\"\"},\"type\":\"choropleth\"}],\"contourcarpet\":[{\"colorbar\":{\"outlinewidth\":0,\"ticks\":\"\"},\"type\":\"contourcarpet\"}],\"contour\":[{\"colorbar\":{\"outlinewidth\":0,\"ticks\":\"\"},\"colorscale\":[[0.0,\"#0d0887\"],[0.1111111111111111,\"#46039f\"],[0.2222222222222222,\"#7201a8\"],[0.3333333333333333,\"#9c179e\"],[0.4444444444444444,\"#bd3786\"],[0.5555555555555556,\"#d8576b\"],[0.6666666666666666,\"#ed7953\"],[0.7777777777777778,\"#fb9f3a\"],[0.8888888888888888,\"#fdca26\"],[1.0,\"#f0f921\"]],\"type\":\"contour\"}],\"heatmapgl\":[{\"colorbar\":{\"outlinewidth\":0,\"ticks\":\"\"},\"colorscale\":[[0.0,\"#0d0887\"],[0.1111111111111111,\"#46039f\"],[0.2222222222222222,\"#7201a8\"],[0.3333333333333333,\"#9c179e\"],[0.4444444444444444,\"#bd3786\"],[0.5555555555555556,\"#d8576b\"],[0.6666666666666666,\"#ed7953\"],[0.7777777777777778,\"#fb9f3a\"],[0.8888888888888888,\"#fdca26\"],[1.0,\"#f0f921\"]],\"type\":\"heatmapgl\"}],\"heatmap\":[{\"colorbar\":{\"outlinewidth\":0,\"ticks\":\"\"},\"colorscale\":[[0.0,\"#0d0887\"],[0.1111111111111111,\"#46039f\"],[0.2222222222222222,\"#7201a8\"],[0.3333333333333333,\"#9c179e\"],[0.4444444444444444,\"#bd3786\"],[0.5555555555555556,\"#d8576b\"],[0.6666666666666666,\"#ed7953\"],[0.7777777777777778,\"#fb9f3a\"],[0.8888888888888888,\"#fdca26\"],[1.0,\"#f0f921\"]],\"type\":\"heatmap\"}],\"histogram2dcontour\":[{\"colorbar\":{\"outlinewidth\":0,\"ticks\":\"\"},\"colorscale\":[[0.0,\"#0d0887\"],[0.1111111111111111,\"#46039f\"],[0.2222222222222222,\"#7201a8\"],[0.3333333333333333,\"#9c179e\"],[0.4444444444444444,\"#bd3786\"],[0.5555555555555556,\"#d8576b\"],[0.6666666666666666,\"#ed7953\"],[0.7777777777777778,\"#fb9f3a\"],[0.8888888888888888,\"#fdca26\"],[1.0,\"#f0f921\"]],\"type\":\"histogram2dcontour\"}],\"histogram2d\":[{\"colorbar\":{\"outlinewidth\":0,\"ticks\":\"\"},\"colorscale\":[[0.0,\"#0d0887\"],[0.1111111111111111,\"#46039f\"],[0.2222222222222222,\"#7201a8\"],[0.3333333333333333,\"#9c179e\"],[0.4444444444444444,\"#bd3786\"],[0.5555555555555556,\"#d8576b\"],[0.6666666666666666,\"#ed7953\"],[0.7777777777777778,\"#fb9f3a\"],[0.8888888888888888,\"#fdca26\"],[1.0,\"#f0f921\"]],\"type\":\"histogram2d\"}],\"histogram\":[{\"marker\":{\"pattern\":{\"fillmode\":\"overlay\",\"size\":10,\"solidity\":0.2}},\"type\":\"histogram\"}],\"mesh3d\":[{\"colorbar\":{\"outlinewidth\":0,\"ticks\":\"\"},\"type\":\"mesh3d\"}],\"parcoords\":[{\"line\":{\"colorbar\":{\"outlinewidth\":0,\"ticks\":\"\"}},\"type\":\"parcoords\"}],\"pie\":[{\"automargin\":true,\"type\":\"pie\"}],\"scatter3d\":[{\"line\":{\"colorbar\":{\"outlinewidth\":0,\"ticks\":\"\"}},\"marker\":{\"colorbar\":{\"outlinewidth\":0,\"ticks\":\"\"}},\"type\":\"scatter3d\"}],\"scattercarpet\":[{\"marker\":{\"colorbar\":{\"outlinewidth\":0,\"ticks\":\"\"}},\"type\":\"scattercarpet\"}],\"scattergeo\":[{\"marker\":{\"colorbar\":{\"outlinewidth\":0,\"ticks\":\"\"}},\"type\":\"scattergeo\"}],\"scattergl\":[{\"marker\":{\"colorbar\":{\"outlinewidth\":0,\"ticks\":\"\"}},\"type\":\"scattergl\"}],\"scattermapbox\":[{\"marker\":{\"colorbar\":{\"outlinewidth\":0,\"ticks\":\"\"}},\"type\":\"scattermapbox\"}],\"scatterpolargl\":[{\"marker\":{\"colorbar\":{\"outlinewidth\":0,\"ticks\":\"\"}},\"type\":\"scatterpolargl\"}],\"scatterpolar\":[{\"marker\":{\"colorbar\":{\"outlinewidth\":0,\"ticks\":\"\"}},\"type\":\"scatterpolar\"}],\"scatter\":[{\"fillpattern\":{\"fillmode\":\"overlay\",\"size\":10,\"solidity\":0.2},\"type\":\"scatter\"}],\"scatterternary\":[{\"marker\":{\"colorbar\":{\"outlinewidth\":0,\"ticks\":\"\"}},\"type\":\"scatterternary\"}],\"surface\":[{\"colorbar\":{\"outlinewidth\":0,\"ticks\":\"\"},\"colorscale\":[[0.0,\"#0d0887\"],[0.1111111111111111,\"#46039f\"],[0.2222222222222222,\"#7201a8\"],[0.3333333333333333,\"#9c179e\"],[0.4444444444444444,\"#bd3786\"],[0.5555555555555556,\"#d8576b\"],[0.6666666666666666,\"#ed7953\"],[0.7777777777777778,\"#fb9f3a\"],[0.8888888888888888,\"#fdca26\"],[1.0,\"#f0f921\"]],\"type\":\"surface\"}],\"table\":[{\"cells\":{\"fill\":{\"color\":\"#EBF0F8\"},\"line\":{\"color\":\"white\"}},\"header\":{\"fill\":{\"color\":\"#C8D4E3\"},\"line\":{\"color\":\"white\"}},\"type\":\"table\"}]},\"layout\":{\"annotationdefaults\":{\"arrowcolor\":\"#2a3f5f\",\"arrowhead\":0,\"arrowwidth\":1},\"autotypenumbers\":\"strict\",\"coloraxis\":{\"colorbar\":{\"outlinewidth\":0,\"ticks\":\"\"}},\"colorscale\":{\"diverging\":[[0,\"#8e0152\"],[0.1,\"#c51b7d\"],[0.2,\"#de77ae\"],[0.3,\"#f1b6da\"],[0.4,\"#fde0ef\"],[0.5,\"#f7f7f7\"],[0.6,\"#e6f5d0\"],[0.7,\"#b8e186\"],[0.8,\"#7fbc41\"],[0.9,\"#4d9221\"],[1,\"#276419\"]],\"sequential\":[[0.0,\"#0d0887\"],[0.1111111111111111,\"#46039f\"],[0.2222222222222222,\"#7201a8\"],[0.3333333333333333,\"#9c179e\"],[0.4444444444444444,\"#bd3786\"],[0.5555555555555556,\"#d8576b\"],[0.6666666666666666,\"#ed7953\"],[0.7777777777777778,\"#fb9f3a\"],[0.8888888888888888,\"#fdca26\"],[1.0,\"#f0f921\"]],\"sequentialminus\":[[0.0,\"#0d0887\"],[0.1111111111111111,\"#46039f\"],[0.2222222222222222,\"#7201a8\"],[0.3333333333333333,\"#9c179e\"],[0.4444444444444444,\"#bd3786\"],[0.5555555555555556,\"#d8576b\"],[0.6666666666666666,\"#ed7953\"],[0.7777777777777778,\"#fb9f3a\"],[0.8888888888888888,\"#fdca26\"],[1.0,\"#f0f921\"]]},\"colorway\":[\"#636efa\",\"#EF553B\",\"#00cc96\",\"#ab63fa\",\"#FFA15A\",\"#19d3f3\",\"#FF6692\",\"#B6E880\",\"#FF97FF\",\"#FECB52\"],\"font\":{\"color\":\"#2a3f5f\"},\"geo\":{\"bgcolor\":\"white\",\"lakecolor\":\"white\",\"landcolor\":\"#E5ECF6\",\"showlakes\":true,\"showland\":true,\"subunitcolor\":\"white\"},\"hoverlabel\":{\"align\":\"left\"},\"hovermode\":\"closest\",\"mapbox\":{\"style\":\"light\"},\"paper_bgcolor\":\"white\",\"plot_bgcolor\":\"#E5ECF6\",\"polar\":{\"angularaxis\":{\"gridcolor\":\"white\",\"linecolor\":\"white\",\"ticks\":\"\"},\"bgcolor\":\"#E5ECF6\",\"radialaxis\":{\"gridcolor\":\"white\",\"linecolor\":\"white\",\"ticks\":\"\"}},\"scene\":{\"xaxis\":{\"backgroundcolor\":\"#E5ECF6\",\"gridcolor\":\"white\",\"gridwidth\":2,\"linecolor\":\"white\",\"showbackground\":true,\"ticks\":\"\",\"zerolinecolor\":\"white\"},\"yaxis\":{\"backgroundcolor\":\"#E5ECF6\",\"gridcolor\":\"white\",\"gridwidth\":2,\"linecolor\":\"white\",\"showbackground\":true,\"ticks\":\"\",\"zerolinecolor\":\"white\"},\"zaxis\":{\"backgroundcolor\":\"#E5ECF6\",\"gridcolor\":\"white\",\"gridwidth\":2,\"linecolor\":\"white\",\"showbackground\":true,\"ticks\":\"\",\"zerolinecolor\":\"white\"}},\"shapedefaults\":{\"line\":{\"color\":\"#2a3f5f\"}},\"ternary\":{\"aaxis\":{\"gridcolor\":\"white\",\"linecolor\":\"white\",\"ticks\":\"\"},\"baxis\":{\"gridcolor\":\"white\",\"linecolor\":\"white\",\"ticks\":\"\"},\"bgcolor\":\"#E5ECF6\",\"caxis\":{\"gridcolor\":\"white\",\"linecolor\":\"white\",\"ticks\":\"\"}},\"title\":{\"x\":0.05},\"xaxis\":{\"automargin\":true,\"gridcolor\":\"white\",\"linecolor\":\"white\",\"ticks\":\"\",\"title\":{\"standoff\":15},\"zerolinecolor\":\"white\",\"zerolinewidth\":2},\"yaxis\":{\"automargin\":true,\"gridcolor\":\"white\",\"linecolor\":\"white\",\"ticks\":\"\",\"title\":{\"standoff\":15},\"zerolinecolor\":\"white\",\"zerolinewidth\":2}}},\"title\":{\"font\":{\"color\":\"#D9D9D9\"},\"text\":\"Candle Chart\"},\"xaxis\":{\"gridcolor\":\"#434343\",\"rangeslider\":{\"visible\":false},\"showgrid\":true,\"tickfont\":{\"color\":\"#C2C2C2\"},\"title\":{\"font\":{\"color\":\"#D9D9D9\"},\"text\":\"\"},\"zerolinecolor\":\"#666570\"},\"yaxis\":{\"gridcolor\":\"#434343\",\"showgrid\":true,\"showticklabels\":false,\"tickfont\":{\"color\":\"#C2C2C2\"},\"title\":{\"font\":{\"color\":\"#D9D9D9\"},\"text\":\"\"},\"zerolinecolor\":\"#666570\"},\"yaxis2\":{\"gridcolor\":\"#434343\",\"showgrid\":true,\"tickfont\":{\"color\":\"#C2C2C2\"},\"title\":{\"font\":{\"color\":\"#D9D9D9\"},\"text\":\"\"},\"zerolinecolor\":\"#666570\"}},                        {\"showLink\": true, \"linkText\": \"Export to plot.ly\", \"plotlyServerURL\": \"https://plot.ly\", \"responsive\": true}                    ).then(function(){\n",
       "                            \n",
       "var gd = document.getElementById('29a2485c-e7b4-4269-b300-427e918f36e8');\n",
       "var x = new MutationObserver(function (mutations, observer) {{\n",
       "        var display = window.getComputedStyle(gd).display;\n",
       "        if (!display || display === 'none') {{\n",
       "            console.log([gd, 'removed!']);\n",
       "            Plotly.purge(gd);\n",
       "            observer.disconnect();\n",
       "        }}\n",
       "}});\n",
       "\n",
       "// Listen for the removal of the full notebook cells\n",
       "var notebookContainer = gd.closest('#notebook-container');\n",
       "if (notebookContainer) {{\n",
       "    x.observe(notebookContainer, {childList: true});\n",
       "}}\n",
       "\n",
       "// Listen for the clearing of the current output cell\n",
       "var outputEl = gd.closest('.output');\n",
       "if (outputEl) {{\n",
       "    x.observe(outputEl, {childList: true});\n",
       "}}\n",
       "\n",
       "                        })                };                });            </script>        </div>"
      ]
     },
     "metadata": {},
     "output_type": "display_data"
    }
   ],
   "source": [
    "df3[-30:].iplot(kind='candle', title='Candle Chart')"
   ]
  },
  {
   "cell_type": "code",
   "execution_count": 21,
   "id": "708352d7-cce9-4eef-9848-f506036505ce",
   "metadata": {},
   "outputs": [
    {
     "data": {
      "application/vnd.plotly.v1+json": {
       "config": {
        "linkText": "Export to plot.ly",
        "plotlyServerURL": "https://plot.ly",
        "showLink": true
       },
       "data": [
        {
         "line": {
          "color": "rgba(255, 153, 51, 1.0)",
          "dash": "solid",
          "shape": "linear",
          "width": 1.3
         },
         "mode": "lines",
         "name": "GS",
         "text": "",
         "type": "scatter",
         "x": [
          "2023-01-03 00:00:00-05:00",
          "2023-01-04 00:00:00-05:00",
          "2023-01-05 00:00:00-05:00",
          "2023-01-06 00:00:00-05:00",
          "2023-01-09 00:00:00-05:00",
          "2023-01-10 00:00:00-05:00",
          "2023-01-11 00:00:00-05:00",
          "2023-01-12 00:00:00-05:00",
          "2023-01-13 00:00:00-05:00",
          "2023-01-17 00:00:00-05:00",
          "2023-01-18 00:00:00-05:00",
          "2023-01-19 00:00:00-05:00",
          "2023-01-20 00:00:00-05:00",
          "2023-01-23 00:00:00-05:00",
          "2023-01-24 00:00:00-05:00",
          "2023-01-25 00:00:00-05:00",
          "2023-01-26 00:00:00-05:00",
          "2023-01-27 00:00:00-05:00",
          "2023-01-30 00:00:00-05:00",
          "2023-01-31 00:00:00-05:00",
          "2023-02-01 00:00:00-05:00",
          "2023-02-02 00:00:00-05:00",
          "2023-02-03 00:00:00-05:00",
          "2023-02-06 00:00:00-05:00",
          "2023-02-07 00:00:00-05:00",
          "2023-02-08 00:00:00-05:00",
          "2023-02-09 00:00:00-05:00",
          "2023-02-10 00:00:00-05:00",
          "2023-02-13 00:00:00-05:00",
          "2023-02-14 00:00:00-05:00",
          "2023-02-15 00:00:00-05:00",
          "2023-02-16 00:00:00-05:00",
          "2023-02-17 00:00:00-05:00",
          "2023-02-21 00:00:00-05:00",
          "2023-02-22 00:00:00-05:00",
          "2023-02-23 00:00:00-05:00",
          "2023-02-24 00:00:00-05:00",
          "2023-02-27 00:00:00-05:00",
          "2023-02-28 00:00:00-05:00",
          "2023-03-01 00:00:00-05:00",
          "2023-03-02 00:00:00-05:00",
          "2023-03-03 00:00:00-05:00",
          "2023-03-06 00:00:00-05:00",
          "2023-03-07 00:00:00-05:00",
          "2023-03-08 00:00:00-05:00",
          "2023-03-09 00:00:00-05:00",
          "2023-03-10 00:00:00-05:00",
          "2023-03-13 00:00:00-04:00",
          "2023-03-14 00:00:00-04:00",
          "2023-03-15 00:00:00-04:00",
          "2023-03-16 00:00:00-04:00",
          "2023-03-17 00:00:00-04:00",
          "2023-03-20 00:00:00-04:00",
          "2023-03-21 00:00:00-04:00",
          "2023-03-22 00:00:00-04:00",
          "2023-03-23 00:00:00-04:00",
          "2023-03-24 00:00:00-04:00",
          "2023-03-27 00:00:00-04:00",
          "2023-03-28 00:00:00-04:00",
          "2023-03-29 00:00:00-04:00",
          "2023-03-30 00:00:00-04:00",
          "2023-03-31 00:00:00-04:00",
          "2023-04-03 00:00:00-04:00",
          "2023-04-04 00:00:00-04:00",
          "2023-04-05 00:00:00-04:00",
          "2023-04-06 00:00:00-04:00",
          "2023-04-10 00:00:00-04:00",
          "2023-04-11 00:00:00-04:00",
          "2023-04-12 00:00:00-04:00",
          "2023-04-13 00:00:00-04:00",
          "2023-04-14 00:00:00-04:00",
          "2023-04-17 00:00:00-04:00",
          "2023-04-18 00:00:00-04:00",
          "2023-04-19 00:00:00-04:00",
          "2023-04-20 00:00:00-04:00",
          "2023-04-21 00:00:00-04:00",
          "2023-04-24 00:00:00-04:00",
          "2023-04-25 00:00:00-04:00",
          "2023-04-26 00:00:00-04:00",
          "2023-04-27 00:00:00-04:00",
          "2023-04-28 00:00:00-04:00",
          "2023-05-01 00:00:00-04:00",
          "2023-05-02 00:00:00-04:00",
          "2023-05-03 00:00:00-04:00",
          "2023-05-04 00:00:00-04:00",
          "2023-05-05 00:00:00-04:00",
          "2023-05-08 00:00:00-04:00",
          "2023-05-09 00:00:00-04:00",
          "2023-05-10 00:00:00-04:00",
          "2023-05-11 00:00:00-04:00",
          "2023-05-12 00:00:00-04:00",
          "2023-05-15 00:00:00-04:00",
          "2023-05-16 00:00:00-04:00",
          "2023-05-17 00:00:00-04:00",
          "2023-05-18 00:00:00-04:00",
          "2023-05-19 00:00:00-04:00",
          "2023-05-22 00:00:00-04:00",
          "2023-05-23 00:00:00-04:00",
          "2023-05-24 00:00:00-04:00",
          "2023-05-25 00:00:00-04:00",
          "2023-05-26 00:00:00-04:00",
          "2023-05-30 00:00:00-04:00",
          "2023-05-31 00:00:00-04:00",
          "2023-06-01 00:00:00-04:00",
          "2023-06-02 00:00:00-04:00",
          "2023-06-05 00:00:00-04:00",
          "2023-06-06 00:00:00-04:00",
          "2023-06-07 00:00:00-04:00",
          "2023-06-08 00:00:00-04:00",
          "2023-06-09 00:00:00-04:00",
          "2023-06-12 00:00:00-04:00",
          "2023-06-13 00:00:00-04:00",
          "2023-06-14 00:00:00-04:00",
          "2023-06-15 00:00:00-04:00",
          "2023-06-16 00:00:00-04:00",
          "2023-06-20 00:00:00-04:00",
          "2023-06-21 00:00:00-04:00",
          "2023-06-22 00:00:00-04:00",
          "2023-06-23 00:00:00-04:00",
          "2023-06-26 00:00:00-04:00",
          "2023-06-27 00:00:00-04:00",
          "2023-06-28 00:00:00-04:00",
          "2023-06-29 00:00:00-04:00",
          "2023-06-30 00:00:00-04:00"
         ],
         "y": [
          341.160888671875,
          342.6192932128906,
          338.7368469238281,
          342.99371337890625,
          347.8418273925781,
          352.13812255859375,
          359.15411376953125,
          364.5343017578125,
          368.53497314453125,
          344.8068542480469,
          343.9889831542969,
          345.6247253417969,
          336.84490966796875,
          344.0382385253906,
          343.2400817871094,
          344.5210876464844,
          349.7830505371094,
          348.5316162109375,
          352.2366638183594,
          360.4646301269531,
          360.3660888671875,
          364.0711669921875,
          364.5441589355469,
          365.3817443847656,
          368.9291076660156,
          369.618896484375,
          362.61279296875,
          365.854736328125,
          368.5546569824219,
          366.347412109375,
          368.8699951171875,
          364.7904968261719,
          363.1153259277344,
          355.84320068359375,
          355.6165771484375,
          358.22784423828125,
          358.5332946777344,
          360.1887512207031,
          346.5115661621094,
          343.6136474609375,
          346.4619445800781,
          354.3915710449219,
          354.35186767578125,
          343.4647521972656,
          346.6505126953125,
          339.5049133300781,
          325.19390869140625,
          313.12579345703125,
          319.715576171875,
          309.83087158203125,
          312.7089538574219,
          301.2462463378906,
          307.1909484863281,
          314.88238525390625,
          311.2996826171875,
          312.47076416015625,
          310.2080078125,
          316.1229553222656,
          316.03363037109375,
          318.2964172363281,
          318.7132568359375,
          324.6380920410156,
          324.05255126953125,
          320.2118225097656,
          319.10028076171875,
          319.9637145996094,
          322.5043640136719,
          324.8961486816406,
          327.74444580078125,
          329.62017822265625,
          334.3739929199219,
          337.1131286621094,
          331.38671875,
          334.34423828125,
          336.15045166015625,
          339.0781555175781,
          341.36077880859375,
          336.9146423339844,
          334.0166931152344,
          339.01861572265625,
          340.8447265625,
          337.99639892578125,
          330.8507995605469,
          326.1664733886719,
          318.83233642578125,
          324.5487976074219,
          324.04266357421875,
          322.3157958984375,
          320.112548828125,
          318.2964172363281,
          317.08563232421875,
          319.6361999511719,
          318.3857116699219,
          327.6849060058594,
          327.0894470214844,
          323.68536376953125,
          322.4646911621094,
          321.1248779296875,
          317.3932800292969,
          321.4325256347656,
          329.5010986328125,
          328.3299865722656,
          323.8999938964844,
          316.3999938964844,
          323.6499938964844,
          321.80999755859375,
          326.79998779296875,
          335.75,
          335.4700012207031,
          336.0199890136719,
          339.489990234375,
          342.5,
          338.4200134277344,
          339.739990234375,
          338.30999755859375,
          330.7200012207031,
          325.07000732421875,
          319.5799865722656,
          314.7099914550781,
          312.3599853515625,
          313.45001220703125,
          313.6600036621094,
          323.0899963378906,
          324.1534118652344
         ]
        },
        {
         "line": {
          "color": "rgba(55, 128, 191, 1.0)",
          "dash": "solid",
          "shape": "linear",
          "width": 1.3
         },
         "mode": "lines",
         "name": "HD",
         "text": "",
         "type": "scatter",
         "x": [
          "2023-01-03 00:00:00-05:00",
          "2023-01-04 00:00:00-05:00",
          "2023-01-05 00:00:00-05:00",
          "2023-01-06 00:00:00-05:00",
          "2023-01-09 00:00:00-05:00",
          "2023-01-10 00:00:00-05:00",
          "2023-01-11 00:00:00-05:00",
          "2023-01-12 00:00:00-05:00",
          "2023-01-13 00:00:00-05:00",
          "2023-01-17 00:00:00-05:00",
          "2023-01-18 00:00:00-05:00",
          "2023-01-19 00:00:00-05:00",
          "2023-01-20 00:00:00-05:00",
          "2023-01-23 00:00:00-05:00",
          "2023-01-24 00:00:00-05:00",
          "2023-01-25 00:00:00-05:00",
          "2023-01-26 00:00:00-05:00",
          "2023-01-27 00:00:00-05:00",
          "2023-01-30 00:00:00-05:00",
          "2023-01-31 00:00:00-05:00",
          "2023-02-01 00:00:00-05:00",
          "2023-02-02 00:00:00-05:00",
          "2023-02-03 00:00:00-05:00",
          "2023-02-06 00:00:00-05:00",
          "2023-02-07 00:00:00-05:00",
          "2023-02-08 00:00:00-05:00",
          "2023-02-09 00:00:00-05:00",
          "2023-02-10 00:00:00-05:00",
          "2023-02-13 00:00:00-05:00",
          "2023-02-14 00:00:00-05:00",
          "2023-02-15 00:00:00-05:00",
          "2023-02-16 00:00:00-05:00",
          "2023-02-17 00:00:00-05:00",
          "2023-02-21 00:00:00-05:00",
          "2023-02-22 00:00:00-05:00",
          "2023-02-23 00:00:00-05:00",
          "2023-02-24 00:00:00-05:00",
          "2023-02-27 00:00:00-05:00",
          "2023-02-28 00:00:00-05:00",
          "2023-03-01 00:00:00-05:00",
          "2023-03-02 00:00:00-05:00",
          "2023-03-03 00:00:00-05:00",
          "2023-03-06 00:00:00-05:00",
          "2023-03-07 00:00:00-05:00",
          "2023-03-08 00:00:00-05:00",
          "2023-03-09 00:00:00-05:00",
          "2023-03-10 00:00:00-05:00",
          "2023-03-13 00:00:00-04:00",
          "2023-03-14 00:00:00-04:00",
          "2023-03-15 00:00:00-04:00",
          "2023-03-16 00:00:00-04:00",
          "2023-03-17 00:00:00-04:00",
          "2023-03-20 00:00:00-04:00",
          "2023-03-21 00:00:00-04:00",
          "2023-03-22 00:00:00-04:00",
          "2023-03-23 00:00:00-04:00",
          "2023-03-24 00:00:00-04:00",
          "2023-03-27 00:00:00-04:00",
          "2023-03-28 00:00:00-04:00",
          "2023-03-29 00:00:00-04:00",
          "2023-03-30 00:00:00-04:00",
          "2023-03-31 00:00:00-04:00",
          "2023-04-03 00:00:00-04:00",
          "2023-04-04 00:00:00-04:00",
          "2023-04-05 00:00:00-04:00",
          "2023-04-06 00:00:00-04:00",
          "2023-04-10 00:00:00-04:00",
          "2023-04-11 00:00:00-04:00",
          "2023-04-12 00:00:00-04:00",
          "2023-04-13 00:00:00-04:00",
          "2023-04-14 00:00:00-04:00",
          "2023-04-17 00:00:00-04:00",
          "2023-04-18 00:00:00-04:00",
          "2023-04-19 00:00:00-04:00",
          "2023-04-20 00:00:00-04:00",
          "2023-04-21 00:00:00-04:00",
          "2023-04-24 00:00:00-04:00",
          "2023-04-25 00:00:00-04:00",
          "2023-04-26 00:00:00-04:00",
          "2023-04-27 00:00:00-04:00",
          "2023-04-28 00:00:00-04:00",
          "2023-05-01 00:00:00-04:00",
          "2023-05-02 00:00:00-04:00",
          "2023-05-03 00:00:00-04:00",
          "2023-05-04 00:00:00-04:00",
          "2023-05-05 00:00:00-04:00",
          "2023-05-08 00:00:00-04:00",
          "2023-05-09 00:00:00-04:00",
          "2023-05-10 00:00:00-04:00",
          "2023-05-11 00:00:00-04:00",
          "2023-05-12 00:00:00-04:00",
          "2023-05-15 00:00:00-04:00",
          "2023-05-16 00:00:00-04:00",
          "2023-05-17 00:00:00-04:00",
          "2023-05-18 00:00:00-04:00",
          "2023-05-19 00:00:00-04:00",
          "2023-05-22 00:00:00-04:00",
          "2023-05-23 00:00:00-04:00",
          "2023-05-24 00:00:00-04:00",
          "2023-05-25 00:00:00-04:00",
          "2023-05-26 00:00:00-04:00",
          "2023-05-30 00:00:00-04:00",
          "2023-05-31 00:00:00-04:00",
          "2023-06-01 00:00:00-04:00",
          "2023-06-02 00:00:00-04:00",
          "2023-06-05 00:00:00-04:00",
          "2023-06-06 00:00:00-04:00",
          "2023-06-07 00:00:00-04:00",
          "2023-06-08 00:00:00-04:00",
          "2023-06-09 00:00:00-04:00",
          "2023-06-12 00:00:00-04:00",
          "2023-06-13 00:00:00-04:00",
          "2023-06-14 00:00:00-04:00",
          "2023-06-15 00:00:00-04:00",
          "2023-06-16 00:00:00-04:00",
          "2023-06-20 00:00:00-04:00",
          "2023-06-21 00:00:00-04:00",
          "2023-06-22 00:00:00-04:00",
          "2023-06-23 00:00:00-04:00",
          "2023-06-26 00:00:00-04:00",
          "2023-06-27 00:00:00-04:00",
          "2023-06-28 00:00:00-04:00",
          "2023-06-29 00:00:00-04:00",
          "2023-06-30 00:00:00-04:00"
         ],
         "xaxis": "x",
         "y": [
          311.39697265625,
          315.1623840332031,
          310.9632568359375,
          312.9938049316406,
          313.26983642578125,
          316.0495300292969,
          324.2999572753906,
          325.15753173828125,
          326.4783630371094,
          322.8509521484375,
          319.0657958984375,
          306.4388427734375,
          310.4999694824219,
          310.9731140136719,
          313.15155029296875,
          312.7276611328125,
          309.3269348144531,
          312.16583251953125,
          309.7508239746094,
          319.5389709472656,
          323.4029541015625,
          334.935791015625,
          326.76422119140625,
          324.5660705566406,
          320.55426025390625,
          316.207275390625,
          311.0420837402344,
          312.0179748535156,
          318.9081115722656,
          313.8809509277344,
          316.1086730957031,
          316.6507873535156,
          313.4078369140625,
          291.2785339355469,
          292.0671081542969,
          295.03411865234375,
          292.4219665527344,
          291.78125,
          292.3036804199219,
          286.6358337402344,
          288.8339538574219,
          294.1864013671875,
          293.9497985839844,
          286.547119140625,
          289.406494140625,
          285.94146728515625,
          284.2635192871094,
          284.4720153808594,
          283.5288391113281,
          285.91168212890625,
          284.6805419921875,
          286.32867431640625,
          287.19244384765625,
          287.3612365722656,
          280.5899658203125,
          281.8807067871094,
          280.9970397949219,
          279.2595520019531,
          278.8127746582031,
          281.3345947265625,
          283.3203125,
          293.01055908203125,
          295.6019287109375,
          292.8516845703125,
          286.606689453125,
          286.5470886230469,
          289.08880615234375,
          291.6701965332031,
          288.364013671875,
          290.0617980957031,
          290.10150146484375,
          293.2885437011719,
          296.8132019042969,
          294.78778076171875,
          296.4359130859375,
          297.8954162597656,
          299.4839782714844,
          294.2119140625,
          286.0109558105469,
          291.8290710449219,
          298.3918151855469,
          295.5721435546875,
          292.17657470703125,
          290.9851379394531,
          283.7075500488281,
          287.54986572265625,
          285.8719482421875,
          288.50299072265625,
          286.9640808105469,
          285.6336669921875,
          288.393798828125,
          286.47760009765625,
          280.3119812011719,
          290.3000793457031,
          293.05029296875,
          288.8008728027344,
          288.58245849609375,
          292.83184814453125,
          289.019287109375,
          284.70037841796875,
          290.7369079589844,
          290.30999755859375,
          283.45001220703125,
          288.3900146484375,
          295.94000244140625,
          293.1000061035156,
          296,
          301.70001220703125,
          301.0899963378906,
          297.3500061035156,
          300.8599853515625,
          300.0799865722656,
          299.7099914550781,
          302.0199890136719,
          300.3800048828125,
          301.4100036621094,
          300.70001220703125,
          301.17999267578125,
          300.80999755859375,
          307.8900146484375,
          313.739990234375,
          306.510009765625,
          307.82000732421875,
          309.94000244140625
         ],
         "yaxis": "y2"
        }
       ],
       "layout": {
        "autosize": true,
        "legend": {
         "bgcolor": "#151516",
         "font": {
          "color": "#D9D9D9"
         }
        },
        "paper_bgcolor": "#151516",
        "plot_bgcolor": "#151516",
        "template": {
         "data": {
          "bar": [
           {
            "error_x": {
             "color": "#2a3f5f"
            },
            "error_y": {
             "color": "#2a3f5f"
            },
            "marker": {
             "line": {
              "color": "#E5ECF6",
              "width": 0.5
             },
             "pattern": {
              "fillmode": "overlay",
              "size": 10,
              "solidity": 0.2
             }
            },
            "type": "bar"
           }
          ],
          "barpolar": [
           {
            "marker": {
             "line": {
              "color": "#E5ECF6",
              "width": 0.5
             },
             "pattern": {
              "fillmode": "overlay",
              "size": 10,
              "solidity": 0.2
             }
            },
            "type": "barpolar"
           }
          ],
          "carpet": [
           {
            "aaxis": {
             "endlinecolor": "#2a3f5f",
             "gridcolor": "white",
             "linecolor": "white",
             "minorgridcolor": "white",
             "startlinecolor": "#2a3f5f"
            },
            "baxis": {
             "endlinecolor": "#2a3f5f",
             "gridcolor": "white",
             "linecolor": "white",
             "minorgridcolor": "white",
             "startlinecolor": "#2a3f5f"
            },
            "type": "carpet"
           }
          ],
          "choropleth": [
           {
            "colorbar": {
             "outlinewidth": 0,
             "ticks": ""
            },
            "type": "choropleth"
           }
          ],
          "contour": [
           {
            "colorbar": {
             "outlinewidth": 0,
             "ticks": ""
            },
            "colorscale": [
             [
              0,
              "#0d0887"
             ],
             [
              0.1111111111111111,
              "#46039f"
             ],
             [
              0.2222222222222222,
              "#7201a8"
             ],
             [
              0.3333333333333333,
              "#9c179e"
             ],
             [
              0.4444444444444444,
              "#bd3786"
             ],
             [
              0.5555555555555556,
              "#d8576b"
             ],
             [
              0.6666666666666666,
              "#ed7953"
             ],
             [
              0.7777777777777778,
              "#fb9f3a"
             ],
             [
              0.8888888888888888,
              "#fdca26"
             ],
             [
              1,
              "#f0f921"
             ]
            ],
            "type": "contour"
           }
          ],
          "contourcarpet": [
           {
            "colorbar": {
             "outlinewidth": 0,
             "ticks": ""
            },
            "type": "contourcarpet"
           }
          ],
          "heatmap": [
           {
            "colorbar": {
             "outlinewidth": 0,
             "ticks": ""
            },
            "colorscale": [
             [
              0,
              "#0d0887"
             ],
             [
              0.1111111111111111,
              "#46039f"
             ],
             [
              0.2222222222222222,
              "#7201a8"
             ],
             [
              0.3333333333333333,
              "#9c179e"
             ],
             [
              0.4444444444444444,
              "#bd3786"
             ],
             [
              0.5555555555555556,
              "#d8576b"
             ],
             [
              0.6666666666666666,
              "#ed7953"
             ],
             [
              0.7777777777777778,
              "#fb9f3a"
             ],
             [
              0.8888888888888888,
              "#fdca26"
             ],
             [
              1,
              "#f0f921"
             ]
            ],
            "type": "heatmap"
           }
          ],
          "heatmapgl": [
           {
            "colorbar": {
             "outlinewidth": 0,
             "ticks": ""
            },
            "colorscale": [
             [
              0,
              "#0d0887"
             ],
             [
              0.1111111111111111,
              "#46039f"
             ],
             [
              0.2222222222222222,
              "#7201a8"
             ],
             [
              0.3333333333333333,
              "#9c179e"
             ],
             [
              0.4444444444444444,
              "#bd3786"
             ],
             [
              0.5555555555555556,
              "#d8576b"
             ],
             [
              0.6666666666666666,
              "#ed7953"
             ],
             [
              0.7777777777777778,
              "#fb9f3a"
             ],
             [
              0.8888888888888888,
              "#fdca26"
             ],
             [
              1,
              "#f0f921"
             ]
            ],
            "type": "heatmapgl"
           }
          ],
          "histogram": [
           {
            "marker": {
             "pattern": {
              "fillmode": "overlay",
              "size": 10,
              "solidity": 0.2
             }
            },
            "type": "histogram"
           }
          ],
          "histogram2d": [
           {
            "colorbar": {
             "outlinewidth": 0,
             "ticks": ""
            },
            "colorscale": [
             [
              0,
              "#0d0887"
             ],
             [
              0.1111111111111111,
              "#46039f"
             ],
             [
              0.2222222222222222,
              "#7201a8"
             ],
             [
              0.3333333333333333,
              "#9c179e"
             ],
             [
              0.4444444444444444,
              "#bd3786"
             ],
             [
              0.5555555555555556,
              "#d8576b"
             ],
             [
              0.6666666666666666,
              "#ed7953"
             ],
             [
              0.7777777777777778,
              "#fb9f3a"
             ],
             [
              0.8888888888888888,
              "#fdca26"
             ],
             [
              1,
              "#f0f921"
             ]
            ],
            "type": "histogram2d"
           }
          ],
          "histogram2dcontour": [
           {
            "colorbar": {
             "outlinewidth": 0,
             "ticks": ""
            },
            "colorscale": [
             [
              0,
              "#0d0887"
             ],
             [
              0.1111111111111111,
              "#46039f"
             ],
             [
              0.2222222222222222,
              "#7201a8"
             ],
             [
              0.3333333333333333,
              "#9c179e"
             ],
             [
              0.4444444444444444,
              "#bd3786"
             ],
             [
              0.5555555555555556,
              "#d8576b"
             ],
             [
              0.6666666666666666,
              "#ed7953"
             ],
             [
              0.7777777777777778,
              "#fb9f3a"
             ],
             [
              0.8888888888888888,
              "#fdca26"
             ],
             [
              1,
              "#f0f921"
             ]
            ],
            "type": "histogram2dcontour"
           }
          ],
          "mesh3d": [
           {
            "colorbar": {
             "outlinewidth": 0,
             "ticks": ""
            },
            "type": "mesh3d"
           }
          ],
          "parcoords": [
           {
            "line": {
             "colorbar": {
              "outlinewidth": 0,
              "ticks": ""
             }
            },
            "type": "parcoords"
           }
          ],
          "pie": [
           {
            "automargin": true,
            "type": "pie"
           }
          ],
          "scatter": [
           {
            "fillpattern": {
             "fillmode": "overlay",
             "size": 10,
             "solidity": 0.2
            },
            "type": "scatter"
           }
          ],
          "scatter3d": [
           {
            "line": {
             "colorbar": {
              "outlinewidth": 0,
              "ticks": ""
             }
            },
            "marker": {
             "colorbar": {
              "outlinewidth": 0,
              "ticks": ""
             }
            },
            "type": "scatter3d"
           }
          ],
          "scattercarpet": [
           {
            "marker": {
             "colorbar": {
              "outlinewidth": 0,
              "ticks": ""
             }
            },
            "type": "scattercarpet"
           }
          ],
          "scattergeo": [
           {
            "marker": {
             "colorbar": {
              "outlinewidth": 0,
              "ticks": ""
             }
            },
            "type": "scattergeo"
           }
          ],
          "scattergl": [
           {
            "marker": {
             "colorbar": {
              "outlinewidth": 0,
              "ticks": ""
             }
            },
            "type": "scattergl"
           }
          ],
          "scattermapbox": [
           {
            "marker": {
             "colorbar": {
              "outlinewidth": 0,
              "ticks": ""
             }
            },
            "type": "scattermapbox"
           }
          ],
          "scatterpolar": [
           {
            "marker": {
             "colorbar": {
              "outlinewidth": 0,
              "ticks": ""
             }
            },
            "type": "scatterpolar"
           }
          ],
          "scatterpolargl": [
           {
            "marker": {
             "colorbar": {
              "outlinewidth": 0,
              "ticks": ""
             }
            },
            "type": "scatterpolargl"
           }
          ],
          "scatterternary": [
           {
            "marker": {
             "colorbar": {
              "outlinewidth": 0,
              "ticks": ""
             }
            },
            "type": "scatterternary"
           }
          ],
          "surface": [
           {
            "colorbar": {
             "outlinewidth": 0,
             "ticks": ""
            },
            "colorscale": [
             [
              0,
              "#0d0887"
             ],
             [
              0.1111111111111111,
              "#46039f"
             ],
             [
              0.2222222222222222,
              "#7201a8"
             ],
             [
              0.3333333333333333,
              "#9c179e"
             ],
             [
              0.4444444444444444,
              "#bd3786"
             ],
             [
              0.5555555555555556,
              "#d8576b"
             ],
             [
              0.6666666666666666,
              "#ed7953"
             ],
             [
              0.7777777777777778,
              "#fb9f3a"
             ],
             [
              0.8888888888888888,
              "#fdca26"
             ],
             [
              1,
              "#f0f921"
             ]
            ],
            "type": "surface"
           }
          ],
          "table": [
           {
            "cells": {
             "fill": {
              "color": "#EBF0F8"
             },
             "line": {
              "color": "white"
             }
            },
            "header": {
             "fill": {
              "color": "#C8D4E3"
             },
             "line": {
              "color": "white"
             }
            },
            "type": "table"
           }
          ]
         },
         "layout": {
          "annotationdefaults": {
           "arrowcolor": "#2a3f5f",
           "arrowhead": 0,
           "arrowwidth": 1
          },
          "autotypenumbers": "strict",
          "coloraxis": {
           "colorbar": {
            "outlinewidth": 0,
            "ticks": ""
           }
          },
          "colorscale": {
           "diverging": [
            [
             0,
             "#8e0152"
            ],
            [
             0.1,
             "#c51b7d"
            ],
            [
             0.2,
             "#de77ae"
            ],
            [
             0.3,
             "#f1b6da"
            ],
            [
             0.4,
             "#fde0ef"
            ],
            [
             0.5,
             "#f7f7f7"
            ],
            [
             0.6,
             "#e6f5d0"
            ],
            [
             0.7,
             "#b8e186"
            ],
            [
             0.8,
             "#7fbc41"
            ],
            [
             0.9,
             "#4d9221"
            ],
            [
             1,
             "#276419"
            ]
           ],
           "sequential": [
            [
             0,
             "#0d0887"
            ],
            [
             0.1111111111111111,
             "#46039f"
            ],
            [
             0.2222222222222222,
             "#7201a8"
            ],
            [
             0.3333333333333333,
             "#9c179e"
            ],
            [
             0.4444444444444444,
             "#bd3786"
            ],
            [
             0.5555555555555556,
             "#d8576b"
            ],
            [
             0.6666666666666666,
             "#ed7953"
            ],
            [
             0.7777777777777778,
             "#fb9f3a"
            ],
            [
             0.8888888888888888,
             "#fdca26"
            ],
            [
             1,
             "#f0f921"
            ]
           ],
           "sequentialminus": [
            [
             0,
             "#0d0887"
            ],
            [
             0.1111111111111111,
             "#46039f"
            ],
            [
             0.2222222222222222,
             "#7201a8"
            ],
            [
             0.3333333333333333,
             "#9c179e"
            ],
            [
             0.4444444444444444,
             "#bd3786"
            ],
            [
             0.5555555555555556,
             "#d8576b"
            ],
            [
             0.6666666666666666,
             "#ed7953"
            ],
            [
             0.7777777777777778,
             "#fb9f3a"
            ],
            [
             0.8888888888888888,
             "#fdca26"
            ],
            [
             1,
             "#f0f921"
            ]
           ]
          },
          "colorway": [
           "#636efa",
           "#EF553B",
           "#00cc96",
           "#ab63fa",
           "#FFA15A",
           "#19d3f3",
           "#FF6692",
           "#B6E880",
           "#FF97FF",
           "#FECB52"
          ],
          "font": {
           "color": "#2a3f5f"
          },
          "geo": {
           "bgcolor": "white",
           "lakecolor": "white",
           "landcolor": "#E5ECF6",
           "showlakes": true,
           "showland": true,
           "subunitcolor": "white"
          },
          "hoverlabel": {
           "align": "left"
          },
          "hovermode": "closest",
          "mapbox": {
           "style": "light"
          },
          "paper_bgcolor": "white",
          "plot_bgcolor": "#E5ECF6",
          "polar": {
           "angularaxis": {
            "gridcolor": "white",
            "linecolor": "white",
            "ticks": ""
           },
           "bgcolor": "#E5ECF6",
           "radialaxis": {
            "gridcolor": "white",
            "linecolor": "white",
            "ticks": ""
           }
          },
          "scene": {
           "xaxis": {
            "backgroundcolor": "#E5ECF6",
            "gridcolor": "white",
            "gridwidth": 2,
            "linecolor": "white",
            "showbackground": true,
            "ticks": "",
            "zerolinecolor": "white"
           },
           "yaxis": {
            "backgroundcolor": "#E5ECF6",
            "gridcolor": "white",
            "gridwidth": 2,
            "linecolor": "white",
            "showbackground": true,
            "ticks": "",
            "zerolinecolor": "white"
           },
           "zaxis": {
            "backgroundcolor": "#E5ECF6",
            "gridcolor": "white",
            "gridwidth": 2,
            "linecolor": "white",
            "showbackground": true,
            "ticks": "",
            "zerolinecolor": "white"
           }
          },
          "shapedefaults": {
           "line": {
            "color": "#2a3f5f"
           }
          },
          "ternary": {
           "aaxis": {
            "gridcolor": "white",
            "linecolor": "white",
            "ticks": ""
           },
           "baxis": {
            "gridcolor": "white",
            "linecolor": "white",
            "ticks": ""
           },
           "bgcolor": "#E5ECF6",
           "caxis": {
            "gridcolor": "white",
            "linecolor": "white",
            "ticks": ""
           }
          },
          "title": {
           "x": 0.05
          },
          "xaxis": {
           "automargin": true,
           "gridcolor": "white",
           "linecolor": "white",
           "ticks": "",
           "title": {
            "standoff": 15
           },
           "zerolinecolor": "white",
           "zerolinewidth": 2
          },
          "yaxis": {
           "automargin": true,
           "gridcolor": "white",
           "linecolor": "white",
           "ticks": "",
           "title": {
            "standoff": 15
           },
           "zerolinecolor": "white",
           "zerolinewidth": 2
          }
         }
        },
        "title": {
         "font": {
          "color": "#D9D9D9"
         }
        },
        "xaxis": {
         "autorange": true,
         "gridcolor": "#434343",
         "range": [
          "2023-01-03",
          "2023-06-30"
         ],
         "showgrid": true,
         "tickfont": {
          "color": "#C2C2C2"
         },
         "title": {
          "font": {
           "color": "#D9D9D9"
          },
          "text": ""
         },
         "type": "date",
         "zerolinecolor": "#666570"
        },
        "yaxis": {
         "autorange": true,
         "gridcolor": "#434343",
         "range": [
          297.447765774197,
          373.4173770480686
         ],
         "showgrid": true,
         "tickfont": {
          "color": "#C2C2C2"
         },
         "title": {
          "font": {
           "color": "#D9D9D9"
          },
          "text": ""
         },
         "type": "linear",
         "zerolinecolor": "#666570"
        },
        "yaxis2": {
         "anchor": "x",
         "autorange": true,
         "gridcolor": "#434343",
         "overlaying": "y",
         "range": [
          275.694829305013,
          338.0537363688151
         ],
         "showgrid": true,
         "side": "right",
         "tickfont": {
          "color": "#C2C2C2"
         },
         "title": {
          "text": ""
         },
         "type": "linear",
         "zerolinecolor": "#666570"
        }
       }
      },
      "text/html": [
       "<div>                            <div id=\"7daf9b26-af7e-4024-99e1-1183ee66b758\" class=\"plotly-graph-div\" style=\"height:525px; width:100%;\"></div>            <script type=\"text/javascript\">                require([\"plotly\"], function(Plotly) {                    window.PLOTLYENV=window.PLOTLYENV || {};\n",
       "                    window.PLOTLYENV.BASE_URL='https://plot.ly';                                    if (document.getElementById(\"7daf9b26-af7e-4024-99e1-1183ee66b758\")) {                    Plotly.newPlot(                        \"7daf9b26-af7e-4024-99e1-1183ee66b758\",                        [{\"line\":{\"color\":\"rgba(255, 153, 51, 1.0)\",\"dash\":\"solid\",\"shape\":\"linear\",\"width\":1.3},\"mode\":\"lines\",\"name\":\"GS\",\"text\":\"\",\"x\":[\"2023-01-03 00:00:00-05:00\",\"2023-01-04 00:00:00-05:00\",\"2023-01-05 00:00:00-05:00\",\"2023-01-06 00:00:00-05:00\",\"2023-01-09 00:00:00-05:00\",\"2023-01-10 00:00:00-05:00\",\"2023-01-11 00:00:00-05:00\",\"2023-01-12 00:00:00-05:00\",\"2023-01-13 00:00:00-05:00\",\"2023-01-17 00:00:00-05:00\",\"2023-01-18 00:00:00-05:00\",\"2023-01-19 00:00:00-05:00\",\"2023-01-20 00:00:00-05:00\",\"2023-01-23 00:00:00-05:00\",\"2023-01-24 00:00:00-05:00\",\"2023-01-25 00:00:00-05:00\",\"2023-01-26 00:00:00-05:00\",\"2023-01-27 00:00:00-05:00\",\"2023-01-30 00:00:00-05:00\",\"2023-01-31 00:00:00-05:00\",\"2023-02-01 00:00:00-05:00\",\"2023-02-02 00:00:00-05:00\",\"2023-02-03 00:00:00-05:00\",\"2023-02-06 00:00:00-05:00\",\"2023-02-07 00:00:00-05:00\",\"2023-02-08 00:00:00-05:00\",\"2023-02-09 00:00:00-05:00\",\"2023-02-10 00:00:00-05:00\",\"2023-02-13 00:00:00-05:00\",\"2023-02-14 00:00:00-05:00\",\"2023-02-15 00:00:00-05:00\",\"2023-02-16 00:00:00-05:00\",\"2023-02-17 00:00:00-05:00\",\"2023-02-21 00:00:00-05:00\",\"2023-02-22 00:00:00-05:00\",\"2023-02-23 00:00:00-05:00\",\"2023-02-24 00:00:00-05:00\",\"2023-02-27 00:00:00-05:00\",\"2023-02-28 00:00:00-05:00\",\"2023-03-01 00:00:00-05:00\",\"2023-03-02 00:00:00-05:00\",\"2023-03-03 00:00:00-05:00\",\"2023-03-06 00:00:00-05:00\",\"2023-03-07 00:00:00-05:00\",\"2023-03-08 00:00:00-05:00\",\"2023-03-09 00:00:00-05:00\",\"2023-03-10 00:00:00-05:00\",\"2023-03-13 00:00:00-04:00\",\"2023-03-14 00:00:00-04:00\",\"2023-03-15 00:00:00-04:00\",\"2023-03-16 00:00:00-04:00\",\"2023-03-17 00:00:00-04:00\",\"2023-03-20 00:00:00-04:00\",\"2023-03-21 00:00:00-04:00\",\"2023-03-22 00:00:00-04:00\",\"2023-03-23 00:00:00-04:00\",\"2023-03-24 00:00:00-04:00\",\"2023-03-27 00:00:00-04:00\",\"2023-03-28 00:00:00-04:00\",\"2023-03-29 00:00:00-04:00\",\"2023-03-30 00:00:00-04:00\",\"2023-03-31 00:00:00-04:00\",\"2023-04-03 00:00:00-04:00\",\"2023-04-04 00:00:00-04:00\",\"2023-04-05 00:00:00-04:00\",\"2023-04-06 00:00:00-04:00\",\"2023-04-10 00:00:00-04:00\",\"2023-04-11 00:00:00-04:00\",\"2023-04-12 00:00:00-04:00\",\"2023-04-13 00:00:00-04:00\",\"2023-04-14 00:00:00-04:00\",\"2023-04-17 00:00:00-04:00\",\"2023-04-18 00:00:00-04:00\",\"2023-04-19 00:00:00-04:00\",\"2023-04-20 00:00:00-04:00\",\"2023-04-21 00:00:00-04:00\",\"2023-04-24 00:00:00-04:00\",\"2023-04-25 00:00:00-04:00\",\"2023-04-26 00:00:00-04:00\",\"2023-04-27 00:00:00-04:00\",\"2023-04-28 00:00:00-04:00\",\"2023-05-01 00:00:00-04:00\",\"2023-05-02 00:00:00-04:00\",\"2023-05-03 00:00:00-04:00\",\"2023-05-04 00:00:00-04:00\",\"2023-05-05 00:00:00-04:00\",\"2023-05-08 00:00:00-04:00\",\"2023-05-09 00:00:00-04:00\",\"2023-05-10 00:00:00-04:00\",\"2023-05-11 00:00:00-04:00\",\"2023-05-12 00:00:00-04:00\",\"2023-05-15 00:00:00-04:00\",\"2023-05-16 00:00:00-04:00\",\"2023-05-17 00:00:00-04:00\",\"2023-05-18 00:00:00-04:00\",\"2023-05-19 00:00:00-04:00\",\"2023-05-22 00:00:00-04:00\",\"2023-05-23 00:00:00-04:00\",\"2023-05-24 00:00:00-04:00\",\"2023-05-25 00:00:00-04:00\",\"2023-05-26 00:00:00-04:00\",\"2023-05-30 00:00:00-04:00\",\"2023-05-31 00:00:00-04:00\",\"2023-06-01 00:00:00-04:00\",\"2023-06-02 00:00:00-04:00\",\"2023-06-05 00:00:00-04:00\",\"2023-06-06 00:00:00-04:00\",\"2023-06-07 00:00:00-04:00\",\"2023-06-08 00:00:00-04:00\",\"2023-06-09 00:00:00-04:00\",\"2023-06-12 00:00:00-04:00\",\"2023-06-13 00:00:00-04:00\",\"2023-06-14 00:00:00-04:00\",\"2023-06-15 00:00:00-04:00\",\"2023-06-16 00:00:00-04:00\",\"2023-06-20 00:00:00-04:00\",\"2023-06-21 00:00:00-04:00\",\"2023-06-22 00:00:00-04:00\",\"2023-06-23 00:00:00-04:00\",\"2023-06-26 00:00:00-04:00\",\"2023-06-27 00:00:00-04:00\",\"2023-06-28 00:00:00-04:00\",\"2023-06-29 00:00:00-04:00\",\"2023-06-30 00:00:00-04:00\"],\"y\":[341.160888671875,342.6192932128906,338.7368469238281,342.99371337890625,347.8418273925781,352.13812255859375,359.15411376953125,364.5343017578125,368.53497314453125,344.8068542480469,343.9889831542969,345.6247253417969,336.84490966796875,344.0382385253906,343.2400817871094,344.5210876464844,349.7830505371094,348.5316162109375,352.2366638183594,360.4646301269531,360.3660888671875,364.0711669921875,364.5441589355469,365.3817443847656,368.9291076660156,369.618896484375,362.61279296875,365.854736328125,368.5546569824219,366.347412109375,368.8699951171875,364.7904968261719,363.1153259277344,355.84320068359375,355.6165771484375,358.22784423828125,358.5332946777344,360.1887512207031,346.5115661621094,343.6136474609375,346.4619445800781,354.3915710449219,354.35186767578125,343.4647521972656,346.6505126953125,339.5049133300781,325.19390869140625,313.12579345703125,319.715576171875,309.83087158203125,312.7089538574219,301.2462463378906,307.1909484863281,314.88238525390625,311.2996826171875,312.47076416015625,310.2080078125,316.1229553222656,316.03363037109375,318.2964172363281,318.7132568359375,324.6380920410156,324.05255126953125,320.2118225097656,319.10028076171875,319.9637145996094,322.5043640136719,324.8961486816406,327.74444580078125,329.62017822265625,334.3739929199219,337.1131286621094,331.38671875,334.34423828125,336.15045166015625,339.0781555175781,341.36077880859375,336.9146423339844,334.0166931152344,339.01861572265625,340.8447265625,337.99639892578125,330.8507995605469,326.1664733886719,318.83233642578125,324.5487976074219,324.04266357421875,322.3157958984375,320.112548828125,318.2964172363281,317.08563232421875,319.6361999511719,318.3857116699219,327.6849060058594,327.0894470214844,323.68536376953125,322.4646911621094,321.1248779296875,317.3932800292969,321.4325256347656,329.5010986328125,328.3299865722656,323.8999938964844,316.3999938964844,323.6499938964844,321.80999755859375,326.79998779296875,335.75,335.4700012207031,336.0199890136719,339.489990234375,342.5,338.4200134277344,339.739990234375,338.30999755859375,330.7200012207031,325.07000732421875,319.5799865722656,314.7099914550781,312.3599853515625,313.45001220703125,313.6600036621094,323.0899963378906,324.1534118652344],\"type\":\"scatter\"},{\"line\":{\"color\":\"rgba(55, 128, 191, 1.0)\",\"dash\":\"solid\",\"shape\":\"linear\",\"width\":1.3},\"mode\":\"lines\",\"name\":\"HD\",\"text\":\"\",\"x\":[\"2023-01-03 00:00:00-05:00\",\"2023-01-04 00:00:00-05:00\",\"2023-01-05 00:00:00-05:00\",\"2023-01-06 00:00:00-05:00\",\"2023-01-09 00:00:00-05:00\",\"2023-01-10 00:00:00-05:00\",\"2023-01-11 00:00:00-05:00\",\"2023-01-12 00:00:00-05:00\",\"2023-01-13 00:00:00-05:00\",\"2023-01-17 00:00:00-05:00\",\"2023-01-18 00:00:00-05:00\",\"2023-01-19 00:00:00-05:00\",\"2023-01-20 00:00:00-05:00\",\"2023-01-23 00:00:00-05:00\",\"2023-01-24 00:00:00-05:00\",\"2023-01-25 00:00:00-05:00\",\"2023-01-26 00:00:00-05:00\",\"2023-01-27 00:00:00-05:00\",\"2023-01-30 00:00:00-05:00\",\"2023-01-31 00:00:00-05:00\",\"2023-02-01 00:00:00-05:00\",\"2023-02-02 00:00:00-05:00\",\"2023-02-03 00:00:00-05:00\",\"2023-02-06 00:00:00-05:00\",\"2023-02-07 00:00:00-05:00\",\"2023-02-08 00:00:00-05:00\",\"2023-02-09 00:00:00-05:00\",\"2023-02-10 00:00:00-05:00\",\"2023-02-13 00:00:00-05:00\",\"2023-02-14 00:00:00-05:00\",\"2023-02-15 00:00:00-05:00\",\"2023-02-16 00:00:00-05:00\",\"2023-02-17 00:00:00-05:00\",\"2023-02-21 00:00:00-05:00\",\"2023-02-22 00:00:00-05:00\",\"2023-02-23 00:00:00-05:00\",\"2023-02-24 00:00:00-05:00\",\"2023-02-27 00:00:00-05:00\",\"2023-02-28 00:00:00-05:00\",\"2023-03-01 00:00:00-05:00\",\"2023-03-02 00:00:00-05:00\",\"2023-03-03 00:00:00-05:00\",\"2023-03-06 00:00:00-05:00\",\"2023-03-07 00:00:00-05:00\",\"2023-03-08 00:00:00-05:00\",\"2023-03-09 00:00:00-05:00\",\"2023-03-10 00:00:00-05:00\",\"2023-03-13 00:00:00-04:00\",\"2023-03-14 00:00:00-04:00\",\"2023-03-15 00:00:00-04:00\",\"2023-03-16 00:00:00-04:00\",\"2023-03-17 00:00:00-04:00\",\"2023-03-20 00:00:00-04:00\",\"2023-03-21 00:00:00-04:00\",\"2023-03-22 00:00:00-04:00\",\"2023-03-23 00:00:00-04:00\",\"2023-03-24 00:00:00-04:00\",\"2023-03-27 00:00:00-04:00\",\"2023-03-28 00:00:00-04:00\",\"2023-03-29 00:00:00-04:00\",\"2023-03-30 00:00:00-04:00\",\"2023-03-31 00:00:00-04:00\",\"2023-04-03 00:00:00-04:00\",\"2023-04-04 00:00:00-04:00\",\"2023-04-05 00:00:00-04:00\",\"2023-04-06 00:00:00-04:00\",\"2023-04-10 00:00:00-04:00\",\"2023-04-11 00:00:00-04:00\",\"2023-04-12 00:00:00-04:00\",\"2023-04-13 00:00:00-04:00\",\"2023-04-14 00:00:00-04:00\",\"2023-04-17 00:00:00-04:00\",\"2023-04-18 00:00:00-04:00\",\"2023-04-19 00:00:00-04:00\",\"2023-04-20 00:00:00-04:00\",\"2023-04-21 00:00:00-04:00\",\"2023-04-24 00:00:00-04:00\",\"2023-04-25 00:00:00-04:00\",\"2023-04-26 00:00:00-04:00\",\"2023-04-27 00:00:00-04:00\",\"2023-04-28 00:00:00-04:00\",\"2023-05-01 00:00:00-04:00\",\"2023-05-02 00:00:00-04:00\",\"2023-05-03 00:00:00-04:00\",\"2023-05-04 00:00:00-04:00\",\"2023-05-05 00:00:00-04:00\",\"2023-05-08 00:00:00-04:00\",\"2023-05-09 00:00:00-04:00\",\"2023-05-10 00:00:00-04:00\",\"2023-05-11 00:00:00-04:00\",\"2023-05-12 00:00:00-04:00\",\"2023-05-15 00:00:00-04:00\",\"2023-05-16 00:00:00-04:00\",\"2023-05-17 00:00:00-04:00\",\"2023-05-18 00:00:00-04:00\",\"2023-05-19 00:00:00-04:00\",\"2023-05-22 00:00:00-04:00\",\"2023-05-23 00:00:00-04:00\",\"2023-05-24 00:00:00-04:00\",\"2023-05-25 00:00:00-04:00\",\"2023-05-26 00:00:00-04:00\",\"2023-05-30 00:00:00-04:00\",\"2023-05-31 00:00:00-04:00\",\"2023-06-01 00:00:00-04:00\",\"2023-06-02 00:00:00-04:00\",\"2023-06-05 00:00:00-04:00\",\"2023-06-06 00:00:00-04:00\",\"2023-06-07 00:00:00-04:00\",\"2023-06-08 00:00:00-04:00\",\"2023-06-09 00:00:00-04:00\",\"2023-06-12 00:00:00-04:00\",\"2023-06-13 00:00:00-04:00\",\"2023-06-14 00:00:00-04:00\",\"2023-06-15 00:00:00-04:00\",\"2023-06-16 00:00:00-04:00\",\"2023-06-20 00:00:00-04:00\",\"2023-06-21 00:00:00-04:00\",\"2023-06-22 00:00:00-04:00\",\"2023-06-23 00:00:00-04:00\",\"2023-06-26 00:00:00-04:00\",\"2023-06-27 00:00:00-04:00\",\"2023-06-28 00:00:00-04:00\",\"2023-06-29 00:00:00-04:00\",\"2023-06-30 00:00:00-04:00\"],\"y\":[311.39697265625,315.1623840332031,310.9632568359375,312.9938049316406,313.26983642578125,316.0495300292969,324.2999572753906,325.15753173828125,326.4783630371094,322.8509521484375,319.0657958984375,306.4388427734375,310.4999694824219,310.9731140136719,313.15155029296875,312.7276611328125,309.3269348144531,312.16583251953125,309.7508239746094,319.5389709472656,323.4029541015625,334.935791015625,326.76422119140625,324.5660705566406,320.55426025390625,316.207275390625,311.0420837402344,312.0179748535156,318.9081115722656,313.8809509277344,316.1086730957031,316.6507873535156,313.4078369140625,291.2785339355469,292.0671081542969,295.03411865234375,292.4219665527344,291.78125,292.3036804199219,286.6358337402344,288.8339538574219,294.1864013671875,293.9497985839844,286.547119140625,289.406494140625,285.94146728515625,284.2635192871094,284.4720153808594,283.5288391113281,285.91168212890625,284.6805419921875,286.32867431640625,287.19244384765625,287.3612365722656,280.5899658203125,281.8807067871094,280.9970397949219,279.2595520019531,278.8127746582031,281.3345947265625,283.3203125,293.01055908203125,295.6019287109375,292.8516845703125,286.606689453125,286.5470886230469,289.08880615234375,291.6701965332031,288.364013671875,290.0617980957031,290.10150146484375,293.2885437011719,296.8132019042969,294.78778076171875,296.4359130859375,297.8954162597656,299.4839782714844,294.2119140625,286.0109558105469,291.8290710449219,298.3918151855469,295.5721435546875,292.17657470703125,290.9851379394531,283.7075500488281,287.54986572265625,285.8719482421875,288.50299072265625,286.9640808105469,285.6336669921875,288.393798828125,286.47760009765625,280.3119812011719,290.3000793457031,293.05029296875,288.8008728027344,288.58245849609375,292.83184814453125,289.019287109375,284.70037841796875,290.7369079589844,290.30999755859375,283.45001220703125,288.3900146484375,295.94000244140625,293.1000061035156,296.0,301.70001220703125,301.0899963378906,297.3500061035156,300.8599853515625,300.0799865722656,299.7099914550781,302.0199890136719,300.3800048828125,301.4100036621094,300.70001220703125,301.17999267578125,300.80999755859375,307.8900146484375,313.739990234375,306.510009765625,307.82000732421875,309.94000244140625],\"type\":\"scatter\",\"xaxis\":\"x\",\"yaxis\":\"y2\"}],                        {\"legend\":{\"bgcolor\":\"#151516\",\"font\":{\"color\":\"#D9D9D9\"}},\"paper_bgcolor\":\"#151516\",\"plot_bgcolor\":\"#151516\",\"title\":{\"font\":{\"color\":\"#D9D9D9\"}},\"xaxis\":{\"gridcolor\":\"#434343\",\"showgrid\":true,\"tickfont\":{\"color\":\"#C2C2C2\"},\"title\":{\"text\":\"\",\"font\":{\"color\":\"#D9D9D9\"}},\"zerolinecolor\":\"#666570\"},\"yaxis\":{\"gridcolor\":\"#434343\",\"showgrid\":true,\"tickfont\":{\"color\":\"#C2C2C2\"},\"title\":{\"text\":\"\",\"font\":{\"color\":\"#D9D9D9\"}},\"zerolinecolor\":\"#666570\"},\"template\":{\"data\":{\"histogram2dcontour\":[{\"type\":\"histogram2dcontour\",\"colorbar\":{\"outlinewidth\":0,\"ticks\":\"\"},\"colorscale\":[[0.0,\"#0d0887\"],[0.1111111111111111,\"#46039f\"],[0.2222222222222222,\"#7201a8\"],[0.3333333333333333,\"#9c179e\"],[0.4444444444444444,\"#bd3786\"],[0.5555555555555556,\"#d8576b\"],[0.6666666666666666,\"#ed7953\"],[0.7777777777777778,\"#fb9f3a\"],[0.8888888888888888,\"#fdca26\"],[1.0,\"#f0f921\"]]}],\"choropleth\":[{\"type\":\"choropleth\",\"colorbar\":{\"outlinewidth\":0,\"ticks\":\"\"}}],\"histogram2d\":[{\"type\":\"histogram2d\",\"colorbar\":{\"outlinewidth\":0,\"ticks\":\"\"},\"colorscale\":[[0.0,\"#0d0887\"],[0.1111111111111111,\"#46039f\"],[0.2222222222222222,\"#7201a8\"],[0.3333333333333333,\"#9c179e\"],[0.4444444444444444,\"#bd3786\"],[0.5555555555555556,\"#d8576b\"],[0.6666666666666666,\"#ed7953\"],[0.7777777777777778,\"#fb9f3a\"],[0.8888888888888888,\"#fdca26\"],[1.0,\"#f0f921\"]]}],\"heatmap\":[{\"type\":\"heatmap\",\"colorbar\":{\"outlinewidth\":0,\"ticks\":\"\"},\"colorscale\":[[0.0,\"#0d0887\"],[0.1111111111111111,\"#46039f\"],[0.2222222222222222,\"#7201a8\"],[0.3333333333333333,\"#9c179e\"],[0.4444444444444444,\"#bd3786\"],[0.5555555555555556,\"#d8576b\"],[0.6666666666666666,\"#ed7953\"],[0.7777777777777778,\"#fb9f3a\"],[0.8888888888888888,\"#fdca26\"],[1.0,\"#f0f921\"]]}],\"heatmapgl\":[{\"type\":\"heatmapgl\",\"colorbar\":{\"outlinewidth\":0,\"ticks\":\"\"},\"colorscale\":[[0.0,\"#0d0887\"],[0.1111111111111111,\"#46039f\"],[0.2222222222222222,\"#7201a8\"],[0.3333333333333333,\"#9c179e\"],[0.4444444444444444,\"#bd3786\"],[0.5555555555555556,\"#d8576b\"],[0.6666666666666666,\"#ed7953\"],[0.7777777777777778,\"#fb9f3a\"],[0.8888888888888888,\"#fdca26\"],[1.0,\"#f0f921\"]]}],\"contourcarpet\":[{\"type\":\"contourcarpet\",\"colorbar\":{\"outlinewidth\":0,\"ticks\":\"\"}}],\"contour\":[{\"type\":\"contour\",\"colorbar\":{\"outlinewidth\":0,\"ticks\":\"\"},\"colorscale\":[[0.0,\"#0d0887\"],[0.1111111111111111,\"#46039f\"],[0.2222222222222222,\"#7201a8\"],[0.3333333333333333,\"#9c179e\"],[0.4444444444444444,\"#bd3786\"],[0.5555555555555556,\"#d8576b\"],[0.6666666666666666,\"#ed7953\"],[0.7777777777777778,\"#fb9f3a\"],[0.8888888888888888,\"#fdca26\"],[1.0,\"#f0f921\"]]}],\"surface\":[{\"type\":\"surface\",\"colorbar\":{\"outlinewidth\":0,\"ticks\":\"\"},\"colorscale\":[[0.0,\"#0d0887\"],[0.1111111111111111,\"#46039f\"],[0.2222222222222222,\"#7201a8\"],[0.3333333333333333,\"#9c179e\"],[0.4444444444444444,\"#bd3786\"],[0.5555555555555556,\"#d8576b\"],[0.6666666666666666,\"#ed7953\"],[0.7777777777777778,\"#fb9f3a\"],[0.8888888888888888,\"#fdca26\"],[1.0,\"#f0f921\"]]}],\"mesh3d\":[{\"type\":\"mesh3d\",\"colorbar\":{\"outlinewidth\":0,\"ticks\":\"\"}}],\"scatter\":[{\"fillpattern\":{\"fillmode\":\"overlay\",\"size\":10,\"solidity\":0.2},\"type\":\"scatter\"}],\"parcoords\":[{\"type\":\"parcoords\",\"line\":{\"colorbar\":{\"outlinewidth\":0,\"ticks\":\"\"}}}],\"scatterpolargl\":[{\"type\":\"scatterpolargl\",\"marker\":{\"colorbar\":{\"outlinewidth\":0,\"ticks\":\"\"}}}],\"bar\":[{\"error_x\":{\"color\":\"#2a3f5f\"},\"error_y\":{\"color\":\"#2a3f5f\"},\"marker\":{\"line\":{\"color\":\"#E5ECF6\",\"width\":0.5},\"pattern\":{\"fillmode\":\"overlay\",\"size\":10,\"solidity\":0.2}},\"type\":\"bar\"}],\"scattergeo\":[{\"type\":\"scattergeo\",\"marker\":{\"colorbar\":{\"outlinewidth\":0,\"ticks\":\"\"}}}],\"scatterpolar\":[{\"type\":\"scatterpolar\",\"marker\":{\"colorbar\":{\"outlinewidth\":0,\"ticks\":\"\"}}}],\"histogram\":[{\"marker\":{\"pattern\":{\"fillmode\":\"overlay\",\"size\":10,\"solidity\":0.2}},\"type\":\"histogram\"}],\"scattergl\":[{\"type\":\"scattergl\",\"marker\":{\"colorbar\":{\"outlinewidth\":0,\"ticks\":\"\"}}}],\"scatter3d\":[{\"type\":\"scatter3d\",\"line\":{\"colorbar\":{\"outlinewidth\":0,\"ticks\":\"\"}},\"marker\":{\"colorbar\":{\"outlinewidth\":0,\"ticks\":\"\"}}}],\"scattermapbox\":[{\"type\":\"scattermapbox\",\"marker\":{\"colorbar\":{\"outlinewidth\":0,\"ticks\":\"\"}}}],\"scatterternary\":[{\"type\":\"scatterternary\",\"marker\":{\"colorbar\":{\"outlinewidth\":0,\"ticks\":\"\"}}}],\"scattercarpet\":[{\"type\":\"scattercarpet\",\"marker\":{\"colorbar\":{\"outlinewidth\":0,\"ticks\":\"\"}}}],\"carpet\":[{\"aaxis\":{\"endlinecolor\":\"#2a3f5f\",\"gridcolor\":\"white\",\"linecolor\":\"white\",\"minorgridcolor\":\"white\",\"startlinecolor\":\"#2a3f5f\"},\"baxis\":{\"endlinecolor\":\"#2a3f5f\",\"gridcolor\":\"white\",\"linecolor\":\"white\",\"minorgridcolor\":\"white\",\"startlinecolor\":\"#2a3f5f\"},\"type\":\"carpet\"}],\"table\":[{\"cells\":{\"fill\":{\"color\":\"#EBF0F8\"},\"line\":{\"color\":\"white\"}},\"header\":{\"fill\":{\"color\":\"#C8D4E3\"},\"line\":{\"color\":\"white\"}},\"type\":\"table\"}],\"barpolar\":[{\"marker\":{\"line\":{\"color\":\"#E5ECF6\",\"width\":0.5},\"pattern\":{\"fillmode\":\"overlay\",\"size\":10,\"solidity\":0.2}},\"type\":\"barpolar\"}],\"pie\":[{\"automargin\":true,\"type\":\"pie\"}]},\"layout\":{\"autotypenumbers\":\"strict\",\"colorway\":[\"#636efa\",\"#EF553B\",\"#00cc96\",\"#ab63fa\",\"#FFA15A\",\"#19d3f3\",\"#FF6692\",\"#B6E880\",\"#FF97FF\",\"#FECB52\"],\"font\":{\"color\":\"#2a3f5f\"},\"hovermode\":\"closest\",\"hoverlabel\":{\"align\":\"left\"},\"paper_bgcolor\":\"white\",\"plot_bgcolor\":\"#E5ECF6\",\"polar\":{\"bgcolor\":\"#E5ECF6\",\"angularaxis\":{\"gridcolor\":\"white\",\"linecolor\":\"white\",\"ticks\":\"\"},\"radialaxis\":{\"gridcolor\":\"white\",\"linecolor\":\"white\",\"ticks\":\"\"}},\"ternary\":{\"bgcolor\":\"#E5ECF6\",\"aaxis\":{\"gridcolor\":\"white\",\"linecolor\":\"white\",\"ticks\":\"\"},\"baxis\":{\"gridcolor\":\"white\",\"linecolor\":\"white\",\"ticks\":\"\"},\"caxis\":{\"gridcolor\":\"white\",\"linecolor\":\"white\",\"ticks\":\"\"}},\"coloraxis\":{\"colorbar\":{\"outlinewidth\":0,\"ticks\":\"\"}},\"colorscale\":{\"sequential\":[[0.0,\"#0d0887\"],[0.1111111111111111,\"#46039f\"],[0.2222222222222222,\"#7201a8\"],[0.3333333333333333,\"#9c179e\"],[0.4444444444444444,\"#bd3786\"],[0.5555555555555556,\"#d8576b\"],[0.6666666666666666,\"#ed7953\"],[0.7777777777777778,\"#fb9f3a\"],[0.8888888888888888,\"#fdca26\"],[1.0,\"#f0f921\"]],\"sequentialminus\":[[0.0,\"#0d0887\"],[0.1111111111111111,\"#46039f\"],[0.2222222222222222,\"#7201a8\"],[0.3333333333333333,\"#9c179e\"],[0.4444444444444444,\"#bd3786\"],[0.5555555555555556,\"#d8576b\"],[0.6666666666666666,\"#ed7953\"],[0.7777777777777778,\"#fb9f3a\"],[0.8888888888888888,\"#fdca26\"],[1.0,\"#f0f921\"]],\"diverging\":[[0,\"#8e0152\"],[0.1,\"#c51b7d\"],[0.2,\"#de77ae\"],[0.3,\"#f1b6da\"],[0.4,\"#fde0ef\"],[0.5,\"#f7f7f7\"],[0.6,\"#e6f5d0\"],[0.7,\"#b8e186\"],[0.8,\"#7fbc41\"],[0.9,\"#4d9221\"],[1,\"#276419\"]]},\"xaxis\":{\"gridcolor\":\"white\",\"linecolor\":\"white\",\"ticks\":\"\",\"title\":{\"standoff\":15},\"zerolinecolor\":\"white\",\"automargin\":true,\"zerolinewidth\":2},\"yaxis\":{\"gridcolor\":\"white\",\"linecolor\":\"white\",\"ticks\":\"\",\"title\":{\"standoff\":15},\"zerolinecolor\":\"white\",\"automargin\":true,\"zerolinewidth\":2},\"scene\":{\"xaxis\":{\"backgroundcolor\":\"#E5ECF6\",\"gridcolor\":\"white\",\"linecolor\":\"white\",\"showbackground\":true,\"ticks\":\"\",\"zerolinecolor\":\"white\",\"gridwidth\":2},\"yaxis\":{\"backgroundcolor\":\"#E5ECF6\",\"gridcolor\":\"white\",\"linecolor\":\"white\",\"showbackground\":true,\"ticks\":\"\",\"zerolinecolor\":\"white\",\"gridwidth\":2},\"zaxis\":{\"backgroundcolor\":\"#E5ECF6\",\"gridcolor\":\"white\",\"linecolor\":\"white\",\"showbackground\":true,\"ticks\":\"\",\"zerolinecolor\":\"white\",\"gridwidth\":2}},\"shapedefaults\":{\"line\":{\"color\":\"#2a3f5f\"}},\"annotationdefaults\":{\"arrowcolor\":\"#2a3f5f\",\"arrowhead\":0,\"arrowwidth\":1},\"geo\":{\"bgcolor\":\"white\",\"landcolor\":\"#E5ECF6\",\"subunitcolor\":\"white\",\"showland\":true,\"showlakes\":true,\"lakecolor\":\"white\"},\"title\":{\"x\":0.05},\"mapbox\":{\"style\":\"light\"}}},\"yaxis2\":{\"anchor\":\"x\",\"gridcolor\":\"#434343\",\"overlaying\":\"y\",\"showgrid\":true,\"side\":\"right\",\"tickfont\":{\"color\":\"#C2C2C2\"},\"title\":{\"text\":\"\"},\"zerolinecolor\":\"#666570\"}},                        {\"showLink\": true, \"linkText\": \"Export to plot.ly\", \"plotlyServerURL\": \"https://plot.ly\", \"responsive\": true}                    ).then(function(){\n",
       "                            \n",
       "var gd = document.getElementById('7daf9b26-af7e-4024-99e1-1183ee66b758');\n",
       "var x = new MutationObserver(function (mutations, observer) {{\n",
       "        var display = window.getComputedStyle(gd).display;\n",
       "        if (!display || display === 'none') {{\n",
       "            console.log([gd, 'removed!']);\n",
       "            Plotly.purge(gd);\n",
       "            observer.disconnect();\n",
       "        }}\n",
       "}});\n",
       "\n",
       "// Listen for the removal of the full notebook cells\n",
       "var notebookContainer = gd.closest('#notebook-container');\n",
       "if (notebookContainer) {{\n",
       "    x.observe(notebookContainer, {childList: true});\n",
       "}}\n",
       "\n",
       "// Listen for the clearing of the current output cell\n",
       "var outputEl = gd.closest('.output');\n",
       "if (outputEl) {{\n",
       "    x.observe(outputEl, {childList: true});\n",
       "}}\n",
       "\n",
       "                        })                };                });            </script>        </div>"
      ]
     },
     "metadata": {},
     "output_type": "display_data"
    }
   ],
   "source": [
    "# Use secondary axis\n",
    "df4[['GS', 'HD']].iplot(secondary_y='HD')"
   ]
  },
  {
   "cell_type": "code",
   "execution_count": 22,
   "id": "18fdd977-8568-4a4b-8571-4e3a9785c062",
   "metadata": {},
   "outputs": [
    {
     "data": {
      "application/vnd.plotly.v1+json": {
       "config": {
        "linkText": "Export to plot.ly",
        "plotlyServerURL": "https://plot.ly",
        "showLink": true
       },
       "data": [
        {
         "line": {
          "color": "rgba(255, 153, 51, 1.0)",
          "dash": "solid",
          "shape": "linear",
          "width": 1.3
         },
         "mode": "lines",
         "name": "GS",
         "text": "",
         "type": "scatter",
         "x": [
          "2023-01-03 00:00:00-05:00",
          "2023-01-04 00:00:00-05:00",
          "2023-01-05 00:00:00-05:00",
          "2023-01-06 00:00:00-05:00",
          "2023-01-09 00:00:00-05:00",
          "2023-01-10 00:00:00-05:00",
          "2023-01-11 00:00:00-05:00",
          "2023-01-12 00:00:00-05:00",
          "2023-01-13 00:00:00-05:00",
          "2023-01-17 00:00:00-05:00",
          "2023-01-18 00:00:00-05:00",
          "2023-01-19 00:00:00-05:00",
          "2023-01-20 00:00:00-05:00",
          "2023-01-23 00:00:00-05:00",
          "2023-01-24 00:00:00-05:00",
          "2023-01-25 00:00:00-05:00",
          "2023-01-26 00:00:00-05:00",
          "2023-01-27 00:00:00-05:00",
          "2023-01-30 00:00:00-05:00",
          "2023-01-31 00:00:00-05:00",
          "2023-02-01 00:00:00-05:00",
          "2023-02-02 00:00:00-05:00",
          "2023-02-03 00:00:00-05:00",
          "2023-02-06 00:00:00-05:00",
          "2023-02-07 00:00:00-05:00",
          "2023-02-08 00:00:00-05:00",
          "2023-02-09 00:00:00-05:00",
          "2023-02-10 00:00:00-05:00",
          "2023-02-13 00:00:00-05:00",
          "2023-02-14 00:00:00-05:00",
          "2023-02-15 00:00:00-05:00",
          "2023-02-16 00:00:00-05:00",
          "2023-02-17 00:00:00-05:00",
          "2023-02-21 00:00:00-05:00",
          "2023-02-22 00:00:00-05:00",
          "2023-02-23 00:00:00-05:00",
          "2023-02-24 00:00:00-05:00",
          "2023-02-27 00:00:00-05:00",
          "2023-02-28 00:00:00-05:00",
          "2023-03-01 00:00:00-05:00",
          "2023-03-02 00:00:00-05:00",
          "2023-03-03 00:00:00-05:00",
          "2023-03-06 00:00:00-05:00",
          "2023-03-07 00:00:00-05:00",
          "2023-03-08 00:00:00-05:00",
          "2023-03-09 00:00:00-05:00",
          "2023-03-10 00:00:00-05:00",
          "2023-03-13 00:00:00-04:00",
          "2023-03-14 00:00:00-04:00",
          "2023-03-15 00:00:00-04:00",
          "2023-03-16 00:00:00-04:00",
          "2023-03-17 00:00:00-04:00",
          "2023-03-20 00:00:00-04:00",
          "2023-03-21 00:00:00-04:00",
          "2023-03-22 00:00:00-04:00",
          "2023-03-23 00:00:00-04:00",
          "2023-03-24 00:00:00-04:00",
          "2023-03-27 00:00:00-04:00",
          "2023-03-28 00:00:00-04:00",
          "2023-03-29 00:00:00-04:00",
          "2023-03-30 00:00:00-04:00",
          "2023-03-31 00:00:00-04:00",
          "2023-04-03 00:00:00-04:00",
          "2023-04-04 00:00:00-04:00",
          "2023-04-05 00:00:00-04:00",
          "2023-04-06 00:00:00-04:00",
          "2023-04-10 00:00:00-04:00",
          "2023-04-11 00:00:00-04:00",
          "2023-04-12 00:00:00-04:00",
          "2023-04-13 00:00:00-04:00",
          "2023-04-14 00:00:00-04:00",
          "2023-04-17 00:00:00-04:00",
          "2023-04-18 00:00:00-04:00",
          "2023-04-19 00:00:00-04:00",
          "2023-04-20 00:00:00-04:00",
          "2023-04-21 00:00:00-04:00",
          "2023-04-24 00:00:00-04:00",
          "2023-04-25 00:00:00-04:00",
          "2023-04-26 00:00:00-04:00",
          "2023-04-27 00:00:00-04:00",
          "2023-04-28 00:00:00-04:00",
          "2023-05-01 00:00:00-04:00",
          "2023-05-02 00:00:00-04:00",
          "2023-05-03 00:00:00-04:00",
          "2023-05-04 00:00:00-04:00",
          "2023-05-05 00:00:00-04:00",
          "2023-05-08 00:00:00-04:00",
          "2023-05-09 00:00:00-04:00",
          "2023-05-10 00:00:00-04:00",
          "2023-05-11 00:00:00-04:00",
          "2023-05-12 00:00:00-04:00",
          "2023-05-15 00:00:00-04:00",
          "2023-05-16 00:00:00-04:00",
          "2023-05-17 00:00:00-04:00",
          "2023-05-18 00:00:00-04:00",
          "2023-05-19 00:00:00-04:00",
          "2023-05-22 00:00:00-04:00",
          "2023-05-23 00:00:00-04:00",
          "2023-05-24 00:00:00-04:00",
          "2023-05-25 00:00:00-04:00",
          "2023-05-26 00:00:00-04:00",
          "2023-05-30 00:00:00-04:00",
          "2023-05-31 00:00:00-04:00",
          "2023-06-01 00:00:00-04:00",
          "2023-06-02 00:00:00-04:00",
          "2023-06-05 00:00:00-04:00",
          "2023-06-06 00:00:00-04:00",
          "2023-06-07 00:00:00-04:00",
          "2023-06-08 00:00:00-04:00",
          "2023-06-09 00:00:00-04:00",
          "2023-06-12 00:00:00-04:00",
          "2023-06-13 00:00:00-04:00",
          "2023-06-14 00:00:00-04:00",
          "2023-06-15 00:00:00-04:00",
          "2023-06-16 00:00:00-04:00",
          "2023-06-20 00:00:00-04:00",
          "2023-06-21 00:00:00-04:00",
          "2023-06-22 00:00:00-04:00",
          "2023-06-23 00:00:00-04:00",
          "2023-06-26 00:00:00-04:00",
          "2023-06-27 00:00:00-04:00",
          "2023-06-28 00:00:00-04:00",
          "2023-06-29 00:00:00-04:00",
          "2023-06-30 00:00:00-04:00"
         ],
         "xaxis": "x",
         "y": [
          341.160888671875,
          342.6192932128906,
          338.7368469238281,
          342.99371337890625,
          347.8418273925781,
          352.13812255859375,
          359.15411376953125,
          364.5343017578125,
          368.53497314453125,
          344.8068542480469,
          343.9889831542969,
          345.6247253417969,
          336.84490966796875,
          344.0382385253906,
          343.2400817871094,
          344.5210876464844,
          349.7830505371094,
          348.5316162109375,
          352.2366638183594,
          360.4646301269531,
          360.3660888671875,
          364.0711669921875,
          364.5441589355469,
          365.3817443847656,
          368.9291076660156,
          369.618896484375,
          362.61279296875,
          365.854736328125,
          368.5546569824219,
          366.347412109375,
          368.8699951171875,
          364.7904968261719,
          363.1153259277344,
          355.84320068359375,
          355.6165771484375,
          358.22784423828125,
          358.5332946777344,
          360.1887512207031,
          346.5115661621094,
          343.6136474609375,
          346.4619445800781,
          354.3915710449219,
          354.35186767578125,
          343.4647521972656,
          346.6505126953125,
          339.5049133300781,
          325.19390869140625,
          313.12579345703125,
          319.715576171875,
          309.83087158203125,
          312.7089538574219,
          301.2462463378906,
          307.1909484863281,
          314.88238525390625,
          311.2996826171875,
          312.47076416015625,
          310.2080078125,
          316.1229553222656,
          316.03363037109375,
          318.2964172363281,
          318.7132568359375,
          324.6380920410156,
          324.05255126953125,
          320.2118225097656,
          319.10028076171875,
          319.9637145996094,
          322.5043640136719,
          324.8961486816406,
          327.74444580078125,
          329.62017822265625,
          334.3739929199219,
          337.1131286621094,
          331.38671875,
          334.34423828125,
          336.15045166015625,
          339.0781555175781,
          341.36077880859375,
          336.9146423339844,
          334.0166931152344,
          339.01861572265625,
          340.8447265625,
          337.99639892578125,
          330.8507995605469,
          326.1664733886719,
          318.83233642578125,
          324.5487976074219,
          324.04266357421875,
          322.3157958984375,
          320.112548828125,
          318.2964172363281,
          317.08563232421875,
          319.6361999511719,
          318.3857116699219,
          327.6849060058594,
          327.0894470214844,
          323.68536376953125,
          322.4646911621094,
          321.1248779296875,
          317.3932800292969,
          321.4325256347656,
          329.5010986328125,
          328.3299865722656,
          323.8999938964844,
          316.3999938964844,
          323.6499938964844,
          321.80999755859375,
          326.79998779296875,
          335.75,
          335.4700012207031,
          336.0199890136719,
          339.489990234375,
          342.5,
          338.4200134277344,
          339.739990234375,
          338.30999755859375,
          330.7200012207031,
          325.07000732421875,
          319.5799865722656,
          314.7099914550781,
          312.3599853515625,
          313.45001220703125,
          313.6600036621094,
          323.0899963378906,
          324.1534118652344
         ],
         "yaxis": "y"
        },
        {
         "line": {
          "color": "rgba(55, 128, 191, 1.0)",
          "dash": "solid",
          "shape": "linear",
          "width": 1.3
         },
         "mode": "lines",
         "name": "HD",
         "text": "",
         "type": "scatter",
         "x": [
          "2023-01-03 00:00:00-05:00",
          "2023-01-04 00:00:00-05:00",
          "2023-01-05 00:00:00-05:00",
          "2023-01-06 00:00:00-05:00",
          "2023-01-09 00:00:00-05:00",
          "2023-01-10 00:00:00-05:00",
          "2023-01-11 00:00:00-05:00",
          "2023-01-12 00:00:00-05:00",
          "2023-01-13 00:00:00-05:00",
          "2023-01-17 00:00:00-05:00",
          "2023-01-18 00:00:00-05:00",
          "2023-01-19 00:00:00-05:00",
          "2023-01-20 00:00:00-05:00",
          "2023-01-23 00:00:00-05:00",
          "2023-01-24 00:00:00-05:00",
          "2023-01-25 00:00:00-05:00",
          "2023-01-26 00:00:00-05:00",
          "2023-01-27 00:00:00-05:00",
          "2023-01-30 00:00:00-05:00",
          "2023-01-31 00:00:00-05:00",
          "2023-02-01 00:00:00-05:00",
          "2023-02-02 00:00:00-05:00",
          "2023-02-03 00:00:00-05:00",
          "2023-02-06 00:00:00-05:00",
          "2023-02-07 00:00:00-05:00",
          "2023-02-08 00:00:00-05:00",
          "2023-02-09 00:00:00-05:00",
          "2023-02-10 00:00:00-05:00",
          "2023-02-13 00:00:00-05:00",
          "2023-02-14 00:00:00-05:00",
          "2023-02-15 00:00:00-05:00",
          "2023-02-16 00:00:00-05:00",
          "2023-02-17 00:00:00-05:00",
          "2023-02-21 00:00:00-05:00",
          "2023-02-22 00:00:00-05:00",
          "2023-02-23 00:00:00-05:00",
          "2023-02-24 00:00:00-05:00",
          "2023-02-27 00:00:00-05:00",
          "2023-02-28 00:00:00-05:00",
          "2023-03-01 00:00:00-05:00",
          "2023-03-02 00:00:00-05:00",
          "2023-03-03 00:00:00-05:00",
          "2023-03-06 00:00:00-05:00",
          "2023-03-07 00:00:00-05:00",
          "2023-03-08 00:00:00-05:00",
          "2023-03-09 00:00:00-05:00",
          "2023-03-10 00:00:00-05:00",
          "2023-03-13 00:00:00-04:00",
          "2023-03-14 00:00:00-04:00",
          "2023-03-15 00:00:00-04:00",
          "2023-03-16 00:00:00-04:00",
          "2023-03-17 00:00:00-04:00",
          "2023-03-20 00:00:00-04:00",
          "2023-03-21 00:00:00-04:00",
          "2023-03-22 00:00:00-04:00",
          "2023-03-23 00:00:00-04:00",
          "2023-03-24 00:00:00-04:00",
          "2023-03-27 00:00:00-04:00",
          "2023-03-28 00:00:00-04:00",
          "2023-03-29 00:00:00-04:00",
          "2023-03-30 00:00:00-04:00",
          "2023-03-31 00:00:00-04:00",
          "2023-04-03 00:00:00-04:00",
          "2023-04-04 00:00:00-04:00",
          "2023-04-05 00:00:00-04:00",
          "2023-04-06 00:00:00-04:00",
          "2023-04-10 00:00:00-04:00",
          "2023-04-11 00:00:00-04:00",
          "2023-04-12 00:00:00-04:00",
          "2023-04-13 00:00:00-04:00",
          "2023-04-14 00:00:00-04:00",
          "2023-04-17 00:00:00-04:00",
          "2023-04-18 00:00:00-04:00",
          "2023-04-19 00:00:00-04:00",
          "2023-04-20 00:00:00-04:00",
          "2023-04-21 00:00:00-04:00",
          "2023-04-24 00:00:00-04:00",
          "2023-04-25 00:00:00-04:00",
          "2023-04-26 00:00:00-04:00",
          "2023-04-27 00:00:00-04:00",
          "2023-04-28 00:00:00-04:00",
          "2023-05-01 00:00:00-04:00",
          "2023-05-02 00:00:00-04:00",
          "2023-05-03 00:00:00-04:00",
          "2023-05-04 00:00:00-04:00",
          "2023-05-05 00:00:00-04:00",
          "2023-05-08 00:00:00-04:00",
          "2023-05-09 00:00:00-04:00",
          "2023-05-10 00:00:00-04:00",
          "2023-05-11 00:00:00-04:00",
          "2023-05-12 00:00:00-04:00",
          "2023-05-15 00:00:00-04:00",
          "2023-05-16 00:00:00-04:00",
          "2023-05-17 00:00:00-04:00",
          "2023-05-18 00:00:00-04:00",
          "2023-05-19 00:00:00-04:00",
          "2023-05-22 00:00:00-04:00",
          "2023-05-23 00:00:00-04:00",
          "2023-05-24 00:00:00-04:00",
          "2023-05-25 00:00:00-04:00",
          "2023-05-26 00:00:00-04:00",
          "2023-05-30 00:00:00-04:00",
          "2023-05-31 00:00:00-04:00",
          "2023-06-01 00:00:00-04:00",
          "2023-06-02 00:00:00-04:00",
          "2023-06-05 00:00:00-04:00",
          "2023-06-06 00:00:00-04:00",
          "2023-06-07 00:00:00-04:00",
          "2023-06-08 00:00:00-04:00",
          "2023-06-09 00:00:00-04:00",
          "2023-06-12 00:00:00-04:00",
          "2023-06-13 00:00:00-04:00",
          "2023-06-14 00:00:00-04:00",
          "2023-06-15 00:00:00-04:00",
          "2023-06-16 00:00:00-04:00",
          "2023-06-20 00:00:00-04:00",
          "2023-06-21 00:00:00-04:00",
          "2023-06-22 00:00:00-04:00",
          "2023-06-23 00:00:00-04:00",
          "2023-06-26 00:00:00-04:00",
          "2023-06-27 00:00:00-04:00",
          "2023-06-28 00:00:00-04:00",
          "2023-06-29 00:00:00-04:00",
          "2023-06-30 00:00:00-04:00"
         ],
         "xaxis": "x2",
         "y": [
          311.39697265625,
          315.1623840332031,
          310.9632568359375,
          312.9938049316406,
          313.26983642578125,
          316.0495300292969,
          324.2999572753906,
          325.15753173828125,
          326.4783630371094,
          322.8509521484375,
          319.0657958984375,
          306.4388427734375,
          310.4999694824219,
          310.9731140136719,
          313.15155029296875,
          312.7276611328125,
          309.3269348144531,
          312.16583251953125,
          309.7508239746094,
          319.5389709472656,
          323.4029541015625,
          334.935791015625,
          326.76422119140625,
          324.5660705566406,
          320.55426025390625,
          316.207275390625,
          311.0420837402344,
          312.0179748535156,
          318.9081115722656,
          313.8809509277344,
          316.1086730957031,
          316.6507873535156,
          313.4078369140625,
          291.2785339355469,
          292.0671081542969,
          295.03411865234375,
          292.4219665527344,
          291.78125,
          292.3036804199219,
          286.6358337402344,
          288.8339538574219,
          294.1864013671875,
          293.9497985839844,
          286.547119140625,
          289.406494140625,
          285.94146728515625,
          284.2635192871094,
          284.4720153808594,
          283.5288391113281,
          285.91168212890625,
          284.6805419921875,
          286.32867431640625,
          287.19244384765625,
          287.3612365722656,
          280.5899658203125,
          281.8807067871094,
          280.9970397949219,
          279.2595520019531,
          278.8127746582031,
          281.3345947265625,
          283.3203125,
          293.01055908203125,
          295.6019287109375,
          292.8516845703125,
          286.606689453125,
          286.5470886230469,
          289.08880615234375,
          291.6701965332031,
          288.364013671875,
          290.0617980957031,
          290.10150146484375,
          293.2885437011719,
          296.8132019042969,
          294.78778076171875,
          296.4359130859375,
          297.8954162597656,
          299.4839782714844,
          294.2119140625,
          286.0109558105469,
          291.8290710449219,
          298.3918151855469,
          295.5721435546875,
          292.17657470703125,
          290.9851379394531,
          283.7075500488281,
          287.54986572265625,
          285.8719482421875,
          288.50299072265625,
          286.9640808105469,
          285.6336669921875,
          288.393798828125,
          286.47760009765625,
          280.3119812011719,
          290.3000793457031,
          293.05029296875,
          288.8008728027344,
          288.58245849609375,
          292.83184814453125,
          289.019287109375,
          284.70037841796875,
          290.7369079589844,
          290.30999755859375,
          283.45001220703125,
          288.3900146484375,
          295.94000244140625,
          293.1000061035156,
          296,
          301.70001220703125,
          301.0899963378906,
          297.3500061035156,
          300.8599853515625,
          300.0799865722656,
          299.7099914550781,
          302.0199890136719,
          300.3800048828125,
          301.4100036621094,
          300.70001220703125,
          301.17999267578125,
          300.80999755859375,
          307.8900146484375,
          313.739990234375,
          306.510009765625,
          307.82000732421875,
          309.94000244140625
         ],
         "yaxis": "y2"
        }
       ],
       "layout": {
        "autosize": true,
        "legend": {
         "bgcolor": "#151516",
         "font": {
          "color": "#D9D9D9"
         }
        },
        "paper_bgcolor": "#151516",
        "plot_bgcolor": "#151516",
        "template": {
         "data": {
          "bar": [
           {
            "error_x": {
             "color": "#2a3f5f"
            },
            "error_y": {
             "color": "#2a3f5f"
            },
            "marker": {
             "line": {
              "color": "#E5ECF6",
              "width": 0.5
             },
             "pattern": {
              "fillmode": "overlay",
              "size": 10,
              "solidity": 0.2
             }
            },
            "type": "bar"
           }
          ],
          "barpolar": [
           {
            "marker": {
             "line": {
              "color": "#E5ECF6",
              "width": 0.5
             },
             "pattern": {
              "fillmode": "overlay",
              "size": 10,
              "solidity": 0.2
             }
            },
            "type": "barpolar"
           }
          ],
          "carpet": [
           {
            "aaxis": {
             "endlinecolor": "#2a3f5f",
             "gridcolor": "white",
             "linecolor": "white",
             "minorgridcolor": "white",
             "startlinecolor": "#2a3f5f"
            },
            "baxis": {
             "endlinecolor": "#2a3f5f",
             "gridcolor": "white",
             "linecolor": "white",
             "minorgridcolor": "white",
             "startlinecolor": "#2a3f5f"
            },
            "type": "carpet"
           }
          ],
          "choropleth": [
           {
            "colorbar": {
             "outlinewidth": 0,
             "ticks": ""
            },
            "type": "choropleth"
           }
          ],
          "contour": [
           {
            "colorbar": {
             "outlinewidth": 0,
             "ticks": ""
            },
            "colorscale": [
             [
              0,
              "#0d0887"
             ],
             [
              0.1111111111111111,
              "#46039f"
             ],
             [
              0.2222222222222222,
              "#7201a8"
             ],
             [
              0.3333333333333333,
              "#9c179e"
             ],
             [
              0.4444444444444444,
              "#bd3786"
             ],
             [
              0.5555555555555556,
              "#d8576b"
             ],
             [
              0.6666666666666666,
              "#ed7953"
             ],
             [
              0.7777777777777778,
              "#fb9f3a"
             ],
             [
              0.8888888888888888,
              "#fdca26"
             ],
             [
              1,
              "#f0f921"
             ]
            ],
            "type": "contour"
           }
          ],
          "contourcarpet": [
           {
            "colorbar": {
             "outlinewidth": 0,
             "ticks": ""
            },
            "type": "contourcarpet"
           }
          ],
          "heatmap": [
           {
            "colorbar": {
             "outlinewidth": 0,
             "ticks": ""
            },
            "colorscale": [
             [
              0,
              "#0d0887"
             ],
             [
              0.1111111111111111,
              "#46039f"
             ],
             [
              0.2222222222222222,
              "#7201a8"
             ],
             [
              0.3333333333333333,
              "#9c179e"
             ],
             [
              0.4444444444444444,
              "#bd3786"
             ],
             [
              0.5555555555555556,
              "#d8576b"
             ],
             [
              0.6666666666666666,
              "#ed7953"
             ],
             [
              0.7777777777777778,
              "#fb9f3a"
             ],
             [
              0.8888888888888888,
              "#fdca26"
             ],
             [
              1,
              "#f0f921"
             ]
            ],
            "type": "heatmap"
           }
          ],
          "heatmapgl": [
           {
            "colorbar": {
             "outlinewidth": 0,
             "ticks": ""
            },
            "colorscale": [
             [
              0,
              "#0d0887"
             ],
             [
              0.1111111111111111,
              "#46039f"
             ],
             [
              0.2222222222222222,
              "#7201a8"
             ],
             [
              0.3333333333333333,
              "#9c179e"
             ],
             [
              0.4444444444444444,
              "#bd3786"
             ],
             [
              0.5555555555555556,
              "#d8576b"
             ],
             [
              0.6666666666666666,
              "#ed7953"
             ],
             [
              0.7777777777777778,
              "#fb9f3a"
             ],
             [
              0.8888888888888888,
              "#fdca26"
             ],
             [
              1,
              "#f0f921"
             ]
            ],
            "type": "heatmapgl"
           }
          ],
          "histogram": [
           {
            "marker": {
             "pattern": {
              "fillmode": "overlay",
              "size": 10,
              "solidity": 0.2
             }
            },
            "type": "histogram"
           }
          ],
          "histogram2d": [
           {
            "colorbar": {
             "outlinewidth": 0,
             "ticks": ""
            },
            "colorscale": [
             [
              0,
              "#0d0887"
             ],
             [
              0.1111111111111111,
              "#46039f"
             ],
             [
              0.2222222222222222,
              "#7201a8"
             ],
             [
              0.3333333333333333,
              "#9c179e"
             ],
             [
              0.4444444444444444,
              "#bd3786"
             ],
             [
              0.5555555555555556,
              "#d8576b"
             ],
             [
              0.6666666666666666,
              "#ed7953"
             ],
             [
              0.7777777777777778,
              "#fb9f3a"
             ],
             [
              0.8888888888888888,
              "#fdca26"
             ],
             [
              1,
              "#f0f921"
             ]
            ],
            "type": "histogram2d"
           }
          ],
          "histogram2dcontour": [
           {
            "colorbar": {
             "outlinewidth": 0,
             "ticks": ""
            },
            "colorscale": [
             [
              0,
              "#0d0887"
             ],
             [
              0.1111111111111111,
              "#46039f"
             ],
             [
              0.2222222222222222,
              "#7201a8"
             ],
             [
              0.3333333333333333,
              "#9c179e"
             ],
             [
              0.4444444444444444,
              "#bd3786"
             ],
             [
              0.5555555555555556,
              "#d8576b"
             ],
             [
              0.6666666666666666,
              "#ed7953"
             ],
             [
              0.7777777777777778,
              "#fb9f3a"
             ],
             [
              0.8888888888888888,
              "#fdca26"
             ],
             [
              1,
              "#f0f921"
             ]
            ],
            "type": "histogram2dcontour"
           }
          ],
          "mesh3d": [
           {
            "colorbar": {
             "outlinewidth": 0,
             "ticks": ""
            },
            "type": "mesh3d"
           }
          ],
          "parcoords": [
           {
            "line": {
             "colorbar": {
              "outlinewidth": 0,
              "ticks": ""
             }
            },
            "type": "parcoords"
           }
          ],
          "pie": [
           {
            "automargin": true,
            "type": "pie"
           }
          ],
          "scatter": [
           {
            "fillpattern": {
             "fillmode": "overlay",
             "size": 10,
             "solidity": 0.2
            },
            "type": "scatter"
           }
          ],
          "scatter3d": [
           {
            "line": {
             "colorbar": {
              "outlinewidth": 0,
              "ticks": ""
             }
            },
            "marker": {
             "colorbar": {
              "outlinewidth": 0,
              "ticks": ""
             }
            },
            "type": "scatter3d"
           }
          ],
          "scattercarpet": [
           {
            "marker": {
             "colorbar": {
              "outlinewidth": 0,
              "ticks": ""
             }
            },
            "type": "scattercarpet"
           }
          ],
          "scattergeo": [
           {
            "marker": {
             "colorbar": {
              "outlinewidth": 0,
              "ticks": ""
             }
            },
            "type": "scattergeo"
           }
          ],
          "scattergl": [
           {
            "marker": {
             "colorbar": {
              "outlinewidth": 0,
              "ticks": ""
             }
            },
            "type": "scattergl"
           }
          ],
          "scattermapbox": [
           {
            "marker": {
             "colorbar": {
              "outlinewidth": 0,
              "ticks": ""
             }
            },
            "type": "scattermapbox"
           }
          ],
          "scatterpolar": [
           {
            "marker": {
             "colorbar": {
              "outlinewidth": 0,
              "ticks": ""
             }
            },
            "type": "scatterpolar"
           }
          ],
          "scatterpolargl": [
           {
            "marker": {
             "colorbar": {
              "outlinewidth": 0,
              "ticks": ""
             }
            },
            "type": "scatterpolargl"
           }
          ],
          "scatterternary": [
           {
            "marker": {
             "colorbar": {
              "outlinewidth": 0,
              "ticks": ""
             }
            },
            "type": "scatterternary"
           }
          ],
          "surface": [
           {
            "colorbar": {
             "outlinewidth": 0,
             "ticks": ""
            },
            "colorscale": [
             [
              0,
              "#0d0887"
             ],
             [
              0.1111111111111111,
              "#46039f"
             ],
             [
              0.2222222222222222,
              "#7201a8"
             ],
             [
              0.3333333333333333,
              "#9c179e"
             ],
             [
              0.4444444444444444,
              "#bd3786"
             ],
             [
              0.5555555555555556,
              "#d8576b"
             ],
             [
              0.6666666666666666,
              "#ed7953"
             ],
             [
              0.7777777777777778,
              "#fb9f3a"
             ],
             [
              0.8888888888888888,
              "#fdca26"
             ],
             [
              1,
              "#f0f921"
             ]
            ],
            "type": "surface"
           }
          ],
          "table": [
           {
            "cells": {
             "fill": {
              "color": "#EBF0F8"
             },
             "line": {
              "color": "white"
             }
            },
            "header": {
             "fill": {
              "color": "#C8D4E3"
             },
             "line": {
              "color": "white"
             }
            },
            "type": "table"
           }
          ]
         },
         "layout": {
          "annotationdefaults": {
           "arrowcolor": "#2a3f5f",
           "arrowhead": 0,
           "arrowwidth": 1
          },
          "autotypenumbers": "strict",
          "coloraxis": {
           "colorbar": {
            "outlinewidth": 0,
            "ticks": ""
           }
          },
          "colorscale": {
           "diverging": [
            [
             0,
             "#8e0152"
            ],
            [
             0.1,
             "#c51b7d"
            ],
            [
             0.2,
             "#de77ae"
            ],
            [
             0.3,
             "#f1b6da"
            ],
            [
             0.4,
             "#fde0ef"
            ],
            [
             0.5,
             "#f7f7f7"
            ],
            [
             0.6,
             "#e6f5d0"
            ],
            [
             0.7,
             "#b8e186"
            ],
            [
             0.8,
             "#7fbc41"
            ],
            [
             0.9,
             "#4d9221"
            ],
            [
             1,
             "#276419"
            ]
           ],
           "sequential": [
            [
             0,
             "#0d0887"
            ],
            [
             0.1111111111111111,
             "#46039f"
            ],
            [
             0.2222222222222222,
             "#7201a8"
            ],
            [
             0.3333333333333333,
             "#9c179e"
            ],
            [
             0.4444444444444444,
             "#bd3786"
            ],
            [
             0.5555555555555556,
             "#d8576b"
            ],
            [
             0.6666666666666666,
             "#ed7953"
            ],
            [
             0.7777777777777778,
             "#fb9f3a"
            ],
            [
             0.8888888888888888,
             "#fdca26"
            ],
            [
             1,
             "#f0f921"
            ]
           ],
           "sequentialminus": [
            [
             0,
             "#0d0887"
            ],
            [
             0.1111111111111111,
             "#46039f"
            ],
            [
             0.2222222222222222,
             "#7201a8"
            ],
            [
             0.3333333333333333,
             "#9c179e"
            ],
            [
             0.4444444444444444,
             "#bd3786"
            ],
            [
             0.5555555555555556,
             "#d8576b"
            ],
            [
             0.6666666666666666,
             "#ed7953"
            ],
            [
             0.7777777777777778,
             "#fb9f3a"
            ],
            [
             0.8888888888888888,
             "#fdca26"
            ],
            [
             1,
             "#f0f921"
            ]
           ]
          },
          "colorway": [
           "#636efa",
           "#EF553B",
           "#00cc96",
           "#ab63fa",
           "#FFA15A",
           "#19d3f3",
           "#FF6692",
           "#B6E880",
           "#FF97FF",
           "#FECB52"
          ],
          "font": {
           "color": "#2a3f5f"
          },
          "geo": {
           "bgcolor": "white",
           "lakecolor": "white",
           "landcolor": "#E5ECF6",
           "showlakes": true,
           "showland": true,
           "subunitcolor": "white"
          },
          "hoverlabel": {
           "align": "left"
          },
          "hovermode": "closest",
          "mapbox": {
           "style": "light"
          },
          "paper_bgcolor": "white",
          "plot_bgcolor": "#E5ECF6",
          "polar": {
           "angularaxis": {
            "gridcolor": "white",
            "linecolor": "white",
            "ticks": ""
           },
           "bgcolor": "#E5ECF6",
           "radialaxis": {
            "gridcolor": "white",
            "linecolor": "white",
            "ticks": ""
           }
          },
          "scene": {
           "xaxis": {
            "backgroundcolor": "#E5ECF6",
            "gridcolor": "white",
            "gridwidth": 2,
            "linecolor": "white",
            "showbackground": true,
            "ticks": "",
            "zerolinecolor": "white"
           },
           "yaxis": {
            "backgroundcolor": "#E5ECF6",
            "gridcolor": "white",
            "gridwidth": 2,
            "linecolor": "white",
            "showbackground": true,
            "ticks": "",
            "zerolinecolor": "white"
           },
           "zaxis": {
            "backgroundcolor": "#E5ECF6",
            "gridcolor": "white",
            "gridwidth": 2,
            "linecolor": "white",
            "showbackground": true,
            "ticks": "",
            "zerolinecolor": "white"
           }
          },
          "shapedefaults": {
           "line": {
            "color": "#2a3f5f"
           }
          },
          "ternary": {
           "aaxis": {
            "gridcolor": "white",
            "linecolor": "white",
            "ticks": ""
           },
           "baxis": {
            "gridcolor": "white",
            "linecolor": "white",
            "ticks": ""
           },
           "bgcolor": "#E5ECF6",
           "caxis": {
            "gridcolor": "white",
            "linecolor": "white",
            "ticks": ""
           }
          },
          "title": {
           "x": 0.05
          },
          "xaxis": {
           "automargin": true,
           "gridcolor": "white",
           "linecolor": "white",
           "ticks": "",
           "title": {
            "standoff": 15
           },
           "zerolinecolor": "white",
           "zerolinewidth": 2
          },
          "yaxis": {
           "automargin": true,
           "gridcolor": "white",
           "linecolor": "white",
           "ticks": "",
           "title": {
            "standoff": 15
           },
           "zerolinecolor": "white",
           "zerolinewidth": 2
          }
         }
        },
        "title": {
         "font": {
          "color": "#D9D9D9"
         }
        },
        "xaxis": {
         "anchor": "y",
         "autorange": true,
         "domain": [
          0,
          0.45
         ],
         "gridcolor": "#434343",
         "range": [
          "2023-01-03",
          "2023-06-30"
         ],
         "showgrid": true,
         "tickfont": {
          "color": "#C2C2C2"
         },
         "title": {
          "font": {
           "color": "#D9D9D9"
          },
          "text": ""
         },
         "type": "date",
         "zerolinecolor": "#666570"
        },
        "xaxis2": {
         "anchor": "y2",
         "autorange": true,
         "domain": [
          0.55,
          1
         ],
         "gridcolor": "#434343",
         "range": [
          "2023-01-03",
          "2023-06-30"
         ],
         "showgrid": true,
         "tickfont": {
          "color": "#C2C2C2"
         },
         "title": {
          "font": {
           "color": "#D9D9D9"
          },
          "text": ""
         },
         "type": "date",
         "zerolinecolor": "#666570"
        },
        "yaxis": {
         "anchor": "x",
         "autorange": true,
         "domain": [
          0,
          1
         ],
         "gridcolor": "#434343",
         "range": [
          297.447765774197,
          373.4173770480686
         ],
         "showgrid": true,
         "tickfont": {
          "color": "#C2C2C2"
         },
         "title": {
          "font": {
           "color": "#D9D9D9"
          },
          "text": ""
         },
         "type": "linear",
         "zerolinecolor": "#666570"
        },
        "yaxis2": {
         "anchor": "x2",
         "autorange": true,
         "domain": [
          0,
          1
         ],
         "gridcolor": "#434343",
         "range": [
          275.694829305013,
          338.0537363688151
         ],
         "showgrid": true,
         "tickfont": {
          "color": "#C2C2C2"
         },
         "title": {
          "font": {
           "color": "#D9D9D9"
          },
          "text": ""
         },
         "type": "linear",
         "zerolinecolor": "#666570"
        }
       }
      },
      "text/html": [
       "<div>                            <div id=\"8f897dfa-f55e-455e-a064-0b7ed02f3f29\" class=\"plotly-graph-div\" style=\"height:525px; width:100%;\"></div>            <script type=\"text/javascript\">                require([\"plotly\"], function(Plotly) {                    window.PLOTLYENV=window.PLOTLYENV || {};\n",
       "                    window.PLOTLYENV.BASE_URL='https://plot.ly';                                    if (document.getElementById(\"8f897dfa-f55e-455e-a064-0b7ed02f3f29\")) {                    Plotly.newPlot(                        \"8f897dfa-f55e-455e-a064-0b7ed02f3f29\",                        [{\"line\":{\"color\":\"rgba(255, 153, 51, 1.0)\",\"dash\":\"solid\",\"shape\":\"linear\",\"width\":1.3},\"mode\":\"lines\",\"name\":\"GS\",\"text\":\"\",\"x\":[\"2023-01-03 00:00:00-05:00\",\"2023-01-04 00:00:00-05:00\",\"2023-01-05 00:00:00-05:00\",\"2023-01-06 00:00:00-05:00\",\"2023-01-09 00:00:00-05:00\",\"2023-01-10 00:00:00-05:00\",\"2023-01-11 00:00:00-05:00\",\"2023-01-12 00:00:00-05:00\",\"2023-01-13 00:00:00-05:00\",\"2023-01-17 00:00:00-05:00\",\"2023-01-18 00:00:00-05:00\",\"2023-01-19 00:00:00-05:00\",\"2023-01-20 00:00:00-05:00\",\"2023-01-23 00:00:00-05:00\",\"2023-01-24 00:00:00-05:00\",\"2023-01-25 00:00:00-05:00\",\"2023-01-26 00:00:00-05:00\",\"2023-01-27 00:00:00-05:00\",\"2023-01-30 00:00:00-05:00\",\"2023-01-31 00:00:00-05:00\",\"2023-02-01 00:00:00-05:00\",\"2023-02-02 00:00:00-05:00\",\"2023-02-03 00:00:00-05:00\",\"2023-02-06 00:00:00-05:00\",\"2023-02-07 00:00:00-05:00\",\"2023-02-08 00:00:00-05:00\",\"2023-02-09 00:00:00-05:00\",\"2023-02-10 00:00:00-05:00\",\"2023-02-13 00:00:00-05:00\",\"2023-02-14 00:00:00-05:00\",\"2023-02-15 00:00:00-05:00\",\"2023-02-16 00:00:00-05:00\",\"2023-02-17 00:00:00-05:00\",\"2023-02-21 00:00:00-05:00\",\"2023-02-22 00:00:00-05:00\",\"2023-02-23 00:00:00-05:00\",\"2023-02-24 00:00:00-05:00\",\"2023-02-27 00:00:00-05:00\",\"2023-02-28 00:00:00-05:00\",\"2023-03-01 00:00:00-05:00\",\"2023-03-02 00:00:00-05:00\",\"2023-03-03 00:00:00-05:00\",\"2023-03-06 00:00:00-05:00\",\"2023-03-07 00:00:00-05:00\",\"2023-03-08 00:00:00-05:00\",\"2023-03-09 00:00:00-05:00\",\"2023-03-10 00:00:00-05:00\",\"2023-03-13 00:00:00-04:00\",\"2023-03-14 00:00:00-04:00\",\"2023-03-15 00:00:00-04:00\",\"2023-03-16 00:00:00-04:00\",\"2023-03-17 00:00:00-04:00\",\"2023-03-20 00:00:00-04:00\",\"2023-03-21 00:00:00-04:00\",\"2023-03-22 00:00:00-04:00\",\"2023-03-23 00:00:00-04:00\",\"2023-03-24 00:00:00-04:00\",\"2023-03-27 00:00:00-04:00\",\"2023-03-28 00:00:00-04:00\",\"2023-03-29 00:00:00-04:00\",\"2023-03-30 00:00:00-04:00\",\"2023-03-31 00:00:00-04:00\",\"2023-04-03 00:00:00-04:00\",\"2023-04-04 00:00:00-04:00\",\"2023-04-05 00:00:00-04:00\",\"2023-04-06 00:00:00-04:00\",\"2023-04-10 00:00:00-04:00\",\"2023-04-11 00:00:00-04:00\",\"2023-04-12 00:00:00-04:00\",\"2023-04-13 00:00:00-04:00\",\"2023-04-14 00:00:00-04:00\",\"2023-04-17 00:00:00-04:00\",\"2023-04-18 00:00:00-04:00\",\"2023-04-19 00:00:00-04:00\",\"2023-04-20 00:00:00-04:00\",\"2023-04-21 00:00:00-04:00\",\"2023-04-24 00:00:00-04:00\",\"2023-04-25 00:00:00-04:00\",\"2023-04-26 00:00:00-04:00\",\"2023-04-27 00:00:00-04:00\",\"2023-04-28 00:00:00-04:00\",\"2023-05-01 00:00:00-04:00\",\"2023-05-02 00:00:00-04:00\",\"2023-05-03 00:00:00-04:00\",\"2023-05-04 00:00:00-04:00\",\"2023-05-05 00:00:00-04:00\",\"2023-05-08 00:00:00-04:00\",\"2023-05-09 00:00:00-04:00\",\"2023-05-10 00:00:00-04:00\",\"2023-05-11 00:00:00-04:00\",\"2023-05-12 00:00:00-04:00\",\"2023-05-15 00:00:00-04:00\",\"2023-05-16 00:00:00-04:00\",\"2023-05-17 00:00:00-04:00\",\"2023-05-18 00:00:00-04:00\",\"2023-05-19 00:00:00-04:00\",\"2023-05-22 00:00:00-04:00\",\"2023-05-23 00:00:00-04:00\",\"2023-05-24 00:00:00-04:00\",\"2023-05-25 00:00:00-04:00\",\"2023-05-26 00:00:00-04:00\",\"2023-05-30 00:00:00-04:00\",\"2023-05-31 00:00:00-04:00\",\"2023-06-01 00:00:00-04:00\",\"2023-06-02 00:00:00-04:00\",\"2023-06-05 00:00:00-04:00\",\"2023-06-06 00:00:00-04:00\",\"2023-06-07 00:00:00-04:00\",\"2023-06-08 00:00:00-04:00\",\"2023-06-09 00:00:00-04:00\",\"2023-06-12 00:00:00-04:00\",\"2023-06-13 00:00:00-04:00\",\"2023-06-14 00:00:00-04:00\",\"2023-06-15 00:00:00-04:00\",\"2023-06-16 00:00:00-04:00\",\"2023-06-20 00:00:00-04:00\",\"2023-06-21 00:00:00-04:00\",\"2023-06-22 00:00:00-04:00\",\"2023-06-23 00:00:00-04:00\",\"2023-06-26 00:00:00-04:00\",\"2023-06-27 00:00:00-04:00\",\"2023-06-28 00:00:00-04:00\",\"2023-06-29 00:00:00-04:00\",\"2023-06-30 00:00:00-04:00\"],\"xaxis\":\"x\",\"y\":[341.160888671875,342.6192932128906,338.7368469238281,342.99371337890625,347.8418273925781,352.13812255859375,359.15411376953125,364.5343017578125,368.53497314453125,344.8068542480469,343.9889831542969,345.6247253417969,336.84490966796875,344.0382385253906,343.2400817871094,344.5210876464844,349.7830505371094,348.5316162109375,352.2366638183594,360.4646301269531,360.3660888671875,364.0711669921875,364.5441589355469,365.3817443847656,368.9291076660156,369.618896484375,362.61279296875,365.854736328125,368.5546569824219,366.347412109375,368.8699951171875,364.7904968261719,363.1153259277344,355.84320068359375,355.6165771484375,358.22784423828125,358.5332946777344,360.1887512207031,346.5115661621094,343.6136474609375,346.4619445800781,354.3915710449219,354.35186767578125,343.4647521972656,346.6505126953125,339.5049133300781,325.19390869140625,313.12579345703125,319.715576171875,309.83087158203125,312.7089538574219,301.2462463378906,307.1909484863281,314.88238525390625,311.2996826171875,312.47076416015625,310.2080078125,316.1229553222656,316.03363037109375,318.2964172363281,318.7132568359375,324.6380920410156,324.05255126953125,320.2118225097656,319.10028076171875,319.9637145996094,322.5043640136719,324.8961486816406,327.74444580078125,329.62017822265625,334.3739929199219,337.1131286621094,331.38671875,334.34423828125,336.15045166015625,339.0781555175781,341.36077880859375,336.9146423339844,334.0166931152344,339.01861572265625,340.8447265625,337.99639892578125,330.8507995605469,326.1664733886719,318.83233642578125,324.5487976074219,324.04266357421875,322.3157958984375,320.112548828125,318.2964172363281,317.08563232421875,319.6361999511719,318.3857116699219,327.6849060058594,327.0894470214844,323.68536376953125,322.4646911621094,321.1248779296875,317.3932800292969,321.4325256347656,329.5010986328125,328.3299865722656,323.8999938964844,316.3999938964844,323.6499938964844,321.80999755859375,326.79998779296875,335.75,335.4700012207031,336.0199890136719,339.489990234375,342.5,338.4200134277344,339.739990234375,338.30999755859375,330.7200012207031,325.07000732421875,319.5799865722656,314.7099914550781,312.3599853515625,313.45001220703125,313.6600036621094,323.0899963378906,324.1534118652344],\"yaxis\":\"y\",\"type\":\"scatter\"},{\"line\":{\"color\":\"rgba(55, 128, 191, 1.0)\",\"dash\":\"solid\",\"shape\":\"linear\",\"width\":1.3},\"mode\":\"lines\",\"name\":\"HD\",\"text\":\"\",\"x\":[\"2023-01-03 00:00:00-05:00\",\"2023-01-04 00:00:00-05:00\",\"2023-01-05 00:00:00-05:00\",\"2023-01-06 00:00:00-05:00\",\"2023-01-09 00:00:00-05:00\",\"2023-01-10 00:00:00-05:00\",\"2023-01-11 00:00:00-05:00\",\"2023-01-12 00:00:00-05:00\",\"2023-01-13 00:00:00-05:00\",\"2023-01-17 00:00:00-05:00\",\"2023-01-18 00:00:00-05:00\",\"2023-01-19 00:00:00-05:00\",\"2023-01-20 00:00:00-05:00\",\"2023-01-23 00:00:00-05:00\",\"2023-01-24 00:00:00-05:00\",\"2023-01-25 00:00:00-05:00\",\"2023-01-26 00:00:00-05:00\",\"2023-01-27 00:00:00-05:00\",\"2023-01-30 00:00:00-05:00\",\"2023-01-31 00:00:00-05:00\",\"2023-02-01 00:00:00-05:00\",\"2023-02-02 00:00:00-05:00\",\"2023-02-03 00:00:00-05:00\",\"2023-02-06 00:00:00-05:00\",\"2023-02-07 00:00:00-05:00\",\"2023-02-08 00:00:00-05:00\",\"2023-02-09 00:00:00-05:00\",\"2023-02-10 00:00:00-05:00\",\"2023-02-13 00:00:00-05:00\",\"2023-02-14 00:00:00-05:00\",\"2023-02-15 00:00:00-05:00\",\"2023-02-16 00:00:00-05:00\",\"2023-02-17 00:00:00-05:00\",\"2023-02-21 00:00:00-05:00\",\"2023-02-22 00:00:00-05:00\",\"2023-02-23 00:00:00-05:00\",\"2023-02-24 00:00:00-05:00\",\"2023-02-27 00:00:00-05:00\",\"2023-02-28 00:00:00-05:00\",\"2023-03-01 00:00:00-05:00\",\"2023-03-02 00:00:00-05:00\",\"2023-03-03 00:00:00-05:00\",\"2023-03-06 00:00:00-05:00\",\"2023-03-07 00:00:00-05:00\",\"2023-03-08 00:00:00-05:00\",\"2023-03-09 00:00:00-05:00\",\"2023-03-10 00:00:00-05:00\",\"2023-03-13 00:00:00-04:00\",\"2023-03-14 00:00:00-04:00\",\"2023-03-15 00:00:00-04:00\",\"2023-03-16 00:00:00-04:00\",\"2023-03-17 00:00:00-04:00\",\"2023-03-20 00:00:00-04:00\",\"2023-03-21 00:00:00-04:00\",\"2023-03-22 00:00:00-04:00\",\"2023-03-23 00:00:00-04:00\",\"2023-03-24 00:00:00-04:00\",\"2023-03-27 00:00:00-04:00\",\"2023-03-28 00:00:00-04:00\",\"2023-03-29 00:00:00-04:00\",\"2023-03-30 00:00:00-04:00\",\"2023-03-31 00:00:00-04:00\",\"2023-04-03 00:00:00-04:00\",\"2023-04-04 00:00:00-04:00\",\"2023-04-05 00:00:00-04:00\",\"2023-04-06 00:00:00-04:00\",\"2023-04-10 00:00:00-04:00\",\"2023-04-11 00:00:00-04:00\",\"2023-04-12 00:00:00-04:00\",\"2023-04-13 00:00:00-04:00\",\"2023-04-14 00:00:00-04:00\",\"2023-04-17 00:00:00-04:00\",\"2023-04-18 00:00:00-04:00\",\"2023-04-19 00:00:00-04:00\",\"2023-04-20 00:00:00-04:00\",\"2023-04-21 00:00:00-04:00\",\"2023-04-24 00:00:00-04:00\",\"2023-04-25 00:00:00-04:00\",\"2023-04-26 00:00:00-04:00\",\"2023-04-27 00:00:00-04:00\",\"2023-04-28 00:00:00-04:00\",\"2023-05-01 00:00:00-04:00\",\"2023-05-02 00:00:00-04:00\",\"2023-05-03 00:00:00-04:00\",\"2023-05-04 00:00:00-04:00\",\"2023-05-05 00:00:00-04:00\",\"2023-05-08 00:00:00-04:00\",\"2023-05-09 00:00:00-04:00\",\"2023-05-10 00:00:00-04:00\",\"2023-05-11 00:00:00-04:00\",\"2023-05-12 00:00:00-04:00\",\"2023-05-15 00:00:00-04:00\",\"2023-05-16 00:00:00-04:00\",\"2023-05-17 00:00:00-04:00\",\"2023-05-18 00:00:00-04:00\",\"2023-05-19 00:00:00-04:00\",\"2023-05-22 00:00:00-04:00\",\"2023-05-23 00:00:00-04:00\",\"2023-05-24 00:00:00-04:00\",\"2023-05-25 00:00:00-04:00\",\"2023-05-26 00:00:00-04:00\",\"2023-05-30 00:00:00-04:00\",\"2023-05-31 00:00:00-04:00\",\"2023-06-01 00:00:00-04:00\",\"2023-06-02 00:00:00-04:00\",\"2023-06-05 00:00:00-04:00\",\"2023-06-06 00:00:00-04:00\",\"2023-06-07 00:00:00-04:00\",\"2023-06-08 00:00:00-04:00\",\"2023-06-09 00:00:00-04:00\",\"2023-06-12 00:00:00-04:00\",\"2023-06-13 00:00:00-04:00\",\"2023-06-14 00:00:00-04:00\",\"2023-06-15 00:00:00-04:00\",\"2023-06-16 00:00:00-04:00\",\"2023-06-20 00:00:00-04:00\",\"2023-06-21 00:00:00-04:00\",\"2023-06-22 00:00:00-04:00\",\"2023-06-23 00:00:00-04:00\",\"2023-06-26 00:00:00-04:00\",\"2023-06-27 00:00:00-04:00\",\"2023-06-28 00:00:00-04:00\",\"2023-06-29 00:00:00-04:00\",\"2023-06-30 00:00:00-04:00\"],\"xaxis\":\"x2\",\"y\":[311.39697265625,315.1623840332031,310.9632568359375,312.9938049316406,313.26983642578125,316.0495300292969,324.2999572753906,325.15753173828125,326.4783630371094,322.8509521484375,319.0657958984375,306.4388427734375,310.4999694824219,310.9731140136719,313.15155029296875,312.7276611328125,309.3269348144531,312.16583251953125,309.7508239746094,319.5389709472656,323.4029541015625,334.935791015625,326.76422119140625,324.5660705566406,320.55426025390625,316.207275390625,311.0420837402344,312.0179748535156,318.9081115722656,313.8809509277344,316.1086730957031,316.6507873535156,313.4078369140625,291.2785339355469,292.0671081542969,295.03411865234375,292.4219665527344,291.78125,292.3036804199219,286.6358337402344,288.8339538574219,294.1864013671875,293.9497985839844,286.547119140625,289.406494140625,285.94146728515625,284.2635192871094,284.4720153808594,283.5288391113281,285.91168212890625,284.6805419921875,286.32867431640625,287.19244384765625,287.3612365722656,280.5899658203125,281.8807067871094,280.9970397949219,279.2595520019531,278.8127746582031,281.3345947265625,283.3203125,293.01055908203125,295.6019287109375,292.8516845703125,286.606689453125,286.5470886230469,289.08880615234375,291.6701965332031,288.364013671875,290.0617980957031,290.10150146484375,293.2885437011719,296.8132019042969,294.78778076171875,296.4359130859375,297.8954162597656,299.4839782714844,294.2119140625,286.0109558105469,291.8290710449219,298.3918151855469,295.5721435546875,292.17657470703125,290.9851379394531,283.7075500488281,287.54986572265625,285.8719482421875,288.50299072265625,286.9640808105469,285.6336669921875,288.393798828125,286.47760009765625,280.3119812011719,290.3000793457031,293.05029296875,288.8008728027344,288.58245849609375,292.83184814453125,289.019287109375,284.70037841796875,290.7369079589844,290.30999755859375,283.45001220703125,288.3900146484375,295.94000244140625,293.1000061035156,296.0,301.70001220703125,301.0899963378906,297.3500061035156,300.8599853515625,300.0799865722656,299.7099914550781,302.0199890136719,300.3800048828125,301.4100036621094,300.70001220703125,301.17999267578125,300.80999755859375,307.8900146484375,313.739990234375,306.510009765625,307.82000732421875,309.94000244140625],\"yaxis\":\"y2\",\"type\":\"scatter\"}],                        {\"legend\":{\"bgcolor\":\"#151516\",\"font\":{\"color\":\"#D9D9D9\"}},\"paper_bgcolor\":\"#151516\",\"plot_bgcolor\":\"#151516\",\"template\":{\"data\":{\"barpolar\":[{\"marker\":{\"line\":{\"color\":\"#E5ECF6\",\"width\":0.5},\"pattern\":{\"fillmode\":\"overlay\",\"size\":10,\"solidity\":0.2}},\"type\":\"barpolar\"}],\"bar\":[{\"error_x\":{\"color\":\"#2a3f5f\"},\"error_y\":{\"color\":\"#2a3f5f\"},\"marker\":{\"line\":{\"color\":\"#E5ECF6\",\"width\":0.5},\"pattern\":{\"fillmode\":\"overlay\",\"size\":10,\"solidity\":0.2}},\"type\":\"bar\"}],\"carpet\":[{\"aaxis\":{\"endlinecolor\":\"#2a3f5f\",\"gridcolor\":\"white\",\"linecolor\":\"white\",\"minorgridcolor\":\"white\",\"startlinecolor\":\"#2a3f5f\"},\"baxis\":{\"endlinecolor\":\"#2a3f5f\",\"gridcolor\":\"white\",\"linecolor\":\"white\",\"minorgridcolor\":\"white\",\"startlinecolor\":\"#2a3f5f\"},\"type\":\"carpet\"}],\"choropleth\":[{\"colorbar\":{\"outlinewidth\":0,\"ticks\":\"\"},\"type\":\"choropleth\"}],\"contourcarpet\":[{\"colorbar\":{\"outlinewidth\":0,\"ticks\":\"\"},\"type\":\"contourcarpet\"}],\"contour\":[{\"colorbar\":{\"outlinewidth\":0,\"ticks\":\"\"},\"colorscale\":[[0.0,\"#0d0887\"],[0.1111111111111111,\"#46039f\"],[0.2222222222222222,\"#7201a8\"],[0.3333333333333333,\"#9c179e\"],[0.4444444444444444,\"#bd3786\"],[0.5555555555555556,\"#d8576b\"],[0.6666666666666666,\"#ed7953\"],[0.7777777777777778,\"#fb9f3a\"],[0.8888888888888888,\"#fdca26\"],[1.0,\"#f0f921\"]],\"type\":\"contour\"}],\"heatmapgl\":[{\"colorbar\":{\"outlinewidth\":0,\"ticks\":\"\"},\"colorscale\":[[0.0,\"#0d0887\"],[0.1111111111111111,\"#46039f\"],[0.2222222222222222,\"#7201a8\"],[0.3333333333333333,\"#9c179e\"],[0.4444444444444444,\"#bd3786\"],[0.5555555555555556,\"#d8576b\"],[0.6666666666666666,\"#ed7953\"],[0.7777777777777778,\"#fb9f3a\"],[0.8888888888888888,\"#fdca26\"],[1.0,\"#f0f921\"]],\"type\":\"heatmapgl\"}],\"heatmap\":[{\"colorbar\":{\"outlinewidth\":0,\"ticks\":\"\"},\"colorscale\":[[0.0,\"#0d0887\"],[0.1111111111111111,\"#46039f\"],[0.2222222222222222,\"#7201a8\"],[0.3333333333333333,\"#9c179e\"],[0.4444444444444444,\"#bd3786\"],[0.5555555555555556,\"#d8576b\"],[0.6666666666666666,\"#ed7953\"],[0.7777777777777778,\"#fb9f3a\"],[0.8888888888888888,\"#fdca26\"],[1.0,\"#f0f921\"]],\"type\":\"heatmap\"}],\"histogram2dcontour\":[{\"colorbar\":{\"outlinewidth\":0,\"ticks\":\"\"},\"colorscale\":[[0.0,\"#0d0887\"],[0.1111111111111111,\"#46039f\"],[0.2222222222222222,\"#7201a8\"],[0.3333333333333333,\"#9c179e\"],[0.4444444444444444,\"#bd3786\"],[0.5555555555555556,\"#d8576b\"],[0.6666666666666666,\"#ed7953\"],[0.7777777777777778,\"#fb9f3a\"],[0.8888888888888888,\"#fdca26\"],[1.0,\"#f0f921\"]],\"type\":\"histogram2dcontour\"}],\"histogram2d\":[{\"colorbar\":{\"outlinewidth\":0,\"ticks\":\"\"},\"colorscale\":[[0.0,\"#0d0887\"],[0.1111111111111111,\"#46039f\"],[0.2222222222222222,\"#7201a8\"],[0.3333333333333333,\"#9c179e\"],[0.4444444444444444,\"#bd3786\"],[0.5555555555555556,\"#d8576b\"],[0.6666666666666666,\"#ed7953\"],[0.7777777777777778,\"#fb9f3a\"],[0.8888888888888888,\"#fdca26\"],[1.0,\"#f0f921\"]],\"type\":\"histogram2d\"}],\"histogram\":[{\"marker\":{\"pattern\":{\"fillmode\":\"overlay\",\"size\":10,\"solidity\":0.2}},\"type\":\"histogram\"}],\"mesh3d\":[{\"colorbar\":{\"outlinewidth\":0,\"ticks\":\"\"},\"type\":\"mesh3d\"}],\"parcoords\":[{\"line\":{\"colorbar\":{\"outlinewidth\":0,\"ticks\":\"\"}},\"type\":\"parcoords\"}],\"pie\":[{\"automargin\":true,\"type\":\"pie\"}],\"scatter3d\":[{\"line\":{\"colorbar\":{\"outlinewidth\":0,\"ticks\":\"\"}},\"marker\":{\"colorbar\":{\"outlinewidth\":0,\"ticks\":\"\"}},\"type\":\"scatter3d\"}],\"scattercarpet\":[{\"marker\":{\"colorbar\":{\"outlinewidth\":0,\"ticks\":\"\"}},\"type\":\"scattercarpet\"}],\"scattergeo\":[{\"marker\":{\"colorbar\":{\"outlinewidth\":0,\"ticks\":\"\"}},\"type\":\"scattergeo\"}],\"scattergl\":[{\"marker\":{\"colorbar\":{\"outlinewidth\":0,\"ticks\":\"\"}},\"type\":\"scattergl\"}],\"scattermapbox\":[{\"marker\":{\"colorbar\":{\"outlinewidth\":0,\"ticks\":\"\"}},\"type\":\"scattermapbox\"}],\"scatterpolargl\":[{\"marker\":{\"colorbar\":{\"outlinewidth\":0,\"ticks\":\"\"}},\"type\":\"scatterpolargl\"}],\"scatterpolar\":[{\"marker\":{\"colorbar\":{\"outlinewidth\":0,\"ticks\":\"\"}},\"type\":\"scatterpolar\"}],\"scatter\":[{\"fillpattern\":{\"fillmode\":\"overlay\",\"size\":10,\"solidity\":0.2},\"type\":\"scatter\"}],\"scatterternary\":[{\"marker\":{\"colorbar\":{\"outlinewidth\":0,\"ticks\":\"\"}},\"type\":\"scatterternary\"}],\"surface\":[{\"colorbar\":{\"outlinewidth\":0,\"ticks\":\"\"},\"colorscale\":[[0.0,\"#0d0887\"],[0.1111111111111111,\"#46039f\"],[0.2222222222222222,\"#7201a8\"],[0.3333333333333333,\"#9c179e\"],[0.4444444444444444,\"#bd3786\"],[0.5555555555555556,\"#d8576b\"],[0.6666666666666666,\"#ed7953\"],[0.7777777777777778,\"#fb9f3a\"],[0.8888888888888888,\"#fdca26\"],[1.0,\"#f0f921\"]],\"type\":\"surface\"}],\"table\":[{\"cells\":{\"fill\":{\"color\":\"#EBF0F8\"},\"line\":{\"color\":\"white\"}},\"header\":{\"fill\":{\"color\":\"#C8D4E3\"},\"line\":{\"color\":\"white\"}},\"type\":\"table\"}]},\"layout\":{\"annotationdefaults\":{\"arrowcolor\":\"#2a3f5f\",\"arrowhead\":0,\"arrowwidth\":1},\"autotypenumbers\":\"strict\",\"coloraxis\":{\"colorbar\":{\"outlinewidth\":0,\"ticks\":\"\"}},\"colorscale\":{\"diverging\":[[0,\"#8e0152\"],[0.1,\"#c51b7d\"],[0.2,\"#de77ae\"],[0.3,\"#f1b6da\"],[0.4,\"#fde0ef\"],[0.5,\"#f7f7f7\"],[0.6,\"#e6f5d0\"],[0.7,\"#b8e186\"],[0.8,\"#7fbc41\"],[0.9,\"#4d9221\"],[1,\"#276419\"]],\"sequential\":[[0.0,\"#0d0887\"],[0.1111111111111111,\"#46039f\"],[0.2222222222222222,\"#7201a8\"],[0.3333333333333333,\"#9c179e\"],[0.4444444444444444,\"#bd3786\"],[0.5555555555555556,\"#d8576b\"],[0.6666666666666666,\"#ed7953\"],[0.7777777777777778,\"#fb9f3a\"],[0.8888888888888888,\"#fdca26\"],[1.0,\"#f0f921\"]],\"sequentialminus\":[[0.0,\"#0d0887\"],[0.1111111111111111,\"#46039f\"],[0.2222222222222222,\"#7201a8\"],[0.3333333333333333,\"#9c179e\"],[0.4444444444444444,\"#bd3786\"],[0.5555555555555556,\"#d8576b\"],[0.6666666666666666,\"#ed7953\"],[0.7777777777777778,\"#fb9f3a\"],[0.8888888888888888,\"#fdca26\"],[1.0,\"#f0f921\"]]},\"colorway\":[\"#636efa\",\"#EF553B\",\"#00cc96\",\"#ab63fa\",\"#FFA15A\",\"#19d3f3\",\"#FF6692\",\"#B6E880\",\"#FF97FF\",\"#FECB52\"],\"font\":{\"color\":\"#2a3f5f\"},\"geo\":{\"bgcolor\":\"white\",\"lakecolor\":\"white\",\"landcolor\":\"#E5ECF6\",\"showlakes\":true,\"showland\":true,\"subunitcolor\":\"white\"},\"hoverlabel\":{\"align\":\"left\"},\"hovermode\":\"closest\",\"mapbox\":{\"style\":\"light\"},\"paper_bgcolor\":\"white\",\"plot_bgcolor\":\"#E5ECF6\",\"polar\":{\"angularaxis\":{\"gridcolor\":\"white\",\"linecolor\":\"white\",\"ticks\":\"\"},\"bgcolor\":\"#E5ECF6\",\"radialaxis\":{\"gridcolor\":\"white\",\"linecolor\":\"white\",\"ticks\":\"\"}},\"scene\":{\"xaxis\":{\"backgroundcolor\":\"#E5ECF6\",\"gridcolor\":\"white\",\"gridwidth\":2,\"linecolor\":\"white\",\"showbackground\":true,\"ticks\":\"\",\"zerolinecolor\":\"white\"},\"yaxis\":{\"backgroundcolor\":\"#E5ECF6\",\"gridcolor\":\"white\",\"gridwidth\":2,\"linecolor\":\"white\",\"showbackground\":true,\"ticks\":\"\",\"zerolinecolor\":\"white\"},\"zaxis\":{\"backgroundcolor\":\"#E5ECF6\",\"gridcolor\":\"white\",\"gridwidth\":2,\"linecolor\":\"white\",\"showbackground\":true,\"ticks\":\"\",\"zerolinecolor\":\"white\"}},\"shapedefaults\":{\"line\":{\"color\":\"#2a3f5f\"}},\"ternary\":{\"aaxis\":{\"gridcolor\":\"white\",\"linecolor\":\"white\",\"ticks\":\"\"},\"baxis\":{\"gridcolor\":\"white\",\"linecolor\":\"white\",\"ticks\":\"\"},\"bgcolor\":\"#E5ECF6\",\"caxis\":{\"gridcolor\":\"white\",\"linecolor\":\"white\",\"ticks\":\"\"}},\"title\":{\"x\":0.05},\"xaxis\":{\"automargin\":true,\"gridcolor\":\"white\",\"linecolor\":\"white\",\"ticks\":\"\",\"title\":{\"standoff\":15},\"zerolinecolor\":\"white\",\"zerolinewidth\":2},\"yaxis\":{\"automargin\":true,\"gridcolor\":\"white\",\"linecolor\":\"white\",\"ticks\":\"\",\"title\":{\"standoff\":15},\"zerolinecolor\":\"white\",\"zerolinewidth\":2}}},\"title\":{\"font\":{\"color\":\"#D9D9D9\"}},\"xaxis\":{\"anchor\":\"y\",\"domain\":[0.0,0.45],\"gridcolor\":\"#434343\",\"showgrid\":true,\"tickfont\":{\"color\":\"#C2C2C2\"},\"title\":{\"font\":{\"color\":\"#D9D9D9\"},\"text\":\"\"},\"zerolinecolor\":\"#666570\"},\"yaxis\":{\"anchor\":\"x\",\"domain\":[0.0,1.0],\"gridcolor\":\"#434343\",\"showgrid\":true,\"tickfont\":{\"color\":\"#C2C2C2\"},\"title\":{\"font\":{\"color\":\"#D9D9D9\"},\"text\":\"\"},\"zerolinecolor\":\"#666570\"},\"xaxis2\":{\"anchor\":\"y2\",\"domain\":[0.55,1.0],\"gridcolor\":\"#434343\",\"showgrid\":true,\"tickfont\":{\"color\":\"#C2C2C2\"},\"title\":{\"font\":{\"color\":\"#D9D9D9\"},\"text\":\"\"},\"zerolinecolor\":\"#666570\"},\"yaxis2\":{\"anchor\":\"x2\",\"domain\":[0.0,1.0],\"gridcolor\":\"#434343\",\"showgrid\":true,\"tickfont\":{\"color\":\"#C2C2C2\"},\"title\":{\"font\":{\"color\":\"#D9D9D9\"},\"text\":\"\"},\"zerolinecolor\":\"#666570\"}},                        {\"showLink\": true, \"linkText\": \"Export to plot.ly\", \"plotlyServerURL\": \"https://plot.ly\", \"responsive\": true}                    ).then(function(){\n",
       "                            \n",
       "var gd = document.getElementById('8f897dfa-f55e-455e-a064-0b7ed02f3f29');\n",
       "var x = new MutationObserver(function (mutations, observer) {{\n",
       "        var display = window.getComputedStyle(gd).display;\n",
       "        if (!display || display === 'none') {{\n",
       "            console.log([gd, 'removed!']);\n",
       "            Plotly.purge(gd);\n",
       "            observer.disconnect();\n",
       "        }}\n",
       "}});\n",
       "\n",
       "// Listen for the removal of the full notebook cells\n",
       "var notebookContainer = gd.closest('#notebook-container');\n",
       "if (notebookContainer) {{\n",
       "    x.observe(notebookContainer, {childList: true});\n",
       "}}\n",
       "\n",
       "// Listen for the clearing of the current output cell\n",
       "var outputEl = gd.closest('.output');\n",
       "if (outputEl) {{\n",
       "    x.observe(outputEl, {childList: true});\n",
       "}}\n",
       "\n",
       "                        })                };                });            </script>        </div>"
      ]
     },
     "metadata": {},
     "output_type": "display_data"
    }
   ],
   "source": [
    "# Use subplots\n",
    "df4[['GS', 'HD']].iplot(subplots=True)"
   ]
  },
  {
   "cell_type": "code",
   "execution_count": 23,
   "id": "faa460df-20aa-443e-aeac-cdcbdd699597",
   "metadata": {},
   "outputs": [
    {
     "data": {
      "application/vnd.plotly.v1+json": {
       "config": {
        "linkText": "Export to plot.ly",
        "plotlyServerURL": "https://plot.ly",
        "showLink": true
       },
       "data": [
        {
         "line": {
          "color": "rgba(255, 153, 51, 1.0)",
          "dash": "solid",
          "shape": "linear",
          "width": 1.3
         },
         "mode": "lines",
         "name": "AMGN",
         "text": "",
         "type": "scatter",
         "x": [
          "2023-01-03 00:00:00-05:00",
          "2023-01-04 00:00:00-05:00",
          "2023-01-05 00:00:00-05:00",
          "2023-01-06 00:00:00-05:00",
          "2023-01-09 00:00:00-05:00",
          "2023-01-10 00:00:00-05:00",
          "2023-01-11 00:00:00-05:00",
          "2023-01-12 00:00:00-05:00",
          "2023-01-13 00:00:00-05:00",
          "2023-01-17 00:00:00-05:00",
          "2023-01-18 00:00:00-05:00",
          "2023-01-19 00:00:00-05:00",
          "2023-01-20 00:00:00-05:00",
          "2023-01-23 00:00:00-05:00",
          "2023-01-24 00:00:00-05:00",
          "2023-01-25 00:00:00-05:00",
          "2023-01-26 00:00:00-05:00",
          "2023-01-27 00:00:00-05:00",
          "2023-01-30 00:00:00-05:00",
          "2023-01-31 00:00:00-05:00",
          "2023-02-01 00:00:00-05:00",
          "2023-02-02 00:00:00-05:00",
          "2023-02-03 00:00:00-05:00",
          "2023-02-06 00:00:00-05:00",
          "2023-02-07 00:00:00-05:00",
          "2023-02-08 00:00:00-05:00",
          "2023-02-09 00:00:00-05:00",
          "2023-02-10 00:00:00-05:00",
          "2023-02-13 00:00:00-05:00",
          "2023-02-14 00:00:00-05:00",
          "2023-02-15 00:00:00-05:00",
          "2023-02-16 00:00:00-05:00",
          "2023-02-17 00:00:00-05:00",
          "2023-02-21 00:00:00-05:00",
          "2023-02-22 00:00:00-05:00",
          "2023-02-23 00:00:00-05:00",
          "2023-02-24 00:00:00-05:00",
          "2023-02-27 00:00:00-05:00",
          "2023-02-28 00:00:00-05:00",
          "2023-03-01 00:00:00-05:00",
          "2023-03-02 00:00:00-05:00",
          "2023-03-03 00:00:00-05:00",
          "2023-03-06 00:00:00-05:00",
          "2023-03-07 00:00:00-05:00",
          "2023-03-08 00:00:00-05:00",
          "2023-03-09 00:00:00-05:00",
          "2023-03-10 00:00:00-05:00",
          "2023-03-13 00:00:00-04:00",
          "2023-03-14 00:00:00-04:00",
          "2023-03-15 00:00:00-04:00",
          "2023-03-16 00:00:00-04:00",
          "2023-03-17 00:00:00-04:00",
          "2023-03-20 00:00:00-04:00",
          "2023-03-21 00:00:00-04:00",
          "2023-03-22 00:00:00-04:00",
          "2023-03-23 00:00:00-04:00",
          "2023-03-24 00:00:00-04:00",
          "2023-03-27 00:00:00-04:00",
          "2023-03-28 00:00:00-04:00",
          "2023-03-29 00:00:00-04:00",
          "2023-03-30 00:00:00-04:00",
          "2023-03-31 00:00:00-04:00",
          "2023-04-03 00:00:00-04:00",
          "2023-04-04 00:00:00-04:00",
          "2023-04-05 00:00:00-04:00",
          "2023-04-06 00:00:00-04:00",
          "2023-04-10 00:00:00-04:00",
          "2023-04-11 00:00:00-04:00",
          "2023-04-12 00:00:00-04:00",
          "2023-04-13 00:00:00-04:00",
          "2023-04-14 00:00:00-04:00",
          "2023-04-17 00:00:00-04:00",
          "2023-04-18 00:00:00-04:00",
          "2023-04-19 00:00:00-04:00",
          "2023-04-20 00:00:00-04:00",
          "2023-04-21 00:00:00-04:00",
          "2023-04-24 00:00:00-04:00",
          "2023-04-25 00:00:00-04:00",
          "2023-04-26 00:00:00-04:00",
          "2023-04-27 00:00:00-04:00",
          "2023-04-28 00:00:00-04:00",
          "2023-05-01 00:00:00-04:00",
          "2023-05-02 00:00:00-04:00",
          "2023-05-03 00:00:00-04:00",
          "2023-05-04 00:00:00-04:00",
          "2023-05-05 00:00:00-04:00",
          "2023-05-08 00:00:00-04:00",
          "2023-05-09 00:00:00-04:00",
          "2023-05-10 00:00:00-04:00",
          "2023-05-11 00:00:00-04:00",
          "2023-05-12 00:00:00-04:00",
          "2023-05-15 00:00:00-04:00",
          "2023-05-16 00:00:00-04:00",
          "2023-05-17 00:00:00-04:00",
          "2023-05-18 00:00:00-04:00",
          "2023-05-19 00:00:00-04:00",
          "2023-05-22 00:00:00-04:00",
          "2023-05-23 00:00:00-04:00",
          "2023-05-24 00:00:00-04:00",
          "2023-05-25 00:00:00-04:00",
          "2023-05-26 00:00:00-04:00",
          "2023-05-30 00:00:00-04:00",
          "2023-05-31 00:00:00-04:00",
          "2023-06-01 00:00:00-04:00",
          "2023-06-02 00:00:00-04:00",
          "2023-06-05 00:00:00-04:00",
          "2023-06-06 00:00:00-04:00",
          "2023-06-07 00:00:00-04:00",
          "2023-06-08 00:00:00-04:00",
          "2023-06-09 00:00:00-04:00",
          "2023-06-12 00:00:00-04:00",
          "2023-06-13 00:00:00-04:00",
          "2023-06-14 00:00:00-04:00",
          "2023-06-15 00:00:00-04:00",
          "2023-06-16 00:00:00-04:00",
          "2023-06-20 00:00:00-04:00",
          "2023-06-21 00:00:00-04:00",
          "2023-06-22 00:00:00-04:00",
          "2023-06-23 00:00:00-04:00",
          "2023-06-26 00:00:00-04:00",
          "2023-06-27 00:00:00-04:00",
          "2023-06-28 00:00:00-04:00",
          "2023-06-29 00:00:00-04:00",
          "2023-06-30 00:00:00-04:00"
         ],
         "y": [
          100,
          101.04720548830315,
          101.99120835787994,
          105.17868341536649,
          103.23714629140457,
          104.67417951008153,
          104.3034624959617,
          103.54290587408069,
          103.85247809809772,
          102.96962001862376,
          101.04720548830315,
          100.14522481518786,
          100.60768276923662,
          99.74011088728835,
          99.25473551433838,
          98.047013074628,
          97.41257649037458,
          96.94247543756295,
          96.15516500066514,
          96.46473722468217,
          94.17542426027632,
          94.22128285285342,
          93.70150462743011,
          93.19701853822619,
          93.2543447482944,
          91.80202533209176,
          91.72558246707588,
          92.68105889283747,
          93.12440613063225,
          92.93161831778187,
          92.56148329564242,
          90.30595555956748,
          92.73883644362517,
          91.85590709982706,
          91.05393996693336,
          91.61685686322951,
          90.09004247353718,
          90.39463213355884,
          89.31892091560404,
          91.06550854221699,
          90.50644585811747,
          90.53343128218772,
          90.64910515763668,
          88.18537275992475,
          88.07355309667243,
          87.05567881644211,
          87.85764001064213,
          89.90496902377377,
          88.90251159233006,
          90.56813106934494,
          90.4409004959997,
          88.59791599361472,
          90.4987314950305,
          89.81629244978241,
          88.61334471978867,
          89.87412938750688,
          91.774938950229,
          91.28527584044393,
          91.94843788601509,
          92.93161831778187,
          93.11283161665494,
          93.2092225537333,
          94.24637977233424,
          95.43775892704434,
          97.68943245092262,
          97.67016138993938,
          96.73709759411642,
          96.94144210486307,
          96.19731784838753,
          96.9453022557534,
          96.39009378385055,
          95.645969527375,
          94.88255639383516,
          94.92882475627601,
          93.86853632580149,
          94.02275826191064,
          94.2502339845309,
          94.41217028372702,
          92.07182018585736,
          92.66558265711407,
          92.4342467836035,
          92.11037418521123,
          90.98068618042227,
          88.41284848254499,
          89.40759748959542,
          91.19659926645257,
          90.46017749567663,
          90.38691777047187,
          90.26354140932328,
          89.56181942570457,
          89.81629244978241,
          90.039913960206,
          87.86150016153246,
          87.57738711731058,
          87.26991719085537,
          86.9546675756827,
          87.17651341669675,
          87.35165143193781,
          86.13735485832652,
          84.63504945744094,
          84.42876893255544,
          85.05148847418332,
          85.87658681895061,
          83.39350615723761,
          84.87246061458353,
          86.35530491628818,
          86.09843265996466,
          86.11010813173448,
          85.9193988616712,
          85.14100240398321,
          84.59612725907908,
          86.39811695900876,
          86.51098183234829,
          88.9084443473138,
          89.38326666159898,
          88.96682170616293,
          88.363563263716,
          89.38326666159898,
          88.39080999030806,
          87.46451630527736,
          86.63941796051007,
          86.13345907527413,
          86.075081716425,
          86.366980388058
         ]
        },
        {
         "line": {
          "color": "rgba(55, 128, 191, 1.0)",
          "dash": "solid",
          "shape": "linear",
          "width": 1.3
         },
         "mode": "lines",
         "name": "GS",
         "text": "",
         "type": "scatter",
         "x": [
          "2023-01-03 00:00:00-05:00",
          "2023-01-04 00:00:00-05:00",
          "2023-01-05 00:00:00-05:00",
          "2023-01-06 00:00:00-05:00",
          "2023-01-09 00:00:00-05:00",
          "2023-01-10 00:00:00-05:00",
          "2023-01-11 00:00:00-05:00",
          "2023-01-12 00:00:00-05:00",
          "2023-01-13 00:00:00-05:00",
          "2023-01-17 00:00:00-05:00",
          "2023-01-18 00:00:00-05:00",
          "2023-01-19 00:00:00-05:00",
          "2023-01-20 00:00:00-05:00",
          "2023-01-23 00:00:00-05:00",
          "2023-01-24 00:00:00-05:00",
          "2023-01-25 00:00:00-05:00",
          "2023-01-26 00:00:00-05:00",
          "2023-01-27 00:00:00-05:00",
          "2023-01-30 00:00:00-05:00",
          "2023-01-31 00:00:00-05:00",
          "2023-02-01 00:00:00-05:00",
          "2023-02-02 00:00:00-05:00",
          "2023-02-03 00:00:00-05:00",
          "2023-02-06 00:00:00-05:00",
          "2023-02-07 00:00:00-05:00",
          "2023-02-08 00:00:00-05:00",
          "2023-02-09 00:00:00-05:00",
          "2023-02-10 00:00:00-05:00",
          "2023-02-13 00:00:00-05:00",
          "2023-02-14 00:00:00-05:00",
          "2023-02-15 00:00:00-05:00",
          "2023-02-16 00:00:00-05:00",
          "2023-02-17 00:00:00-05:00",
          "2023-02-21 00:00:00-05:00",
          "2023-02-22 00:00:00-05:00",
          "2023-02-23 00:00:00-05:00",
          "2023-02-24 00:00:00-05:00",
          "2023-02-27 00:00:00-05:00",
          "2023-02-28 00:00:00-05:00",
          "2023-03-01 00:00:00-05:00",
          "2023-03-02 00:00:00-05:00",
          "2023-03-03 00:00:00-05:00",
          "2023-03-06 00:00:00-05:00",
          "2023-03-07 00:00:00-05:00",
          "2023-03-08 00:00:00-05:00",
          "2023-03-09 00:00:00-05:00",
          "2023-03-10 00:00:00-05:00",
          "2023-03-13 00:00:00-04:00",
          "2023-03-14 00:00:00-04:00",
          "2023-03-15 00:00:00-04:00",
          "2023-03-16 00:00:00-04:00",
          "2023-03-17 00:00:00-04:00",
          "2023-03-20 00:00:00-04:00",
          "2023-03-21 00:00:00-04:00",
          "2023-03-22 00:00:00-04:00",
          "2023-03-23 00:00:00-04:00",
          "2023-03-24 00:00:00-04:00",
          "2023-03-27 00:00:00-04:00",
          "2023-03-28 00:00:00-04:00",
          "2023-03-29 00:00:00-04:00",
          "2023-03-30 00:00:00-04:00",
          "2023-03-31 00:00:00-04:00",
          "2023-04-03 00:00:00-04:00",
          "2023-04-04 00:00:00-04:00",
          "2023-04-05 00:00:00-04:00",
          "2023-04-06 00:00:00-04:00",
          "2023-04-10 00:00:00-04:00",
          "2023-04-11 00:00:00-04:00",
          "2023-04-12 00:00:00-04:00",
          "2023-04-13 00:00:00-04:00",
          "2023-04-14 00:00:00-04:00",
          "2023-04-17 00:00:00-04:00",
          "2023-04-18 00:00:00-04:00",
          "2023-04-19 00:00:00-04:00",
          "2023-04-20 00:00:00-04:00",
          "2023-04-21 00:00:00-04:00",
          "2023-04-24 00:00:00-04:00",
          "2023-04-25 00:00:00-04:00",
          "2023-04-26 00:00:00-04:00",
          "2023-04-27 00:00:00-04:00",
          "2023-04-28 00:00:00-04:00",
          "2023-05-01 00:00:00-04:00",
          "2023-05-02 00:00:00-04:00",
          "2023-05-03 00:00:00-04:00",
          "2023-05-04 00:00:00-04:00",
          "2023-05-05 00:00:00-04:00",
          "2023-05-08 00:00:00-04:00",
          "2023-05-09 00:00:00-04:00",
          "2023-05-10 00:00:00-04:00",
          "2023-05-11 00:00:00-04:00",
          "2023-05-12 00:00:00-04:00",
          "2023-05-15 00:00:00-04:00",
          "2023-05-16 00:00:00-04:00",
          "2023-05-17 00:00:00-04:00",
          "2023-05-18 00:00:00-04:00",
          "2023-05-19 00:00:00-04:00",
          "2023-05-22 00:00:00-04:00",
          "2023-05-23 00:00:00-04:00",
          "2023-05-24 00:00:00-04:00",
          "2023-05-25 00:00:00-04:00",
          "2023-05-26 00:00:00-04:00",
          "2023-05-30 00:00:00-04:00",
          "2023-05-31 00:00:00-04:00",
          "2023-06-01 00:00:00-04:00",
          "2023-06-02 00:00:00-04:00",
          "2023-06-05 00:00:00-04:00",
          "2023-06-06 00:00:00-04:00",
          "2023-06-07 00:00:00-04:00",
          "2023-06-08 00:00:00-04:00",
          "2023-06-09 00:00:00-04:00",
          "2023-06-12 00:00:00-04:00",
          "2023-06-13 00:00:00-04:00",
          "2023-06-14 00:00:00-04:00",
          "2023-06-15 00:00:00-04:00",
          "2023-06-16 00:00:00-04:00",
          "2023-06-20 00:00:00-04:00",
          "2023-06-21 00:00:00-04:00",
          "2023-06-22 00:00:00-04:00",
          "2023-06-23 00:00:00-04:00",
          "2023-06-26 00:00:00-04:00",
          "2023-06-27 00:00:00-04:00",
          "2023-06-28 00:00:00-04:00",
          "2023-06-29 00:00:00-04:00",
          "2023-06-30 00:00:00-04:00"
         ],
         "y": [
          100,
          100.42748292358282,
          99.28947255428852,
          100.53723177770064,
          101.95829561433953,
          103.21761205671982,
          105.27411719664089,
          106.85114087283839,
          108.0238050086053,
          101.06869389113315,
          100.82896210448729,
          101.308425677779,
          98.73491389335156,
          100.84339968298156,
          100.60944650581976,
          100.98493088926182,
          102.52730079898669,
          102.16048432977077,
          103.24649615892429,
          105.6582516038772,
          105.62936750167276,
          106.7153882760422,
          106.85403017758041,
          107.09954057371036,
          108.13933247220722,
          108.34152118763842,
          106.28791429767533,
          107.23818247524859,
          108.02957467287347,
          107.38259404105497,
          108.12200558897092,
          106.92623596048361,
          106.43521516822373,
          104.30363283108927,
          104.23720565767016,
          105.00261200304853,
          105.09214466918802,
          105.57738685196382,
          101.56837365240324,
          100.71894489389186,
          101.5538287313179,
          103.87813574544063,
          103.86649801952919,
          100.67530118542001,
          101.60910122048526,
          99.51460574855356,
          95.31980935955832,
          91.78244161457569,
          93.71401786896331,
          90.81664454216596,
          91.66025891032957,
          88.30034635876041,
          90.04283863903908,
          92.29732824290913,
          91.24717778437737,
          91.59044150007692,
          90.92718952050065,
          92.66096021525767,
          92.63477756826094,
          93.29803849305314,
          93.42022119729926,
          95.15689014201425,
          94.98525828416446,
          93.8594760250323,
          93.5336644255919,
          93.78675141960576,
          94.53145853534612,
          95.23253088783056,
          96.06741472525664,
          96.61722347654027,
          98.01064659598754,
          98.81353339606912,
          97.13502624526352,
          98.00192501046591,
          98.53135655988464,
          99.38951584913357,
          100.05859116427351,
          98.75535371172789,
          97.9059160080006,
          99.37206373287438,
          99.90732756307271,
          99.07243478043073,
          96.97793930849903,
          95.60488444570076,
          93.45512542981763,
          95.13071644023343,
          94.98236003420651,
          94.47618604617878,
          93.83037723764576,
          93.29803849305314,
          92.94313705144215,
          93.69075136235638,
          93.32421219483396,
          96.04996260899745,
          95.8754235559738,
          94.87762944621957,
          94.51982975465062,
          94.12710794013147,
          93.03331377312786,
          94.21728466181717,
          96.5823192440219,
          96.23904658310643,
          94.94054114978228,
          92.742164885376,
          94.86726194096873,
          94.32792803752696,
          95.79057818297618,
          98.41397743658736,
          98.33190508052483,
          98.49311576182825,
          99.51023153796886,
          100.39251607455301,
          99.196603322611,
          99.58351074678241,
          99.16435581922076,
          96.93960011306753,
          95.28349178292466,
          93.67427427463244,
          92.24679671817918,
          91.5579703662887,
          91.87747558850575,
          91.93902761924868,
          94.70311722884367,
          95.01482222277882
         ]
        },
        {
         "line": {
          "color": "rgba(50, 171, 96, 1.0)",
          "dash": "solid",
          "shape": "linear",
          "width": 1.3
         },
         "mode": "lines",
         "name": "HD",
         "text": "",
         "type": "scatter",
         "x": [
          "2023-01-03 00:00:00-05:00",
          "2023-01-04 00:00:00-05:00",
          "2023-01-05 00:00:00-05:00",
          "2023-01-06 00:00:00-05:00",
          "2023-01-09 00:00:00-05:00",
          "2023-01-10 00:00:00-05:00",
          "2023-01-11 00:00:00-05:00",
          "2023-01-12 00:00:00-05:00",
          "2023-01-13 00:00:00-05:00",
          "2023-01-17 00:00:00-05:00",
          "2023-01-18 00:00:00-05:00",
          "2023-01-19 00:00:00-05:00",
          "2023-01-20 00:00:00-05:00",
          "2023-01-23 00:00:00-05:00",
          "2023-01-24 00:00:00-05:00",
          "2023-01-25 00:00:00-05:00",
          "2023-01-26 00:00:00-05:00",
          "2023-01-27 00:00:00-05:00",
          "2023-01-30 00:00:00-05:00",
          "2023-01-31 00:00:00-05:00",
          "2023-02-01 00:00:00-05:00",
          "2023-02-02 00:00:00-05:00",
          "2023-02-03 00:00:00-05:00",
          "2023-02-06 00:00:00-05:00",
          "2023-02-07 00:00:00-05:00",
          "2023-02-08 00:00:00-05:00",
          "2023-02-09 00:00:00-05:00",
          "2023-02-10 00:00:00-05:00",
          "2023-02-13 00:00:00-05:00",
          "2023-02-14 00:00:00-05:00",
          "2023-02-15 00:00:00-05:00",
          "2023-02-16 00:00:00-05:00",
          "2023-02-17 00:00:00-05:00",
          "2023-02-21 00:00:00-05:00",
          "2023-02-22 00:00:00-05:00",
          "2023-02-23 00:00:00-05:00",
          "2023-02-24 00:00:00-05:00",
          "2023-02-27 00:00:00-05:00",
          "2023-02-28 00:00:00-05:00",
          "2023-03-01 00:00:00-05:00",
          "2023-03-02 00:00:00-05:00",
          "2023-03-03 00:00:00-05:00",
          "2023-03-06 00:00:00-05:00",
          "2023-03-07 00:00:00-05:00",
          "2023-03-08 00:00:00-05:00",
          "2023-03-09 00:00:00-05:00",
          "2023-03-10 00:00:00-05:00",
          "2023-03-13 00:00:00-04:00",
          "2023-03-14 00:00:00-04:00",
          "2023-03-15 00:00:00-04:00",
          "2023-03-16 00:00:00-04:00",
          "2023-03-17 00:00:00-04:00",
          "2023-03-20 00:00:00-04:00",
          "2023-03-21 00:00:00-04:00",
          "2023-03-22 00:00:00-04:00",
          "2023-03-23 00:00:00-04:00",
          "2023-03-24 00:00:00-04:00",
          "2023-03-27 00:00:00-04:00",
          "2023-03-28 00:00:00-04:00",
          "2023-03-29 00:00:00-04:00",
          "2023-03-30 00:00:00-04:00",
          "2023-03-31 00:00:00-04:00",
          "2023-04-03 00:00:00-04:00",
          "2023-04-04 00:00:00-04:00",
          "2023-04-05 00:00:00-04:00",
          "2023-04-06 00:00:00-04:00",
          "2023-04-10 00:00:00-04:00",
          "2023-04-11 00:00:00-04:00",
          "2023-04-12 00:00:00-04:00",
          "2023-04-13 00:00:00-04:00",
          "2023-04-14 00:00:00-04:00",
          "2023-04-17 00:00:00-04:00",
          "2023-04-18 00:00:00-04:00",
          "2023-04-19 00:00:00-04:00",
          "2023-04-20 00:00:00-04:00",
          "2023-04-21 00:00:00-04:00",
          "2023-04-24 00:00:00-04:00",
          "2023-04-25 00:00:00-04:00",
          "2023-04-26 00:00:00-04:00",
          "2023-04-27 00:00:00-04:00",
          "2023-04-28 00:00:00-04:00",
          "2023-05-01 00:00:00-04:00",
          "2023-05-02 00:00:00-04:00",
          "2023-05-03 00:00:00-04:00",
          "2023-05-04 00:00:00-04:00",
          "2023-05-05 00:00:00-04:00",
          "2023-05-08 00:00:00-04:00",
          "2023-05-09 00:00:00-04:00",
          "2023-05-10 00:00:00-04:00",
          "2023-05-11 00:00:00-04:00",
          "2023-05-12 00:00:00-04:00",
          "2023-05-15 00:00:00-04:00",
          "2023-05-16 00:00:00-04:00",
          "2023-05-17 00:00:00-04:00",
          "2023-05-18 00:00:00-04:00",
          "2023-05-19 00:00:00-04:00",
          "2023-05-22 00:00:00-04:00",
          "2023-05-23 00:00:00-04:00",
          "2023-05-24 00:00:00-04:00",
          "2023-05-25 00:00:00-04:00",
          "2023-05-26 00:00:00-04:00",
          "2023-05-30 00:00:00-04:00",
          "2023-05-31 00:00:00-04:00",
          "2023-06-01 00:00:00-04:00",
          "2023-06-02 00:00:00-04:00",
          "2023-06-05 00:00:00-04:00",
          "2023-06-06 00:00:00-04:00",
          "2023-06-07 00:00:00-04:00",
          "2023-06-08 00:00:00-04:00",
          "2023-06-09 00:00:00-04:00",
          "2023-06-12 00:00:00-04:00",
          "2023-06-13 00:00:00-04:00",
          "2023-06-14 00:00:00-04:00",
          "2023-06-15 00:00:00-04:00",
          "2023-06-16 00:00:00-04:00",
          "2023-06-20 00:00:00-04:00",
          "2023-06-21 00:00:00-04:00",
          "2023-06-22 00:00:00-04:00",
          "2023-06-23 00:00:00-04:00",
          "2023-06-26 00:00:00-04:00",
          "2023-06-27 00:00:00-04:00",
          "2023-06-28 00:00:00-04:00",
          "2023-06-29 00:00:00-04:00",
          "2023-06-30 00:00:00-04:00"
         ],
         "y": [
          100,
          101.2091997378246,
          99.86071932022561,
          100.51279633895265,
          100.60143929902578,
          101.49409203736313,
          104.14358062285474,
          104.41897651240863,
          104.84313969150485,
          103.67825653360848,
          102.46271605557742,
          98.40777839279582,
          99.7119422304666,
          99.86388479022048,
          100.56345365908732,
          100.4273286490911,
          99.33524150086008,
          100.24690665960006,
          99.47136651085629,
          102.61466841554801,
          103.85552285332133,
          107.55910314688879,
          104.93493832135616,
          104.22903851249959,
          102.94071182501987,
          101.54474935749779,
          99.88603327996789,
          100.19942460967697,
          102.41207833587616,
          100.79768863849117,
          101.51308485733237,
          101.68717590683364,
          100.64575587895399,
          93.53929534089858,
          93.79253294048839,
          94.745339408945,
          93.9064898603038,
          93.70073431063707,
          93.86850422036532,
          92.04836877353031,
          92.7542587821702,
          94.47310898938598,
          94.39712790929234,
          92.01987954357647,
          92.93812064772376,
          91.8253844429008,
          91.28653912795319,
          91.35349420846394,
          91.05060871105982,
          91.81581943139928,
          91.42045908919137,
          91.94972959242075,
          92.22711492596525,
          92.28131992454617,
          90.1068380424028,
          90.52133820783045,
          90.237563132996,
          89.67959759526202,
          89.53612242273901,
          90.34596332994114,
          90.98364383033237,
          94.09550663984282,
          94.92768224090972,
          94.04448671169017,
          92.03900956657954,
          92.01986974335976,
          92.83610039185186,
          93.66507132205707,
          92.60334524517006,
          93.14856070097422,
          93.16131078290402,
          94.18477681378491,
          95.31666264204434,
          94.66623205972331,
          95.19550256295267,
          95.66419792674455,
          96.17433840697085,
          94.48130197054917,
          91.84769953633214,
          93.71609125020971,
          95.82360825162566,
          94.91811722940817,
          93.82768631779986,
          93.44507605752177,
          91.10799878006902,
          92.34189506398366,
          91.80305954925275,
          92.64797543203275,
          92.15377990438125,
          91.72653945724048,
          92.6129102566716,
          91.99755464992842,
          90.01756786846072,
          93.22508079298649,
          94.10826652198934,
          92.7436353472648,
          92.67349519632579,
          94.03811657083362,
          92.81377549820382,
          91.42682923004793,
          93.36536109486453,
          93.22826586341478,
          91.02529475131755,
          92.6116950298005,
          95.03624904153881,
          94.12423107499754,
          95.05551626757571,
          96.88598114281503,
          96.69008461115092,
          95.48904845383942,
          96.61622037786499,
          96.36573663916856,
          96.24691881186877,
          96.98873641493961,
          96.46208256956977,
          96.7928496834922,
          96.56484764191106,
          96.71898545020628,
          96.60016762290647,
          98.87379829742795,
          100.75242143754282,
          98.4306324981458,
          98.85131660031267,
          99.53211805419441
         ]
        },
        {
         "line": {
          "color": "rgba(128, 0, 128, 1.0)",
          "dash": "solid",
          "shape": "linear",
          "width": 1.3
         },
         "mode": "lines",
         "name": "MCD",
         "text": "",
         "type": "scatter",
         "x": [
          "2023-01-03 00:00:00-05:00",
          "2023-01-04 00:00:00-05:00",
          "2023-01-05 00:00:00-05:00",
          "2023-01-06 00:00:00-05:00",
          "2023-01-09 00:00:00-05:00",
          "2023-01-10 00:00:00-05:00",
          "2023-01-11 00:00:00-05:00",
          "2023-01-12 00:00:00-05:00",
          "2023-01-13 00:00:00-05:00",
          "2023-01-17 00:00:00-05:00",
          "2023-01-18 00:00:00-05:00",
          "2023-01-19 00:00:00-05:00",
          "2023-01-20 00:00:00-05:00",
          "2023-01-23 00:00:00-05:00",
          "2023-01-24 00:00:00-05:00",
          "2023-01-25 00:00:00-05:00",
          "2023-01-26 00:00:00-05:00",
          "2023-01-27 00:00:00-05:00",
          "2023-01-30 00:00:00-05:00",
          "2023-01-31 00:00:00-05:00",
          "2023-02-01 00:00:00-05:00",
          "2023-02-02 00:00:00-05:00",
          "2023-02-03 00:00:00-05:00",
          "2023-02-06 00:00:00-05:00",
          "2023-02-07 00:00:00-05:00",
          "2023-02-08 00:00:00-05:00",
          "2023-02-09 00:00:00-05:00",
          "2023-02-10 00:00:00-05:00",
          "2023-02-13 00:00:00-05:00",
          "2023-02-14 00:00:00-05:00",
          "2023-02-15 00:00:00-05:00",
          "2023-02-16 00:00:00-05:00",
          "2023-02-17 00:00:00-05:00",
          "2023-02-21 00:00:00-05:00",
          "2023-02-22 00:00:00-05:00",
          "2023-02-23 00:00:00-05:00",
          "2023-02-24 00:00:00-05:00",
          "2023-02-27 00:00:00-05:00",
          "2023-02-28 00:00:00-05:00",
          "2023-03-01 00:00:00-05:00",
          "2023-03-02 00:00:00-05:00",
          "2023-03-03 00:00:00-05:00",
          "2023-03-06 00:00:00-05:00",
          "2023-03-07 00:00:00-05:00",
          "2023-03-08 00:00:00-05:00",
          "2023-03-09 00:00:00-05:00",
          "2023-03-10 00:00:00-05:00",
          "2023-03-13 00:00:00-04:00",
          "2023-03-14 00:00:00-04:00",
          "2023-03-15 00:00:00-04:00",
          "2023-03-16 00:00:00-04:00",
          "2023-03-17 00:00:00-04:00",
          "2023-03-20 00:00:00-04:00",
          "2023-03-21 00:00:00-04:00",
          "2023-03-22 00:00:00-04:00",
          "2023-03-23 00:00:00-04:00",
          "2023-03-24 00:00:00-04:00",
          "2023-03-27 00:00:00-04:00",
          "2023-03-28 00:00:00-04:00",
          "2023-03-29 00:00:00-04:00",
          "2023-03-30 00:00:00-04:00",
          "2023-03-31 00:00:00-04:00",
          "2023-04-03 00:00:00-04:00",
          "2023-04-04 00:00:00-04:00",
          "2023-04-05 00:00:00-04:00",
          "2023-04-06 00:00:00-04:00",
          "2023-04-10 00:00:00-04:00",
          "2023-04-11 00:00:00-04:00",
          "2023-04-12 00:00:00-04:00",
          "2023-04-13 00:00:00-04:00",
          "2023-04-14 00:00:00-04:00",
          "2023-04-17 00:00:00-04:00",
          "2023-04-18 00:00:00-04:00",
          "2023-04-19 00:00:00-04:00",
          "2023-04-20 00:00:00-04:00",
          "2023-04-21 00:00:00-04:00",
          "2023-04-24 00:00:00-04:00",
          "2023-04-25 00:00:00-04:00",
          "2023-04-26 00:00:00-04:00",
          "2023-04-27 00:00:00-04:00",
          "2023-04-28 00:00:00-04:00",
          "2023-05-01 00:00:00-04:00",
          "2023-05-02 00:00:00-04:00",
          "2023-05-03 00:00:00-04:00",
          "2023-05-04 00:00:00-04:00",
          "2023-05-05 00:00:00-04:00",
          "2023-05-08 00:00:00-04:00",
          "2023-05-09 00:00:00-04:00",
          "2023-05-10 00:00:00-04:00",
          "2023-05-11 00:00:00-04:00",
          "2023-05-12 00:00:00-04:00",
          "2023-05-15 00:00:00-04:00",
          "2023-05-16 00:00:00-04:00",
          "2023-05-17 00:00:00-04:00",
          "2023-05-18 00:00:00-04:00",
          "2023-05-19 00:00:00-04:00",
          "2023-05-22 00:00:00-04:00",
          "2023-05-23 00:00:00-04:00",
          "2023-05-24 00:00:00-04:00",
          "2023-05-25 00:00:00-04:00",
          "2023-05-26 00:00:00-04:00",
          "2023-05-30 00:00:00-04:00",
          "2023-05-31 00:00:00-04:00",
          "2023-06-01 00:00:00-04:00",
          "2023-06-02 00:00:00-04:00",
          "2023-06-05 00:00:00-04:00",
          "2023-06-06 00:00:00-04:00",
          "2023-06-07 00:00:00-04:00",
          "2023-06-08 00:00:00-04:00",
          "2023-06-09 00:00:00-04:00",
          "2023-06-12 00:00:00-04:00",
          "2023-06-13 00:00:00-04:00",
          "2023-06-14 00:00:00-04:00",
          "2023-06-15 00:00:00-04:00",
          "2023-06-16 00:00:00-04:00",
          "2023-06-20 00:00:00-04:00",
          "2023-06-21 00:00:00-04:00",
          "2023-06-22 00:00:00-04:00",
          "2023-06-23 00:00:00-04:00",
          "2023-06-26 00:00:00-04:00",
          "2023-06-27 00:00:00-04:00",
          "2023-06-28 00:00:00-04:00",
          "2023-06-29 00:00:00-04:00",
          "2023-06-30 00:00:00-04:00"
         ],
         "y": [
          100,
          100.02271673999606,
          99.17906884713128,
          101.94454593952864,
          101.10469195236722,
          101.73269424505362,
          101.69486025002423,
          100.89282858433619,
          101.72512978075893,
          103.69992190391028,
          100.6469251269791,
          99.71626254761352,
          101.6078455635234,
          101.87645408732054,
          101.97859770241071,
          103.2800007471076,
          103.93070810623404,
          103.07571351692724,
          102.4817629871229,
          101.16143710813333,
          100.7339398134799,
          99.57629661104995,
          99.96217767852661,
          101.35817154757501,
          101.13873204169327,
          99.4287545366357,
          98.61159394235831,
          99.27743023007412,
          100.70746418844855,
          100.86255905360146,
          100.84365956642078,
          100.56747490477295,
          102.14126870541432,
          101.59648719352539,
          101.63055062996345,
          100.92688034721824,
          99.75409654264291,
          100.1702471408543,
          100.41757477204463,
          99.96478088151692,
          101.81020665696205,
          102.38096183097392,
          102.9783443862453,
          101.64278451666225,
          100.95788531198163,
          99.55004278358278,
          99.70224260684513,
          100.10175838774182,
          101.17476830909709,
          101.3421904493969,
          102.95170533142976,
          101.66942357147776,
          103.01638850528288,
          102.81471615164884,
          101.92435068763082,
          102.59022199601463,
          103.24088266091704,
          104.19593129878817,
          104.96074766791534,
          105.56572970814943,
          105.69891330867101,
          106.39141199831434,
          107.35408346826019,
          107.4073499043352,
          107.30841651714786,
          107.63946689204411,
          107.97810507834707,
          108.2444489322782,
          108.55645973732165,
          109.990941320536,
          109.95670278075778,
          110.08226354920463,
          110.69106284225407,
          110.82804034847899,
          110.7253013820323,
          111.12863441574436,
          111.5624120835313,
          110.91936257714761,
          110.25349126876378,
          112.14076674250586,
          112.53267136488385,
          113.22898730734255,
          113.41543734393915,
          112.33101068480582,
          112.30818888280567,
          112.85609890770536,
          112.89034912103959,
          112.87893238326151,
          112.8446938434833,
          112.16740579732138,
          112.68107728244286,
          112.58975505377424,
          111.92387207183438,
          111.66133379716263,
          111.8858279527968,
          112.45657145325265,
          110.09748586624207,
          108.96358667673705,
          108.7923706307339,
          108.64015913391553,
          108.83802590829022,
          108.411871072578,
          108.48415373139382,
          109.5343418507489,
          110.89610885357509,
          110.32997640774332,
          108.84198324377769,
          107.8321272604382,
          109.31630317158843,
          109.70265118130551,
          110.38353468271858,
          110.37587682997582,
          110.33380533411467,
          111.92890337447483,
          112.34585944805093,
          112.09339545221606,
          112.65951622449182,
          112.19284247586785,
          110.89610885357509,
          110.58244040357819,
          111.42780430917647,
          111.59611363973305,
          112.64039493974694,
          113.73822284118009
         ]
        },
        {
         "line": {
          "color": "rgba(219, 64, 82, 1.0)",
          "dash": "solid",
          "shape": "linear",
          "width": 1.3
         },
         "mode": "lines",
         "name": "UNH",
         "text": "",
         "type": "scatter",
         "x": [
          "2023-01-03 00:00:00-05:00",
          "2023-01-04 00:00:00-05:00",
          "2023-01-05 00:00:00-05:00",
          "2023-01-06 00:00:00-05:00",
          "2023-01-09 00:00:00-05:00",
          "2023-01-10 00:00:00-05:00",
          "2023-01-11 00:00:00-05:00",
          "2023-01-12 00:00:00-05:00",
          "2023-01-13 00:00:00-05:00",
          "2023-01-17 00:00:00-05:00",
          "2023-01-18 00:00:00-05:00",
          "2023-01-19 00:00:00-05:00",
          "2023-01-20 00:00:00-05:00",
          "2023-01-23 00:00:00-05:00",
          "2023-01-24 00:00:00-05:00",
          "2023-01-25 00:00:00-05:00",
          "2023-01-26 00:00:00-05:00",
          "2023-01-27 00:00:00-05:00",
          "2023-01-30 00:00:00-05:00",
          "2023-01-31 00:00:00-05:00",
          "2023-02-01 00:00:00-05:00",
          "2023-02-02 00:00:00-05:00",
          "2023-02-03 00:00:00-05:00",
          "2023-02-06 00:00:00-05:00",
          "2023-02-07 00:00:00-05:00",
          "2023-02-08 00:00:00-05:00",
          "2023-02-09 00:00:00-05:00",
          "2023-02-10 00:00:00-05:00",
          "2023-02-13 00:00:00-05:00",
          "2023-02-14 00:00:00-05:00",
          "2023-02-15 00:00:00-05:00",
          "2023-02-16 00:00:00-05:00",
          "2023-02-17 00:00:00-05:00",
          "2023-02-21 00:00:00-05:00",
          "2023-02-22 00:00:00-05:00",
          "2023-02-23 00:00:00-05:00",
          "2023-02-24 00:00:00-05:00",
          "2023-02-27 00:00:00-05:00",
          "2023-02-28 00:00:00-05:00",
          "2023-03-01 00:00:00-05:00",
          "2023-03-02 00:00:00-05:00",
          "2023-03-03 00:00:00-05:00",
          "2023-03-06 00:00:00-05:00",
          "2023-03-07 00:00:00-05:00",
          "2023-03-08 00:00:00-05:00",
          "2023-03-09 00:00:00-05:00",
          "2023-03-10 00:00:00-05:00",
          "2023-03-13 00:00:00-04:00",
          "2023-03-14 00:00:00-04:00",
          "2023-03-15 00:00:00-04:00",
          "2023-03-16 00:00:00-04:00",
          "2023-03-17 00:00:00-04:00",
          "2023-03-20 00:00:00-04:00",
          "2023-03-21 00:00:00-04:00",
          "2023-03-22 00:00:00-04:00",
          "2023-03-23 00:00:00-04:00",
          "2023-03-24 00:00:00-04:00",
          "2023-03-27 00:00:00-04:00",
          "2023-03-28 00:00:00-04:00",
          "2023-03-29 00:00:00-04:00",
          "2023-03-30 00:00:00-04:00",
          "2023-03-31 00:00:00-04:00",
          "2023-04-03 00:00:00-04:00",
          "2023-04-04 00:00:00-04:00",
          "2023-04-05 00:00:00-04:00",
          "2023-04-06 00:00:00-04:00",
          "2023-04-10 00:00:00-04:00",
          "2023-04-11 00:00:00-04:00",
          "2023-04-12 00:00:00-04:00",
          "2023-04-13 00:00:00-04:00",
          "2023-04-14 00:00:00-04:00",
          "2023-04-17 00:00:00-04:00",
          "2023-04-18 00:00:00-04:00",
          "2023-04-19 00:00:00-04:00",
          "2023-04-20 00:00:00-04:00",
          "2023-04-21 00:00:00-04:00",
          "2023-04-24 00:00:00-04:00",
          "2023-04-25 00:00:00-04:00",
          "2023-04-26 00:00:00-04:00",
          "2023-04-27 00:00:00-04:00",
          "2023-04-28 00:00:00-04:00",
          "2023-05-01 00:00:00-04:00",
          "2023-05-02 00:00:00-04:00",
          "2023-05-03 00:00:00-04:00",
          "2023-05-04 00:00:00-04:00",
          "2023-05-05 00:00:00-04:00",
          "2023-05-08 00:00:00-04:00",
          "2023-05-09 00:00:00-04:00",
          "2023-05-10 00:00:00-04:00",
          "2023-05-11 00:00:00-04:00",
          "2023-05-12 00:00:00-04:00",
          "2023-05-15 00:00:00-04:00",
          "2023-05-16 00:00:00-04:00",
          "2023-05-17 00:00:00-04:00",
          "2023-05-18 00:00:00-04:00",
          "2023-05-19 00:00:00-04:00",
          "2023-05-22 00:00:00-04:00",
          "2023-05-23 00:00:00-04:00",
          "2023-05-24 00:00:00-04:00",
          "2023-05-25 00:00:00-04:00",
          "2023-05-26 00:00:00-04:00",
          "2023-05-30 00:00:00-04:00",
          "2023-05-31 00:00:00-04:00",
          "2023-06-01 00:00:00-04:00",
          "2023-06-02 00:00:00-04:00",
          "2023-06-05 00:00:00-04:00",
          "2023-06-06 00:00:00-04:00",
          "2023-06-07 00:00:00-04:00",
          "2023-06-08 00:00:00-04:00",
          "2023-06-09 00:00:00-04:00",
          "2023-06-12 00:00:00-04:00",
          "2023-06-13 00:00:00-04:00",
          "2023-06-14 00:00:00-04:00",
          "2023-06-15 00:00:00-04:00",
          "2023-06-16 00:00:00-04:00",
          "2023-06-20 00:00:00-04:00",
          "2023-06-21 00:00:00-04:00",
          "2023-06-22 00:00:00-04:00",
          "2023-06-23 00:00:00-04:00",
          "2023-06-26 00:00:00-04:00",
          "2023-06-27 00:00:00-04:00",
          "2023-06-28 00:00:00-04:00",
          "2023-06-29 00:00:00-04:00",
          "2023-06-30 00:00:00-04:00"
         ],
         "y": [
          100,
          97.27363629636517,
          94.47014357571261,
          94.47786359263736,
          94.48943175931952,
          93.70661492792753,
          95.13341873182061,
          95.57110574359771,
          94.39495938630728,
          93.52922648988026,
          91.82476889755786,
          93.39039663098936,
          93.84543885746595,
          93.66997745897362,
          94.78636187265079,
          94.95989030223569,
          94.9560362231258,
          93.71625012570227,
          93.66612337986373,
          96.24980314549776,
          95.82754430886519,
          90.78165349243605,
          91.01110164522929,
          91.63195228436605,
          91.94817058130424,
          93.1705955346758,
          93.65455521318157,
          95.29731196363078,
          95.50940490172454,
          95.02351225431134,
          94.71887398276029,
          93.96691350165737,
          96.22859385168839,
          94.73044214944245,
          94.26384361498864,
          94.80371708735026,
          93.38461551232452,
          93.18987778893023,
          91.76692806414705,
          91.62809820525617,
          92.10627676509708,
          92.27209110710972,
          92.70013699175962,
          91.36973260043374,
          90.73731379461482,
          89.6402057058396,
          89.07325881006909,
          89.72147934023857,
          89.89563035183355,
          90.06010466018644,
          91.33525934513386,
          90.84764125614993,
          92.29114211661755,
          92.8987287942638,
          92.01250405567708,
          90.92697599228899,
          92.10344846396566,
          93.24702488810127,
          91.44361826164668,
          90.28456029819425,
          90.95600017266274,
          91.4455512305541,
          95.6251280740135,
          95.44323925743635,
          98.53534913924776,
          99.22806945975535,
          99.68665743901305,
          100.80702044820214,
          100.84959319898527,
          101.82481751824817,
          99.03070503321386,
          97.7845745286402,
          97.61622835311998,
          94.0790731331078,
          94.32287624824728,
          93.61854625559019,
          94.60925804352239,
          95.18588757188748,
          93.45020600942246,
          94.90531061268712,
          95.21877769007607,
          95.91731470536337,
          95.47033046890267,
          94.70600728788571,
          94.28805316115127,
          95.64254258223774,
          95.32133177051413,
          94.88789610446285,
          94.82791477480794,
          94.5744290270739,
          95.05237041281575,
          94.2067795267523,
          92.82519889419947,
          93.81010584605693,
          92.73038854809606,
          92.65105381195698,
          92.99934990579445,
          92.7710224006193,
          93.03998375831769,
          92.43433597893134,
          93.17349498803694,
          92.85035713675838,
          94.28030942681661,
          95.51676915750068,
          96.66808338661845,
          96.39912202892006,
          94.34416855299133,
          93.29153060779183,
          94.8588719240891,
          95.51483025924078,
          95.31552693443939,
          95.06785195213257,
          88.98231440178051,
          90.51917884634723,
          89.08140574037216,
          91.19920442320208,
          92.62919821872765,
          93.07606979749127,
          92.67777147421728,
          93.07801462510365,
          93.7580402019585,
          92.18232663996403,
          92.5689678562687,
          93.27813620054683
         ]
        }
       ],
       "layout": {
        "autosize": true,
        "legend": {
         "bgcolor": "#151516",
         "font": {
          "color": "#D9D9D9"
         }
        },
        "paper_bgcolor": "#151516",
        "plot_bgcolor": "#151516",
        "template": {
         "data": {
          "bar": [
           {
            "error_x": {
             "color": "#2a3f5f"
            },
            "error_y": {
             "color": "#2a3f5f"
            },
            "marker": {
             "line": {
              "color": "#E5ECF6",
              "width": 0.5
             },
             "pattern": {
              "fillmode": "overlay",
              "size": 10,
              "solidity": 0.2
             }
            },
            "type": "bar"
           }
          ],
          "barpolar": [
           {
            "marker": {
             "line": {
              "color": "#E5ECF6",
              "width": 0.5
             },
             "pattern": {
              "fillmode": "overlay",
              "size": 10,
              "solidity": 0.2
             }
            },
            "type": "barpolar"
           }
          ],
          "carpet": [
           {
            "aaxis": {
             "endlinecolor": "#2a3f5f",
             "gridcolor": "white",
             "linecolor": "white",
             "minorgridcolor": "white",
             "startlinecolor": "#2a3f5f"
            },
            "baxis": {
             "endlinecolor": "#2a3f5f",
             "gridcolor": "white",
             "linecolor": "white",
             "minorgridcolor": "white",
             "startlinecolor": "#2a3f5f"
            },
            "type": "carpet"
           }
          ],
          "choropleth": [
           {
            "colorbar": {
             "outlinewidth": 0,
             "ticks": ""
            },
            "type": "choropleth"
           }
          ],
          "contour": [
           {
            "colorbar": {
             "outlinewidth": 0,
             "ticks": ""
            },
            "colorscale": [
             [
              0,
              "#0d0887"
             ],
             [
              0.1111111111111111,
              "#46039f"
             ],
             [
              0.2222222222222222,
              "#7201a8"
             ],
             [
              0.3333333333333333,
              "#9c179e"
             ],
             [
              0.4444444444444444,
              "#bd3786"
             ],
             [
              0.5555555555555556,
              "#d8576b"
             ],
             [
              0.6666666666666666,
              "#ed7953"
             ],
             [
              0.7777777777777778,
              "#fb9f3a"
             ],
             [
              0.8888888888888888,
              "#fdca26"
             ],
             [
              1,
              "#f0f921"
             ]
            ],
            "type": "contour"
           }
          ],
          "contourcarpet": [
           {
            "colorbar": {
             "outlinewidth": 0,
             "ticks": ""
            },
            "type": "contourcarpet"
           }
          ],
          "heatmap": [
           {
            "colorbar": {
             "outlinewidth": 0,
             "ticks": ""
            },
            "colorscale": [
             [
              0,
              "#0d0887"
             ],
             [
              0.1111111111111111,
              "#46039f"
             ],
             [
              0.2222222222222222,
              "#7201a8"
             ],
             [
              0.3333333333333333,
              "#9c179e"
             ],
             [
              0.4444444444444444,
              "#bd3786"
             ],
             [
              0.5555555555555556,
              "#d8576b"
             ],
             [
              0.6666666666666666,
              "#ed7953"
             ],
             [
              0.7777777777777778,
              "#fb9f3a"
             ],
             [
              0.8888888888888888,
              "#fdca26"
             ],
             [
              1,
              "#f0f921"
             ]
            ],
            "type": "heatmap"
           }
          ],
          "heatmapgl": [
           {
            "colorbar": {
             "outlinewidth": 0,
             "ticks": ""
            },
            "colorscale": [
             [
              0,
              "#0d0887"
             ],
             [
              0.1111111111111111,
              "#46039f"
             ],
             [
              0.2222222222222222,
              "#7201a8"
             ],
             [
              0.3333333333333333,
              "#9c179e"
             ],
             [
              0.4444444444444444,
              "#bd3786"
             ],
             [
              0.5555555555555556,
              "#d8576b"
             ],
             [
              0.6666666666666666,
              "#ed7953"
             ],
             [
              0.7777777777777778,
              "#fb9f3a"
             ],
             [
              0.8888888888888888,
              "#fdca26"
             ],
             [
              1,
              "#f0f921"
             ]
            ],
            "type": "heatmapgl"
           }
          ],
          "histogram": [
           {
            "marker": {
             "pattern": {
              "fillmode": "overlay",
              "size": 10,
              "solidity": 0.2
             }
            },
            "type": "histogram"
           }
          ],
          "histogram2d": [
           {
            "colorbar": {
             "outlinewidth": 0,
             "ticks": ""
            },
            "colorscale": [
             [
              0,
              "#0d0887"
             ],
             [
              0.1111111111111111,
              "#46039f"
             ],
             [
              0.2222222222222222,
              "#7201a8"
             ],
             [
              0.3333333333333333,
              "#9c179e"
             ],
             [
              0.4444444444444444,
              "#bd3786"
             ],
             [
              0.5555555555555556,
              "#d8576b"
             ],
             [
              0.6666666666666666,
              "#ed7953"
             ],
             [
              0.7777777777777778,
              "#fb9f3a"
             ],
             [
              0.8888888888888888,
              "#fdca26"
             ],
             [
              1,
              "#f0f921"
             ]
            ],
            "type": "histogram2d"
           }
          ],
          "histogram2dcontour": [
           {
            "colorbar": {
             "outlinewidth": 0,
             "ticks": ""
            },
            "colorscale": [
             [
              0,
              "#0d0887"
             ],
             [
              0.1111111111111111,
              "#46039f"
             ],
             [
              0.2222222222222222,
              "#7201a8"
             ],
             [
              0.3333333333333333,
              "#9c179e"
             ],
             [
              0.4444444444444444,
              "#bd3786"
             ],
             [
              0.5555555555555556,
              "#d8576b"
             ],
             [
              0.6666666666666666,
              "#ed7953"
             ],
             [
              0.7777777777777778,
              "#fb9f3a"
             ],
             [
              0.8888888888888888,
              "#fdca26"
             ],
             [
              1,
              "#f0f921"
             ]
            ],
            "type": "histogram2dcontour"
           }
          ],
          "mesh3d": [
           {
            "colorbar": {
             "outlinewidth": 0,
             "ticks": ""
            },
            "type": "mesh3d"
           }
          ],
          "parcoords": [
           {
            "line": {
             "colorbar": {
              "outlinewidth": 0,
              "ticks": ""
             }
            },
            "type": "parcoords"
           }
          ],
          "pie": [
           {
            "automargin": true,
            "type": "pie"
           }
          ],
          "scatter": [
           {
            "fillpattern": {
             "fillmode": "overlay",
             "size": 10,
             "solidity": 0.2
            },
            "type": "scatter"
           }
          ],
          "scatter3d": [
           {
            "line": {
             "colorbar": {
              "outlinewidth": 0,
              "ticks": ""
             }
            },
            "marker": {
             "colorbar": {
              "outlinewidth": 0,
              "ticks": ""
             }
            },
            "type": "scatter3d"
           }
          ],
          "scattercarpet": [
           {
            "marker": {
             "colorbar": {
              "outlinewidth": 0,
              "ticks": ""
             }
            },
            "type": "scattercarpet"
           }
          ],
          "scattergeo": [
           {
            "marker": {
             "colorbar": {
              "outlinewidth": 0,
              "ticks": ""
             }
            },
            "type": "scattergeo"
           }
          ],
          "scattergl": [
           {
            "marker": {
             "colorbar": {
              "outlinewidth": 0,
              "ticks": ""
             }
            },
            "type": "scattergl"
           }
          ],
          "scattermapbox": [
           {
            "marker": {
             "colorbar": {
              "outlinewidth": 0,
              "ticks": ""
             }
            },
            "type": "scattermapbox"
           }
          ],
          "scatterpolar": [
           {
            "marker": {
             "colorbar": {
              "outlinewidth": 0,
              "ticks": ""
             }
            },
            "type": "scatterpolar"
           }
          ],
          "scatterpolargl": [
           {
            "marker": {
             "colorbar": {
              "outlinewidth": 0,
              "ticks": ""
             }
            },
            "type": "scatterpolargl"
           }
          ],
          "scatterternary": [
           {
            "marker": {
             "colorbar": {
              "outlinewidth": 0,
              "ticks": ""
             }
            },
            "type": "scatterternary"
           }
          ],
          "surface": [
           {
            "colorbar": {
             "outlinewidth": 0,
             "ticks": ""
            },
            "colorscale": [
             [
              0,
              "#0d0887"
             ],
             [
              0.1111111111111111,
              "#46039f"
             ],
             [
              0.2222222222222222,
              "#7201a8"
             ],
             [
              0.3333333333333333,
              "#9c179e"
             ],
             [
              0.4444444444444444,
              "#bd3786"
             ],
             [
              0.5555555555555556,
              "#d8576b"
             ],
             [
              0.6666666666666666,
              "#ed7953"
             ],
             [
              0.7777777777777778,
              "#fb9f3a"
             ],
             [
              0.8888888888888888,
              "#fdca26"
             ],
             [
              1,
              "#f0f921"
             ]
            ],
            "type": "surface"
           }
          ],
          "table": [
           {
            "cells": {
             "fill": {
              "color": "#EBF0F8"
             },
             "line": {
              "color": "white"
             }
            },
            "header": {
             "fill": {
              "color": "#C8D4E3"
             },
             "line": {
              "color": "white"
             }
            },
            "type": "table"
           }
          ]
         },
         "layout": {
          "annotationdefaults": {
           "arrowcolor": "#2a3f5f",
           "arrowhead": 0,
           "arrowwidth": 1
          },
          "autotypenumbers": "strict",
          "coloraxis": {
           "colorbar": {
            "outlinewidth": 0,
            "ticks": ""
           }
          },
          "colorscale": {
           "diverging": [
            [
             0,
             "#8e0152"
            ],
            [
             0.1,
             "#c51b7d"
            ],
            [
             0.2,
             "#de77ae"
            ],
            [
             0.3,
             "#f1b6da"
            ],
            [
             0.4,
             "#fde0ef"
            ],
            [
             0.5,
             "#f7f7f7"
            ],
            [
             0.6,
             "#e6f5d0"
            ],
            [
             0.7,
             "#b8e186"
            ],
            [
             0.8,
             "#7fbc41"
            ],
            [
             0.9,
             "#4d9221"
            ],
            [
             1,
             "#276419"
            ]
           ],
           "sequential": [
            [
             0,
             "#0d0887"
            ],
            [
             0.1111111111111111,
             "#46039f"
            ],
            [
             0.2222222222222222,
             "#7201a8"
            ],
            [
             0.3333333333333333,
             "#9c179e"
            ],
            [
             0.4444444444444444,
             "#bd3786"
            ],
            [
             0.5555555555555556,
             "#d8576b"
            ],
            [
             0.6666666666666666,
             "#ed7953"
            ],
            [
             0.7777777777777778,
             "#fb9f3a"
            ],
            [
             0.8888888888888888,
             "#fdca26"
            ],
            [
             1,
             "#f0f921"
            ]
           ],
           "sequentialminus": [
            [
             0,
             "#0d0887"
            ],
            [
             0.1111111111111111,
             "#46039f"
            ],
            [
             0.2222222222222222,
             "#7201a8"
            ],
            [
             0.3333333333333333,
             "#9c179e"
            ],
            [
             0.4444444444444444,
             "#bd3786"
            ],
            [
             0.5555555555555556,
             "#d8576b"
            ],
            [
             0.6666666666666666,
             "#ed7953"
            ],
            [
             0.7777777777777778,
             "#fb9f3a"
            ],
            [
             0.8888888888888888,
             "#fdca26"
            ],
            [
             1,
             "#f0f921"
            ]
           ]
          },
          "colorway": [
           "#636efa",
           "#EF553B",
           "#00cc96",
           "#ab63fa",
           "#FFA15A",
           "#19d3f3",
           "#FF6692",
           "#B6E880",
           "#FF97FF",
           "#FECB52"
          ],
          "font": {
           "color": "#2a3f5f"
          },
          "geo": {
           "bgcolor": "white",
           "lakecolor": "white",
           "landcolor": "#E5ECF6",
           "showlakes": true,
           "showland": true,
           "subunitcolor": "white"
          },
          "hoverlabel": {
           "align": "left"
          },
          "hovermode": "closest",
          "mapbox": {
           "style": "light"
          },
          "paper_bgcolor": "white",
          "plot_bgcolor": "#E5ECF6",
          "polar": {
           "angularaxis": {
            "gridcolor": "white",
            "linecolor": "white",
            "ticks": ""
           },
           "bgcolor": "#E5ECF6",
           "radialaxis": {
            "gridcolor": "white",
            "linecolor": "white",
            "ticks": ""
           }
          },
          "scene": {
           "xaxis": {
            "backgroundcolor": "#E5ECF6",
            "gridcolor": "white",
            "gridwidth": 2,
            "linecolor": "white",
            "showbackground": true,
            "ticks": "",
            "zerolinecolor": "white"
           },
           "yaxis": {
            "backgroundcolor": "#E5ECF6",
            "gridcolor": "white",
            "gridwidth": 2,
            "linecolor": "white",
            "showbackground": true,
            "ticks": "",
            "zerolinecolor": "white"
           },
           "zaxis": {
            "backgroundcolor": "#E5ECF6",
            "gridcolor": "white",
            "gridwidth": 2,
            "linecolor": "white",
            "showbackground": true,
            "ticks": "",
            "zerolinecolor": "white"
           }
          },
          "shapedefaults": {
           "line": {
            "color": "#2a3f5f"
           }
          },
          "ternary": {
           "aaxis": {
            "gridcolor": "white",
            "linecolor": "white",
            "ticks": ""
           },
           "baxis": {
            "gridcolor": "white",
            "linecolor": "white",
            "ticks": ""
           },
           "bgcolor": "#E5ECF6",
           "caxis": {
            "gridcolor": "white",
            "linecolor": "white",
            "ticks": ""
           }
          },
          "title": {
           "x": 0.05
          },
          "xaxis": {
           "automargin": true,
           "gridcolor": "white",
           "linecolor": "white",
           "ticks": "",
           "title": {
            "standoff": 15
           },
           "zerolinecolor": "white",
           "zerolinewidth": 2
          },
          "yaxis": {
           "automargin": true,
           "gridcolor": "white",
           "linecolor": "white",
           "ticks": "",
           "title": {
            "standoff": 15
           },
           "zerolinecolor": "white",
           "zerolinewidth": 2
          }
         }
        },
        "title": {
         "font": {
          "color": "#D9D9D9"
         }
        },
        "xaxis": {
         "autorange": true,
         "gridcolor": "#434343",
         "range": [
          "2023-01-03",
          "2023-06-30"
         ],
         "showgrid": true,
         "tickfont": {
          "color": "#C2C2C2"
         },
         "title": {
          "font": {
           "color": "#D9D9D9"
          },
          "text": ""
         },
         "type": "date",
         "zerolinecolor": "#666570"
        },
        "yaxis": {
         "autorange": true,
         "gridcolor": "#434343",
         "range": [
          81.70768856368525,
          115.42404043473245
         ],
         "showgrid": true,
         "tickfont": {
          "color": "#C2C2C2"
         },
         "title": {
          "font": {
           "color": "#D9D9D9"
          },
          "text": ""
         },
         "type": "linear",
         "zerolinecolor": "#666570"
        }
       }
      },
      "text/html": [
       "<div>                            <div id=\"1462e62d-8f64-4989-9068-ce34bb057cef\" class=\"plotly-graph-div\" style=\"height:525px; width:100%;\"></div>            <script type=\"text/javascript\">                require([\"plotly\"], function(Plotly) {                    window.PLOTLYENV=window.PLOTLYENV || {};\n",
       "                    window.PLOTLYENV.BASE_URL='https://plot.ly';                                    if (document.getElementById(\"1462e62d-8f64-4989-9068-ce34bb057cef\")) {                    Plotly.newPlot(                        \"1462e62d-8f64-4989-9068-ce34bb057cef\",                        [{\"line\":{\"color\":\"rgba(255, 153, 51, 1.0)\",\"dash\":\"solid\",\"shape\":\"linear\",\"width\":1.3},\"mode\":\"lines\",\"name\":\"AMGN\",\"text\":\"\",\"x\":[\"2023-01-03 00:00:00-05:00\",\"2023-01-04 00:00:00-05:00\",\"2023-01-05 00:00:00-05:00\",\"2023-01-06 00:00:00-05:00\",\"2023-01-09 00:00:00-05:00\",\"2023-01-10 00:00:00-05:00\",\"2023-01-11 00:00:00-05:00\",\"2023-01-12 00:00:00-05:00\",\"2023-01-13 00:00:00-05:00\",\"2023-01-17 00:00:00-05:00\",\"2023-01-18 00:00:00-05:00\",\"2023-01-19 00:00:00-05:00\",\"2023-01-20 00:00:00-05:00\",\"2023-01-23 00:00:00-05:00\",\"2023-01-24 00:00:00-05:00\",\"2023-01-25 00:00:00-05:00\",\"2023-01-26 00:00:00-05:00\",\"2023-01-27 00:00:00-05:00\",\"2023-01-30 00:00:00-05:00\",\"2023-01-31 00:00:00-05:00\",\"2023-02-01 00:00:00-05:00\",\"2023-02-02 00:00:00-05:00\",\"2023-02-03 00:00:00-05:00\",\"2023-02-06 00:00:00-05:00\",\"2023-02-07 00:00:00-05:00\",\"2023-02-08 00:00:00-05:00\",\"2023-02-09 00:00:00-05:00\",\"2023-02-10 00:00:00-05:00\",\"2023-02-13 00:00:00-05:00\",\"2023-02-14 00:00:00-05:00\",\"2023-02-15 00:00:00-05:00\",\"2023-02-16 00:00:00-05:00\",\"2023-02-17 00:00:00-05:00\",\"2023-02-21 00:00:00-05:00\",\"2023-02-22 00:00:00-05:00\",\"2023-02-23 00:00:00-05:00\",\"2023-02-24 00:00:00-05:00\",\"2023-02-27 00:00:00-05:00\",\"2023-02-28 00:00:00-05:00\",\"2023-03-01 00:00:00-05:00\",\"2023-03-02 00:00:00-05:00\",\"2023-03-03 00:00:00-05:00\",\"2023-03-06 00:00:00-05:00\",\"2023-03-07 00:00:00-05:00\",\"2023-03-08 00:00:00-05:00\",\"2023-03-09 00:00:00-05:00\",\"2023-03-10 00:00:00-05:00\",\"2023-03-13 00:00:00-04:00\",\"2023-03-14 00:00:00-04:00\",\"2023-03-15 00:00:00-04:00\",\"2023-03-16 00:00:00-04:00\",\"2023-03-17 00:00:00-04:00\",\"2023-03-20 00:00:00-04:00\",\"2023-03-21 00:00:00-04:00\",\"2023-03-22 00:00:00-04:00\",\"2023-03-23 00:00:00-04:00\",\"2023-03-24 00:00:00-04:00\",\"2023-03-27 00:00:00-04:00\",\"2023-03-28 00:00:00-04:00\",\"2023-03-29 00:00:00-04:00\",\"2023-03-30 00:00:00-04:00\",\"2023-03-31 00:00:00-04:00\",\"2023-04-03 00:00:00-04:00\",\"2023-04-04 00:00:00-04:00\",\"2023-04-05 00:00:00-04:00\",\"2023-04-06 00:00:00-04:00\",\"2023-04-10 00:00:00-04:00\",\"2023-04-11 00:00:00-04:00\",\"2023-04-12 00:00:00-04:00\",\"2023-04-13 00:00:00-04:00\",\"2023-04-14 00:00:00-04:00\",\"2023-04-17 00:00:00-04:00\",\"2023-04-18 00:00:00-04:00\",\"2023-04-19 00:00:00-04:00\",\"2023-04-20 00:00:00-04:00\",\"2023-04-21 00:00:00-04:00\",\"2023-04-24 00:00:00-04:00\",\"2023-04-25 00:00:00-04:00\",\"2023-04-26 00:00:00-04:00\",\"2023-04-27 00:00:00-04:00\",\"2023-04-28 00:00:00-04:00\",\"2023-05-01 00:00:00-04:00\",\"2023-05-02 00:00:00-04:00\",\"2023-05-03 00:00:00-04:00\",\"2023-05-04 00:00:00-04:00\",\"2023-05-05 00:00:00-04:00\",\"2023-05-08 00:00:00-04:00\",\"2023-05-09 00:00:00-04:00\",\"2023-05-10 00:00:00-04:00\",\"2023-05-11 00:00:00-04:00\",\"2023-05-12 00:00:00-04:00\",\"2023-05-15 00:00:00-04:00\",\"2023-05-16 00:00:00-04:00\",\"2023-05-17 00:00:00-04:00\",\"2023-05-18 00:00:00-04:00\",\"2023-05-19 00:00:00-04:00\",\"2023-05-22 00:00:00-04:00\",\"2023-05-23 00:00:00-04:00\",\"2023-05-24 00:00:00-04:00\",\"2023-05-25 00:00:00-04:00\",\"2023-05-26 00:00:00-04:00\",\"2023-05-30 00:00:00-04:00\",\"2023-05-31 00:00:00-04:00\",\"2023-06-01 00:00:00-04:00\",\"2023-06-02 00:00:00-04:00\",\"2023-06-05 00:00:00-04:00\",\"2023-06-06 00:00:00-04:00\",\"2023-06-07 00:00:00-04:00\",\"2023-06-08 00:00:00-04:00\",\"2023-06-09 00:00:00-04:00\",\"2023-06-12 00:00:00-04:00\",\"2023-06-13 00:00:00-04:00\",\"2023-06-14 00:00:00-04:00\",\"2023-06-15 00:00:00-04:00\",\"2023-06-16 00:00:00-04:00\",\"2023-06-20 00:00:00-04:00\",\"2023-06-21 00:00:00-04:00\",\"2023-06-22 00:00:00-04:00\",\"2023-06-23 00:00:00-04:00\",\"2023-06-26 00:00:00-04:00\",\"2023-06-27 00:00:00-04:00\",\"2023-06-28 00:00:00-04:00\",\"2023-06-29 00:00:00-04:00\",\"2023-06-30 00:00:00-04:00\"],\"y\":[100.0,101.04720548830315,101.99120835787994,105.17868341536649,103.23714629140457,104.67417951008153,104.3034624959617,103.54290587408069,103.85247809809772,102.96962001862376,101.04720548830315,100.14522481518786,100.60768276923662,99.74011088728835,99.25473551433838,98.047013074628,97.41257649037458,96.94247543756295,96.15516500066514,96.46473722468217,94.17542426027632,94.22128285285342,93.70150462743011,93.19701853822619,93.2543447482944,91.80202533209176,91.72558246707588,92.68105889283747,93.12440613063225,92.93161831778187,92.56148329564242,90.30595555956748,92.73883644362517,91.85590709982706,91.05393996693336,91.61685686322951,90.09004247353718,90.39463213355884,89.31892091560404,91.06550854221699,90.50644585811747,90.53343128218772,90.64910515763668,88.18537275992475,88.07355309667243,87.05567881644211,87.85764001064213,89.90496902377377,88.90251159233006,90.56813106934494,90.4409004959997,88.59791599361472,90.4987314950305,89.81629244978241,88.61334471978867,89.87412938750688,91.774938950229,91.28527584044393,91.94843788601509,92.93161831778187,93.11283161665494,93.2092225537333,94.24637977233424,95.43775892704434,97.68943245092262,97.67016138993938,96.73709759411642,96.94144210486307,96.19731784838753,96.9453022557534,96.39009378385055,95.645969527375,94.88255639383516,94.92882475627601,93.86853632580149,94.02275826191064,94.2502339845309,94.41217028372702,92.07182018585736,92.66558265711407,92.4342467836035,92.11037418521123,90.98068618042227,88.41284848254499,89.40759748959542,91.19659926645257,90.46017749567663,90.38691777047187,90.26354140932328,89.56181942570457,89.81629244978241,90.039913960206,87.86150016153246,87.57738711731058,87.26991719085537,86.9546675756827,87.17651341669675,87.35165143193781,86.13735485832652,84.63504945744094,84.42876893255544,85.05148847418332,85.87658681895061,83.39350615723761,84.87246061458353,86.35530491628818,86.09843265996466,86.11010813173448,85.9193988616712,85.14100240398321,84.59612725907908,86.39811695900876,86.51098183234829,88.9084443473138,89.38326666159898,88.96682170616293,88.363563263716,89.38326666159898,88.39080999030806,87.46451630527736,86.63941796051007,86.13345907527413,86.075081716425,86.366980388058],\"type\":\"scatter\"},{\"line\":{\"color\":\"rgba(55, 128, 191, 1.0)\",\"dash\":\"solid\",\"shape\":\"linear\",\"width\":1.3},\"mode\":\"lines\",\"name\":\"GS\",\"text\":\"\",\"x\":[\"2023-01-03 00:00:00-05:00\",\"2023-01-04 00:00:00-05:00\",\"2023-01-05 00:00:00-05:00\",\"2023-01-06 00:00:00-05:00\",\"2023-01-09 00:00:00-05:00\",\"2023-01-10 00:00:00-05:00\",\"2023-01-11 00:00:00-05:00\",\"2023-01-12 00:00:00-05:00\",\"2023-01-13 00:00:00-05:00\",\"2023-01-17 00:00:00-05:00\",\"2023-01-18 00:00:00-05:00\",\"2023-01-19 00:00:00-05:00\",\"2023-01-20 00:00:00-05:00\",\"2023-01-23 00:00:00-05:00\",\"2023-01-24 00:00:00-05:00\",\"2023-01-25 00:00:00-05:00\",\"2023-01-26 00:00:00-05:00\",\"2023-01-27 00:00:00-05:00\",\"2023-01-30 00:00:00-05:00\",\"2023-01-31 00:00:00-05:00\",\"2023-02-01 00:00:00-05:00\",\"2023-02-02 00:00:00-05:00\",\"2023-02-03 00:00:00-05:00\",\"2023-02-06 00:00:00-05:00\",\"2023-02-07 00:00:00-05:00\",\"2023-02-08 00:00:00-05:00\",\"2023-02-09 00:00:00-05:00\",\"2023-02-10 00:00:00-05:00\",\"2023-02-13 00:00:00-05:00\",\"2023-02-14 00:00:00-05:00\",\"2023-02-15 00:00:00-05:00\",\"2023-02-16 00:00:00-05:00\",\"2023-02-17 00:00:00-05:00\",\"2023-02-21 00:00:00-05:00\",\"2023-02-22 00:00:00-05:00\",\"2023-02-23 00:00:00-05:00\",\"2023-02-24 00:00:00-05:00\",\"2023-02-27 00:00:00-05:00\",\"2023-02-28 00:00:00-05:00\",\"2023-03-01 00:00:00-05:00\",\"2023-03-02 00:00:00-05:00\",\"2023-03-03 00:00:00-05:00\",\"2023-03-06 00:00:00-05:00\",\"2023-03-07 00:00:00-05:00\",\"2023-03-08 00:00:00-05:00\",\"2023-03-09 00:00:00-05:00\",\"2023-03-10 00:00:00-05:00\",\"2023-03-13 00:00:00-04:00\",\"2023-03-14 00:00:00-04:00\",\"2023-03-15 00:00:00-04:00\",\"2023-03-16 00:00:00-04:00\",\"2023-03-17 00:00:00-04:00\",\"2023-03-20 00:00:00-04:00\",\"2023-03-21 00:00:00-04:00\",\"2023-03-22 00:00:00-04:00\",\"2023-03-23 00:00:00-04:00\",\"2023-03-24 00:00:00-04:00\",\"2023-03-27 00:00:00-04:00\",\"2023-03-28 00:00:00-04:00\",\"2023-03-29 00:00:00-04:00\",\"2023-03-30 00:00:00-04:00\",\"2023-03-31 00:00:00-04:00\",\"2023-04-03 00:00:00-04:00\",\"2023-04-04 00:00:00-04:00\",\"2023-04-05 00:00:00-04:00\",\"2023-04-06 00:00:00-04:00\",\"2023-04-10 00:00:00-04:00\",\"2023-04-11 00:00:00-04:00\",\"2023-04-12 00:00:00-04:00\",\"2023-04-13 00:00:00-04:00\",\"2023-04-14 00:00:00-04:00\",\"2023-04-17 00:00:00-04:00\",\"2023-04-18 00:00:00-04:00\",\"2023-04-19 00:00:00-04:00\",\"2023-04-20 00:00:00-04:00\",\"2023-04-21 00:00:00-04:00\",\"2023-04-24 00:00:00-04:00\",\"2023-04-25 00:00:00-04:00\",\"2023-04-26 00:00:00-04:00\",\"2023-04-27 00:00:00-04:00\",\"2023-04-28 00:00:00-04:00\",\"2023-05-01 00:00:00-04:00\",\"2023-05-02 00:00:00-04:00\",\"2023-05-03 00:00:00-04:00\",\"2023-05-04 00:00:00-04:00\",\"2023-05-05 00:00:00-04:00\",\"2023-05-08 00:00:00-04:00\",\"2023-05-09 00:00:00-04:00\",\"2023-05-10 00:00:00-04:00\",\"2023-05-11 00:00:00-04:00\",\"2023-05-12 00:00:00-04:00\",\"2023-05-15 00:00:00-04:00\",\"2023-05-16 00:00:00-04:00\",\"2023-05-17 00:00:00-04:00\",\"2023-05-18 00:00:00-04:00\",\"2023-05-19 00:00:00-04:00\",\"2023-05-22 00:00:00-04:00\",\"2023-05-23 00:00:00-04:00\",\"2023-05-24 00:00:00-04:00\",\"2023-05-25 00:00:00-04:00\",\"2023-05-26 00:00:00-04:00\",\"2023-05-30 00:00:00-04:00\",\"2023-05-31 00:00:00-04:00\",\"2023-06-01 00:00:00-04:00\",\"2023-06-02 00:00:00-04:00\",\"2023-06-05 00:00:00-04:00\",\"2023-06-06 00:00:00-04:00\",\"2023-06-07 00:00:00-04:00\",\"2023-06-08 00:00:00-04:00\",\"2023-06-09 00:00:00-04:00\",\"2023-06-12 00:00:00-04:00\",\"2023-06-13 00:00:00-04:00\",\"2023-06-14 00:00:00-04:00\",\"2023-06-15 00:00:00-04:00\",\"2023-06-16 00:00:00-04:00\",\"2023-06-20 00:00:00-04:00\",\"2023-06-21 00:00:00-04:00\",\"2023-06-22 00:00:00-04:00\",\"2023-06-23 00:00:00-04:00\",\"2023-06-26 00:00:00-04:00\",\"2023-06-27 00:00:00-04:00\",\"2023-06-28 00:00:00-04:00\",\"2023-06-29 00:00:00-04:00\",\"2023-06-30 00:00:00-04:00\"],\"y\":[100.0,100.42748292358282,99.28947255428852,100.53723177770064,101.95829561433953,103.21761205671982,105.27411719664089,106.85114087283839,108.0238050086053,101.06869389113315,100.82896210448729,101.308425677779,98.73491389335156,100.84339968298156,100.60944650581976,100.98493088926182,102.52730079898669,102.16048432977077,103.24649615892429,105.6582516038772,105.62936750167276,106.7153882760422,106.85403017758041,107.09954057371036,108.13933247220722,108.34152118763842,106.28791429767533,107.23818247524859,108.02957467287347,107.38259404105497,108.12200558897092,106.92623596048361,106.43521516822373,104.30363283108927,104.23720565767016,105.00261200304853,105.09214466918802,105.57738685196382,101.56837365240324,100.71894489389186,101.5538287313179,103.87813574544063,103.86649801952919,100.67530118542001,101.60910122048526,99.51460574855356,95.31980935955832,91.78244161457569,93.71401786896331,90.81664454216596,91.66025891032957,88.30034635876041,90.04283863903908,92.29732824290913,91.24717778437737,91.59044150007692,90.92718952050065,92.66096021525767,92.63477756826094,93.29803849305314,93.42022119729926,95.15689014201425,94.98525828416446,93.8594760250323,93.5336644255919,93.78675141960576,94.53145853534612,95.23253088783056,96.06741472525664,96.61722347654027,98.01064659598754,98.81353339606912,97.13502624526352,98.00192501046591,98.53135655988464,99.38951584913357,100.05859116427351,98.75535371172789,97.9059160080006,99.37206373287438,99.90732756307271,99.07243478043073,96.97793930849903,95.60488444570076,93.45512542981763,95.13071644023343,94.98236003420651,94.47618604617878,93.83037723764576,93.29803849305314,92.94313705144215,93.69075136235638,93.32421219483396,96.04996260899745,95.8754235559738,94.87762944621957,94.51982975465062,94.12710794013147,93.03331377312786,94.21728466181717,96.5823192440219,96.23904658310643,94.94054114978228,92.742164885376,94.86726194096873,94.32792803752696,95.79057818297618,98.41397743658736,98.33190508052483,98.49311576182825,99.51023153796886,100.39251607455301,99.196603322611,99.58351074678241,99.16435581922076,96.93960011306753,95.28349178292466,93.67427427463244,92.24679671817918,91.5579703662887,91.87747558850575,91.93902761924868,94.70311722884367,95.01482222277882],\"type\":\"scatter\"},{\"line\":{\"color\":\"rgba(50, 171, 96, 1.0)\",\"dash\":\"solid\",\"shape\":\"linear\",\"width\":1.3},\"mode\":\"lines\",\"name\":\"HD\",\"text\":\"\",\"x\":[\"2023-01-03 00:00:00-05:00\",\"2023-01-04 00:00:00-05:00\",\"2023-01-05 00:00:00-05:00\",\"2023-01-06 00:00:00-05:00\",\"2023-01-09 00:00:00-05:00\",\"2023-01-10 00:00:00-05:00\",\"2023-01-11 00:00:00-05:00\",\"2023-01-12 00:00:00-05:00\",\"2023-01-13 00:00:00-05:00\",\"2023-01-17 00:00:00-05:00\",\"2023-01-18 00:00:00-05:00\",\"2023-01-19 00:00:00-05:00\",\"2023-01-20 00:00:00-05:00\",\"2023-01-23 00:00:00-05:00\",\"2023-01-24 00:00:00-05:00\",\"2023-01-25 00:00:00-05:00\",\"2023-01-26 00:00:00-05:00\",\"2023-01-27 00:00:00-05:00\",\"2023-01-30 00:00:00-05:00\",\"2023-01-31 00:00:00-05:00\",\"2023-02-01 00:00:00-05:00\",\"2023-02-02 00:00:00-05:00\",\"2023-02-03 00:00:00-05:00\",\"2023-02-06 00:00:00-05:00\",\"2023-02-07 00:00:00-05:00\",\"2023-02-08 00:00:00-05:00\",\"2023-02-09 00:00:00-05:00\",\"2023-02-10 00:00:00-05:00\",\"2023-02-13 00:00:00-05:00\",\"2023-02-14 00:00:00-05:00\",\"2023-02-15 00:00:00-05:00\",\"2023-02-16 00:00:00-05:00\",\"2023-02-17 00:00:00-05:00\",\"2023-02-21 00:00:00-05:00\",\"2023-02-22 00:00:00-05:00\",\"2023-02-23 00:00:00-05:00\",\"2023-02-24 00:00:00-05:00\",\"2023-02-27 00:00:00-05:00\",\"2023-02-28 00:00:00-05:00\",\"2023-03-01 00:00:00-05:00\",\"2023-03-02 00:00:00-05:00\",\"2023-03-03 00:00:00-05:00\",\"2023-03-06 00:00:00-05:00\",\"2023-03-07 00:00:00-05:00\",\"2023-03-08 00:00:00-05:00\",\"2023-03-09 00:00:00-05:00\",\"2023-03-10 00:00:00-05:00\",\"2023-03-13 00:00:00-04:00\",\"2023-03-14 00:00:00-04:00\",\"2023-03-15 00:00:00-04:00\",\"2023-03-16 00:00:00-04:00\",\"2023-03-17 00:00:00-04:00\",\"2023-03-20 00:00:00-04:00\",\"2023-03-21 00:00:00-04:00\",\"2023-03-22 00:00:00-04:00\",\"2023-03-23 00:00:00-04:00\",\"2023-03-24 00:00:00-04:00\",\"2023-03-27 00:00:00-04:00\",\"2023-03-28 00:00:00-04:00\",\"2023-03-29 00:00:00-04:00\",\"2023-03-30 00:00:00-04:00\",\"2023-03-31 00:00:00-04:00\",\"2023-04-03 00:00:00-04:00\",\"2023-04-04 00:00:00-04:00\",\"2023-04-05 00:00:00-04:00\",\"2023-04-06 00:00:00-04:00\",\"2023-04-10 00:00:00-04:00\",\"2023-04-11 00:00:00-04:00\",\"2023-04-12 00:00:00-04:00\",\"2023-04-13 00:00:00-04:00\",\"2023-04-14 00:00:00-04:00\",\"2023-04-17 00:00:00-04:00\",\"2023-04-18 00:00:00-04:00\",\"2023-04-19 00:00:00-04:00\",\"2023-04-20 00:00:00-04:00\",\"2023-04-21 00:00:00-04:00\",\"2023-04-24 00:00:00-04:00\",\"2023-04-25 00:00:00-04:00\",\"2023-04-26 00:00:00-04:00\",\"2023-04-27 00:00:00-04:00\",\"2023-04-28 00:00:00-04:00\",\"2023-05-01 00:00:00-04:00\",\"2023-05-02 00:00:00-04:00\",\"2023-05-03 00:00:00-04:00\",\"2023-05-04 00:00:00-04:00\",\"2023-05-05 00:00:00-04:00\",\"2023-05-08 00:00:00-04:00\",\"2023-05-09 00:00:00-04:00\",\"2023-05-10 00:00:00-04:00\",\"2023-05-11 00:00:00-04:00\",\"2023-05-12 00:00:00-04:00\",\"2023-05-15 00:00:00-04:00\",\"2023-05-16 00:00:00-04:00\",\"2023-05-17 00:00:00-04:00\",\"2023-05-18 00:00:00-04:00\",\"2023-05-19 00:00:00-04:00\",\"2023-05-22 00:00:00-04:00\",\"2023-05-23 00:00:00-04:00\",\"2023-05-24 00:00:00-04:00\",\"2023-05-25 00:00:00-04:00\",\"2023-05-26 00:00:00-04:00\",\"2023-05-30 00:00:00-04:00\",\"2023-05-31 00:00:00-04:00\",\"2023-06-01 00:00:00-04:00\",\"2023-06-02 00:00:00-04:00\",\"2023-06-05 00:00:00-04:00\",\"2023-06-06 00:00:00-04:00\",\"2023-06-07 00:00:00-04:00\",\"2023-06-08 00:00:00-04:00\",\"2023-06-09 00:00:00-04:00\",\"2023-06-12 00:00:00-04:00\",\"2023-06-13 00:00:00-04:00\",\"2023-06-14 00:00:00-04:00\",\"2023-06-15 00:00:00-04:00\",\"2023-06-16 00:00:00-04:00\",\"2023-06-20 00:00:00-04:00\",\"2023-06-21 00:00:00-04:00\",\"2023-06-22 00:00:00-04:00\",\"2023-06-23 00:00:00-04:00\",\"2023-06-26 00:00:00-04:00\",\"2023-06-27 00:00:00-04:00\",\"2023-06-28 00:00:00-04:00\",\"2023-06-29 00:00:00-04:00\",\"2023-06-30 00:00:00-04:00\"],\"y\":[100.0,101.2091997378246,99.86071932022561,100.51279633895265,100.60143929902578,101.49409203736313,104.14358062285474,104.41897651240863,104.84313969150485,103.67825653360848,102.46271605557742,98.40777839279582,99.7119422304666,99.86388479022048,100.56345365908732,100.4273286490911,99.33524150086008,100.24690665960006,99.47136651085629,102.61466841554801,103.85552285332133,107.55910314688879,104.93493832135616,104.22903851249959,102.94071182501987,101.54474935749779,99.88603327996789,100.19942460967697,102.41207833587616,100.79768863849117,101.51308485733237,101.68717590683364,100.64575587895399,93.53929534089858,93.79253294048839,94.745339408945,93.9064898603038,93.70073431063707,93.86850422036532,92.04836877353031,92.7542587821702,94.47310898938598,94.39712790929234,92.01987954357647,92.93812064772376,91.8253844429008,91.28653912795319,91.35349420846394,91.05060871105982,91.81581943139928,91.42045908919137,91.94972959242075,92.22711492596525,92.28131992454617,90.1068380424028,90.52133820783045,90.237563132996,89.67959759526202,89.53612242273901,90.34596332994114,90.98364383033237,94.09550663984282,94.92768224090972,94.04448671169017,92.03900956657954,92.01986974335976,92.83610039185186,93.66507132205707,92.60334524517006,93.14856070097422,93.16131078290402,94.18477681378491,95.31666264204434,94.66623205972331,95.19550256295267,95.66419792674455,96.17433840697085,94.48130197054917,91.84769953633214,93.71609125020971,95.82360825162566,94.91811722940817,93.82768631779986,93.44507605752177,91.10799878006902,92.34189506398366,91.80305954925275,92.64797543203275,92.15377990438125,91.72653945724048,92.6129102566716,91.99755464992842,90.01756786846072,93.22508079298649,94.10826652198934,92.7436353472648,92.67349519632579,94.03811657083362,92.81377549820382,91.42682923004793,93.36536109486453,93.22826586341478,91.02529475131755,92.6116950298005,95.03624904153881,94.12423107499754,95.05551626757571,96.88598114281503,96.69008461115092,95.48904845383942,96.61622037786499,96.36573663916856,96.24691881186877,96.98873641493961,96.46208256956977,96.7928496834922,96.56484764191106,96.71898545020628,96.60016762290647,98.87379829742795,100.75242143754282,98.4306324981458,98.85131660031267,99.53211805419441],\"type\":\"scatter\"},{\"line\":{\"color\":\"rgba(128, 0, 128, 1.0)\",\"dash\":\"solid\",\"shape\":\"linear\",\"width\":1.3},\"mode\":\"lines\",\"name\":\"MCD\",\"text\":\"\",\"x\":[\"2023-01-03 00:00:00-05:00\",\"2023-01-04 00:00:00-05:00\",\"2023-01-05 00:00:00-05:00\",\"2023-01-06 00:00:00-05:00\",\"2023-01-09 00:00:00-05:00\",\"2023-01-10 00:00:00-05:00\",\"2023-01-11 00:00:00-05:00\",\"2023-01-12 00:00:00-05:00\",\"2023-01-13 00:00:00-05:00\",\"2023-01-17 00:00:00-05:00\",\"2023-01-18 00:00:00-05:00\",\"2023-01-19 00:00:00-05:00\",\"2023-01-20 00:00:00-05:00\",\"2023-01-23 00:00:00-05:00\",\"2023-01-24 00:00:00-05:00\",\"2023-01-25 00:00:00-05:00\",\"2023-01-26 00:00:00-05:00\",\"2023-01-27 00:00:00-05:00\",\"2023-01-30 00:00:00-05:00\",\"2023-01-31 00:00:00-05:00\",\"2023-02-01 00:00:00-05:00\",\"2023-02-02 00:00:00-05:00\",\"2023-02-03 00:00:00-05:00\",\"2023-02-06 00:00:00-05:00\",\"2023-02-07 00:00:00-05:00\",\"2023-02-08 00:00:00-05:00\",\"2023-02-09 00:00:00-05:00\",\"2023-02-10 00:00:00-05:00\",\"2023-02-13 00:00:00-05:00\",\"2023-02-14 00:00:00-05:00\",\"2023-02-15 00:00:00-05:00\",\"2023-02-16 00:00:00-05:00\",\"2023-02-17 00:00:00-05:00\",\"2023-02-21 00:00:00-05:00\",\"2023-02-22 00:00:00-05:00\",\"2023-02-23 00:00:00-05:00\",\"2023-02-24 00:00:00-05:00\",\"2023-02-27 00:00:00-05:00\",\"2023-02-28 00:00:00-05:00\",\"2023-03-01 00:00:00-05:00\",\"2023-03-02 00:00:00-05:00\",\"2023-03-03 00:00:00-05:00\",\"2023-03-06 00:00:00-05:00\",\"2023-03-07 00:00:00-05:00\",\"2023-03-08 00:00:00-05:00\",\"2023-03-09 00:00:00-05:00\",\"2023-03-10 00:00:00-05:00\",\"2023-03-13 00:00:00-04:00\",\"2023-03-14 00:00:00-04:00\",\"2023-03-15 00:00:00-04:00\",\"2023-03-16 00:00:00-04:00\",\"2023-03-17 00:00:00-04:00\",\"2023-03-20 00:00:00-04:00\",\"2023-03-21 00:00:00-04:00\",\"2023-03-22 00:00:00-04:00\",\"2023-03-23 00:00:00-04:00\",\"2023-03-24 00:00:00-04:00\",\"2023-03-27 00:00:00-04:00\",\"2023-03-28 00:00:00-04:00\",\"2023-03-29 00:00:00-04:00\",\"2023-03-30 00:00:00-04:00\",\"2023-03-31 00:00:00-04:00\",\"2023-04-03 00:00:00-04:00\",\"2023-04-04 00:00:00-04:00\",\"2023-04-05 00:00:00-04:00\",\"2023-04-06 00:00:00-04:00\",\"2023-04-10 00:00:00-04:00\",\"2023-04-11 00:00:00-04:00\",\"2023-04-12 00:00:00-04:00\",\"2023-04-13 00:00:00-04:00\",\"2023-04-14 00:00:00-04:00\",\"2023-04-17 00:00:00-04:00\",\"2023-04-18 00:00:00-04:00\",\"2023-04-19 00:00:00-04:00\",\"2023-04-20 00:00:00-04:00\",\"2023-04-21 00:00:00-04:00\",\"2023-04-24 00:00:00-04:00\",\"2023-04-25 00:00:00-04:00\",\"2023-04-26 00:00:00-04:00\",\"2023-04-27 00:00:00-04:00\",\"2023-04-28 00:00:00-04:00\",\"2023-05-01 00:00:00-04:00\",\"2023-05-02 00:00:00-04:00\",\"2023-05-03 00:00:00-04:00\",\"2023-05-04 00:00:00-04:00\",\"2023-05-05 00:00:00-04:00\",\"2023-05-08 00:00:00-04:00\",\"2023-05-09 00:00:00-04:00\",\"2023-05-10 00:00:00-04:00\",\"2023-05-11 00:00:00-04:00\",\"2023-05-12 00:00:00-04:00\",\"2023-05-15 00:00:00-04:00\",\"2023-05-16 00:00:00-04:00\",\"2023-05-17 00:00:00-04:00\",\"2023-05-18 00:00:00-04:00\",\"2023-05-19 00:00:00-04:00\",\"2023-05-22 00:00:00-04:00\",\"2023-05-23 00:00:00-04:00\",\"2023-05-24 00:00:00-04:00\",\"2023-05-25 00:00:00-04:00\",\"2023-05-26 00:00:00-04:00\",\"2023-05-30 00:00:00-04:00\",\"2023-05-31 00:00:00-04:00\",\"2023-06-01 00:00:00-04:00\",\"2023-06-02 00:00:00-04:00\",\"2023-06-05 00:00:00-04:00\",\"2023-06-06 00:00:00-04:00\",\"2023-06-07 00:00:00-04:00\",\"2023-06-08 00:00:00-04:00\",\"2023-06-09 00:00:00-04:00\",\"2023-06-12 00:00:00-04:00\",\"2023-06-13 00:00:00-04:00\",\"2023-06-14 00:00:00-04:00\",\"2023-06-15 00:00:00-04:00\",\"2023-06-16 00:00:00-04:00\",\"2023-06-20 00:00:00-04:00\",\"2023-06-21 00:00:00-04:00\",\"2023-06-22 00:00:00-04:00\",\"2023-06-23 00:00:00-04:00\",\"2023-06-26 00:00:00-04:00\",\"2023-06-27 00:00:00-04:00\",\"2023-06-28 00:00:00-04:00\",\"2023-06-29 00:00:00-04:00\",\"2023-06-30 00:00:00-04:00\"],\"y\":[100.0,100.02271673999606,99.17906884713128,101.94454593952864,101.10469195236722,101.73269424505362,101.69486025002423,100.89282858433619,101.72512978075893,103.69992190391028,100.6469251269791,99.71626254761352,101.6078455635234,101.87645408732054,101.97859770241071,103.2800007471076,103.93070810623404,103.07571351692724,102.4817629871229,101.16143710813333,100.7339398134799,99.57629661104995,99.96217767852661,101.35817154757501,101.13873204169327,99.4287545366357,98.61159394235831,99.27743023007412,100.70746418844855,100.86255905360146,100.84365956642078,100.56747490477295,102.14126870541432,101.59648719352539,101.63055062996345,100.92688034721824,99.75409654264291,100.1702471408543,100.41757477204463,99.96478088151692,101.81020665696205,102.38096183097392,102.9783443862453,101.64278451666225,100.95788531198163,99.55004278358278,99.70224260684513,100.10175838774182,101.17476830909709,101.3421904493969,102.95170533142976,101.66942357147776,103.01638850528288,102.81471615164884,101.92435068763082,102.59022199601463,103.24088266091704,104.19593129878817,104.96074766791534,105.56572970814943,105.69891330867101,106.39141199831434,107.35408346826019,107.4073499043352,107.30841651714786,107.63946689204411,107.97810507834707,108.2444489322782,108.55645973732165,109.990941320536,109.95670278075778,110.08226354920463,110.69106284225407,110.82804034847899,110.7253013820323,111.12863441574436,111.5624120835313,110.91936257714761,110.25349126876378,112.14076674250586,112.53267136488385,113.22898730734255,113.41543734393915,112.33101068480582,112.30818888280567,112.85609890770536,112.89034912103959,112.87893238326151,112.8446938434833,112.16740579732138,112.68107728244286,112.58975505377424,111.92387207183438,111.66133379716263,111.8858279527968,112.45657145325265,110.09748586624207,108.96358667673705,108.7923706307339,108.64015913391553,108.83802590829022,108.411871072578,108.48415373139382,109.5343418507489,110.89610885357509,110.32997640774332,108.84198324377769,107.8321272604382,109.31630317158843,109.70265118130551,110.38353468271858,110.37587682997582,110.33380533411467,111.92890337447483,112.34585944805093,112.09339545221606,112.65951622449182,112.19284247586785,110.89610885357509,110.58244040357819,111.42780430917647,111.59611363973305,112.64039493974694,113.73822284118009],\"type\":\"scatter\"},{\"line\":{\"color\":\"rgba(219, 64, 82, 1.0)\",\"dash\":\"solid\",\"shape\":\"linear\",\"width\":1.3},\"mode\":\"lines\",\"name\":\"UNH\",\"text\":\"\",\"x\":[\"2023-01-03 00:00:00-05:00\",\"2023-01-04 00:00:00-05:00\",\"2023-01-05 00:00:00-05:00\",\"2023-01-06 00:00:00-05:00\",\"2023-01-09 00:00:00-05:00\",\"2023-01-10 00:00:00-05:00\",\"2023-01-11 00:00:00-05:00\",\"2023-01-12 00:00:00-05:00\",\"2023-01-13 00:00:00-05:00\",\"2023-01-17 00:00:00-05:00\",\"2023-01-18 00:00:00-05:00\",\"2023-01-19 00:00:00-05:00\",\"2023-01-20 00:00:00-05:00\",\"2023-01-23 00:00:00-05:00\",\"2023-01-24 00:00:00-05:00\",\"2023-01-25 00:00:00-05:00\",\"2023-01-26 00:00:00-05:00\",\"2023-01-27 00:00:00-05:00\",\"2023-01-30 00:00:00-05:00\",\"2023-01-31 00:00:00-05:00\",\"2023-02-01 00:00:00-05:00\",\"2023-02-02 00:00:00-05:00\",\"2023-02-03 00:00:00-05:00\",\"2023-02-06 00:00:00-05:00\",\"2023-02-07 00:00:00-05:00\",\"2023-02-08 00:00:00-05:00\",\"2023-02-09 00:00:00-05:00\",\"2023-02-10 00:00:00-05:00\",\"2023-02-13 00:00:00-05:00\",\"2023-02-14 00:00:00-05:00\",\"2023-02-15 00:00:00-05:00\",\"2023-02-16 00:00:00-05:00\",\"2023-02-17 00:00:00-05:00\",\"2023-02-21 00:00:00-05:00\",\"2023-02-22 00:00:00-05:00\",\"2023-02-23 00:00:00-05:00\",\"2023-02-24 00:00:00-05:00\",\"2023-02-27 00:00:00-05:00\",\"2023-02-28 00:00:00-05:00\",\"2023-03-01 00:00:00-05:00\",\"2023-03-02 00:00:00-05:00\",\"2023-03-03 00:00:00-05:00\",\"2023-03-06 00:00:00-05:00\",\"2023-03-07 00:00:00-05:00\",\"2023-03-08 00:00:00-05:00\",\"2023-03-09 00:00:00-05:00\",\"2023-03-10 00:00:00-05:00\",\"2023-03-13 00:00:00-04:00\",\"2023-03-14 00:00:00-04:00\",\"2023-03-15 00:00:00-04:00\",\"2023-03-16 00:00:00-04:00\",\"2023-03-17 00:00:00-04:00\",\"2023-03-20 00:00:00-04:00\",\"2023-03-21 00:00:00-04:00\",\"2023-03-22 00:00:00-04:00\",\"2023-03-23 00:00:00-04:00\",\"2023-03-24 00:00:00-04:00\",\"2023-03-27 00:00:00-04:00\",\"2023-03-28 00:00:00-04:00\",\"2023-03-29 00:00:00-04:00\",\"2023-03-30 00:00:00-04:00\",\"2023-03-31 00:00:00-04:00\",\"2023-04-03 00:00:00-04:00\",\"2023-04-04 00:00:00-04:00\",\"2023-04-05 00:00:00-04:00\",\"2023-04-06 00:00:00-04:00\",\"2023-04-10 00:00:00-04:00\",\"2023-04-11 00:00:00-04:00\",\"2023-04-12 00:00:00-04:00\",\"2023-04-13 00:00:00-04:00\",\"2023-04-14 00:00:00-04:00\",\"2023-04-17 00:00:00-04:00\",\"2023-04-18 00:00:00-04:00\",\"2023-04-19 00:00:00-04:00\",\"2023-04-20 00:00:00-04:00\",\"2023-04-21 00:00:00-04:00\",\"2023-04-24 00:00:00-04:00\",\"2023-04-25 00:00:00-04:00\",\"2023-04-26 00:00:00-04:00\",\"2023-04-27 00:00:00-04:00\",\"2023-04-28 00:00:00-04:00\",\"2023-05-01 00:00:00-04:00\",\"2023-05-02 00:00:00-04:00\",\"2023-05-03 00:00:00-04:00\",\"2023-05-04 00:00:00-04:00\",\"2023-05-05 00:00:00-04:00\",\"2023-05-08 00:00:00-04:00\",\"2023-05-09 00:00:00-04:00\",\"2023-05-10 00:00:00-04:00\",\"2023-05-11 00:00:00-04:00\",\"2023-05-12 00:00:00-04:00\",\"2023-05-15 00:00:00-04:00\",\"2023-05-16 00:00:00-04:00\",\"2023-05-17 00:00:00-04:00\",\"2023-05-18 00:00:00-04:00\",\"2023-05-19 00:00:00-04:00\",\"2023-05-22 00:00:00-04:00\",\"2023-05-23 00:00:00-04:00\",\"2023-05-24 00:00:00-04:00\",\"2023-05-25 00:00:00-04:00\",\"2023-05-26 00:00:00-04:00\",\"2023-05-30 00:00:00-04:00\",\"2023-05-31 00:00:00-04:00\",\"2023-06-01 00:00:00-04:00\",\"2023-06-02 00:00:00-04:00\",\"2023-06-05 00:00:00-04:00\",\"2023-06-06 00:00:00-04:00\",\"2023-06-07 00:00:00-04:00\",\"2023-06-08 00:00:00-04:00\",\"2023-06-09 00:00:00-04:00\",\"2023-06-12 00:00:00-04:00\",\"2023-06-13 00:00:00-04:00\",\"2023-06-14 00:00:00-04:00\",\"2023-06-15 00:00:00-04:00\",\"2023-06-16 00:00:00-04:00\",\"2023-06-20 00:00:00-04:00\",\"2023-06-21 00:00:00-04:00\",\"2023-06-22 00:00:00-04:00\",\"2023-06-23 00:00:00-04:00\",\"2023-06-26 00:00:00-04:00\",\"2023-06-27 00:00:00-04:00\",\"2023-06-28 00:00:00-04:00\",\"2023-06-29 00:00:00-04:00\",\"2023-06-30 00:00:00-04:00\"],\"y\":[100.0,97.27363629636517,94.47014357571261,94.47786359263736,94.48943175931952,93.70661492792753,95.13341873182061,95.57110574359771,94.39495938630728,93.52922648988026,91.82476889755786,93.39039663098936,93.84543885746595,93.66997745897362,94.78636187265079,94.95989030223569,94.9560362231258,93.71625012570227,93.66612337986373,96.24980314549776,95.82754430886519,90.78165349243605,91.01110164522929,91.63195228436605,91.94817058130424,93.1705955346758,93.65455521318157,95.29731196363078,95.50940490172454,95.02351225431134,94.71887398276029,93.96691350165737,96.22859385168839,94.73044214944245,94.26384361498864,94.80371708735026,93.38461551232452,93.18987778893023,91.76692806414705,91.62809820525617,92.10627676509708,92.27209110710972,92.70013699175962,91.36973260043374,90.73731379461482,89.6402057058396,89.07325881006909,89.72147934023857,89.89563035183355,90.06010466018644,91.33525934513386,90.84764125614993,92.29114211661755,92.8987287942638,92.01250405567708,90.92697599228899,92.10344846396566,93.24702488810127,91.44361826164668,90.28456029819425,90.95600017266274,91.4455512305541,95.6251280740135,95.44323925743635,98.53534913924776,99.22806945975535,99.68665743901305,100.80702044820214,100.84959319898527,101.82481751824817,99.03070503321386,97.7845745286402,97.61622835311998,94.0790731331078,94.32287624824728,93.61854625559019,94.60925804352239,95.18588757188748,93.45020600942246,94.90531061268712,95.21877769007607,95.91731470536337,95.47033046890267,94.70600728788571,94.28805316115127,95.64254258223774,95.32133177051413,94.88789610446285,94.82791477480794,94.5744290270739,95.05237041281575,94.2067795267523,92.82519889419947,93.81010584605693,92.73038854809606,92.65105381195698,92.99934990579445,92.7710224006193,93.03998375831769,92.43433597893134,93.17349498803694,92.85035713675838,94.28030942681661,95.51676915750068,96.66808338661845,96.39912202892006,94.34416855299133,93.29153060779183,94.8588719240891,95.51483025924078,95.31552693443939,95.06785195213257,88.98231440178051,90.51917884634723,89.08140574037216,91.19920442320208,92.62919821872765,93.07606979749127,92.67777147421728,93.07801462510365,93.7580402019585,92.18232663996403,92.5689678562687,93.27813620054683],\"type\":\"scatter\"}],                        {\"legend\":{\"bgcolor\":\"#151516\",\"font\":{\"color\":\"#D9D9D9\"}},\"paper_bgcolor\":\"#151516\",\"plot_bgcolor\":\"#151516\",\"template\":{\"data\":{\"barpolar\":[{\"marker\":{\"line\":{\"color\":\"#E5ECF6\",\"width\":0.5},\"pattern\":{\"fillmode\":\"overlay\",\"size\":10,\"solidity\":0.2}},\"type\":\"barpolar\"}],\"bar\":[{\"error_x\":{\"color\":\"#2a3f5f\"},\"error_y\":{\"color\":\"#2a3f5f\"},\"marker\":{\"line\":{\"color\":\"#E5ECF6\",\"width\":0.5},\"pattern\":{\"fillmode\":\"overlay\",\"size\":10,\"solidity\":0.2}},\"type\":\"bar\"}],\"carpet\":[{\"aaxis\":{\"endlinecolor\":\"#2a3f5f\",\"gridcolor\":\"white\",\"linecolor\":\"white\",\"minorgridcolor\":\"white\",\"startlinecolor\":\"#2a3f5f\"},\"baxis\":{\"endlinecolor\":\"#2a3f5f\",\"gridcolor\":\"white\",\"linecolor\":\"white\",\"minorgridcolor\":\"white\",\"startlinecolor\":\"#2a3f5f\"},\"type\":\"carpet\"}],\"choropleth\":[{\"colorbar\":{\"outlinewidth\":0,\"ticks\":\"\"},\"type\":\"choropleth\"}],\"contourcarpet\":[{\"colorbar\":{\"outlinewidth\":0,\"ticks\":\"\"},\"type\":\"contourcarpet\"}],\"contour\":[{\"colorbar\":{\"outlinewidth\":0,\"ticks\":\"\"},\"colorscale\":[[0.0,\"#0d0887\"],[0.1111111111111111,\"#46039f\"],[0.2222222222222222,\"#7201a8\"],[0.3333333333333333,\"#9c179e\"],[0.4444444444444444,\"#bd3786\"],[0.5555555555555556,\"#d8576b\"],[0.6666666666666666,\"#ed7953\"],[0.7777777777777778,\"#fb9f3a\"],[0.8888888888888888,\"#fdca26\"],[1.0,\"#f0f921\"]],\"type\":\"contour\"}],\"heatmapgl\":[{\"colorbar\":{\"outlinewidth\":0,\"ticks\":\"\"},\"colorscale\":[[0.0,\"#0d0887\"],[0.1111111111111111,\"#46039f\"],[0.2222222222222222,\"#7201a8\"],[0.3333333333333333,\"#9c179e\"],[0.4444444444444444,\"#bd3786\"],[0.5555555555555556,\"#d8576b\"],[0.6666666666666666,\"#ed7953\"],[0.7777777777777778,\"#fb9f3a\"],[0.8888888888888888,\"#fdca26\"],[1.0,\"#f0f921\"]],\"type\":\"heatmapgl\"}],\"heatmap\":[{\"colorbar\":{\"outlinewidth\":0,\"ticks\":\"\"},\"colorscale\":[[0.0,\"#0d0887\"],[0.1111111111111111,\"#46039f\"],[0.2222222222222222,\"#7201a8\"],[0.3333333333333333,\"#9c179e\"],[0.4444444444444444,\"#bd3786\"],[0.5555555555555556,\"#d8576b\"],[0.6666666666666666,\"#ed7953\"],[0.7777777777777778,\"#fb9f3a\"],[0.8888888888888888,\"#fdca26\"],[1.0,\"#f0f921\"]],\"type\":\"heatmap\"}],\"histogram2dcontour\":[{\"colorbar\":{\"outlinewidth\":0,\"ticks\":\"\"},\"colorscale\":[[0.0,\"#0d0887\"],[0.1111111111111111,\"#46039f\"],[0.2222222222222222,\"#7201a8\"],[0.3333333333333333,\"#9c179e\"],[0.4444444444444444,\"#bd3786\"],[0.5555555555555556,\"#d8576b\"],[0.6666666666666666,\"#ed7953\"],[0.7777777777777778,\"#fb9f3a\"],[0.8888888888888888,\"#fdca26\"],[1.0,\"#f0f921\"]],\"type\":\"histogram2dcontour\"}],\"histogram2d\":[{\"colorbar\":{\"outlinewidth\":0,\"ticks\":\"\"},\"colorscale\":[[0.0,\"#0d0887\"],[0.1111111111111111,\"#46039f\"],[0.2222222222222222,\"#7201a8\"],[0.3333333333333333,\"#9c179e\"],[0.4444444444444444,\"#bd3786\"],[0.5555555555555556,\"#d8576b\"],[0.6666666666666666,\"#ed7953\"],[0.7777777777777778,\"#fb9f3a\"],[0.8888888888888888,\"#fdca26\"],[1.0,\"#f0f921\"]],\"type\":\"histogram2d\"}],\"histogram\":[{\"marker\":{\"pattern\":{\"fillmode\":\"overlay\",\"size\":10,\"solidity\":0.2}},\"type\":\"histogram\"}],\"mesh3d\":[{\"colorbar\":{\"outlinewidth\":0,\"ticks\":\"\"},\"type\":\"mesh3d\"}],\"parcoords\":[{\"line\":{\"colorbar\":{\"outlinewidth\":0,\"ticks\":\"\"}},\"type\":\"parcoords\"}],\"pie\":[{\"automargin\":true,\"type\":\"pie\"}],\"scatter3d\":[{\"line\":{\"colorbar\":{\"outlinewidth\":0,\"ticks\":\"\"}},\"marker\":{\"colorbar\":{\"outlinewidth\":0,\"ticks\":\"\"}},\"type\":\"scatter3d\"}],\"scattercarpet\":[{\"marker\":{\"colorbar\":{\"outlinewidth\":0,\"ticks\":\"\"}},\"type\":\"scattercarpet\"}],\"scattergeo\":[{\"marker\":{\"colorbar\":{\"outlinewidth\":0,\"ticks\":\"\"}},\"type\":\"scattergeo\"}],\"scattergl\":[{\"marker\":{\"colorbar\":{\"outlinewidth\":0,\"ticks\":\"\"}},\"type\":\"scattergl\"}],\"scattermapbox\":[{\"marker\":{\"colorbar\":{\"outlinewidth\":0,\"ticks\":\"\"}},\"type\":\"scattermapbox\"}],\"scatterpolargl\":[{\"marker\":{\"colorbar\":{\"outlinewidth\":0,\"ticks\":\"\"}},\"type\":\"scatterpolargl\"}],\"scatterpolar\":[{\"marker\":{\"colorbar\":{\"outlinewidth\":0,\"ticks\":\"\"}},\"type\":\"scatterpolar\"}],\"scatter\":[{\"fillpattern\":{\"fillmode\":\"overlay\",\"size\":10,\"solidity\":0.2},\"type\":\"scatter\"}],\"scatterternary\":[{\"marker\":{\"colorbar\":{\"outlinewidth\":0,\"ticks\":\"\"}},\"type\":\"scatterternary\"}],\"surface\":[{\"colorbar\":{\"outlinewidth\":0,\"ticks\":\"\"},\"colorscale\":[[0.0,\"#0d0887\"],[0.1111111111111111,\"#46039f\"],[0.2222222222222222,\"#7201a8\"],[0.3333333333333333,\"#9c179e\"],[0.4444444444444444,\"#bd3786\"],[0.5555555555555556,\"#d8576b\"],[0.6666666666666666,\"#ed7953\"],[0.7777777777777778,\"#fb9f3a\"],[0.8888888888888888,\"#fdca26\"],[1.0,\"#f0f921\"]],\"type\":\"surface\"}],\"table\":[{\"cells\":{\"fill\":{\"color\":\"#EBF0F8\"},\"line\":{\"color\":\"white\"}},\"header\":{\"fill\":{\"color\":\"#C8D4E3\"},\"line\":{\"color\":\"white\"}},\"type\":\"table\"}]},\"layout\":{\"annotationdefaults\":{\"arrowcolor\":\"#2a3f5f\",\"arrowhead\":0,\"arrowwidth\":1},\"autotypenumbers\":\"strict\",\"coloraxis\":{\"colorbar\":{\"outlinewidth\":0,\"ticks\":\"\"}},\"colorscale\":{\"diverging\":[[0,\"#8e0152\"],[0.1,\"#c51b7d\"],[0.2,\"#de77ae\"],[0.3,\"#f1b6da\"],[0.4,\"#fde0ef\"],[0.5,\"#f7f7f7\"],[0.6,\"#e6f5d0\"],[0.7,\"#b8e186\"],[0.8,\"#7fbc41\"],[0.9,\"#4d9221\"],[1,\"#276419\"]],\"sequential\":[[0.0,\"#0d0887\"],[0.1111111111111111,\"#46039f\"],[0.2222222222222222,\"#7201a8\"],[0.3333333333333333,\"#9c179e\"],[0.4444444444444444,\"#bd3786\"],[0.5555555555555556,\"#d8576b\"],[0.6666666666666666,\"#ed7953\"],[0.7777777777777778,\"#fb9f3a\"],[0.8888888888888888,\"#fdca26\"],[1.0,\"#f0f921\"]],\"sequentialminus\":[[0.0,\"#0d0887\"],[0.1111111111111111,\"#46039f\"],[0.2222222222222222,\"#7201a8\"],[0.3333333333333333,\"#9c179e\"],[0.4444444444444444,\"#bd3786\"],[0.5555555555555556,\"#d8576b\"],[0.6666666666666666,\"#ed7953\"],[0.7777777777777778,\"#fb9f3a\"],[0.8888888888888888,\"#fdca26\"],[1.0,\"#f0f921\"]]},\"colorway\":[\"#636efa\",\"#EF553B\",\"#00cc96\",\"#ab63fa\",\"#FFA15A\",\"#19d3f3\",\"#FF6692\",\"#B6E880\",\"#FF97FF\",\"#FECB52\"],\"font\":{\"color\":\"#2a3f5f\"},\"geo\":{\"bgcolor\":\"white\",\"lakecolor\":\"white\",\"landcolor\":\"#E5ECF6\",\"showlakes\":true,\"showland\":true,\"subunitcolor\":\"white\"},\"hoverlabel\":{\"align\":\"left\"},\"hovermode\":\"closest\",\"mapbox\":{\"style\":\"light\"},\"paper_bgcolor\":\"white\",\"plot_bgcolor\":\"#E5ECF6\",\"polar\":{\"angularaxis\":{\"gridcolor\":\"white\",\"linecolor\":\"white\",\"ticks\":\"\"},\"bgcolor\":\"#E5ECF6\",\"radialaxis\":{\"gridcolor\":\"white\",\"linecolor\":\"white\",\"ticks\":\"\"}},\"scene\":{\"xaxis\":{\"backgroundcolor\":\"#E5ECF6\",\"gridcolor\":\"white\",\"gridwidth\":2,\"linecolor\":\"white\",\"showbackground\":true,\"ticks\":\"\",\"zerolinecolor\":\"white\"},\"yaxis\":{\"backgroundcolor\":\"#E5ECF6\",\"gridcolor\":\"white\",\"gridwidth\":2,\"linecolor\":\"white\",\"showbackground\":true,\"ticks\":\"\",\"zerolinecolor\":\"white\"},\"zaxis\":{\"backgroundcolor\":\"#E5ECF6\",\"gridcolor\":\"white\",\"gridwidth\":2,\"linecolor\":\"white\",\"showbackground\":true,\"ticks\":\"\",\"zerolinecolor\":\"white\"}},\"shapedefaults\":{\"line\":{\"color\":\"#2a3f5f\"}},\"ternary\":{\"aaxis\":{\"gridcolor\":\"white\",\"linecolor\":\"white\",\"ticks\":\"\"},\"baxis\":{\"gridcolor\":\"white\",\"linecolor\":\"white\",\"ticks\":\"\"},\"bgcolor\":\"#E5ECF6\",\"caxis\":{\"gridcolor\":\"white\",\"linecolor\":\"white\",\"ticks\":\"\"}},\"title\":{\"x\":0.05},\"xaxis\":{\"automargin\":true,\"gridcolor\":\"white\",\"linecolor\":\"white\",\"ticks\":\"\",\"title\":{\"standoff\":15},\"zerolinecolor\":\"white\",\"zerolinewidth\":2},\"yaxis\":{\"automargin\":true,\"gridcolor\":\"white\",\"linecolor\":\"white\",\"ticks\":\"\",\"title\":{\"standoff\":15},\"zerolinecolor\":\"white\",\"zerolinewidth\":2}}},\"title\":{\"font\":{\"color\":\"#D9D9D9\"}},\"xaxis\":{\"gridcolor\":\"#434343\",\"showgrid\":true,\"tickfont\":{\"color\":\"#C2C2C2\"},\"title\":{\"font\":{\"color\":\"#D9D9D9\"},\"text\":\"\"},\"zerolinecolor\":\"#666570\"},\"yaxis\":{\"gridcolor\":\"#434343\",\"showgrid\":true,\"tickfont\":{\"color\":\"#C2C2C2\"},\"title\":{\"font\":{\"color\":\"#D9D9D9\"},\"text\":\"\"},\"zerolinecolor\":\"#666570\"}},                        {\"showLink\": true, \"linkText\": \"Export to plot.ly\", \"plotlyServerURL\": \"https://plot.ly\", \"responsive\": true}                    ).then(function(){\n",
       "                            \n",
       "var gd = document.getElementById('1462e62d-8f64-4989-9068-ce34bb057cef');\n",
       "var x = new MutationObserver(function (mutations, observer) {{\n",
       "        var display = window.getComputedStyle(gd).display;\n",
       "        if (!display || display === 'none') {{\n",
       "            console.log([gd, 'removed!']);\n",
       "            Plotly.purge(gd);\n",
       "            observer.disconnect();\n",
       "        }}\n",
       "}});\n",
       "\n",
       "// Listen for the removal of the full notebook cells\n",
       "var notebookContainer = gd.closest('#notebook-container');\n",
       "if (notebookContainer) {{\n",
       "    x.observe(notebookContainer, {childList: true});\n",
       "}}\n",
       "\n",
       "// Listen for the clearing of the current output cell\n",
       "var outputEl = gd.closest('.output');\n",
       "if (outputEl) {{\n",
       "    x.observe(outputEl, {childList: true});\n",
       "}}\n",
       "\n",
       "                        })                };                });            </script>        </div>"
      ]
     },
     "metadata": {},
     "output_type": "display_data"
    }
   ],
   "source": [
    "df4.normalize().iplot()"
   ]
  },
  {
   "cell_type": "code",
   "execution_count": 24,
   "id": "4074e48e-fdde-4f00-93db-0a66cb79b8b2",
   "metadata": {},
   "outputs": [
    {
     "data": {
      "text/html": [
       "<div>\n",
       "<style scoped>\n",
       "    .dataframe tbody tr th:only-of-type {\n",
       "        vertical-align: middle;\n",
       "    }\n",
       "\n",
       "    .dataframe tbody tr th {\n",
       "        vertical-align: top;\n",
       "    }\n",
       "\n",
       "    .dataframe thead th {\n",
       "        text-align: right;\n",
       "    }\n",
       "</style>\n",
       "<table border=\"1\" class=\"dataframe\">\n",
       "  <thead>\n",
       "    <tr style=\"text-align: right;\">\n",
       "      <th></th>\n",
       "      <th>AMGN</th>\n",
       "      <th>GS</th>\n",
       "      <th>HD</th>\n",
       "      <th>MCD</th>\n",
       "      <th>UNH</th>\n",
       "    </tr>\n",
       "    <tr>\n",
       "      <th>Date</th>\n",
       "      <th></th>\n",
       "      <th></th>\n",
       "      <th></th>\n",
       "      <th></th>\n",
       "      <th></th>\n",
       "    </tr>\n",
       "  </thead>\n",
       "  <tbody>\n",
       "    <tr>\n",
       "      <th>2023-01-04 00:00:00-05:00</th>\n",
       "      <td>0.010418</td>\n",
       "      <td>0.004266</td>\n",
       "      <td>0.012019</td>\n",
       "      <td>0.000227</td>\n",
       "      <td>-0.027642</td>\n",
       "    </tr>\n",
       "    <tr>\n",
       "      <th>2023-01-05 00:00:00-05:00</th>\n",
       "      <td>0.009299</td>\n",
       "      <td>-0.011396</td>\n",
       "      <td>-0.013413</td>\n",
       "      <td>-0.008470</td>\n",
       "      <td>-0.029244</td>\n",
       "    </tr>\n",
       "    <tr>\n",
       "      <th>2023-01-06 00:00:00-05:00</th>\n",
       "      <td>0.030774</td>\n",
       "      <td>0.012489</td>\n",
       "      <td>0.006509</td>\n",
       "      <td>0.027502</td>\n",
       "      <td>0.000082</td>\n",
       "    </tr>\n",
       "    <tr>\n",
       "      <th>2023-01-09 00:00:00-05:00</th>\n",
       "      <td>-0.018632</td>\n",
       "      <td>0.014036</td>\n",
       "      <td>0.000882</td>\n",
       "      <td>-0.008272</td>\n",
       "      <td>0.000122</td>\n",
       "    </tr>\n",
       "    <tr>\n",
       "      <th>2023-01-10 00:00:00-05:00</th>\n",
       "      <td>0.013824</td>\n",
       "      <td>0.012276</td>\n",
       "      <td>0.008834</td>\n",
       "      <td>0.006192</td>\n",
       "      <td>-0.008319</td>\n",
       "    </tr>\n",
       "  </tbody>\n",
       "</table>\n",
       "</div>"
      ],
      "text/plain": [
       "                               AMGN        GS        HD       MCD       UNH\n",
       "Date                                                                       \n",
       "2023-01-04 00:00:00-05:00  0.010418  0.004266  0.012019  0.000227 -0.027642\n",
       "2023-01-05 00:00:00-05:00  0.009299 -0.011396 -0.013413 -0.008470 -0.029244\n",
       "2023-01-06 00:00:00-05:00  0.030774  0.012489  0.006509  0.027502  0.000082\n",
       "2023-01-09 00:00:00-05:00 -0.018632  0.014036  0.000882 -0.008272  0.000122\n",
       "2023-01-10 00:00:00-05:00  0.013824  0.012276  0.008834  0.006192 -0.008319"
      ]
     },
     "execution_count": 24,
     "metadata": {},
     "output_type": "execute_result"
    }
   ],
   "source": [
    "# Calculating Log Normal Returns\n",
    "# Use numpy log function to derive log normal returns\n",
    "daily_returns = np.log(df4).diff().dropna()\n",
    "# Display the last five rows of the data frame to check the output\n",
    "daily_returns.head()"
   ]
  },
  {
   "cell_type": "code",
   "execution_count": 25,
   "id": "1edc3317-5d42-4e00-a654-96a32a10d492",
   "metadata": {},
   "outputs": [
    {
     "data": {
      "application/vnd.plotly.v1+json": {
       "config": {
        "linkText": "Export to plot.ly",
        "plotlyServerURL": "https://plot.ly",
        "showLink": true
       },
       "data": [
        {
         "histfunc": "count",
         "histnorm": "",
         "marker": {
          "color": "rgba(255, 153, 51, 1.0)",
          "line": {
           "color": "#D9D9D9",
           "width": 1.3
          }
         },
         "name": "AMGN",
         "opacity": 0.8,
         "orientation": "v",
         "type": "histogram",
         "x": [
          0.010417602736962905,
          0.00929882827461892,
          0.030774033640383003,
          -0.01863191767298833,
          0.013823740455844558,
          -0.00354791449873737,
          -0.007318482612633126,
          0.002985336008958228,
          -0.008537418873045155,
          -0.018846204722400728,
          -0.008966408077600185,
          0.004607243577697595,
          -0.00866071234432475,
          -0.004878280460941298,
          -0.012242542529378397,
          -0.006491764499788388,
          -0.004837558529324326,
          -0.008154577113731243,
          0.003214335455276718,
          -0.024018265614794032,
          0.0004868300957650007,
          -0.005531841644981661,
          -0.005398515792268022,
          0.0006149186668746864,
          -0.015696290089376674,
          -0.0008330394576949729,
          0.010362804389644431,
          0.004772174802552875,
          -0.002072363766977503,
          -0.003990827800845587,
          -0.02466969670209096,
          0.026583921160935553,
          -0.009566210392412344,
          -0.008769044256091263,
          0.006163203839185449,
          -0.01680563952039371,
          0.003375244461600424,
          -0.011971540788682233,
          0.019365775829187193,
          -0.006158048500998881,
          0.000298115804057808,
          0.0012768768275162046,
          -0.02755495821737508,
          -0.001268811524979263,
          -0.011624395663787368,
          0.009169877046399044,
          0.023035435346655753,
          -0.011212818736555441,
          0.018562002964412905,
          -0.0014057927739665743,
          -0.020588268375820284,
          0.02122749816051339,
          -0.007569444728031449,
          -0.013483925375936678,
          0.014127665193901073,
          0.020929135103251895,
          -0.00534976186047853,
          0.007238459862321633,
          0.010635973618507322,
          0.001948065166630819,
          0.0010346702767609628,
          0.011065743451710297,
          0.012561881341894399,
          0.023319093924571987,
          -0.00019728809491148525,
          -0.009599137041792716,
          0.0021101417522864097,
          -0.00770563027974891,
          0.007745448895545515,
          -0.005743490426778131,
          -0.0077498774763471445,
          -0.008013678952445424,
          0.0004875193792583943,
          -0.01123214404728401,
          0.0016416084745349835,
          0.0024164467839602466,
          0.001716678419241724,
          -0.02510106064762585,
          0.006428200318147503,
          -0.002499580844094851,
          -0.003509968799934704,
          -0.012340333150042682,
          -0.028629940307990154,
          0.011188357766471313,
          0.019811945966302424,
          -0.008107881446791865,
          -0.0008101841957071088,
          -0.0013659127232870105,
          -0.007804522590294738,
          0.002837282566193089,
          0.0024866712149451686,
          -0.024491347609150615,
          -0.003238886167141075,
          -0.0035170143984366575,
          -0.0036188917843862356,
          0.002548032578392423,
          0.0020069892350162988,
          -0.013998770637287272,
          -0.01759469467961594,
          -0.0024402693517178164,
          0.007348612204167715,
          0.00965440875794421,
          -0.029340786101783145,
          0.017579223798954935,
          0.01732057144237764,
          -0.0029790302014207626,
          0.00013559689587960833,
          -0.002217170199706686,
          -0.009100900320219374,
          -0.0064202454419985955,
          0.021077392631658753,
          0.0013054823622118406,
          0.027335761563975325,
          0.005326365809869671,
          -0.004669980442299604,
          -0.006803806011093982,
          0.011473786453393586,
          -0.011165485998856362,
          -0.010534821678601425,
          -0.009478298412336272,
          -0.005856941671328109,
          -0.0006779845043327626,
          0.003385472742190032
         ],
         "xaxis": "x",
         "yaxis": "y"
        },
        {
         "histfunc": "count",
         "histnorm": "",
         "marker": {
          "color": "rgba(55, 128, 191, 1.0)",
          "line": {
           "color": "#D9D9D9",
           "width": 1.3
          }
         },
         "name": "GS",
         "opacity": 0.8,
         "orientation": "v",
         "type": "histogram",
         "x": [
          0.0042657181097736085,
          -0.01139635524001914,
          0.01248857548566118,
          0.014035738805972642,
          0.012275634801651947,
          0.01972809037317802,
          0.014869070715041843,
          0.010914960543011887,
          -0.06655119639384566,
          -0.0023747863552925352,
          0.0047439464588601155,
          -0.025730961881723857,
          0.021130193976344636,
          -0.0023226604812434104,
          0.0037251516882816915,
          0.015157805778458489,
          -0.0035841597647685575,
          0.01057434315109873,
          0.02309054846118208,
          -0.00027341026896632314,
          0.010228933977391108,
          0.001298331212562509,
          0.0022949886092185068,
          0.009661823373781964,
          0.0018679598754713922,
          -0.019136886398349873,
          0.008900780425331156,
          0.007352664174497647,
          -0.00600692691695226,
          0.006862168610021868,
          -0.011121057712802696,
          -0.0046027214055781585,
          -0.020230299779891325,
          -0.0006370663525387954,
          0.007316100424713312,
          0.0008523075299695648,
          0.004606675083962841,
          -0.038712004944557066,
          -0.008398289692276961,
          0.00825507618888377,
          0.022629450168104803,
          -0.00011203876329002327,
          -0.0312059032448877,
          0.009232611680677572,
          -0.020828685239725253,
          -0.043066772610578674,
          -0.03781664070656365,
          0.020826770261773042,
          -0.03140520303533467,
          0.009246325014959922,
          -0.03734487363375383,
          0.01954151183861974,
          0.024729652678886715,
          -0.011443131048571864,
          0.003754852205434034,
          -0.007267844704817783,
          0.018888171620948135,
          -0.00028260387944367693,
          0.0071344451419470545,
          0.0013087388655854681,
          0.018419181750465974,
          -0.0018053009906999762,
          -0.011922975768823285,
          -0.003477309008831142,
          0.0027021843494328124,
          0.007909070481405323,
          0.007388920777507302,
          0.008728587302391233,
          0.005706840447646577,
          0.014319089320307121,
          0.008158461561863284,
          -0.017132539381850442,
          0.008885087757198207,
          0.005387716786289687,
          0.008671795517044778,
          0.0067092923066924826,
          -0.013110308937647197,
          -0.00863864031235373,
          0.01486404839420441,
          0.0053720067484901435,
          -0.008391784896867982,
          -0.021367724219429007,
          -0.014259611547585926,
          -0.022742532121860393,
          0.017770529201769136,
          -0.0015607178516336973,
          -0.005343387277553013,
          -0.006859148499824386,
          -0.005689570753333761,
          -0.0038112073783995726,
          0.00801160299573489,
          -0.003919896353652419,
          0.02878891668595962,
          -0.0018188224562427635,
          -0.010461727291482426,
          -0.00377829901971527,
          -0.004163570176624276,
          -0.011688439358856328,
          0.012646012104512216,
          0.024792040136915716,
          -0.0035605289081148683,
          -0.013584351937654837,
          -0.023427590730462633,
          0.022655449530142313,
          -0.005701364442172618,
          0.01538702394166691,
          0.027018509770716292,
          -0.000834298128865818,
          0.0016381120313155861,
          0.010273813412568167,
          0.008827194983915376,
          -0.01198389038407921,
          0.003892823128555989,
          -0.004217962750927562,
          -0.022690528071324323,
          -0.017231533340114957,
          -0.017032974589965555,
          -0.015356038985768095,
          -0.007495230810192766,
          0.0034835747656227767,
          0.0006697117176033274,
          0.029621302464928334,
          0.003285986294295995
         ],
         "xaxis": "x2",
         "yaxis": "y2"
        },
        {
         "histfunc": "count",
         "histnorm": "",
         "marker": {
          "color": "rgba(50, 171, 96, 1.0)",
          "line": {
           "color": "#D9D9D9",
           "width": 1.3
          }
         },
         "name": "HD",
         "opacity": 0.8,
         "orientation": "v",
         "type": "histogram",
         "x": [
          0.012019473233771727,
          -0.013413250888484995,
          0.006508637816136975,
          0.0008815185611519283,
          0.008834025548667412,
          0.025769939665742037,
          0.002640896366012946,
          0.004053899173777964,
          -0.011172908843257723,
          -0.011793430013940842,
          -0.04037913696637041,
          0.013165601802860749,
          0.0015226552371432334,
          0.006980801273940074,
          -0.0013545400365755356,
          -0.010933960525674635,
          0.009135802054281328,
          -0.007766380457778332,
          0.031111060541503477,
          0.01201984043937454,
          0.035039763229749,
          -0.02469997013042935,
          -0.006749752032412459,
          -0.012437561885930037,
          -0.013653627459265572,
          -0.016469712818815374,
          0.0031325773426145176,
          0.021842211932465716,
          -0.0158892329476803,
          0.007072279822932792,
          0.0017134928020441365,
          -0.010294213753057058,
          -0.0732253650414254,
          0.002703627634113026,
          0.010107407791380751,
          -0.008893156037518501,
          -0.0021934723790337785,
          0.0017888855953396288,
          -0.01958072520484677,
          0.0076394307917002635,
          0.018361615823367927,
          -0.0008045850467510718,
          -0.02550601229683025,
          0.009929266615412047,
          -0.012045123929532942,
          -0.0058854372760919205,
          0.0007331917574369129,
          -0.003321041258843138,
          0.008369116130515053,
          -0.004315313091170836,
          0.005772715585111499,
          0.0030121652263011,
          0.0005875612156627241,
          -0.02384568102005158,
          0.004589548558998402,
          -0.003139821119313879,
          -0.006202491460633119,
          -0.0016011452919473257,
          0.009004191554986107,
          0.007033414334877364,
          0.033630542312457656,
          0.008805067594942706,
          -0.009347428934437296,
          -0.021555428999501913,
          -0.00020797500626468235,
          0.00883104778850985,
          0.00888977138222291,
          -0.011400081614340252,
          0.005870378758854322,
          0.00013686963388703788,
          0.010926048423494095,
          0.011946075895889585,
          -0.006847280905373232,
          0.0055753401314486695,
          0.004911422419164424,
          0.005318448445831514,
          -0.01776061738381607,
          -0.028270186704823175,
          0.020138140620667322,
          0.022239181213856263,
          -0.009494491276885064,
          -0.01155462026675469,
          -0.004086133912684531,
          -0.02532823924247385,
          0.013452336937469056,
          -0.005852314050843965,
          0.009161475212378534,
          -0.005348398393780762,
          -0.004646948813746832,
          0.009616798053456499,
          -0.006666554748899323,
          -0.021757146983744313,
          0.035011942889616066,
          0.009429098291009907,
          -0.014606813460444457,
          -0.0007565660635462379,
          0.014617684036751122,
          -0.01310512386916951,
          -0.015056099823679503,
          0.02098143840440514,
          -0.0014694527176901673,
          -0.0239135253150895,
          0.017277997703461168,
          0.0258429577843744,
          -0.009642870783204138,
          0.00984558578320982,
          0.019073732301780666,
          -0.002023975410130774,
          -0.012499294536739036,
          0.01173507490215453,
          -0.002595930554676329,
          -0.001233749071087864,
          0.007677892016119792,
          -0.005444847938594677,
          0.0034231202593728582,
          -0.002358345702394793,
          0.0015949377503980955,
          -0.0012292402524263224,
          0.023263795814749244,
          0.018821962399018233,
          -0.02331417316945661,
          0.0042648072134969794,
          0.006863517890573156
         ],
         "xaxis": "x3",
         "yaxis": "y3"
        },
        {
         "histfunc": "count",
         "histnorm": "",
         "marker": {
          "color": "rgba(128, 0, 128, 1.0)",
          "line": {
           "color": "#D9D9D9",
           "width": 1.3
          }
         },
         "name": "MCD",
         "opacity": 0.8,
         "orientation": "v",
         "type": "histogram",
         "x": [
          0.0002271416013535088,
          -0.00847033508703543,
          0.027502005681707686,
          -0.008272464210153707,
          0.006192194753610991,
          -0.00037196529800986866,
          -0.007917913082174266,
          0.008215519339588084,
          0.019226992451886638,
          -0.029882760673936914,
          -0.00928982297831471,
          0.018791973789867633,
          0.002640092432455887,
          0.001002120111730953,
          0.012680788951525912,
          0.006280655104589528,
          -0.008260607999486247,
          -0.005778940205694916,
          -0.012967232682358443,
          -0.0042348461868062515,
          -0.011558631367838856,
          0.003867740794317953,
          0.013868605430009673,
          -0.0021673377507598346,
          -0.0170518060266609,
          -0.008252512563267977,
          0.006729416178592018,
          0.014301663504033613,
          0.0015388686597868073,
          -0.0001873961781182487,
          -0.0027424981789456737,
          0.015527948078384313,
          -0.005347882702189999,
          0.00033522544167219337,
          -0.006947887421814514,
          -0.011688174676265817,
          0.0041630868115358766,
          0.0024660296340144328,
          -0.004519306699543257,
          0.01829242817736798,
          0.005590414754069961,
          0.005817941746236066,
          -0.013054163496065918,
          -0.006761101177949591,
          -0.0140429924931329,
          0.001527709984010528,
          0.003999082214080296,
          0.010662148279799943,
          0.0016534139112831525,
          0.0157571833244452,
          -0.012533393325381503,
          0.013161482606344421,
          -0.001959591272711947,
          -0.00869761780847611,
          0.006511747818735536,
          0.006322298403894422,
          0.009208157104399817,
          0.0073133670105534065,
          0.005747340791368849,
          0.0012608225992094546,
          0.006530247426951519,
          0.009007703081612917,
          0.0004960521666372841,
          -0.0009215289201858212,
          0.0030802874762079213,
          0.0031411026628322958,
          0.00246360968088144,
          0.0028783183831491144,
          0.013127606890296128,
          -0.0003113335466231604,
          0.0011412595157063166,
          0.005515166584267206,
          0.0012367107099144903,
          -0.0009274423306679935,
          0.0036360272503026536,
          0.0038957849741265704,
          -0.00578070988578272,
          -0.006021293378655201,
          0.01697274737824017,
          0.0034886635746635974,
          0.0061686129926403765,
          0.0016453092013541948,
          -0.00960754873522518,
          -0.0002031862838061116,
          0.004866767387782467,
          0.00030343966778811904,
          -0.00010113632564845432,
          -0.0003033669147809448,
          -0.006020032635547068,
          0.004569053539638546,
          -0.0008107772561958271,
          -0.005931799712627139,
          -0.0023484415644903223,
          0.002008473105573394,
          0.005088157506689228,
          -0.02120090712291134,
          -0.010352449235196737,
          -0.001572550146538454,
          -0.0014000804925293764,
          0.0018196476021987706,
          -0.003923181444281276,
          0.000666519006580657,
          0.009634010538714044,
          0.012355682463149442,
          -0.005118145819034581,
          -0.013578525545186793,
          -0.009321494784956919,
          0.013669903300629116,
          0.003527990639795142,
          0.00618744580457431,
          -6.937736147527573e-05,
          -0.0003812383395072061,
          0.014353513777956017,
          0.003718265476810423,
          -0.0022497321373657897,
          0.005037727567896333,
          -0.0041509408342337295,
          -0.011625391745901048,
          -0.0028324969687893997,
          0.00761557641092292,
          0.001509339124311282,
          0.009314173291716799,
          0.009699118392912709
         ],
         "xaxis": "x4",
         "yaxis": "y4"
        },
        {
         "histfunc": "count",
         "histnorm": "",
         "marker": {
          "color": "rgba(219, 64, 82, 1.0)",
          "line": {
           "color": "#D9D9D9",
           "width": 1.3
          }
         },
         "name": "UNH",
         "opacity": 0.8,
         "orientation": "v",
         "type": "histogram",
         "x": [
          -0.02764218627135584,
          -0.029244156134660138,
          8.171578038584926e-05,
          0.00012243564871994295,
          -0.008319211375749092,
          0.015111530410346852,
          0.004590219151751285,
          -0.012382857803200586,
          -0.009213705164039077,
          -0.018391895298128347,
          0.016906445219629695,
          0.004860641353030992,
          -0.0018714349267758834,
          0.011847810230944944,
          0.0018290582920457155,
          -4.058721331023918e-05,
          -0.013142406511455818,
          -0.0005350209424346275,
          0.0272103474903842,
          -0.004396765391356361,
          -0.054092951389347554,
          0.002524284033834867,
          0.0067985397428946825,
          0.003445020133401755,
          0.013207118302776877,
          0.005180895174895284,
          0.017388535683092066,
          0.002223119069701518,
          -0.005100364892201448,
          -0.003211075177803835,
          -0.007970546929943367,
          0.023783810607937994,
          -0.01569113954545376,
          -0.004937709947969715,
          0.0057109208757886165,
          -0.015082002749000623,
          -0.00208750714704653,
          -0.015387136400605073,
          -0.001513998369897962,
          0.005205118960844857,
          0.0017986316792804047,
          0.004628226119433698,
          -0.014455679918812692,
          -0.006945599972448591,
          -0.012164726746484611,
          -0.006344779888115326,
          0.0072510340854998745,
          0.0019391367165910722,
          0.0018279423452591814,
          0.014059628229095011,
          -0.005353073771265926,
          0.01576433705607272,
          0.00656179363087972,
          -0.009585480671466584,
          -0.011867758713307808,
          0.012855662416821012,
          0.012339768163924347,
          -0.01952956483549073,
          -0.01275612499170986,
          0.007409411497337537,
          0.005367851639544341,
          0.04469190484249186,
          -0.0019039140184364811,
          0.03188364084466322,
          0.007005574221231825,
          0.004610908391654789,
          0.01117615959459517,
          0.0004222301529877015,
          0.009623630752798817,
          -0.027823907523294444,
          -0.012663113953193417,
          -0.0017230862380239742,
          -0.03690812150657852,
          0.0025881181381617324,
          -0.007495242726487383,
          0.010526828810893285,
          0.006076354594753752,
          -0.01840295263027425,
          0.01545092575437046,
          0.003297502849094691,
          0.007309348188156761,
          -0.004670991680276515,
          -0.008038090388411412,
          -0.004422941198154895,
          0.014263235249741157,
          -0.003364103454080336,
          -0.004557469909504341,
          -0.0006323282321645252,
          -0.0026766923153234146,
          0.005040873960962422,
          -0.008935858720684031,
          -0.014774005750991748,
          0.010554445699638926,
          -0.011576353535033945,
          -0.0008559081208163732,
          0.003752176084682368,
          -0.002458170453282449,
          0.002895001228464089,
          -0.006530822519245305,
          0.007964781580594327,
          -0.003474158529718885,
          0.01528322588566322,
          0.013029465283224795,
          0.011981464584406076,
          -0.002786195937446223,
          -0.021547630626324477,
          -0.01122013553987955,
          0.01666090054538305,
          0.0068912977326265334,
          -0.0020888018048825785,
          -0.002601856564140803,
          -0.06615323233494586,
          0.01712411380887513,
          -0.016011126292478473,
          0.023495550696993384,
          0.015558233875218264,
          0.004812706134605271,
          -0.004288459726792482,
          0.004309354542165522,
          0.007279414889749702,
          -0.016948996171684882,
          0.004185537988396604,
          0.0076317765610758315
         ],
         "xaxis": "x5",
         "yaxis": "y5"
        }
       ],
       "layout": {
        "autosize": true,
        "barmode": "overlay",
        "legend": {
         "bgcolor": "#151516",
         "font": {
          "color": "#D9D9D9"
         }
        },
        "paper_bgcolor": "#151516",
        "plot_bgcolor": "#151516",
        "template": {
         "data": {
          "bar": [
           {
            "error_x": {
             "color": "#2a3f5f"
            },
            "error_y": {
             "color": "#2a3f5f"
            },
            "marker": {
             "line": {
              "color": "#E5ECF6",
              "width": 0.5
             },
             "pattern": {
              "fillmode": "overlay",
              "size": 10,
              "solidity": 0.2
             }
            },
            "type": "bar"
           }
          ],
          "barpolar": [
           {
            "marker": {
             "line": {
              "color": "#E5ECF6",
              "width": 0.5
             },
             "pattern": {
              "fillmode": "overlay",
              "size": 10,
              "solidity": 0.2
             }
            },
            "type": "barpolar"
           }
          ],
          "carpet": [
           {
            "aaxis": {
             "endlinecolor": "#2a3f5f",
             "gridcolor": "white",
             "linecolor": "white",
             "minorgridcolor": "white",
             "startlinecolor": "#2a3f5f"
            },
            "baxis": {
             "endlinecolor": "#2a3f5f",
             "gridcolor": "white",
             "linecolor": "white",
             "minorgridcolor": "white",
             "startlinecolor": "#2a3f5f"
            },
            "type": "carpet"
           }
          ],
          "choropleth": [
           {
            "colorbar": {
             "outlinewidth": 0,
             "ticks": ""
            },
            "type": "choropleth"
           }
          ],
          "contour": [
           {
            "colorbar": {
             "outlinewidth": 0,
             "ticks": ""
            },
            "colorscale": [
             [
              0,
              "#0d0887"
             ],
             [
              0.1111111111111111,
              "#46039f"
             ],
             [
              0.2222222222222222,
              "#7201a8"
             ],
             [
              0.3333333333333333,
              "#9c179e"
             ],
             [
              0.4444444444444444,
              "#bd3786"
             ],
             [
              0.5555555555555556,
              "#d8576b"
             ],
             [
              0.6666666666666666,
              "#ed7953"
             ],
             [
              0.7777777777777778,
              "#fb9f3a"
             ],
             [
              0.8888888888888888,
              "#fdca26"
             ],
             [
              1,
              "#f0f921"
             ]
            ],
            "type": "contour"
           }
          ],
          "contourcarpet": [
           {
            "colorbar": {
             "outlinewidth": 0,
             "ticks": ""
            },
            "type": "contourcarpet"
           }
          ],
          "heatmap": [
           {
            "colorbar": {
             "outlinewidth": 0,
             "ticks": ""
            },
            "colorscale": [
             [
              0,
              "#0d0887"
             ],
             [
              0.1111111111111111,
              "#46039f"
             ],
             [
              0.2222222222222222,
              "#7201a8"
             ],
             [
              0.3333333333333333,
              "#9c179e"
             ],
             [
              0.4444444444444444,
              "#bd3786"
             ],
             [
              0.5555555555555556,
              "#d8576b"
             ],
             [
              0.6666666666666666,
              "#ed7953"
             ],
             [
              0.7777777777777778,
              "#fb9f3a"
             ],
             [
              0.8888888888888888,
              "#fdca26"
             ],
             [
              1,
              "#f0f921"
             ]
            ],
            "type": "heatmap"
           }
          ],
          "heatmapgl": [
           {
            "colorbar": {
             "outlinewidth": 0,
             "ticks": ""
            },
            "colorscale": [
             [
              0,
              "#0d0887"
             ],
             [
              0.1111111111111111,
              "#46039f"
             ],
             [
              0.2222222222222222,
              "#7201a8"
             ],
             [
              0.3333333333333333,
              "#9c179e"
             ],
             [
              0.4444444444444444,
              "#bd3786"
             ],
             [
              0.5555555555555556,
              "#d8576b"
             ],
             [
              0.6666666666666666,
              "#ed7953"
             ],
             [
              0.7777777777777778,
              "#fb9f3a"
             ],
             [
              0.8888888888888888,
              "#fdca26"
             ],
             [
              1,
              "#f0f921"
             ]
            ],
            "type": "heatmapgl"
           }
          ],
          "histogram": [
           {
            "marker": {
             "pattern": {
              "fillmode": "overlay",
              "size": 10,
              "solidity": 0.2
             }
            },
            "type": "histogram"
           }
          ],
          "histogram2d": [
           {
            "colorbar": {
             "outlinewidth": 0,
             "ticks": ""
            },
            "colorscale": [
             [
              0,
              "#0d0887"
             ],
             [
              0.1111111111111111,
              "#46039f"
             ],
             [
              0.2222222222222222,
              "#7201a8"
             ],
             [
              0.3333333333333333,
              "#9c179e"
             ],
             [
              0.4444444444444444,
              "#bd3786"
             ],
             [
              0.5555555555555556,
              "#d8576b"
             ],
             [
              0.6666666666666666,
              "#ed7953"
             ],
             [
              0.7777777777777778,
              "#fb9f3a"
             ],
             [
              0.8888888888888888,
              "#fdca26"
             ],
             [
              1,
              "#f0f921"
             ]
            ],
            "type": "histogram2d"
           }
          ],
          "histogram2dcontour": [
           {
            "colorbar": {
             "outlinewidth": 0,
             "ticks": ""
            },
            "colorscale": [
             [
              0,
              "#0d0887"
             ],
             [
              0.1111111111111111,
              "#46039f"
             ],
             [
              0.2222222222222222,
              "#7201a8"
             ],
             [
              0.3333333333333333,
              "#9c179e"
             ],
             [
              0.4444444444444444,
              "#bd3786"
             ],
             [
              0.5555555555555556,
              "#d8576b"
             ],
             [
              0.6666666666666666,
              "#ed7953"
             ],
             [
              0.7777777777777778,
              "#fb9f3a"
             ],
             [
              0.8888888888888888,
              "#fdca26"
             ],
             [
              1,
              "#f0f921"
             ]
            ],
            "type": "histogram2dcontour"
           }
          ],
          "mesh3d": [
           {
            "colorbar": {
             "outlinewidth": 0,
             "ticks": ""
            },
            "type": "mesh3d"
           }
          ],
          "parcoords": [
           {
            "line": {
             "colorbar": {
              "outlinewidth": 0,
              "ticks": ""
             }
            },
            "type": "parcoords"
           }
          ],
          "pie": [
           {
            "automargin": true,
            "type": "pie"
           }
          ],
          "scatter": [
           {
            "fillpattern": {
             "fillmode": "overlay",
             "size": 10,
             "solidity": 0.2
            },
            "type": "scatter"
           }
          ],
          "scatter3d": [
           {
            "line": {
             "colorbar": {
              "outlinewidth": 0,
              "ticks": ""
             }
            },
            "marker": {
             "colorbar": {
              "outlinewidth": 0,
              "ticks": ""
             }
            },
            "type": "scatter3d"
           }
          ],
          "scattercarpet": [
           {
            "marker": {
             "colorbar": {
              "outlinewidth": 0,
              "ticks": ""
             }
            },
            "type": "scattercarpet"
           }
          ],
          "scattergeo": [
           {
            "marker": {
             "colorbar": {
              "outlinewidth": 0,
              "ticks": ""
             }
            },
            "type": "scattergeo"
           }
          ],
          "scattergl": [
           {
            "marker": {
             "colorbar": {
              "outlinewidth": 0,
              "ticks": ""
             }
            },
            "type": "scattergl"
           }
          ],
          "scattermapbox": [
           {
            "marker": {
             "colorbar": {
              "outlinewidth": 0,
              "ticks": ""
             }
            },
            "type": "scattermapbox"
           }
          ],
          "scatterpolar": [
           {
            "marker": {
             "colorbar": {
              "outlinewidth": 0,
              "ticks": ""
             }
            },
            "type": "scatterpolar"
           }
          ],
          "scatterpolargl": [
           {
            "marker": {
             "colorbar": {
              "outlinewidth": 0,
              "ticks": ""
             }
            },
            "type": "scatterpolargl"
           }
          ],
          "scatterternary": [
           {
            "marker": {
             "colorbar": {
              "outlinewidth": 0,
              "ticks": ""
             }
            },
            "type": "scatterternary"
           }
          ],
          "surface": [
           {
            "colorbar": {
             "outlinewidth": 0,
             "ticks": ""
            },
            "colorscale": [
             [
              0,
              "#0d0887"
             ],
             [
              0.1111111111111111,
              "#46039f"
             ],
             [
              0.2222222222222222,
              "#7201a8"
             ],
             [
              0.3333333333333333,
              "#9c179e"
             ],
             [
              0.4444444444444444,
              "#bd3786"
             ],
             [
              0.5555555555555556,
              "#d8576b"
             ],
             [
              0.6666666666666666,
              "#ed7953"
             ],
             [
              0.7777777777777778,
              "#fb9f3a"
             ],
             [
              0.8888888888888888,
              "#fdca26"
             ],
             [
              1,
              "#f0f921"
             ]
            ],
            "type": "surface"
           }
          ],
          "table": [
           {
            "cells": {
             "fill": {
              "color": "#EBF0F8"
             },
             "line": {
              "color": "white"
             }
            },
            "header": {
             "fill": {
              "color": "#C8D4E3"
             },
             "line": {
              "color": "white"
             }
            },
            "type": "table"
           }
          ]
         },
         "layout": {
          "annotationdefaults": {
           "arrowcolor": "#2a3f5f",
           "arrowhead": 0,
           "arrowwidth": 1
          },
          "autotypenumbers": "strict",
          "coloraxis": {
           "colorbar": {
            "outlinewidth": 0,
            "ticks": ""
           }
          },
          "colorscale": {
           "diverging": [
            [
             0,
             "#8e0152"
            ],
            [
             0.1,
             "#c51b7d"
            ],
            [
             0.2,
             "#de77ae"
            ],
            [
             0.3,
             "#f1b6da"
            ],
            [
             0.4,
             "#fde0ef"
            ],
            [
             0.5,
             "#f7f7f7"
            ],
            [
             0.6,
             "#e6f5d0"
            ],
            [
             0.7,
             "#b8e186"
            ],
            [
             0.8,
             "#7fbc41"
            ],
            [
             0.9,
             "#4d9221"
            ],
            [
             1,
             "#276419"
            ]
           ],
           "sequential": [
            [
             0,
             "#0d0887"
            ],
            [
             0.1111111111111111,
             "#46039f"
            ],
            [
             0.2222222222222222,
             "#7201a8"
            ],
            [
             0.3333333333333333,
             "#9c179e"
            ],
            [
             0.4444444444444444,
             "#bd3786"
            ],
            [
             0.5555555555555556,
             "#d8576b"
            ],
            [
             0.6666666666666666,
             "#ed7953"
            ],
            [
             0.7777777777777778,
             "#fb9f3a"
            ],
            [
             0.8888888888888888,
             "#fdca26"
            ],
            [
             1,
             "#f0f921"
            ]
           ],
           "sequentialminus": [
            [
             0,
             "#0d0887"
            ],
            [
             0.1111111111111111,
             "#46039f"
            ],
            [
             0.2222222222222222,
             "#7201a8"
            ],
            [
             0.3333333333333333,
             "#9c179e"
            ],
            [
             0.4444444444444444,
             "#bd3786"
            ],
            [
             0.5555555555555556,
             "#d8576b"
            ],
            [
             0.6666666666666666,
             "#ed7953"
            ],
            [
             0.7777777777777778,
             "#fb9f3a"
            ],
            [
             0.8888888888888888,
             "#fdca26"
            ],
            [
             1,
             "#f0f921"
            ]
           ]
          },
          "colorway": [
           "#636efa",
           "#EF553B",
           "#00cc96",
           "#ab63fa",
           "#FFA15A",
           "#19d3f3",
           "#FF6692",
           "#B6E880",
           "#FF97FF",
           "#FECB52"
          ],
          "font": {
           "color": "#2a3f5f"
          },
          "geo": {
           "bgcolor": "white",
           "lakecolor": "white",
           "landcolor": "#E5ECF6",
           "showlakes": true,
           "showland": true,
           "subunitcolor": "white"
          },
          "hoverlabel": {
           "align": "left"
          },
          "hovermode": "closest",
          "mapbox": {
           "style": "light"
          },
          "paper_bgcolor": "white",
          "plot_bgcolor": "#E5ECF6",
          "polar": {
           "angularaxis": {
            "gridcolor": "white",
            "linecolor": "white",
            "ticks": ""
           },
           "bgcolor": "#E5ECF6",
           "radialaxis": {
            "gridcolor": "white",
            "linecolor": "white",
            "ticks": ""
           }
          },
          "scene": {
           "xaxis": {
            "backgroundcolor": "#E5ECF6",
            "gridcolor": "white",
            "gridwidth": 2,
            "linecolor": "white",
            "showbackground": true,
            "ticks": "",
            "zerolinecolor": "white"
           },
           "yaxis": {
            "backgroundcolor": "#E5ECF6",
            "gridcolor": "white",
            "gridwidth": 2,
            "linecolor": "white",
            "showbackground": true,
            "ticks": "",
            "zerolinecolor": "white"
           },
           "zaxis": {
            "backgroundcolor": "#E5ECF6",
            "gridcolor": "white",
            "gridwidth": 2,
            "linecolor": "white",
            "showbackground": true,
            "ticks": "",
            "zerolinecolor": "white"
           }
          },
          "shapedefaults": {
           "line": {
            "color": "#2a3f5f"
           }
          },
          "ternary": {
           "aaxis": {
            "gridcolor": "white",
            "linecolor": "white",
            "ticks": ""
           },
           "baxis": {
            "gridcolor": "white",
            "linecolor": "white",
            "ticks": ""
           },
           "bgcolor": "#E5ECF6",
           "caxis": {
            "gridcolor": "white",
            "linecolor": "white",
            "ticks": ""
           }
          },
          "title": {
           "x": 0.05
          },
          "xaxis": {
           "automargin": true,
           "gridcolor": "white",
           "linecolor": "white",
           "ticks": "",
           "title": {
            "standoff": 15
           },
           "zerolinecolor": "white",
           "zerolinewidth": 2
          },
          "yaxis": {
           "automargin": true,
           "gridcolor": "white",
           "linecolor": "white",
           "ticks": "",
           "title": {
            "standoff": 15
           },
           "zerolinecolor": "white",
           "zerolinewidth": 2
          }
         }
        },
        "title": {
         "font": {
          "color": "#D9D9D9"
         },
         "text": "Histogram of Daily Returns"
        },
        "xaxis": {
         "anchor": "y",
         "autorange": true,
         "domain": [
          0,
          0.45
         ],
         "gridcolor": "#434343",
         "range": [
          -0.03,
          0.035
         ],
         "showgrid": true,
         "tickfont": {
          "color": "#C2C2C2"
         },
         "title": {
          "font": {
           "color": "#D9D9D9"
          },
          "text": ""
         },
         "type": "linear",
         "zerolinecolor": "#666570"
        },
        "xaxis2": {
         "anchor": "y2",
         "autorange": true,
         "domain": [
          0.55,
          1
         ],
         "gridcolor": "#434343",
         "range": [
          -0.07,
          0.029999999999999995
         ],
         "showgrid": true,
         "tickfont": {
          "color": "#C2C2C2"
         },
         "title": {
          "font": {
           "color": "#D9D9D9"
          },
          "text": ""
         },
         "type": "linear",
         "zerolinecolor": "#666570"
        },
        "xaxis3": {
         "anchor": "y3",
         "autorange": true,
         "domain": [
          0,
          0.45
         ],
         "gridcolor": "#434343",
         "range": [
          -0.07749999999999999,
          0.0375
         ],
         "showgrid": true,
         "tickfont": {
          "color": "#C2C2C2"
         },
         "title": {
          "font": {
           "color": "#D9D9D9"
          },
          "text": ""
         },
         "type": "linear",
         "zerolinecolor": "#666570"
        },
        "xaxis4": {
         "anchor": "y4",
         "autorange": true,
         "domain": [
          0.55,
          1
         ],
         "gridcolor": "#434343",
         "range": [
          -0.03,
          0.03
         ],
         "showgrid": true,
         "tickfont": {
          "color": "#C2C2C2"
         },
         "title": {
          "font": {
           "color": "#D9D9D9"
          },
          "text": ""
         },
         "type": "linear",
         "zerolinecolor": "#666570"
        },
        "xaxis5": {
         "anchor": "y5",
         "autorange": true,
         "domain": [
          0,
          0.45
         ],
         "gridcolor": "#434343",
         "range": [
          -0.07,
          0.04499999999999999
         ],
         "showgrid": true,
         "tickfont": {
          "color": "#C2C2C2"
         },
         "title": {
          "font": {
           "color": "#D9D9D9"
          },
          "text": ""
         },
         "type": "linear",
         "zerolinecolor": "#666570"
        },
        "yaxis": {
         "anchor": "x",
         "autorange": true,
         "domain": [
          0.7333333333333333,
          1
         ],
         "gridcolor": "#434343",
         "range": [
          0,
          26.315789473684212
         ],
         "showgrid": true,
         "tickfont": {
          "color": "#C2C2C2"
         },
         "title": {
          "font": {
           "color": "#D9D9D9"
          },
          "text": ""
         },
         "zerolinecolor": "#666570"
        },
        "yaxis2": {
         "anchor": "x2",
         "autorange": true,
         "domain": [
          0.7333333333333333,
          1
         ],
         "gridcolor": "#434343",
         "range": [
          0,
          22.105263157894736
         ],
         "showgrid": true,
         "tickfont": {
          "color": "#C2C2C2"
         },
         "title": {
          "font": {
           "color": "#D9D9D9"
          },
          "text": ""
         },
         "zerolinecolor": "#666570"
        },
        "yaxis3": {
         "anchor": "x3",
         "autorange": true,
         "domain": [
          0.36666666666666664,
          0.6333333333333333
         ],
         "gridcolor": "#434343",
         "range": [
          0,
          21.05263157894737
         ],
         "showgrid": true,
         "tickfont": {
          "color": "#C2C2C2"
         },
         "title": {
          "font": {
           "color": "#D9D9D9"
          },
          "text": ""
         },
         "zerolinecolor": "#666570"
        },
        "yaxis4": {
         "anchor": "x4",
         "autorange": true,
         "domain": [
          0.36666666666666664,
          0.6333333333333333
         ],
         "gridcolor": "#434343",
         "range": [
          0,
          33.68421052631579
         ],
         "showgrid": true,
         "tickfont": {
          "color": "#C2C2C2"
         },
         "title": {
          "font": {
           "color": "#D9D9D9"
          },
          "text": ""
         },
         "zerolinecolor": "#666570"
        },
        "yaxis5": {
         "anchor": "x5",
         "autorange": true,
         "domain": [
          0,
          0.26666666666666666
         ],
         "gridcolor": "#434343",
         "range": [
          0,
          24.210526315789473
         ],
         "showgrid": true,
         "tickfont": {
          "color": "#C2C2C2"
         },
         "title": {
          "font": {
           "color": "#D9D9D9"
          },
          "text": ""
         },
         "zerolinecolor": "#666570"
        }
       }
      },
      "text/html": [
       "<div>                            <div id=\"7e331554-cad1-427b-b785-097482b52125\" class=\"plotly-graph-div\" style=\"height:525px; width:100%;\"></div>            <script type=\"text/javascript\">                require([\"plotly\"], function(Plotly) {                    window.PLOTLYENV=window.PLOTLYENV || {};\n",
       "                    window.PLOTLYENV.BASE_URL='https://plot.ly';                                    if (document.getElementById(\"7e331554-cad1-427b-b785-097482b52125\")) {                    Plotly.newPlot(                        \"7e331554-cad1-427b-b785-097482b52125\",                        [{\"histfunc\":\"count\",\"histnorm\":\"\",\"marker\":{\"color\":\"rgba(255, 153, 51, 1.0)\",\"line\":{\"color\":\"#D9D9D9\",\"width\":1.3}},\"name\":\"AMGN\",\"opacity\":0.8,\"orientation\":\"v\",\"x\":[0.010417602736962905,0.00929882827461892,0.030774033640383003,-0.01863191767298833,0.013823740455844558,-0.00354791449873737,-0.007318482612633126,0.002985336008958228,-0.008537418873045155,-0.018846204722400728,-0.008966408077600185,0.004607243577697595,-0.00866071234432475,-0.004878280460941298,-0.012242542529378397,-0.006491764499788388,-0.004837558529324326,-0.008154577113731243,0.003214335455276718,-0.024018265614794032,0.0004868300957650007,-0.005531841644981661,-0.005398515792268022,0.0006149186668746864,-0.015696290089376674,-0.0008330394576949729,0.010362804389644431,0.004772174802552875,-0.002072363766977503,-0.003990827800845587,-0.02466969670209096,0.026583921160935553,-0.009566210392412344,-0.008769044256091263,0.006163203839185449,-0.01680563952039371,0.003375244461600424,-0.011971540788682233,0.019365775829187193,-0.006158048500998881,0.000298115804057808,0.0012768768275162046,-0.02755495821737508,-0.001268811524979263,-0.011624395663787368,0.009169877046399044,0.023035435346655753,-0.011212818736555441,0.018562002964412905,-0.0014057927739665743,-0.020588268375820284,0.02122749816051339,-0.007569444728031449,-0.013483925375936678,0.014127665193901073,0.020929135103251895,-0.00534976186047853,0.007238459862321633,0.010635973618507322,0.001948065166630819,0.0010346702767609628,0.011065743451710297,0.012561881341894399,0.023319093924571987,-0.00019728809491148525,-0.009599137041792716,0.0021101417522864097,-0.00770563027974891,0.007745448895545515,-0.005743490426778131,-0.0077498774763471445,-0.008013678952445424,0.0004875193792583943,-0.01123214404728401,0.0016416084745349835,0.0024164467839602466,0.001716678419241724,-0.02510106064762585,0.006428200318147503,-0.002499580844094851,-0.003509968799934704,-0.012340333150042682,-0.028629940307990154,0.011188357766471313,0.019811945966302424,-0.008107881446791865,-0.0008101841957071088,-0.0013659127232870105,-0.007804522590294738,0.002837282566193089,0.0024866712149451686,-0.024491347609150615,-0.003238886167141075,-0.0035170143984366575,-0.0036188917843862356,0.002548032578392423,0.0020069892350162988,-0.013998770637287272,-0.01759469467961594,-0.0024402693517178164,0.007348612204167715,0.00965440875794421,-0.029340786101783145,0.017579223798954935,0.01732057144237764,-0.0029790302014207626,0.00013559689587960833,-0.002217170199706686,-0.009100900320219374,-0.0064202454419985955,0.021077392631658753,0.0013054823622118406,0.027335761563975325,0.005326365809869671,-0.004669980442299604,-0.006803806011093982,0.011473786453393586,-0.011165485998856362,-0.010534821678601425,-0.009478298412336272,-0.005856941671328109,-0.0006779845043327626,0.003385472742190032],\"xaxis\":\"x\",\"yaxis\":\"y\",\"type\":\"histogram\"},{\"histfunc\":\"count\",\"histnorm\":\"\",\"marker\":{\"color\":\"rgba(55, 128, 191, 1.0)\",\"line\":{\"color\":\"#D9D9D9\",\"width\":1.3}},\"name\":\"GS\",\"opacity\":0.8,\"orientation\":\"v\",\"x\":[0.0042657181097736085,-0.01139635524001914,0.01248857548566118,0.014035738805972642,0.012275634801651947,0.01972809037317802,0.014869070715041843,0.010914960543011887,-0.06655119639384566,-0.0023747863552925352,0.0047439464588601155,-0.025730961881723857,0.021130193976344636,-0.0023226604812434104,0.0037251516882816915,0.015157805778458489,-0.0035841597647685575,0.01057434315109873,0.02309054846118208,-0.00027341026896632314,0.010228933977391108,0.001298331212562509,0.0022949886092185068,0.009661823373781964,0.0018679598754713922,-0.019136886398349873,0.008900780425331156,0.007352664174497647,-0.00600692691695226,0.006862168610021868,-0.011121057712802696,-0.0046027214055781585,-0.020230299779891325,-0.0006370663525387954,0.007316100424713312,0.0008523075299695648,0.004606675083962841,-0.038712004944557066,-0.008398289692276961,0.00825507618888377,0.022629450168104803,-0.00011203876329002327,-0.0312059032448877,0.009232611680677572,-0.020828685239725253,-0.043066772610578674,-0.03781664070656365,0.020826770261773042,-0.03140520303533467,0.009246325014959922,-0.03734487363375383,0.01954151183861974,0.024729652678886715,-0.011443131048571864,0.003754852205434034,-0.007267844704817783,0.018888171620948135,-0.00028260387944367693,0.0071344451419470545,0.0013087388655854681,0.018419181750465974,-0.0018053009906999762,-0.011922975768823285,-0.003477309008831142,0.0027021843494328124,0.007909070481405323,0.007388920777507302,0.008728587302391233,0.005706840447646577,0.014319089320307121,0.008158461561863284,-0.017132539381850442,0.008885087757198207,0.005387716786289687,0.008671795517044778,0.0067092923066924826,-0.013110308937647197,-0.00863864031235373,0.01486404839420441,0.0053720067484901435,-0.008391784896867982,-0.021367724219429007,-0.014259611547585926,-0.022742532121860393,0.017770529201769136,-0.0015607178516336973,-0.005343387277553013,-0.006859148499824386,-0.005689570753333761,-0.0038112073783995726,0.00801160299573489,-0.003919896353652419,0.02878891668595962,-0.0018188224562427635,-0.010461727291482426,-0.00377829901971527,-0.004163570176624276,-0.011688439358856328,0.012646012104512216,0.024792040136915716,-0.0035605289081148683,-0.013584351937654837,-0.023427590730462633,0.022655449530142313,-0.005701364442172618,0.01538702394166691,0.027018509770716292,-0.000834298128865818,0.0016381120313155861,0.010273813412568167,0.008827194983915376,-0.01198389038407921,0.003892823128555989,-0.004217962750927562,-0.022690528071324323,-0.017231533340114957,-0.017032974589965555,-0.015356038985768095,-0.007495230810192766,0.0034835747656227767,0.0006697117176033274,0.029621302464928334,0.003285986294295995],\"xaxis\":\"x2\",\"yaxis\":\"y2\",\"type\":\"histogram\"},{\"histfunc\":\"count\",\"histnorm\":\"\",\"marker\":{\"color\":\"rgba(50, 171, 96, 1.0)\",\"line\":{\"color\":\"#D9D9D9\",\"width\":1.3}},\"name\":\"HD\",\"opacity\":0.8,\"orientation\":\"v\",\"x\":[0.012019473233771727,-0.013413250888484995,0.006508637816136975,0.0008815185611519283,0.008834025548667412,0.025769939665742037,0.002640896366012946,0.004053899173777964,-0.011172908843257723,-0.011793430013940842,-0.04037913696637041,0.013165601802860749,0.0015226552371432334,0.006980801273940074,-0.0013545400365755356,-0.010933960525674635,0.009135802054281328,-0.007766380457778332,0.031111060541503477,0.01201984043937454,0.035039763229749,-0.02469997013042935,-0.006749752032412459,-0.012437561885930037,-0.013653627459265572,-0.016469712818815374,0.0031325773426145176,0.021842211932465716,-0.0158892329476803,0.007072279822932792,0.0017134928020441365,-0.010294213753057058,-0.0732253650414254,0.002703627634113026,0.010107407791380751,-0.008893156037518501,-0.0021934723790337785,0.0017888855953396288,-0.01958072520484677,0.0076394307917002635,0.018361615823367927,-0.0008045850467510718,-0.02550601229683025,0.009929266615412047,-0.012045123929532942,-0.0058854372760919205,0.0007331917574369129,-0.003321041258843138,0.008369116130515053,-0.004315313091170836,0.005772715585111499,0.0030121652263011,0.0005875612156627241,-0.02384568102005158,0.004589548558998402,-0.003139821119313879,-0.006202491460633119,-0.0016011452919473257,0.009004191554986107,0.007033414334877364,0.033630542312457656,0.008805067594942706,-0.009347428934437296,-0.021555428999501913,-0.00020797500626468235,0.00883104778850985,0.00888977138222291,-0.011400081614340252,0.005870378758854322,0.00013686963388703788,0.010926048423494095,0.011946075895889585,-0.006847280905373232,0.0055753401314486695,0.004911422419164424,0.005318448445831514,-0.01776061738381607,-0.028270186704823175,0.020138140620667322,0.022239181213856263,-0.009494491276885064,-0.01155462026675469,-0.004086133912684531,-0.02532823924247385,0.013452336937469056,-0.005852314050843965,0.009161475212378534,-0.005348398393780762,-0.004646948813746832,0.009616798053456499,-0.006666554748899323,-0.021757146983744313,0.035011942889616066,0.009429098291009907,-0.014606813460444457,-0.0007565660635462379,0.014617684036751122,-0.01310512386916951,-0.015056099823679503,0.02098143840440514,-0.0014694527176901673,-0.0239135253150895,0.017277997703461168,0.0258429577843744,-0.009642870783204138,0.00984558578320982,0.019073732301780666,-0.002023975410130774,-0.012499294536739036,0.01173507490215453,-0.002595930554676329,-0.001233749071087864,0.007677892016119792,-0.005444847938594677,0.0034231202593728582,-0.002358345702394793,0.0015949377503980955,-0.0012292402524263224,0.023263795814749244,0.018821962399018233,-0.02331417316945661,0.0042648072134969794,0.006863517890573156],\"xaxis\":\"x3\",\"yaxis\":\"y3\",\"type\":\"histogram\"},{\"histfunc\":\"count\",\"histnorm\":\"\",\"marker\":{\"color\":\"rgba(128, 0, 128, 1.0)\",\"line\":{\"color\":\"#D9D9D9\",\"width\":1.3}},\"name\":\"MCD\",\"opacity\":0.8,\"orientation\":\"v\",\"x\":[0.0002271416013535088,-0.00847033508703543,0.027502005681707686,-0.008272464210153707,0.006192194753610991,-0.00037196529800986866,-0.007917913082174266,0.008215519339588084,0.019226992451886638,-0.029882760673936914,-0.00928982297831471,0.018791973789867633,0.002640092432455887,0.001002120111730953,0.012680788951525912,0.006280655104589528,-0.008260607999486247,-0.005778940205694916,-0.012967232682358443,-0.0042348461868062515,-0.011558631367838856,0.003867740794317953,0.013868605430009673,-0.0021673377507598346,-0.0170518060266609,-0.008252512563267977,0.006729416178592018,0.014301663504033613,0.0015388686597868073,-0.0001873961781182487,-0.0027424981789456737,0.015527948078384313,-0.005347882702189999,0.00033522544167219337,-0.006947887421814514,-0.011688174676265817,0.0041630868115358766,0.0024660296340144328,-0.004519306699543257,0.01829242817736798,0.005590414754069961,0.005817941746236066,-0.013054163496065918,-0.006761101177949591,-0.0140429924931329,0.001527709984010528,0.003999082214080296,0.010662148279799943,0.0016534139112831525,0.0157571833244452,-0.012533393325381503,0.013161482606344421,-0.001959591272711947,-0.00869761780847611,0.006511747818735536,0.006322298403894422,0.009208157104399817,0.0073133670105534065,0.005747340791368849,0.0012608225992094546,0.006530247426951519,0.009007703081612917,0.0004960521666372841,-0.0009215289201858212,0.0030802874762079213,0.0031411026628322958,0.00246360968088144,0.0028783183831491144,0.013127606890296128,-0.0003113335466231604,0.0011412595157063166,0.005515166584267206,0.0012367107099144903,-0.0009274423306679935,0.0036360272503026536,0.0038957849741265704,-0.00578070988578272,-0.006021293378655201,0.01697274737824017,0.0034886635746635974,0.0061686129926403765,0.0016453092013541948,-0.00960754873522518,-0.0002031862838061116,0.004866767387782467,0.00030343966778811904,-0.00010113632564845432,-0.0003033669147809448,-0.006020032635547068,0.004569053539638546,-0.0008107772561958271,-0.005931799712627139,-0.0023484415644903223,0.002008473105573394,0.005088157506689228,-0.02120090712291134,-0.010352449235196737,-0.001572550146538454,-0.0014000804925293764,0.0018196476021987706,-0.003923181444281276,0.000666519006580657,0.009634010538714044,0.012355682463149442,-0.005118145819034581,-0.013578525545186793,-0.009321494784956919,0.013669903300629116,0.003527990639795142,0.00618744580457431,-6.937736147527573e-05,-0.0003812383395072061,0.014353513777956017,0.003718265476810423,-0.0022497321373657897,0.005037727567896333,-0.0041509408342337295,-0.011625391745901048,-0.0028324969687893997,0.00761557641092292,0.001509339124311282,0.009314173291716799,0.009699118392912709],\"xaxis\":\"x4\",\"yaxis\":\"y4\",\"type\":\"histogram\"},{\"histfunc\":\"count\",\"histnorm\":\"\",\"marker\":{\"color\":\"rgba(219, 64, 82, 1.0)\",\"line\":{\"color\":\"#D9D9D9\",\"width\":1.3}},\"name\":\"UNH\",\"opacity\":0.8,\"orientation\":\"v\",\"x\":[-0.02764218627135584,-0.029244156134660138,8.171578038584926e-05,0.00012243564871994295,-0.008319211375749092,0.015111530410346852,0.004590219151751285,-0.012382857803200586,-0.009213705164039077,-0.018391895298128347,0.016906445219629695,0.004860641353030992,-0.0018714349267758834,0.011847810230944944,0.0018290582920457155,-4.058721331023918e-05,-0.013142406511455818,-0.0005350209424346275,0.0272103474903842,-0.004396765391356361,-0.054092951389347554,0.002524284033834867,0.0067985397428946825,0.003445020133401755,0.013207118302776877,0.005180895174895284,0.017388535683092066,0.002223119069701518,-0.005100364892201448,-0.003211075177803835,-0.007970546929943367,0.023783810607937994,-0.01569113954545376,-0.004937709947969715,0.0057109208757886165,-0.015082002749000623,-0.00208750714704653,-0.015387136400605073,-0.001513998369897962,0.005205118960844857,0.0017986316792804047,0.004628226119433698,-0.014455679918812692,-0.006945599972448591,-0.012164726746484611,-0.006344779888115326,0.0072510340854998745,0.0019391367165910722,0.0018279423452591814,0.014059628229095011,-0.005353073771265926,0.01576433705607272,0.00656179363087972,-0.009585480671466584,-0.011867758713307808,0.012855662416821012,0.012339768163924347,-0.01952956483549073,-0.01275612499170986,0.007409411497337537,0.005367851639544341,0.04469190484249186,-0.0019039140184364811,0.03188364084466322,0.007005574221231825,0.004610908391654789,0.01117615959459517,0.0004222301529877015,0.009623630752798817,-0.027823907523294444,-0.012663113953193417,-0.0017230862380239742,-0.03690812150657852,0.0025881181381617324,-0.007495242726487383,0.010526828810893285,0.006076354594753752,-0.01840295263027425,0.01545092575437046,0.003297502849094691,0.007309348188156761,-0.004670991680276515,-0.008038090388411412,-0.004422941198154895,0.014263235249741157,-0.003364103454080336,-0.004557469909504341,-0.0006323282321645252,-0.0026766923153234146,0.005040873960962422,-0.008935858720684031,-0.014774005750991748,0.010554445699638926,-0.011576353535033945,-0.0008559081208163732,0.003752176084682368,-0.002458170453282449,0.002895001228464089,-0.006530822519245305,0.007964781580594327,-0.003474158529718885,0.01528322588566322,0.013029465283224795,0.011981464584406076,-0.002786195937446223,-0.021547630626324477,-0.01122013553987955,0.01666090054538305,0.0068912977326265334,-0.0020888018048825785,-0.002601856564140803,-0.06615323233494586,0.01712411380887513,-0.016011126292478473,0.023495550696993384,0.015558233875218264,0.004812706134605271,-0.004288459726792482,0.004309354542165522,0.007279414889749702,-0.016948996171684882,0.004185537988396604,0.0076317765610758315],\"xaxis\":\"x5\",\"yaxis\":\"y5\",\"type\":\"histogram\"}],                        {\"barmode\":\"overlay\",\"legend\":{\"bgcolor\":\"#151516\",\"font\":{\"color\":\"#D9D9D9\"}},\"paper_bgcolor\":\"#151516\",\"plot_bgcolor\":\"#151516\",\"template\":{\"data\":{\"barpolar\":[{\"marker\":{\"line\":{\"color\":\"#E5ECF6\",\"width\":0.5},\"pattern\":{\"fillmode\":\"overlay\",\"size\":10,\"solidity\":0.2}},\"type\":\"barpolar\"}],\"bar\":[{\"error_x\":{\"color\":\"#2a3f5f\"},\"error_y\":{\"color\":\"#2a3f5f\"},\"marker\":{\"line\":{\"color\":\"#E5ECF6\",\"width\":0.5},\"pattern\":{\"fillmode\":\"overlay\",\"size\":10,\"solidity\":0.2}},\"type\":\"bar\"}],\"carpet\":[{\"aaxis\":{\"endlinecolor\":\"#2a3f5f\",\"gridcolor\":\"white\",\"linecolor\":\"white\",\"minorgridcolor\":\"white\",\"startlinecolor\":\"#2a3f5f\"},\"baxis\":{\"endlinecolor\":\"#2a3f5f\",\"gridcolor\":\"white\",\"linecolor\":\"white\",\"minorgridcolor\":\"white\",\"startlinecolor\":\"#2a3f5f\"},\"type\":\"carpet\"}],\"choropleth\":[{\"colorbar\":{\"outlinewidth\":0,\"ticks\":\"\"},\"type\":\"choropleth\"}],\"contourcarpet\":[{\"colorbar\":{\"outlinewidth\":0,\"ticks\":\"\"},\"type\":\"contourcarpet\"}],\"contour\":[{\"colorbar\":{\"outlinewidth\":0,\"ticks\":\"\"},\"colorscale\":[[0.0,\"#0d0887\"],[0.1111111111111111,\"#46039f\"],[0.2222222222222222,\"#7201a8\"],[0.3333333333333333,\"#9c179e\"],[0.4444444444444444,\"#bd3786\"],[0.5555555555555556,\"#d8576b\"],[0.6666666666666666,\"#ed7953\"],[0.7777777777777778,\"#fb9f3a\"],[0.8888888888888888,\"#fdca26\"],[1.0,\"#f0f921\"]],\"type\":\"contour\"}],\"heatmapgl\":[{\"colorbar\":{\"outlinewidth\":0,\"ticks\":\"\"},\"colorscale\":[[0.0,\"#0d0887\"],[0.1111111111111111,\"#46039f\"],[0.2222222222222222,\"#7201a8\"],[0.3333333333333333,\"#9c179e\"],[0.4444444444444444,\"#bd3786\"],[0.5555555555555556,\"#d8576b\"],[0.6666666666666666,\"#ed7953\"],[0.7777777777777778,\"#fb9f3a\"],[0.8888888888888888,\"#fdca26\"],[1.0,\"#f0f921\"]],\"type\":\"heatmapgl\"}],\"heatmap\":[{\"colorbar\":{\"outlinewidth\":0,\"ticks\":\"\"},\"colorscale\":[[0.0,\"#0d0887\"],[0.1111111111111111,\"#46039f\"],[0.2222222222222222,\"#7201a8\"],[0.3333333333333333,\"#9c179e\"],[0.4444444444444444,\"#bd3786\"],[0.5555555555555556,\"#d8576b\"],[0.6666666666666666,\"#ed7953\"],[0.7777777777777778,\"#fb9f3a\"],[0.8888888888888888,\"#fdca26\"],[1.0,\"#f0f921\"]],\"type\":\"heatmap\"}],\"histogram2dcontour\":[{\"colorbar\":{\"outlinewidth\":0,\"ticks\":\"\"},\"colorscale\":[[0.0,\"#0d0887\"],[0.1111111111111111,\"#46039f\"],[0.2222222222222222,\"#7201a8\"],[0.3333333333333333,\"#9c179e\"],[0.4444444444444444,\"#bd3786\"],[0.5555555555555556,\"#d8576b\"],[0.6666666666666666,\"#ed7953\"],[0.7777777777777778,\"#fb9f3a\"],[0.8888888888888888,\"#fdca26\"],[1.0,\"#f0f921\"]],\"type\":\"histogram2dcontour\"}],\"histogram2d\":[{\"colorbar\":{\"outlinewidth\":0,\"ticks\":\"\"},\"colorscale\":[[0.0,\"#0d0887\"],[0.1111111111111111,\"#46039f\"],[0.2222222222222222,\"#7201a8\"],[0.3333333333333333,\"#9c179e\"],[0.4444444444444444,\"#bd3786\"],[0.5555555555555556,\"#d8576b\"],[0.6666666666666666,\"#ed7953\"],[0.7777777777777778,\"#fb9f3a\"],[0.8888888888888888,\"#fdca26\"],[1.0,\"#f0f921\"]],\"type\":\"histogram2d\"}],\"histogram\":[{\"marker\":{\"pattern\":{\"fillmode\":\"overlay\",\"size\":10,\"solidity\":0.2}},\"type\":\"histogram\"}],\"mesh3d\":[{\"colorbar\":{\"outlinewidth\":0,\"ticks\":\"\"},\"type\":\"mesh3d\"}],\"parcoords\":[{\"line\":{\"colorbar\":{\"outlinewidth\":0,\"ticks\":\"\"}},\"type\":\"parcoords\"}],\"pie\":[{\"automargin\":true,\"type\":\"pie\"}],\"scatter3d\":[{\"line\":{\"colorbar\":{\"outlinewidth\":0,\"ticks\":\"\"}},\"marker\":{\"colorbar\":{\"outlinewidth\":0,\"ticks\":\"\"}},\"type\":\"scatter3d\"}],\"scattercarpet\":[{\"marker\":{\"colorbar\":{\"outlinewidth\":0,\"ticks\":\"\"}},\"type\":\"scattercarpet\"}],\"scattergeo\":[{\"marker\":{\"colorbar\":{\"outlinewidth\":0,\"ticks\":\"\"}},\"type\":\"scattergeo\"}],\"scattergl\":[{\"marker\":{\"colorbar\":{\"outlinewidth\":0,\"ticks\":\"\"}},\"type\":\"scattergl\"}],\"scattermapbox\":[{\"marker\":{\"colorbar\":{\"outlinewidth\":0,\"ticks\":\"\"}},\"type\":\"scattermapbox\"}],\"scatterpolargl\":[{\"marker\":{\"colorbar\":{\"outlinewidth\":0,\"ticks\":\"\"}},\"type\":\"scatterpolargl\"}],\"scatterpolar\":[{\"marker\":{\"colorbar\":{\"outlinewidth\":0,\"ticks\":\"\"}},\"type\":\"scatterpolar\"}],\"scatter\":[{\"fillpattern\":{\"fillmode\":\"overlay\",\"size\":10,\"solidity\":0.2},\"type\":\"scatter\"}],\"scatterternary\":[{\"marker\":{\"colorbar\":{\"outlinewidth\":0,\"ticks\":\"\"}},\"type\":\"scatterternary\"}],\"surface\":[{\"colorbar\":{\"outlinewidth\":0,\"ticks\":\"\"},\"colorscale\":[[0.0,\"#0d0887\"],[0.1111111111111111,\"#46039f\"],[0.2222222222222222,\"#7201a8\"],[0.3333333333333333,\"#9c179e\"],[0.4444444444444444,\"#bd3786\"],[0.5555555555555556,\"#d8576b\"],[0.6666666666666666,\"#ed7953\"],[0.7777777777777778,\"#fb9f3a\"],[0.8888888888888888,\"#fdca26\"],[1.0,\"#f0f921\"]],\"type\":\"surface\"}],\"table\":[{\"cells\":{\"fill\":{\"color\":\"#EBF0F8\"},\"line\":{\"color\":\"white\"}},\"header\":{\"fill\":{\"color\":\"#C8D4E3\"},\"line\":{\"color\":\"white\"}},\"type\":\"table\"}]},\"layout\":{\"annotationdefaults\":{\"arrowcolor\":\"#2a3f5f\",\"arrowhead\":0,\"arrowwidth\":1},\"autotypenumbers\":\"strict\",\"coloraxis\":{\"colorbar\":{\"outlinewidth\":0,\"ticks\":\"\"}},\"colorscale\":{\"diverging\":[[0,\"#8e0152\"],[0.1,\"#c51b7d\"],[0.2,\"#de77ae\"],[0.3,\"#f1b6da\"],[0.4,\"#fde0ef\"],[0.5,\"#f7f7f7\"],[0.6,\"#e6f5d0\"],[0.7,\"#b8e186\"],[0.8,\"#7fbc41\"],[0.9,\"#4d9221\"],[1,\"#276419\"]],\"sequential\":[[0.0,\"#0d0887\"],[0.1111111111111111,\"#46039f\"],[0.2222222222222222,\"#7201a8\"],[0.3333333333333333,\"#9c179e\"],[0.4444444444444444,\"#bd3786\"],[0.5555555555555556,\"#d8576b\"],[0.6666666666666666,\"#ed7953\"],[0.7777777777777778,\"#fb9f3a\"],[0.8888888888888888,\"#fdca26\"],[1.0,\"#f0f921\"]],\"sequentialminus\":[[0.0,\"#0d0887\"],[0.1111111111111111,\"#46039f\"],[0.2222222222222222,\"#7201a8\"],[0.3333333333333333,\"#9c179e\"],[0.4444444444444444,\"#bd3786\"],[0.5555555555555556,\"#d8576b\"],[0.6666666666666666,\"#ed7953\"],[0.7777777777777778,\"#fb9f3a\"],[0.8888888888888888,\"#fdca26\"],[1.0,\"#f0f921\"]]},\"colorway\":[\"#636efa\",\"#EF553B\",\"#00cc96\",\"#ab63fa\",\"#FFA15A\",\"#19d3f3\",\"#FF6692\",\"#B6E880\",\"#FF97FF\",\"#FECB52\"],\"font\":{\"color\":\"#2a3f5f\"},\"geo\":{\"bgcolor\":\"white\",\"lakecolor\":\"white\",\"landcolor\":\"#E5ECF6\",\"showlakes\":true,\"showland\":true,\"subunitcolor\":\"white\"},\"hoverlabel\":{\"align\":\"left\"},\"hovermode\":\"closest\",\"mapbox\":{\"style\":\"light\"},\"paper_bgcolor\":\"white\",\"plot_bgcolor\":\"#E5ECF6\",\"polar\":{\"angularaxis\":{\"gridcolor\":\"white\",\"linecolor\":\"white\",\"ticks\":\"\"},\"bgcolor\":\"#E5ECF6\",\"radialaxis\":{\"gridcolor\":\"white\",\"linecolor\":\"white\",\"ticks\":\"\"}},\"scene\":{\"xaxis\":{\"backgroundcolor\":\"#E5ECF6\",\"gridcolor\":\"white\",\"gridwidth\":2,\"linecolor\":\"white\",\"showbackground\":true,\"ticks\":\"\",\"zerolinecolor\":\"white\"},\"yaxis\":{\"backgroundcolor\":\"#E5ECF6\",\"gridcolor\":\"white\",\"gridwidth\":2,\"linecolor\":\"white\",\"showbackground\":true,\"ticks\":\"\",\"zerolinecolor\":\"white\"},\"zaxis\":{\"backgroundcolor\":\"#E5ECF6\",\"gridcolor\":\"white\",\"gridwidth\":2,\"linecolor\":\"white\",\"showbackground\":true,\"ticks\":\"\",\"zerolinecolor\":\"white\"}},\"shapedefaults\":{\"line\":{\"color\":\"#2a3f5f\"}},\"ternary\":{\"aaxis\":{\"gridcolor\":\"white\",\"linecolor\":\"white\",\"ticks\":\"\"},\"baxis\":{\"gridcolor\":\"white\",\"linecolor\":\"white\",\"ticks\":\"\"},\"bgcolor\":\"#E5ECF6\",\"caxis\":{\"gridcolor\":\"white\",\"linecolor\":\"white\",\"ticks\":\"\"}},\"title\":{\"x\":0.05},\"xaxis\":{\"automargin\":true,\"gridcolor\":\"white\",\"linecolor\":\"white\",\"ticks\":\"\",\"title\":{\"standoff\":15},\"zerolinecolor\":\"white\",\"zerolinewidth\":2},\"yaxis\":{\"automargin\":true,\"gridcolor\":\"white\",\"linecolor\":\"white\",\"ticks\":\"\",\"title\":{\"standoff\":15},\"zerolinecolor\":\"white\",\"zerolinewidth\":2}}},\"title\":{\"font\":{\"color\":\"#D9D9D9\"},\"text\":\"Histogram of Daily Returns\"},\"xaxis\":{\"anchor\":\"y\",\"domain\":[0.0,0.45],\"gridcolor\":\"#434343\",\"showgrid\":true,\"tickfont\":{\"color\":\"#C2C2C2\"},\"title\":{\"font\":{\"color\":\"#D9D9D9\"},\"text\":\"\"},\"zerolinecolor\":\"#666570\"},\"yaxis\":{\"anchor\":\"x\",\"domain\":[0.7333333333333333,1.0],\"gridcolor\":\"#434343\",\"showgrid\":true,\"tickfont\":{\"color\":\"#C2C2C2\"},\"title\":{\"font\":{\"color\":\"#D9D9D9\"},\"text\":\"\"},\"zerolinecolor\":\"#666570\"},\"xaxis2\":{\"anchor\":\"y2\",\"domain\":[0.55,1.0],\"gridcolor\":\"#434343\",\"showgrid\":true,\"tickfont\":{\"color\":\"#C2C2C2\"},\"title\":{\"font\":{\"color\":\"#D9D9D9\"},\"text\":\"\"},\"zerolinecolor\":\"#666570\"},\"yaxis2\":{\"anchor\":\"x2\",\"domain\":[0.7333333333333333,1.0],\"gridcolor\":\"#434343\",\"showgrid\":true,\"tickfont\":{\"color\":\"#C2C2C2\"},\"title\":{\"font\":{\"color\":\"#D9D9D9\"},\"text\":\"\"},\"zerolinecolor\":\"#666570\"},\"xaxis3\":{\"anchor\":\"y3\",\"domain\":[0.0,0.45],\"gridcolor\":\"#434343\",\"showgrid\":true,\"tickfont\":{\"color\":\"#C2C2C2\"},\"title\":{\"font\":{\"color\":\"#D9D9D9\"},\"text\":\"\"},\"zerolinecolor\":\"#666570\"},\"yaxis3\":{\"anchor\":\"x3\",\"domain\":[0.36666666666666664,0.6333333333333333],\"gridcolor\":\"#434343\",\"showgrid\":true,\"tickfont\":{\"color\":\"#C2C2C2\"},\"title\":{\"font\":{\"color\":\"#D9D9D9\"},\"text\":\"\"},\"zerolinecolor\":\"#666570\"},\"xaxis4\":{\"anchor\":\"y4\",\"domain\":[0.55,1.0],\"gridcolor\":\"#434343\",\"showgrid\":true,\"tickfont\":{\"color\":\"#C2C2C2\"},\"title\":{\"font\":{\"color\":\"#D9D9D9\"},\"text\":\"\"},\"zerolinecolor\":\"#666570\"},\"yaxis4\":{\"anchor\":\"x4\",\"domain\":[0.36666666666666664,0.6333333333333333],\"gridcolor\":\"#434343\",\"showgrid\":true,\"tickfont\":{\"color\":\"#C2C2C2\"},\"title\":{\"font\":{\"color\":\"#D9D9D9\"},\"text\":\"\"},\"zerolinecolor\":\"#666570\"},\"xaxis5\":{\"anchor\":\"y5\",\"domain\":[0.0,0.45],\"gridcolor\":\"#434343\",\"showgrid\":true,\"tickfont\":{\"color\":\"#C2C2C2\"},\"title\":{\"font\":{\"color\":\"#D9D9D9\"},\"text\":\"\"},\"zerolinecolor\":\"#666570\"},\"yaxis5\":{\"anchor\":\"x5\",\"domain\":[0.0,0.26666666666666666],\"gridcolor\":\"#434343\",\"showgrid\":true,\"tickfont\":{\"color\":\"#C2C2C2\"},\"title\":{\"font\":{\"color\":\"#D9D9D9\"},\"text\":\"\"},\"zerolinecolor\":\"#666570\"}},                        {\"showLink\": true, \"linkText\": \"Export to plot.ly\", \"plotlyServerURL\": \"https://plot.ly\", \"responsive\": true}                    ).then(function(){\n",
       "                            \n",
       "var gd = document.getElementById('7e331554-cad1-427b-b785-097482b52125');\n",
       "var x = new MutationObserver(function (mutations, observer) {{\n",
       "        var display = window.getComputedStyle(gd).display;\n",
       "        if (!display || display === 'none') {{\n",
       "            console.log([gd, 'removed!']);\n",
       "            Plotly.purge(gd);\n",
       "            observer.disconnect();\n",
       "        }}\n",
       "}});\n",
       "\n",
       "// Listen for the removal of the full notebook cells\n",
       "var notebookContainer = gd.closest('#notebook-container');\n",
       "if (notebookContainer) {{\n",
       "    x.observe(notebookContainer, {childList: true});\n",
       "}}\n",
       "\n",
       "// Listen for the clearing of the current output cell\n",
       "var outputEl = gd.closest('.output');\n",
       "if (outputEl) {{\n",
       "    x.observe(outputEl, {childList: true});\n",
       "}}\n",
       "\n",
       "                        })                };                });            </script>        </div>"
      ]
     },
     "metadata": {},
     "output_type": "display_data"
    }
   ],
   "source": [
    "# Plot log normal distribution of returns\n",
    "daily_returns.iplot(kind='histogram', title = 'Histogram of Daily Returns', subplots=True)"
   ]
  },
  {
   "cell_type": "code",
   "execution_count": 26,
   "id": "f77825e8-03b8-4d56-a816-2182b95d358c",
   "metadata": {},
   "outputs": [
    {
     "data": {
      "application/vnd.plotly.v1+json": {
       "config": {
        "linkText": "Export to plot.ly",
        "plotlyServerURL": "https://plot.ly",
        "showLink": true
       },
       "data": [
        {
         "marker": {
          "color": "rgba(255, 153, 51, 0.6)",
          "line": {
           "color": "rgba(255, 153, 51, 1.0)",
           "width": 1
          }
         },
         "name": "None",
         "orientation": "v",
         "text": "",
         "type": "bar",
         "x": [
          "AMGN",
          "GS",
          "HD",
          "MCD",
          "UNH"
         ],
         "y": [
          -30.027900954467302,
          -10.476906793809981,
          -0.9608369494178405,
          26.373814160328084,
          -14.256325170159695
         ]
        }
       ],
       "layout": {
        "autosize": true,
        "legend": {
         "bgcolor": "#151516",
         "font": {
          "color": "#D9D9D9"
         }
        },
        "paper_bgcolor": "#151516",
        "plot_bgcolor": "#151516",
        "template": {
         "data": {
          "bar": [
           {
            "error_x": {
             "color": "#2a3f5f"
            },
            "error_y": {
             "color": "#2a3f5f"
            },
            "marker": {
             "line": {
              "color": "#E5ECF6",
              "width": 0.5
             },
             "pattern": {
              "fillmode": "overlay",
              "size": 10,
              "solidity": 0.2
             }
            },
            "type": "bar"
           }
          ],
          "barpolar": [
           {
            "marker": {
             "line": {
              "color": "#E5ECF6",
              "width": 0.5
             },
             "pattern": {
              "fillmode": "overlay",
              "size": 10,
              "solidity": 0.2
             }
            },
            "type": "barpolar"
           }
          ],
          "carpet": [
           {
            "aaxis": {
             "endlinecolor": "#2a3f5f",
             "gridcolor": "white",
             "linecolor": "white",
             "minorgridcolor": "white",
             "startlinecolor": "#2a3f5f"
            },
            "baxis": {
             "endlinecolor": "#2a3f5f",
             "gridcolor": "white",
             "linecolor": "white",
             "minorgridcolor": "white",
             "startlinecolor": "#2a3f5f"
            },
            "type": "carpet"
           }
          ],
          "choropleth": [
           {
            "colorbar": {
             "outlinewidth": 0,
             "ticks": ""
            },
            "type": "choropleth"
           }
          ],
          "contour": [
           {
            "colorbar": {
             "outlinewidth": 0,
             "ticks": ""
            },
            "colorscale": [
             [
              0,
              "#0d0887"
             ],
             [
              0.1111111111111111,
              "#46039f"
             ],
             [
              0.2222222222222222,
              "#7201a8"
             ],
             [
              0.3333333333333333,
              "#9c179e"
             ],
             [
              0.4444444444444444,
              "#bd3786"
             ],
             [
              0.5555555555555556,
              "#d8576b"
             ],
             [
              0.6666666666666666,
              "#ed7953"
             ],
             [
              0.7777777777777778,
              "#fb9f3a"
             ],
             [
              0.8888888888888888,
              "#fdca26"
             ],
             [
              1,
              "#f0f921"
             ]
            ],
            "type": "contour"
           }
          ],
          "contourcarpet": [
           {
            "colorbar": {
             "outlinewidth": 0,
             "ticks": ""
            },
            "type": "contourcarpet"
           }
          ],
          "heatmap": [
           {
            "colorbar": {
             "outlinewidth": 0,
             "ticks": ""
            },
            "colorscale": [
             [
              0,
              "#0d0887"
             ],
             [
              0.1111111111111111,
              "#46039f"
             ],
             [
              0.2222222222222222,
              "#7201a8"
             ],
             [
              0.3333333333333333,
              "#9c179e"
             ],
             [
              0.4444444444444444,
              "#bd3786"
             ],
             [
              0.5555555555555556,
              "#d8576b"
             ],
             [
              0.6666666666666666,
              "#ed7953"
             ],
             [
              0.7777777777777778,
              "#fb9f3a"
             ],
             [
              0.8888888888888888,
              "#fdca26"
             ],
             [
              1,
              "#f0f921"
             ]
            ],
            "type": "heatmap"
           }
          ],
          "heatmapgl": [
           {
            "colorbar": {
             "outlinewidth": 0,
             "ticks": ""
            },
            "colorscale": [
             [
              0,
              "#0d0887"
             ],
             [
              0.1111111111111111,
              "#46039f"
             ],
             [
              0.2222222222222222,
              "#7201a8"
             ],
             [
              0.3333333333333333,
              "#9c179e"
             ],
             [
              0.4444444444444444,
              "#bd3786"
             ],
             [
              0.5555555555555556,
              "#d8576b"
             ],
             [
              0.6666666666666666,
              "#ed7953"
             ],
             [
              0.7777777777777778,
              "#fb9f3a"
             ],
             [
              0.8888888888888888,
              "#fdca26"
             ],
             [
              1,
              "#f0f921"
             ]
            ],
            "type": "heatmapgl"
           }
          ],
          "histogram": [
           {
            "marker": {
             "pattern": {
              "fillmode": "overlay",
              "size": 10,
              "solidity": 0.2
             }
            },
            "type": "histogram"
           }
          ],
          "histogram2d": [
           {
            "colorbar": {
             "outlinewidth": 0,
             "ticks": ""
            },
            "colorscale": [
             [
              0,
              "#0d0887"
             ],
             [
              0.1111111111111111,
              "#46039f"
             ],
             [
              0.2222222222222222,
              "#7201a8"
             ],
             [
              0.3333333333333333,
              "#9c179e"
             ],
             [
              0.4444444444444444,
              "#bd3786"
             ],
             [
              0.5555555555555556,
              "#d8576b"
             ],
             [
              0.6666666666666666,
              "#ed7953"
             ],
             [
              0.7777777777777778,
              "#fb9f3a"
             ],
             [
              0.8888888888888888,
              "#fdca26"
             ],
             [
              1,
              "#f0f921"
             ]
            ],
            "type": "histogram2d"
           }
          ],
          "histogram2dcontour": [
           {
            "colorbar": {
             "outlinewidth": 0,
             "ticks": ""
            },
            "colorscale": [
             [
              0,
              "#0d0887"
             ],
             [
              0.1111111111111111,
              "#46039f"
             ],
             [
              0.2222222222222222,
              "#7201a8"
             ],
             [
              0.3333333333333333,
              "#9c179e"
             ],
             [
              0.4444444444444444,
              "#bd3786"
             ],
             [
              0.5555555555555556,
              "#d8576b"
             ],
             [
              0.6666666666666666,
              "#ed7953"
             ],
             [
              0.7777777777777778,
              "#fb9f3a"
             ],
             [
              0.8888888888888888,
              "#fdca26"
             ],
             [
              1,
              "#f0f921"
             ]
            ],
            "type": "histogram2dcontour"
           }
          ],
          "mesh3d": [
           {
            "colorbar": {
             "outlinewidth": 0,
             "ticks": ""
            },
            "type": "mesh3d"
           }
          ],
          "parcoords": [
           {
            "line": {
             "colorbar": {
              "outlinewidth": 0,
              "ticks": ""
             }
            },
            "type": "parcoords"
           }
          ],
          "pie": [
           {
            "automargin": true,
            "type": "pie"
           }
          ],
          "scatter": [
           {
            "fillpattern": {
             "fillmode": "overlay",
             "size": 10,
             "solidity": 0.2
            },
            "type": "scatter"
           }
          ],
          "scatter3d": [
           {
            "line": {
             "colorbar": {
              "outlinewidth": 0,
              "ticks": ""
             }
            },
            "marker": {
             "colorbar": {
              "outlinewidth": 0,
              "ticks": ""
             }
            },
            "type": "scatter3d"
           }
          ],
          "scattercarpet": [
           {
            "marker": {
             "colorbar": {
              "outlinewidth": 0,
              "ticks": ""
             }
            },
            "type": "scattercarpet"
           }
          ],
          "scattergeo": [
           {
            "marker": {
             "colorbar": {
              "outlinewidth": 0,
              "ticks": ""
             }
            },
            "type": "scattergeo"
           }
          ],
          "scattergl": [
           {
            "marker": {
             "colorbar": {
              "outlinewidth": 0,
              "ticks": ""
             }
            },
            "type": "scattergl"
           }
          ],
          "scattermapbox": [
           {
            "marker": {
             "colorbar": {
              "outlinewidth": 0,
              "ticks": ""
             }
            },
            "type": "scattermapbox"
           }
          ],
          "scatterpolar": [
           {
            "marker": {
             "colorbar": {
              "outlinewidth": 0,
              "ticks": ""
             }
            },
            "type": "scatterpolar"
           }
          ],
          "scatterpolargl": [
           {
            "marker": {
             "colorbar": {
              "outlinewidth": 0,
              "ticks": ""
             }
            },
            "type": "scatterpolargl"
           }
          ],
          "scatterternary": [
           {
            "marker": {
             "colorbar": {
              "outlinewidth": 0,
              "ticks": ""
             }
            },
            "type": "scatterternary"
           }
          ],
          "surface": [
           {
            "colorbar": {
             "outlinewidth": 0,
             "ticks": ""
            },
            "colorscale": [
             [
              0,
              "#0d0887"
             ],
             [
              0.1111111111111111,
              "#46039f"
             ],
             [
              0.2222222222222222,
              "#7201a8"
             ],
             [
              0.3333333333333333,
              "#9c179e"
             ],
             [
              0.4444444444444444,
              "#bd3786"
             ],
             [
              0.5555555555555556,
              "#d8576b"
             ],
             [
              0.6666666666666666,
              "#ed7953"
             ],
             [
              0.7777777777777778,
              "#fb9f3a"
             ],
             [
              0.8888888888888888,
              "#fdca26"
             ],
             [
              1,
              "#f0f921"
             ]
            ],
            "type": "surface"
           }
          ],
          "table": [
           {
            "cells": {
             "fill": {
              "color": "#EBF0F8"
             },
             "line": {
              "color": "white"
             }
            },
            "header": {
             "fill": {
              "color": "#C8D4E3"
             },
             "line": {
              "color": "white"
             }
            },
            "type": "table"
           }
          ]
         },
         "layout": {
          "annotationdefaults": {
           "arrowcolor": "#2a3f5f",
           "arrowhead": 0,
           "arrowwidth": 1
          },
          "autotypenumbers": "strict",
          "coloraxis": {
           "colorbar": {
            "outlinewidth": 0,
            "ticks": ""
           }
          },
          "colorscale": {
           "diverging": [
            [
             0,
             "#8e0152"
            ],
            [
             0.1,
             "#c51b7d"
            ],
            [
             0.2,
             "#de77ae"
            ],
            [
             0.3,
             "#f1b6da"
            ],
            [
             0.4,
             "#fde0ef"
            ],
            [
             0.5,
             "#f7f7f7"
            ],
            [
             0.6,
             "#e6f5d0"
            ],
            [
             0.7,
             "#b8e186"
            ],
            [
             0.8,
             "#7fbc41"
            ],
            [
             0.9,
             "#4d9221"
            ],
            [
             1,
             "#276419"
            ]
           ],
           "sequential": [
            [
             0,
             "#0d0887"
            ],
            [
             0.1111111111111111,
             "#46039f"
            ],
            [
             0.2222222222222222,
             "#7201a8"
            ],
            [
             0.3333333333333333,
             "#9c179e"
            ],
            [
             0.4444444444444444,
             "#bd3786"
            ],
            [
             0.5555555555555556,
             "#d8576b"
            ],
            [
             0.6666666666666666,
             "#ed7953"
            ],
            [
             0.7777777777777778,
             "#fb9f3a"
            ],
            [
             0.8888888888888888,
             "#fdca26"
            ],
            [
             1,
             "#f0f921"
            ]
           ],
           "sequentialminus": [
            [
             0,
             "#0d0887"
            ],
            [
             0.1111111111111111,
             "#46039f"
            ],
            [
             0.2222222222222222,
             "#7201a8"
            ],
            [
             0.3333333333333333,
             "#9c179e"
            ],
            [
             0.4444444444444444,
             "#bd3786"
            ],
            [
             0.5555555555555556,
             "#d8576b"
            ],
            [
             0.6666666666666666,
             "#ed7953"
            ],
            [
             0.7777777777777778,
             "#fb9f3a"
            ],
            [
             0.8888888888888888,
             "#fdca26"
            ],
            [
             1,
             "#f0f921"
            ]
           ]
          },
          "colorway": [
           "#636efa",
           "#EF553B",
           "#00cc96",
           "#ab63fa",
           "#FFA15A",
           "#19d3f3",
           "#FF6692",
           "#B6E880",
           "#FF97FF",
           "#FECB52"
          ],
          "font": {
           "color": "#2a3f5f"
          },
          "geo": {
           "bgcolor": "white",
           "lakecolor": "white",
           "landcolor": "#E5ECF6",
           "showlakes": true,
           "showland": true,
           "subunitcolor": "white"
          },
          "hoverlabel": {
           "align": "left"
          },
          "hovermode": "closest",
          "mapbox": {
           "style": "light"
          },
          "paper_bgcolor": "white",
          "plot_bgcolor": "#E5ECF6",
          "polar": {
           "angularaxis": {
            "gridcolor": "white",
            "linecolor": "white",
            "ticks": ""
           },
           "bgcolor": "#E5ECF6",
           "radialaxis": {
            "gridcolor": "white",
            "linecolor": "white",
            "ticks": ""
           }
          },
          "scene": {
           "xaxis": {
            "backgroundcolor": "#E5ECF6",
            "gridcolor": "white",
            "gridwidth": 2,
            "linecolor": "white",
            "showbackground": true,
            "ticks": "",
            "zerolinecolor": "white"
           },
           "yaxis": {
            "backgroundcolor": "#E5ECF6",
            "gridcolor": "white",
            "gridwidth": 2,
            "linecolor": "white",
            "showbackground": true,
            "ticks": "",
            "zerolinecolor": "white"
           },
           "zaxis": {
            "backgroundcolor": "#E5ECF6",
            "gridcolor": "white",
            "gridwidth": 2,
            "linecolor": "white",
            "showbackground": true,
            "ticks": "",
            "zerolinecolor": "white"
           }
          },
          "shapedefaults": {
           "line": {
            "color": "#2a3f5f"
           }
          },
          "ternary": {
           "aaxis": {
            "gridcolor": "white",
            "linecolor": "white",
            "ticks": ""
           },
           "baxis": {
            "gridcolor": "white",
            "linecolor": "white",
            "ticks": ""
           },
           "bgcolor": "#E5ECF6",
           "caxis": {
            "gridcolor": "white",
            "linecolor": "white",
            "ticks": ""
           }
          },
          "title": {
           "x": 0.05
          },
          "xaxis": {
           "automargin": true,
           "gridcolor": "white",
           "linecolor": "white",
           "ticks": "",
           "title": {
            "standoff": 15
           },
           "zerolinecolor": "white",
           "zerolinewidth": 2
          },
          "yaxis": {
           "automargin": true,
           "gridcolor": "white",
           "linecolor": "white",
           "ticks": "",
           "title": {
            "standoff": 15
           },
           "zerolinecolor": "white",
           "zerolinewidth": 2
          }
         }
        },
        "title": {
         "font": {
          "color": "#D9D9D9"
         }
        },
        "xaxis": {
         "autorange": true,
         "gridcolor": "#434343",
         "range": [
          -0.5,
          4.5
         ],
         "showgrid": true,
         "tickfont": {
          "color": "#C2C2C2"
         },
         "title": {
          "font": {
           "color": "#D9D9D9"
          },
          "text": ""
         },
         "type": "category",
         "zerolinecolor": "#666570"
        },
        "yaxis": {
         "autorange": true,
         "gridcolor": "#434343",
         "range": [
          -33.16132957195593,
          29.507242777816717
         ],
         "showgrid": true,
         "tickfont": {
          "color": "#C2C2C2"
         },
         "title": {
          "font": {
           "color": "#D9D9D9"
          },
          "text": ""
         },
         "type": "linear",
         "zerolinecolor": "#666570"
        }
       }
      },
      "text/html": [
       "<div>                            <div id=\"ceddef5e-aef0-4375-a4f7-f3144e64f617\" class=\"plotly-graph-div\" style=\"height:525px; width:100%;\"></div>            <script type=\"text/javascript\">                require([\"plotly\"], function(Plotly) {                    window.PLOTLYENV=window.PLOTLYENV || {};\n",
       "                    window.PLOTLYENV.BASE_URL='https://plot.ly';                                    if (document.getElementById(\"ceddef5e-aef0-4375-a4f7-f3144e64f617\")) {                    Plotly.newPlot(                        \"ceddef5e-aef0-4375-a4f7-f3144e64f617\",                        [{\"marker\":{\"color\":\"rgba(255, 153, 51, 0.6)\",\"line\":{\"color\":\"rgba(255, 153, 51, 1.0)\",\"width\":1}},\"name\":\"None\",\"orientation\":\"v\",\"text\":\"\",\"x\":[\"AMGN\",\"GS\",\"HD\",\"MCD\",\"UNH\"],\"y\":[-30.027900954467302,-10.476906793809981,-0.9608369494178405,26.373814160328084,-14.256325170159695],\"type\":\"bar\"}],                        {\"legend\":{\"bgcolor\":\"#151516\",\"font\":{\"color\":\"#D9D9D9\"}},\"paper_bgcolor\":\"#151516\",\"plot_bgcolor\":\"#151516\",\"template\":{\"data\":{\"barpolar\":[{\"marker\":{\"line\":{\"color\":\"#E5ECF6\",\"width\":0.5},\"pattern\":{\"fillmode\":\"overlay\",\"size\":10,\"solidity\":0.2}},\"type\":\"barpolar\"}],\"bar\":[{\"error_x\":{\"color\":\"#2a3f5f\"},\"error_y\":{\"color\":\"#2a3f5f\"},\"marker\":{\"line\":{\"color\":\"#E5ECF6\",\"width\":0.5},\"pattern\":{\"fillmode\":\"overlay\",\"size\":10,\"solidity\":0.2}},\"type\":\"bar\"}],\"carpet\":[{\"aaxis\":{\"endlinecolor\":\"#2a3f5f\",\"gridcolor\":\"white\",\"linecolor\":\"white\",\"minorgridcolor\":\"white\",\"startlinecolor\":\"#2a3f5f\"},\"baxis\":{\"endlinecolor\":\"#2a3f5f\",\"gridcolor\":\"white\",\"linecolor\":\"white\",\"minorgridcolor\":\"white\",\"startlinecolor\":\"#2a3f5f\"},\"type\":\"carpet\"}],\"choropleth\":[{\"colorbar\":{\"outlinewidth\":0,\"ticks\":\"\"},\"type\":\"choropleth\"}],\"contourcarpet\":[{\"colorbar\":{\"outlinewidth\":0,\"ticks\":\"\"},\"type\":\"contourcarpet\"}],\"contour\":[{\"colorbar\":{\"outlinewidth\":0,\"ticks\":\"\"},\"colorscale\":[[0.0,\"#0d0887\"],[0.1111111111111111,\"#46039f\"],[0.2222222222222222,\"#7201a8\"],[0.3333333333333333,\"#9c179e\"],[0.4444444444444444,\"#bd3786\"],[0.5555555555555556,\"#d8576b\"],[0.6666666666666666,\"#ed7953\"],[0.7777777777777778,\"#fb9f3a\"],[0.8888888888888888,\"#fdca26\"],[1.0,\"#f0f921\"]],\"type\":\"contour\"}],\"heatmapgl\":[{\"colorbar\":{\"outlinewidth\":0,\"ticks\":\"\"},\"colorscale\":[[0.0,\"#0d0887\"],[0.1111111111111111,\"#46039f\"],[0.2222222222222222,\"#7201a8\"],[0.3333333333333333,\"#9c179e\"],[0.4444444444444444,\"#bd3786\"],[0.5555555555555556,\"#d8576b\"],[0.6666666666666666,\"#ed7953\"],[0.7777777777777778,\"#fb9f3a\"],[0.8888888888888888,\"#fdca26\"],[1.0,\"#f0f921\"]],\"type\":\"heatmapgl\"}],\"heatmap\":[{\"colorbar\":{\"outlinewidth\":0,\"ticks\":\"\"},\"colorscale\":[[0.0,\"#0d0887\"],[0.1111111111111111,\"#46039f\"],[0.2222222222222222,\"#7201a8\"],[0.3333333333333333,\"#9c179e\"],[0.4444444444444444,\"#bd3786\"],[0.5555555555555556,\"#d8576b\"],[0.6666666666666666,\"#ed7953\"],[0.7777777777777778,\"#fb9f3a\"],[0.8888888888888888,\"#fdca26\"],[1.0,\"#f0f921\"]],\"type\":\"heatmap\"}],\"histogram2dcontour\":[{\"colorbar\":{\"outlinewidth\":0,\"ticks\":\"\"},\"colorscale\":[[0.0,\"#0d0887\"],[0.1111111111111111,\"#46039f\"],[0.2222222222222222,\"#7201a8\"],[0.3333333333333333,\"#9c179e\"],[0.4444444444444444,\"#bd3786\"],[0.5555555555555556,\"#d8576b\"],[0.6666666666666666,\"#ed7953\"],[0.7777777777777778,\"#fb9f3a\"],[0.8888888888888888,\"#fdca26\"],[1.0,\"#f0f921\"]],\"type\":\"histogram2dcontour\"}],\"histogram2d\":[{\"colorbar\":{\"outlinewidth\":0,\"ticks\":\"\"},\"colorscale\":[[0.0,\"#0d0887\"],[0.1111111111111111,\"#46039f\"],[0.2222222222222222,\"#7201a8\"],[0.3333333333333333,\"#9c179e\"],[0.4444444444444444,\"#bd3786\"],[0.5555555555555556,\"#d8576b\"],[0.6666666666666666,\"#ed7953\"],[0.7777777777777778,\"#fb9f3a\"],[0.8888888888888888,\"#fdca26\"],[1.0,\"#f0f921\"]],\"type\":\"histogram2d\"}],\"histogram\":[{\"marker\":{\"pattern\":{\"fillmode\":\"overlay\",\"size\":10,\"solidity\":0.2}},\"type\":\"histogram\"}],\"mesh3d\":[{\"colorbar\":{\"outlinewidth\":0,\"ticks\":\"\"},\"type\":\"mesh3d\"}],\"parcoords\":[{\"line\":{\"colorbar\":{\"outlinewidth\":0,\"ticks\":\"\"}},\"type\":\"parcoords\"}],\"pie\":[{\"automargin\":true,\"type\":\"pie\"}],\"scatter3d\":[{\"line\":{\"colorbar\":{\"outlinewidth\":0,\"ticks\":\"\"}},\"marker\":{\"colorbar\":{\"outlinewidth\":0,\"ticks\":\"\"}},\"type\":\"scatter3d\"}],\"scattercarpet\":[{\"marker\":{\"colorbar\":{\"outlinewidth\":0,\"ticks\":\"\"}},\"type\":\"scattercarpet\"}],\"scattergeo\":[{\"marker\":{\"colorbar\":{\"outlinewidth\":0,\"ticks\":\"\"}},\"type\":\"scattergeo\"}],\"scattergl\":[{\"marker\":{\"colorbar\":{\"outlinewidth\":0,\"ticks\":\"\"}},\"type\":\"scattergl\"}],\"scattermapbox\":[{\"marker\":{\"colorbar\":{\"outlinewidth\":0,\"ticks\":\"\"}},\"type\":\"scattermapbox\"}],\"scatterpolargl\":[{\"marker\":{\"colorbar\":{\"outlinewidth\":0,\"ticks\":\"\"}},\"type\":\"scatterpolargl\"}],\"scatterpolar\":[{\"marker\":{\"colorbar\":{\"outlinewidth\":0,\"ticks\":\"\"}},\"type\":\"scatterpolar\"}],\"scatter\":[{\"fillpattern\":{\"fillmode\":\"overlay\",\"size\":10,\"solidity\":0.2},\"type\":\"scatter\"}],\"scatterternary\":[{\"marker\":{\"colorbar\":{\"outlinewidth\":0,\"ticks\":\"\"}},\"type\":\"scatterternary\"}],\"surface\":[{\"colorbar\":{\"outlinewidth\":0,\"ticks\":\"\"},\"colorscale\":[[0.0,\"#0d0887\"],[0.1111111111111111,\"#46039f\"],[0.2222222222222222,\"#7201a8\"],[0.3333333333333333,\"#9c179e\"],[0.4444444444444444,\"#bd3786\"],[0.5555555555555556,\"#d8576b\"],[0.6666666666666666,\"#ed7953\"],[0.7777777777777778,\"#fb9f3a\"],[0.8888888888888888,\"#fdca26\"],[1.0,\"#f0f921\"]],\"type\":\"surface\"}],\"table\":[{\"cells\":{\"fill\":{\"color\":\"#EBF0F8\"},\"line\":{\"color\":\"white\"}},\"header\":{\"fill\":{\"color\":\"#C8D4E3\"},\"line\":{\"color\":\"white\"}},\"type\":\"table\"}]},\"layout\":{\"annotationdefaults\":{\"arrowcolor\":\"#2a3f5f\",\"arrowhead\":0,\"arrowwidth\":1},\"autotypenumbers\":\"strict\",\"coloraxis\":{\"colorbar\":{\"outlinewidth\":0,\"ticks\":\"\"}},\"colorscale\":{\"diverging\":[[0,\"#8e0152\"],[0.1,\"#c51b7d\"],[0.2,\"#de77ae\"],[0.3,\"#f1b6da\"],[0.4,\"#fde0ef\"],[0.5,\"#f7f7f7\"],[0.6,\"#e6f5d0\"],[0.7,\"#b8e186\"],[0.8,\"#7fbc41\"],[0.9,\"#4d9221\"],[1,\"#276419\"]],\"sequential\":[[0.0,\"#0d0887\"],[0.1111111111111111,\"#46039f\"],[0.2222222222222222,\"#7201a8\"],[0.3333333333333333,\"#9c179e\"],[0.4444444444444444,\"#bd3786\"],[0.5555555555555556,\"#d8576b\"],[0.6666666666666666,\"#ed7953\"],[0.7777777777777778,\"#fb9f3a\"],[0.8888888888888888,\"#fdca26\"],[1.0,\"#f0f921\"]],\"sequentialminus\":[[0.0,\"#0d0887\"],[0.1111111111111111,\"#46039f\"],[0.2222222222222222,\"#7201a8\"],[0.3333333333333333,\"#9c179e\"],[0.4444444444444444,\"#bd3786\"],[0.5555555555555556,\"#d8576b\"],[0.6666666666666666,\"#ed7953\"],[0.7777777777777778,\"#fb9f3a\"],[0.8888888888888888,\"#fdca26\"],[1.0,\"#f0f921\"]]},\"colorway\":[\"#636efa\",\"#EF553B\",\"#00cc96\",\"#ab63fa\",\"#FFA15A\",\"#19d3f3\",\"#FF6692\",\"#B6E880\",\"#FF97FF\",\"#FECB52\"],\"font\":{\"color\":\"#2a3f5f\"},\"geo\":{\"bgcolor\":\"white\",\"lakecolor\":\"white\",\"landcolor\":\"#E5ECF6\",\"showlakes\":true,\"showland\":true,\"subunitcolor\":\"white\"},\"hoverlabel\":{\"align\":\"left\"},\"hovermode\":\"closest\",\"mapbox\":{\"style\":\"light\"},\"paper_bgcolor\":\"white\",\"plot_bgcolor\":\"#E5ECF6\",\"polar\":{\"angularaxis\":{\"gridcolor\":\"white\",\"linecolor\":\"white\",\"ticks\":\"\"},\"bgcolor\":\"#E5ECF6\",\"radialaxis\":{\"gridcolor\":\"white\",\"linecolor\":\"white\",\"ticks\":\"\"}},\"scene\":{\"xaxis\":{\"backgroundcolor\":\"#E5ECF6\",\"gridcolor\":\"white\",\"gridwidth\":2,\"linecolor\":\"white\",\"showbackground\":true,\"ticks\":\"\",\"zerolinecolor\":\"white\"},\"yaxis\":{\"backgroundcolor\":\"#E5ECF6\",\"gridcolor\":\"white\",\"gridwidth\":2,\"linecolor\":\"white\",\"showbackground\":true,\"ticks\":\"\",\"zerolinecolor\":\"white\"},\"zaxis\":{\"backgroundcolor\":\"#E5ECF6\",\"gridcolor\":\"white\",\"gridwidth\":2,\"linecolor\":\"white\",\"showbackground\":true,\"ticks\":\"\",\"zerolinecolor\":\"white\"}},\"shapedefaults\":{\"line\":{\"color\":\"#2a3f5f\"}},\"ternary\":{\"aaxis\":{\"gridcolor\":\"white\",\"linecolor\":\"white\",\"ticks\":\"\"},\"baxis\":{\"gridcolor\":\"white\",\"linecolor\":\"white\",\"ticks\":\"\"},\"bgcolor\":\"#E5ECF6\",\"caxis\":{\"gridcolor\":\"white\",\"linecolor\":\"white\",\"ticks\":\"\"}},\"title\":{\"x\":0.05},\"xaxis\":{\"automargin\":true,\"gridcolor\":\"white\",\"linecolor\":\"white\",\"ticks\":\"\",\"title\":{\"standoff\":15},\"zerolinecolor\":\"white\",\"zerolinewidth\":2},\"yaxis\":{\"automargin\":true,\"gridcolor\":\"white\",\"linecolor\":\"white\",\"ticks\":\"\",\"title\":{\"standoff\":15},\"zerolinecolor\":\"white\",\"zerolinewidth\":2}}},\"title\":{\"font\":{\"color\":\"#D9D9D9\"}},\"xaxis\":{\"gridcolor\":\"#434343\",\"showgrid\":true,\"tickfont\":{\"color\":\"#C2C2C2\"},\"title\":{\"font\":{\"color\":\"#D9D9D9\"},\"text\":\"\"},\"zerolinecolor\":\"#666570\"},\"yaxis\":{\"gridcolor\":\"#434343\",\"showgrid\":true,\"tickfont\":{\"color\":\"#C2C2C2\"},\"title\":{\"font\":{\"color\":\"#D9D9D9\"},\"text\":\"\"},\"zerolinecolor\":\"#666570\"}},                        {\"showLink\": true, \"linkText\": \"Export to plot.ly\", \"plotlyServerURL\": \"https://plot.ly\", \"responsive\": true}                    ).then(function(){\n",
       "                            \n",
       "var gd = document.getElementById('ceddef5e-aef0-4375-a4f7-f3144e64f617');\n",
       "var x = new MutationObserver(function (mutations, observer) {{\n",
       "        var display = window.getComputedStyle(gd).display;\n",
       "        if (!display || display === 'none') {{\n",
       "            console.log([gd, 'removed!']);\n",
       "            Plotly.purge(gd);\n",
       "            observer.disconnect();\n",
       "        }}\n",
       "}});\n",
       "\n",
       "// Listen for the removal of the full notebook cells\n",
       "var notebookContainer = gd.closest('#notebook-container');\n",
       "if (notebookContainer) {{\n",
       "    x.observe(notebookContainer, {childList: true});\n",
       "}}\n",
       "\n",
       "// Listen for the clearing of the current output cell\n",
       "var outputEl = gd.closest('.output');\n",
       "if (outputEl) {{\n",
       "    x.observe(outputEl, {childList: true});\n",
       "}}\n",
       "\n",
       "                        })                };                });            </script>        </div>"
      ]
     },
     "metadata": {},
     "output_type": "display_data"
    }
   ],
   "source": [
    "# Plot Mean Annual Returns\n",
    "(daily_returns.mean()*252*100).iplot(kind='bar')"
   ]
  },
  {
   "cell_type": "code",
   "execution_count": 27,
   "id": "244d1f83-48de-4603-b0e4-e59faa2b6805",
   "metadata": {},
   "outputs": [
    {
     "data": {
      "application/vnd.plotly.v1+json": {
       "config": {
        "linkText": "Export to plot.ly",
        "plotlyServerURL": "https://plot.ly",
        "showLink": true
       },
       "data": [
        {
         "marker": {
          "color": "rgba(255, 153, 51, 0.6)",
          "line": {
           "color": "rgba(255, 153, 51, 1.0)",
           "width": 1
          }
         },
         "name": "None",
         "orientation": "v",
         "text": "",
         "type": "bar",
         "x": [
          "AMGN",
          "GS",
          "HD",
          "MCD",
          "UNH"
         ],
         "y": [
          19.392672394634104,
          25.414766664634076,
          24.529953288549365,
          14.018527108807996,
          23.288243233596457
         ]
        }
       ],
       "layout": {
        "autosize": true,
        "legend": {
         "bgcolor": "#151516",
         "font": {
          "color": "#D9D9D9"
         }
        },
        "paper_bgcolor": "#151516",
        "plot_bgcolor": "#151516",
        "template": {
         "data": {
          "bar": [
           {
            "error_x": {
             "color": "#2a3f5f"
            },
            "error_y": {
             "color": "#2a3f5f"
            },
            "marker": {
             "line": {
              "color": "#E5ECF6",
              "width": 0.5
             },
             "pattern": {
              "fillmode": "overlay",
              "size": 10,
              "solidity": 0.2
             }
            },
            "type": "bar"
           }
          ],
          "barpolar": [
           {
            "marker": {
             "line": {
              "color": "#E5ECF6",
              "width": 0.5
             },
             "pattern": {
              "fillmode": "overlay",
              "size": 10,
              "solidity": 0.2
             }
            },
            "type": "barpolar"
           }
          ],
          "carpet": [
           {
            "aaxis": {
             "endlinecolor": "#2a3f5f",
             "gridcolor": "white",
             "linecolor": "white",
             "minorgridcolor": "white",
             "startlinecolor": "#2a3f5f"
            },
            "baxis": {
             "endlinecolor": "#2a3f5f",
             "gridcolor": "white",
             "linecolor": "white",
             "minorgridcolor": "white",
             "startlinecolor": "#2a3f5f"
            },
            "type": "carpet"
           }
          ],
          "choropleth": [
           {
            "colorbar": {
             "outlinewidth": 0,
             "ticks": ""
            },
            "type": "choropleth"
           }
          ],
          "contour": [
           {
            "colorbar": {
             "outlinewidth": 0,
             "ticks": ""
            },
            "colorscale": [
             [
              0,
              "#0d0887"
             ],
             [
              0.1111111111111111,
              "#46039f"
             ],
             [
              0.2222222222222222,
              "#7201a8"
             ],
             [
              0.3333333333333333,
              "#9c179e"
             ],
             [
              0.4444444444444444,
              "#bd3786"
             ],
             [
              0.5555555555555556,
              "#d8576b"
             ],
             [
              0.6666666666666666,
              "#ed7953"
             ],
             [
              0.7777777777777778,
              "#fb9f3a"
             ],
             [
              0.8888888888888888,
              "#fdca26"
             ],
             [
              1,
              "#f0f921"
             ]
            ],
            "type": "contour"
           }
          ],
          "contourcarpet": [
           {
            "colorbar": {
             "outlinewidth": 0,
             "ticks": ""
            },
            "type": "contourcarpet"
           }
          ],
          "heatmap": [
           {
            "colorbar": {
             "outlinewidth": 0,
             "ticks": ""
            },
            "colorscale": [
             [
              0,
              "#0d0887"
             ],
             [
              0.1111111111111111,
              "#46039f"
             ],
             [
              0.2222222222222222,
              "#7201a8"
             ],
             [
              0.3333333333333333,
              "#9c179e"
             ],
             [
              0.4444444444444444,
              "#bd3786"
             ],
             [
              0.5555555555555556,
              "#d8576b"
             ],
             [
              0.6666666666666666,
              "#ed7953"
             ],
             [
              0.7777777777777778,
              "#fb9f3a"
             ],
             [
              0.8888888888888888,
              "#fdca26"
             ],
             [
              1,
              "#f0f921"
             ]
            ],
            "type": "heatmap"
           }
          ],
          "heatmapgl": [
           {
            "colorbar": {
             "outlinewidth": 0,
             "ticks": ""
            },
            "colorscale": [
             [
              0,
              "#0d0887"
             ],
             [
              0.1111111111111111,
              "#46039f"
             ],
             [
              0.2222222222222222,
              "#7201a8"
             ],
             [
              0.3333333333333333,
              "#9c179e"
             ],
             [
              0.4444444444444444,
              "#bd3786"
             ],
             [
              0.5555555555555556,
              "#d8576b"
             ],
             [
              0.6666666666666666,
              "#ed7953"
             ],
             [
              0.7777777777777778,
              "#fb9f3a"
             ],
             [
              0.8888888888888888,
              "#fdca26"
             ],
             [
              1,
              "#f0f921"
             ]
            ],
            "type": "heatmapgl"
           }
          ],
          "histogram": [
           {
            "marker": {
             "pattern": {
              "fillmode": "overlay",
              "size": 10,
              "solidity": 0.2
             }
            },
            "type": "histogram"
           }
          ],
          "histogram2d": [
           {
            "colorbar": {
             "outlinewidth": 0,
             "ticks": ""
            },
            "colorscale": [
             [
              0,
              "#0d0887"
             ],
             [
              0.1111111111111111,
              "#46039f"
             ],
             [
              0.2222222222222222,
              "#7201a8"
             ],
             [
              0.3333333333333333,
              "#9c179e"
             ],
             [
              0.4444444444444444,
              "#bd3786"
             ],
             [
              0.5555555555555556,
              "#d8576b"
             ],
             [
              0.6666666666666666,
              "#ed7953"
             ],
             [
              0.7777777777777778,
              "#fb9f3a"
             ],
             [
              0.8888888888888888,
              "#fdca26"
             ],
             [
              1,
              "#f0f921"
             ]
            ],
            "type": "histogram2d"
           }
          ],
          "histogram2dcontour": [
           {
            "colorbar": {
             "outlinewidth": 0,
             "ticks": ""
            },
            "colorscale": [
             [
              0,
              "#0d0887"
             ],
             [
              0.1111111111111111,
              "#46039f"
             ],
             [
              0.2222222222222222,
              "#7201a8"
             ],
             [
              0.3333333333333333,
              "#9c179e"
             ],
             [
              0.4444444444444444,
              "#bd3786"
             ],
             [
              0.5555555555555556,
              "#d8576b"
             ],
             [
              0.6666666666666666,
              "#ed7953"
             ],
             [
              0.7777777777777778,
              "#fb9f3a"
             ],
             [
              0.8888888888888888,
              "#fdca26"
             ],
             [
              1,
              "#f0f921"
             ]
            ],
            "type": "histogram2dcontour"
           }
          ],
          "mesh3d": [
           {
            "colorbar": {
             "outlinewidth": 0,
             "ticks": ""
            },
            "type": "mesh3d"
           }
          ],
          "parcoords": [
           {
            "line": {
             "colorbar": {
              "outlinewidth": 0,
              "ticks": ""
             }
            },
            "type": "parcoords"
           }
          ],
          "pie": [
           {
            "automargin": true,
            "type": "pie"
           }
          ],
          "scatter": [
           {
            "fillpattern": {
             "fillmode": "overlay",
             "size": 10,
             "solidity": 0.2
            },
            "type": "scatter"
           }
          ],
          "scatter3d": [
           {
            "line": {
             "colorbar": {
              "outlinewidth": 0,
              "ticks": ""
             }
            },
            "marker": {
             "colorbar": {
              "outlinewidth": 0,
              "ticks": ""
             }
            },
            "type": "scatter3d"
           }
          ],
          "scattercarpet": [
           {
            "marker": {
             "colorbar": {
              "outlinewidth": 0,
              "ticks": ""
             }
            },
            "type": "scattercarpet"
           }
          ],
          "scattergeo": [
           {
            "marker": {
             "colorbar": {
              "outlinewidth": 0,
              "ticks": ""
             }
            },
            "type": "scattergeo"
           }
          ],
          "scattergl": [
           {
            "marker": {
             "colorbar": {
              "outlinewidth": 0,
              "ticks": ""
             }
            },
            "type": "scattergl"
           }
          ],
          "scattermapbox": [
           {
            "marker": {
             "colorbar": {
              "outlinewidth": 0,
              "ticks": ""
             }
            },
            "type": "scattermapbox"
           }
          ],
          "scatterpolar": [
           {
            "marker": {
             "colorbar": {
              "outlinewidth": 0,
              "ticks": ""
             }
            },
            "type": "scatterpolar"
           }
          ],
          "scatterpolargl": [
           {
            "marker": {
             "colorbar": {
              "outlinewidth": 0,
              "ticks": ""
             }
            },
            "type": "scatterpolargl"
           }
          ],
          "scatterternary": [
           {
            "marker": {
             "colorbar": {
              "outlinewidth": 0,
              "ticks": ""
             }
            },
            "type": "scatterternary"
           }
          ],
          "surface": [
           {
            "colorbar": {
             "outlinewidth": 0,
             "ticks": ""
            },
            "colorscale": [
             [
              0,
              "#0d0887"
             ],
             [
              0.1111111111111111,
              "#46039f"
             ],
             [
              0.2222222222222222,
              "#7201a8"
             ],
             [
              0.3333333333333333,
              "#9c179e"
             ],
             [
              0.4444444444444444,
              "#bd3786"
             ],
             [
              0.5555555555555556,
              "#d8576b"
             ],
             [
              0.6666666666666666,
              "#ed7953"
             ],
             [
              0.7777777777777778,
              "#fb9f3a"
             ],
             [
              0.8888888888888888,
              "#fdca26"
             ],
             [
              1,
              "#f0f921"
             ]
            ],
            "type": "surface"
           }
          ],
          "table": [
           {
            "cells": {
             "fill": {
              "color": "#EBF0F8"
             },
             "line": {
              "color": "white"
             }
            },
            "header": {
             "fill": {
              "color": "#C8D4E3"
             },
             "line": {
              "color": "white"
             }
            },
            "type": "table"
           }
          ]
         },
         "layout": {
          "annotationdefaults": {
           "arrowcolor": "#2a3f5f",
           "arrowhead": 0,
           "arrowwidth": 1
          },
          "autotypenumbers": "strict",
          "coloraxis": {
           "colorbar": {
            "outlinewidth": 0,
            "ticks": ""
           }
          },
          "colorscale": {
           "diverging": [
            [
             0,
             "#8e0152"
            ],
            [
             0.1,
             "#c51b7d"
            ],
            [
             0.2,
             "#de77ae"
            ],
            [
             0.3,
             "#f1b6da"
            ],
            [
             0.4,
             "#fde0ef"
            ],
            [
             0.5,
             "#f7f7f7"
            ],
            [
             0.6,
             "#e6f5d0"
            ],
            [
             0.7,
             "#b8e186"
            ],
            [
             0.8,
             "#7fbc41"
            ],
            [
             0.9,
             "#4d9221"
            ],
            [
             1,
             "#276419"
            ]
           ],
           "sequential": [
            [
             0,
             "#0d0887"
            ],
            [
             0.1111111111111111,
             "#46039f"
            ],
            [
             0.2222222222222222,
             "#7201a8"
            ],
            [
             0.3333333333333333,
             "#9c179e"
            ],
            [
             0.4444444444444444,
             "#bd3786"
            ],
            [
             0.5555555555555556,
             "#d8576b"
            ],
            [
             0.6666666666666666,
             "#ed7953"
            ],
            [
             0.7777777777777778,
             "#fb9f3a"
            ],
            [
             0.8888888888888888,
             "#fdca26"
            ],
            [
             1,
             "#f0f921"
            ]
           ],
           "sequentialminus": [
            [
             0,
             "#0d0887"
            ],
            [
             0.1111111111111111,
             "#46039f"
            ],
            [
             0.2222222222222222,
             "#7201a8"
            ],
            [
             0.3333333333333333,
             "#9c179e"
            ],
            [
             0.4444444444444444,
             "#bd3786"
            ],
            [
             0.5555555555555556,
             "#d8576b"
            ],
            [
             0.6666666666666666,
             "#ed7953"
            ],
            [
             0.7777777777777778,
             "#fb9f3a"
            ],
            [
             0.8888888888888888,
             "#fdca26"
            ],
            [
             1,
             "#f0f921"
            ]
           ]
          },
          "colorway": [
           "#636efa",
           "#EF553B",
           "#00cc96",
           "#ab63fa",
           "#FFA15A",
           "#19d3f3",
           "#FF6692",
           "#B6E880",
           "#FF97FF",
           "#FECB52"
          ],
          "font": {
           "color": "#2a3f5f"
          },
          "geo": {
           "bgcolor": "white",
           "lakecolor": "white",
           "landcolor": "#E5ECF6",
           "showlakes": true,
           "showland": true,
           "subunitcolor": "white"
          },
          "hoverlabel": {
           "align": "left"
          },
          "hovermode": "closest",
          "mapbox": {
           "style": "light"
          },
          "paper_bgcolor": "white",
          "plot_bgcolor": "#E5ECF6",
          "polar": {
           "angularaxis": {
            "gridcolor": "white",
            "linecolor": "white",
            "ticks": ""
           },
           "bgcolor": "#E5ECF6",
           "radialaxis": {
            "gridcolor": "white",
            "linecolor": "white",
            "ticks": ""
           }
          },
          "scene": {
           "xaxis": {
            "backgroundcolor": "#E5ECF6",
            "gridcolor": "white",
            "gridwidth": 2,
            "linecolor": "white",
            "showbackground": true,
            "ticks": "",
            "zerolinecolor": "white"
           },
           "yaxis": {
            "backgroundcolor": "#E5ECF6",
            "gridcolor": "white",
            "gridwidth": 2,
            "linecolor": "white",
            "showbackground": true,
            "ticks": "",
            "zerolinecolor": "white"
           },
           "zaxis": {
            "backgroundcolor": "#E5ECF6",
            "gridcolor": "white",
            "gridwidth": 2,
            "linecolor": "white",
            "showbackground": true,
            "ticks": "",
            "zerolinecolor": "white"
           }
          },
          "shapedefaults": {
           "line": {
            "color": "#2a3f5f"
           }
          },
          "ternary": {
           "aaxis": {
            "gridcolor": "white",
            "linecolor": "white",
            "ticks": ""
           },
           "baxis": {
            "gridcolor": "white",
            "linecolor": "white",
            "ticks": ""
           },
           "bgcolor": "#E5ECF6",
           "caxis": {
            "gridcolor": "white",
            "linecolor": "white",
            "ticks": ""
           }
          },
          "title": {
           "x": 0.05
          },
          "xaxis": {
           "automargin": true,
           "gridcolor": "white",
           "linecolor": "white",
           "ticks": "",
           "title": {
            "standoff": 15
           },
           "zerolinecolor": "white",
           "zerolinewidth": 2
          },
          "yaxis": {
           "automargin": true,
           "gridcolor": "white",
           "linecolor": "white",
           "ticks": "",
           "title": {
            "standoff": 15
           },
           "zerolinecolor": "white",
           "zerolinewidth": 2
          }
         }
        },
        "title": {
         "font": {
          "color": "#D9D9D9"
         }
        },
        "xaxis": {
         "autorange": true,
         "gridcolor": "#434343",
         "range": [
          -0.5,
          4.5
         ],
         "showgrid": true,
         "tickfont": {
          "color": "#C2C2C2"
         },
         "title": {
          "font": {
           "color": "#D9D9D9"
          },
          "text": ""
         },
         "type": "category",
         "zerolinecolor": "#666570"
        },
        "yaxis": {
         "autorange": true,
         "gridcolor": "#434343",
         "range": [
          0,
          26.75238596277271
         ],
         "showgrid": true,
         "tickfont": {
          "color": "#C2C2C2"
         },
         "title": {
          "font": {
           "color": "#D9D9D9"
          },
          "text": ""
         },
         "type": "linear",
         "zerolinecolor": "#666570"
        }
       }
      },
      "text/html": [
       "<div>                            <div id=\"7ff988dc-6f37-4a5e-be54-d8c802cc823d\" class=\"plotly-graph-div\" style=\"height:525px; width:100%;\"></div>            <script type=\"text/javascript\">                require([\"plotly\"], function(Plotly) {                    window.PLOTLYENV=window.PLOTLYENV || {};\n",
       "                    window.PLOTLYENV.BASE_URL='https://plot.ly';                                    if (document.getElementById(\"7ff988dc-6f37-4a5e-be54-d8c802cc823d\")) {                    Plotly.newPlot(                        \"7ff988dc-6f37-4a5e-be54-d8c802cc823d\",                        [{\"marker\":{\"color\":\"rgba(255, 153, 51, 0.6)\",\"line\":{\"color\":\"rgba(255, 153, 51, 1.0)\",\"width\":1}},\"name\":\"None\",\"orientation\":\"v\",\"text\":\"\",\"x\":[\"AMGN\",\"GS\",\"HD\",\"MCD\",\"UNH\"],\"y\":[19.392672394634104,25.414766664634076,24.529953288549365,14.018527108807996,23.288243233596457],\"type\":\"bar\"}],                        {\"legend\":{\"bgcolor\":\"#151516\",\"font\":{\"color\":\"#D9D9D9\"}},\"paper_bgcolor\":\"#151516\",\"plot_bgcolor\":\"#151516\",\"template\":{\"data\":{\"barpolar\":[{\"marker\":{\"line\":{\"color\":\"#E5ECF6\",\"width\":0.5},\"pattern\":{\"fillmode\":\"overlay\",\"size\":10,\"solidity\":0.2}},\"type\":\"barpolar\"}],\"bar\":[{\"error_x\":{\"color\":\"#2a3f5f\"},\"error_y\":{\"color\":\"#2a3f5f\"},\"marker\":{\"line\":{\"color\":\"#E5ECF6\",\"width\":0.5},\"pattern\":{\"fillmode\":\"overlay\",\"size\":10,\"solidity\":0.2}},\"type\":\"bar\"}],\"carpet\":[{\"aaxis\":{\"endlinecolor\":\"#2a3f5f\",\"gridcolor\":\"white\",\"linecolor\":\"white\",\"minorgridcolor\":\"white\",\"startlinecolor\":\"#2a3f5f\"},\"baxis\":{\"endlinecolor\":\"#2a3f5f\",\"gridcolor\":\"white\",\"linecolor\":\"white\",\"minorgridcolor\":\"white\",\"startlinecolor\":\"#2a3f5f\"},\"type\":\"carpet\"}],\"choropleth\":[{\"colorbar\":{\"outlinewidth\":0,\"ticks\":\"\"},\"type\":\"choropleth\"}],\"contourcarpet\":[{\"colorbar\":{\"outlinewidth\":0,\"ticks\":\"\"},\"type\":\"contourcarpet\"}],\"contour\":[{\"colorbar\":{\"outlinewidth\":0,\"ticks\":\"\"},\"colorscale\":[[0.0,\"#0d0887\"],[0.1111111111111111,\"#46039f\"],[0.2222222222222222,\"#7201a8\"],[0.3333333333333333,\"#9c179e\"],[0.4444444444444444,\"#bd3786\"],[0.5555555555555556,\"#d8576b\"],[0.6666666666666666,\"#ed7953\"],[0.7777777777777778,\"#fb9f3a\"],[0.8888888888888888,\"#fdca26\"],[1.0,\"#f0f921\"]],\"type\":\"contour\"}],\"heatmapgl\":[{\"colorbar\":{\"outlinewidth\":0,\"ticks\":\"\"},\"colorscale\":[[0.0,\"#0d0887\"],[0.1111111111111111,\"#46039f\"],[0.2222222222222222,\"#7201a8\"],[0.3333333333333333,\"#9c179e\"],[0.4444444444444444,\"#bd3786\"],[0.5555555555555556,\"#d8576b\"],[0.6666666666666666,\"#ed7953\"],[0.7777777777777778,\"#fb9f3a\"],[0.8888888888888888,\"#fdca26\"],[1.0,\"#f0f921\"]],\"type\":\"heatmapgl\"}],\"heatmap\":[{\"colorbar\":{\"outlinewidth\":0,\"ticks\":\"\"},\"colorscale\":[[0.0,\"#0d0887\"],[0.1111111111111111,\"#46039f\"],[0.2222222222222222,\"#7201a8\"],[0.3333333333333333,\"#9c179e\"],[0.4444444444444444,\"#bd3786\"],[0.5555555555555556,\"#d8576b\"],[0.6666666666666666,\"#ed7953\"],[0.7777777777777778,\"#fb9f3a\"],[0.8888888888888888,\"#fdca26\"],[1.0,\"#f0f921\"]],\"type\":\"heatmap\"}],\"histogram2dcontour\":[{\"colorbar\":{\"outlinewidth\":0,\"ticks\":\"\"},\"colorscale\":[[0.0,\"#0d0887\"],[0.1111111111111111,\"#46039f\"],[0.2222222222222222,\"#7201a8\"],[0.3333333333333333,\"#9c179e\"],[0.4444444444444444,\"#bd3786\"],[0.5555555555555556,\"#d8576b\"],[0.6666666666666666,\"#ed7953\"],[0.7777777777777778,\"#fb9f3a\"],[0.8888888888888888,\"#fdca26\"],[1.0,\"#f0f921\"]],\"type\":\"histogram2dcontour\"}],\"histogram2d\":[{\"colorbar\":{\"outlinewidth\":0,\"ticks\":\"\"},\"colorscale\":[[0.0,\"#0d0887\"],[0.1111111111111111,\"#46039f\"],[0.2222222222222222,\"#7201a8\"],[0.3333333333333333,\"#9c179e\"],[0.4444444444444444,\"#bd3786\"],[0.5555555555555556,\"#d8576b\"],[0.6666666666666666,\"#ed7953\"],[0.7777777777777778,\"#fb9f3a\"],[0.8888888888888888,\"#fdca26\"],[1.0,\"#f0f921\"]],\"type\":\"histogram2d\"}],\"histogram\":[{\"marker\":{\"pattern\":{\"fillmode\":\"overlay\",\"size\":10,\"solidity\":0.2}},\"type\":\"histogram\"}],\"mesh3d\":[{\"colorbar\":{\"outlinewidth\":0,\"ticks\":\"\"},\"type\":\"mesh3d\"}],\"parcoords\":[{\"line\":{\"colorbar\":{\"outlinewidth\":0,\"ticks\":\"\"}},\"type\":\"parcoords\"}],\"pie\":[{\"automargin\":true,\"type\":\"pie\"}],\"scatter3d\":[{\"line\":{\"colorbar\":{\"outlinewidth\":0,\"ticks\":\"\"}},\"marker\":{\"colorbar\":{\"outlinewidth\":0,\"ticks\":\"\"}},\"type\":\"scatter3d\"}],\"scattercarpet\":[{\"marker\":{\"colorbar\":{\"outlinewidth\":0,\"ticks\":\"\"}},\"type\":\"scattercarpet\"}],\"scattergeo\":[{\"marker\":{\"colorbar\":{\"outlinewidth\":0,\"ticks\":\"\"}},\"type\":\"scattergeo\"}],\"scattergl\":[{\"marker\":{\"colorbar\":{\"outlinewidth\":0,\"ticks\":\"\"}},\"type\":\"scattergl\"}],\"scattermapbox\":[{\"marker\":{\"colorbar\":{\"outlinewidth\":0,\"ticks\":\"\"}},\"type\":\"scattermapbox\"}],\"scatterpolargl\":[{\"marker\":{\"colorbar\":{\"outlinewidth\":0,\"ticks\":\"\"}},\"type\":\"scatterpolargl\"}],\"scatterpolar\":[{\"marker\":{\"colorbar\":{\"outlinewidth\":0,\"ticks\":\"\"}},\"type\":\"scatterpolar\"}],\"scatter\":[{\"fillpattern\":{\"fillmode\":\"overlay\",\"size\":10,\"solidity\":0.2},\"type\":\"scatter\"}],\"scatterternary\":[{\"marker\":{\"colorbar\":{\"outlinewidth\":0,\"ticks\":\"\"}},\"type\":\"scatterternary\"}],\"surface\":[{\"colorbar\":{\"outlinewidth\":0,\"ticks\":\"\"},\"colorscale\":[[0.0,\"#0d0887\"],[0.1111111111111111,\"#46039f\"],[0.2222222222222222,\"#7201a8\"],[0.3333333333333333,\"#9c179e\"],[0.4444444444444444,\"#bd3786\"],[0.5555555555555556,\"#d8576b\"],[0.6666666666666666,\"#ed7953\"],[0.7777777777777778,\"#fb9f3a\"],[0.8888888888888888,\"#fdca26\"],[1.0,\"#f0f921\"]],\"type\":\"surface\"}],\"table\":[{\"cells\":{\"fill\":{\"color\":\"#EBF0F8\"},\"line\":{\"color\":\"white\"}},\"header\":{\"fill\":{\"color\":\"#C8D4E3\"},\"line\":{\"color\":\"white\"}},\"type\":\"table\"}]},\"layout\":{\"annotationdefaults\":{\"arrowcolor\":\"#2a3f5f\",\"arrowhead\":0,\"arrowwidth\":1},\"autotypenumbers\":\"strict\",\"coloraxis\":{\"colorbar\":{\"outlinewidth\":0,\"ticks\":\"\"}},\"colorscale\":{\"diverging\":[[0,\"#8e0152\"],[0.1,\"#c51b7d\"],[0.2,\"#de77ae\"],[0.3,\"#f1b6da\"],[0.4,\"#fde0ef\"],[0.5,\"#f7f7f7\"],[0.6,\"#e6f5d0\"],[0.7,\"#b8e186\"],[0.8,\"#7fbc41\"],[0.9,\"#4d9221\"],[1,\"#276419\"]],\"sequential\":[[0.0,\"#0d0887\"],[0.1111111111111111,\"#46039f\"],[0.2222222222222222,\"#7201a8\"],[0.3333333333333333,\"#9c179e\"],[0.4444444444444444,\"#bd3786\"],[0.5555555555555556,\"#d8576b\"],[0.6666666666666666,\"#ed7953\"],[0.7777777777777778,\"#fb9f3a\"],[0.8888888888888888,\"#fdca26\"],[1.0,\"#f0f921\"]],\"sequentialminus\":[[0.0,\"#0d0887\"],[0.1111111111111111,\"#46039f\"],[0.2222222222222222,\"#7201a8\"],[0.3333333333333333,\"#9c179e\"],[0.4444444444444444,\"#bd3786\"],[0.5555555555555556,\"#d8576b\"],[0.6666666666666666,\"#ed7953\"],[0.7777777777777778,\"#fb9f3a\"],[0.8888888888888888,\"#fdca26\"],[1.0,\"#f0f921\"]]},\"colorway\":[\"#636efa\",\"#EF553B\",\"#00cc96\",\"#ab63fa\",\"#FFA15A\",\"#19d3f3\",\"#FF6692\",\"#B6E880\",\"#FF97FF\",\"#FECB52\"],\"font\":{\"color\":\"#2a3f5f\"},\"geo\":{\"bgcolor\":\"white\",\"lakecolor\":\"white\",\"landcolor\":\"#E5ECF6\",\"showlakes\":true,\"showland\":true,\"subunitcolor\":\"white\"},\"hoverlabel\":{\"align\":\"left\"},\"hovermode\":\"closest\",\"mapbox\":{\"style\":\"light\"},\"paper_bgcolor\":\"white\",\"plot_bgcolor\":\"#E5ECF6\",\"polar\":{\"angularaxis\":{\"gridcolor\":\"white\",\"linecolor\":\"white\",\"ticks\":\"\"},\"bgcolor\":\"#E5ECF6\",\"radialaxis\":{\"gridcolor\":\"white\",\"linecolor\":\"white\",\"ticks\":\"\"}},\"scene\":{\"xaxis\":{\"backgroundcolor\":\"#E5ECF6\",\"gridcolor\":\"white\",\"gridwidth\":2,\"linecolor\":\"white\",\"showbackground\":true,\"ticks\":\"\",\"zerolinecolor\":\"white\"},\"yaxis\":{\"backgroundcolor\":\"#E5ECF6\",\"gridcolor\":\"white\",\"gridwidth\":2,\"linecolor\":\"white\",\"showbackground\":true,\"ticks\":\"\",\"zerolinecolor\":\"white\"},\"zaxis\":{\"backgroundcolor\":\"#E5ECF6\",\"gridcolor\":\"white\",\"gridwidth\":2,\"linecolor\":\"white\",\"showbackground\":true,\"ticks\":\"\",\"zerolinecolor\":\"white\"}},\"shapedefaults\":{\"line\":{\"color\":\"#2a3f5f\"}},\"ternary\":{\"aaxis\":{\"gridcolor\":\"white\",\"linecolor\":\"white\",\"ticks\":\"\"},\"baxis\":{\"gridcolor\":\"white\",\"linecolor\":\"white\",\"ticks\":\"\"},\"bgcolor\":\"#E5ECF6\",\"caxis\":{\"gridcolor\":\"white\",\"linecolor\":\"white\",\"ticks\":\"\"}},\"title\":{\"x\":0.05},\"xaxis\":{\"automargin\":true,\"gridcolor\":\"white\",\"linecolor\":\"white\",\"ticks\":\"\",\"title\":{\"standoff\":15},\"zerolinecolor\":\"white\",\"zerolinewidth\":2},\"yaxis\":{\"automargin\":true,\"gridcolor\":\"white\",\"linecolor\":\"white\",\"ticks\":\"\",\"title\":{\"standoff\":15},\"zerolinecolor\":\"white\",\"zerolinewidth\":2}}},\"title\":{\"font\":{\"color\":\"#D9D9D9\"}},\"xaxis\":{\"gridcolor\":\"#434343\",\"showgrid\":true,\"tickfont\":{\"color\":\"#C2C2C2\"},\"title\":{\"font\":{\"color\":\"#D9D9D9\"},\"text\":\"\"},\"zerolinecolor\":\"#666570\"},\"yaxis\":{\"gridcolor\":\"#434343\",\"showgrid\":true,\"tickfont\":{\"color\":\"#C2C2C2\"},\"title\":{\"font\":{\"color\":\"#D9D9D9\"},\"text\":\"\"},\"zerolinecolor\":\"#666570\"}},                        {\"showLink\": true, \"linkText\": \"Export to plot.ly\", \"plotlyServerURL\": \"https://plot.ly\", \"responsive\": true}                    ).then(function(){\n",
       "                            \n",
       "var gd = document.getElementById('7ff988dc-6f37-4a5e-be54-d8c802cc823d');\n",
       "var x = new MutationObserver(function (mutations, observer) {{\n",
       "        var display = window.getComputedStyle(gd).display;\n",
       "        if (!display || display === 'none') {{\n",
       "            console.log([gd, 'removed!']);\n",
       "            Plotly.purge(gd);\n",
       "            observer.disconnect();\n",
       "        }}\n",
       "}});\n",
       "\n",
       "// Listen for the removal of the full notebook cells\n",
       "var notebookContainer = gd.closest('#notebook-container');\n",
       "if (notebookContainer) {{\n",
       "    x.observe(notebookContainer, {childList: true});\n",
       "}}\n",
       "\n",
       "// Listen for the clearing of the current output cell\n",
       "var outputEl = gd.closest('.output');\n",
       "if (outputEl) {{\n",
       "    x.observe(outputEl, {childList: true});\n",
       "}}\n",
       "\n",
       "                        })                };                });            </script>        </div>"
      ]
     },
     "metadata": {},
     "output_type": "display_data"
    }
   ],
   "source": [
    "# Plot Mean Annualized Volatility\n",
    "(daily_returns.std()*np.sqrt(252)*100).iplot(kind='bar')"
   ]
  },
  {
   "cell_type": "code",
   "execution_count": 28,
   "id": "0a12e139-236c-41bd-bac8-e48a66b36cf7",
   "metadata": {},
   "outputs": [
    {
     "data": {
      "application/vnd.plotly.v1+json": {
       "config": {
        "linkText": "Export to plot.ly",
        "plotlyServerURL": "https://plot.ly",
        "showLink": true
       },
       "data": [
        {
         "colorscale": [
          [
           0,
           "rgb(8,48,107)"
          ],
          [
           0.125,
           "rgb(8,81,156)"
          ],
          [
           0.25,
           "rgb(33,113,181)"
          ],
          [
           0.375,
           "rgb(66,146,198)"
          ],
          [
           0.5,
           "rgb(107,174,214)"
          ],
          [
           0.625,
           "rgb(158,202,225)"
          ],
          [
           0.75,
           "rgb(198,219,239)"
          ],
          [
           0.875,
           "rgb(222,235,247)"
          ],
          [
           1,
           "rgb(247,251,255)"
          ]
         ],
         "type": "heatmap",
         "x": [
          "AMGN",
          "GS",
          "HD",
          "MCD",
          "UNH"
         ],
         "y": [
          "AMGN",
          "GS",
          "HD",
          "MCD",
          "UNH"
         ],
         "z": [
          [
           1,
           0.1193797368112527,
           0.15877681827176704,
           0.38399234113722863,
           0.22759912136270638
          ],
          [
           0.1193797368112527,
           1,
           0.38392712455278316,
           0.10575596046996603,
           0.12770487931928393
          ],
          [
           0.15877681827176704,
           0.38392712455278316,
           1,
           0.20705374354826167,
           0.11528724757943379
          ],
          [
           0.38399234113722863,
           0.10575596046996603,
           0.20705374354826167,
           1,
           0.3121948565410192
          ],
          [
           0.22759912136270638,
           0.12770487931928393,
           0.11528724757943379,
           0.3121948565410192,
           1
          ]
         ],
         "zmax": 1,
         "zmin": 0.10575596046996603
        }
       ],
       "layout": {
        "autosize": true,
        "legend": {
         "bgcolor": "#151516",
         "font": {
          "color": "#D9D9D9"
         }
        },
        "paper_bgcolor": "#151516",
        "plot_bgcolor": "#151516",
        "template": {
         "data": {
          "bar": [
           {
            "error_x": {
             "color": "#2a3f5f"
            },
            "error_y": {
             "color": "#2a3f5f"
            },
            "marker": {
             "line": {
              "color": "#E5ECF6",
              "width": 0.5
             },
             "pattern": {
              "fillmode": "overlay",
              "size": 10,
              "solidity": 0.2
             }
            },
            "type": "bar"
           }
          ],
          "barpolar": [
           {
            "marker": {
             "line": {
              "color": "#E5ECF6",
              "width": 0.5
             },
             "pattern": {
              "fillmode": "overlay",
              "size": 10,
              "solidity": 0.2
             }
            },
            "type": "barpolar"
           }
          ],
          "carpet": [
           {
            "aaxis": {
             "endlinecolor": "#2a3f5f",
             "gridcolor": "white",
             "linecolor": "white",
             "minorgridcolor": "white",
             "startlinecolor": "#2a3f5f"
            },
            "baxis": {
             "endlinecolor": "#2a3f5f",
             "gridcolor": "white",
             "linecolor": "white",
             "minorgridcolor": "white",
             "startlinecolor": "#2a3f5f"
            },
            "type": "carpet"
           }
          ],
          "choropleth": [
           {
            "colorbar": {
             "outlinewidth": 0,
             "ticks": ""
            },
            "type": "choropleth"
           }
          ],
          "contour": [
           {
            "colorbar": {
             "outlinewidth": 0,
             "ticks": ""
            },
            "colorscale": [
             [
              0,
              "#0d0887"
             ],
             [
              0.1111111111111111,
              "#46039f"
             ],
             [
              0.2222222222222222,
              "#7201a8"
             ],
             [
              0.3333333333333333,
              "#9c179e"
             ],
             [
              0.4444444444444444,
              "#bd3786"
             ],
             [
              0.5555555555555556,
              "#d8576b"
             ],
             [
              0.6666666666666666,
              "#ed7953"
             ],
             [
              0.7777777777777778,
              "#fb9f3a"
             ],
             [
              0.8888888888888888,
              "#fdca26"
             ],
             [
              1,
              "#f0f921"
             ]
            ],
            "type": "contour"
           }
          ],
          "contourcarpet": [
           {
            "colorbar": {
             "outlinewidth": 0,
             "ticks": ""
            },
            "type": "contourcarpet"
           }
          ],
          "heatmap": [
           {
            "colorbar": {
             "outlinewidth": 0,
             "ticks": ""
            },
            "colorscale": [
             [
              0,
              "#0d0887"
             ],
             [
              0.1111111111111111,
              "#46039f"
             ],
             [
              0.2222222222222222,
              "#7201a8"
             ],
             [
              0.3333333333333333,
              "#9c179e"
             ],
             [
              0.4444444444444444,
              "#bd3786"
             ],
             [
              0.5555555555555556,
              "#d8576b"
             ],
             [
              0.6666666666666666,
              "#ed7953"
             ],
             [
              0.7777777777777778,
              "#fb9f3a"
             ],
             [
              0.8888888888888888,
              "#fdca26"
             ],
             [
              1,
              "#f0f921"
             ]
            ],
            "type": "heatmap"
           }
          ],
          "heatmapgl": [
           {
            "colorbar": {
             "outlinewidth": 0,
             "ticks": ""
            },
            "colorscale": [
             [
              0,
              "#0d0887"
             ],
             [
              0.1111111111111111,
              "#46039f"
             ],
             [
              0.2222222222222222,
              "#7201a8"
             ],
             [
              0.3333333333333333,
              "#9c179e"
             ],
             [
              0.4444444444444444,
              "#bd3786"
             ],
             [
              0.5555555555555556,
              "#d8576b"
             ],
             [
              0.6666666666666666,
              "#ed7953"
             ],
             [
              0.7777777777777778,
              "#fb9f3a"
             ],
             [
              0.8888888888888888,
              "#fdca26"
             ],
             [
              1,
              "#f0f921"
             ]
            ],
            "type": "heatmapgl"
           }
          ],
          "histogram": [
           {
            "marker": {
             "pattern": {
              "fillmode": "overlay",
              "size": 10,
              "solidity": 0.2
             }
            },
            "type": "histogram"
           }
          ],
          "histogram2d": [
           {
            "colorbar": {
             "outlinewidth": 0,
             "ticks": ""
            },
            "colorscale": [
             [
              0,
              "#0d0887"
             ],
             [
              0.1111111111111111,
              "#46039f"
             ],
             [
              0.2222222222222222,
              "#7201a8"
             ],
             [
              0.3333333333333333,
              "#9c179e"
             ],
             [
              0.4444444444444444,
              "#bd3786"
             ],
             [
              0.5555555555555556,
              "#d8576b"
             ],
             [
              0.6666666666666666,
              "#ed7953"
             ],
             [
              0.7777777777777778,
              "#fb9f3a"
             ],
             [
              0.8888888888888888,
              "#fdca26"
             ],
             [
              1,
              "#f0f921"
             ]
            ],
            "type": "histogram2d"
           }
          ],
          "histogram2dcontour": [
           {
            "colorbar": {
             "outlinewidth": 0,
             "ticks": ""
            },
            "colorscale": [
             [
              0,
              "#0d0887"
             ],
             [
              0.1111111111111111,
              "#46039f"
             ],
             [
              0.2222222222222222,
              "#7201a8"
             ],
             [
              0.3333333333333333,
              "#9c179e"
             ],
             [
              0.4444444444444444,
              "#bd3786"
             ],
             [
              0.5555555555555556,
              "#d8576b"
             ],
             [
              0.6666666666666666,
              "#ed7953"
             ],
             [
              0.7777777777777778,
              "#fb9f3a"
             ],
             [
              0.8888888888888888,
              "#fdca26"
             ],
             [
              1,
              "#f0f921"
             ]
            ],
            "type": "histogram2dcontour"
           }
          ],
          "mesh3d": [
           {
            "colorbar": {
             "outlinewidth": 0,
             "ticks": ""
            },
            "type": "mesh3d"
           }
          ],
          "parcoords": [
           {
            "line": {
             "colorbar": {
              "outlinewidth": 0,
              "ticks": ""
             }
            },
            "type": "parcoords"
           }
          ],
          "pie": [
           {
            "automargin": true,
            "type": "pie"
           }
          ],
          "scatter": [
           {
            "fillpattern": {
             "fillmode": "overlay",
             "size": 10,
             "solidity": 0.2
            },
            "type": "scatter"
           }
          ],
          "scatter3d": [
           {
            "line": {
             "colorbar": {
              "outlinewidth": 0,
              "ticks": ""
             }
            },
            "marker": {
             "colorbar": {
              "outlinewidth": 0,
              "ticks": ""
             }
            },
            "type": "scatter3d"
           }
          ],
          "scattercarpet": [
           {
            "marker": {
             "colorbar": {
              "outlinewidth": 0,
              "ticks": ""
             }
            },
            "type": "scattercarpet"
           }
          ],
          "scattergeo": [
           {
            "marker": {
             "colorbar": {
              "outlinewidth": 0,
              "ticks": ""
             }
            },
            "type": "scattergeo"
           }
          ],
          "scattergl": [
           {
            "marker": {
             "colorbar": {
              "outlinewidth": 0,
              "ticks": ""
             }
            },
            "type": "scattergl"
           }
          ],
          "scattermapbox": [
           {
            "marker": {
             "colorbar": {
              "outlinewidth": 0,
              "ticks": ""
             }
            },
            "type": "scattermapbox"
           }
          ],
          "scatterpolar": [
           {
            "marker": {
             "colorbar": {
              "outlinewidth": 0,
              "ticks": ""
             }
            },
            "type": "scatterpolar"
           }
          ],
          "scatterpolargl": [
           {
            "marker": {
             "colorbar": {
              "outlinewidth": 0,
              "ticks": ""
             }
            },
            "type": "scatterpolargl"
           }
          ],
          "scatterternary": [
           {
            "marker": {
             "colorbar": {
              "outlinewidth": 0,
              "ticks": ""
             }
            },
            "type": "scatterternary"
           }
          ],
          "surface": [
           {
            "colorbar": {
             "outlinewidth": 0,
             "ticks": ""
            },
            "colorscale": [
             [
              0,
              "#0d0887"
             ],
             [
              0.1111111111111111,
              "#46039f"
             ],
             [
              0.2222222222222222,
              "#7201a8"
             ],
             [
              0.3333333333333333,
              "#9c179e"
             ],
             [
              0.4444444444444444,
              "#bd3786"
             ],
             [
              0.5555555555555556,
              "#d8576b"
             ],
             [
              0.6666666666666666,
              "#ed7953"
             ],
             [
              0.7777777777777778,
              "#fb9f3a"
             ],
             [
              0.8888888888888888,
              "#fdca26"
             ],
             [
              1,
              "#f0f921"
             ]
            ],
            "type": "surface"
           }
          ],
          "table": [
           {
            "cells": {
             "fill": {
              "color": "#EBF0F8"
             },
             "line": {
              "color": "white"
             }
            },
            "header": {
             "fill": {
              "color": "#C8D4E3"
             },
             "line": {
              "color": "white"
             }
            },
            "type": "table"
           }
          ]
         },
         "layout": {
          "annotationdefaults": {
           "arrowcolor": "#2a3f5f",
           "arrowhead": 0,
           "arrowwidth": 1
          },
          "autotypenumbers": "strict",
          "coloraxis": {
           "colorbar": {
            "outlinewidth": 0,
            "ticks": ""
           }
          },
          "colorscale": {
           "diverging": [
            [
             0,
             "#8e0152"
            ],
            [
             0.1,
             "#c51b7d"
            ],
            [
             0.2,
             "#de77ae"
            ],
            [
             0.3,
             "#f1b6da"
            ],
            [
             0.4,
             "#fde0ef"
            ],
            [
             0.5,
             "#f7f7f7"
            ],
            [
             0.6,
             "#e6f5d0"
            ],
            [
             0.7,
             "#b8e186"
            ],
            [
             0.8,
             "#7fbc41"
            ],
            [
             0.9,
             "#4d9221"
            ],
            [
             1,
             "#276419"
            ]
           ],
           "sequential": [
            [
             0,
             "#0d0887"
            ],
            [
             0.1111111111111111,
             "#46039f"
            ],
            [
             0.2222222222222222,
             "#7201a8"
            ],
            [
             0.3333333333333333,
             "#9c179e"
            ],
            [
             0.4444444444444444,
             "#bd3786"
            ],
            [
             0.5555555555555556,
             "#d8576b"
            ],
            [
             0.6666666666666666,
             "#ed7953"
            ],
            [
             0.7777777777777778,
             "#fb9f3a"
            ],
            [
             0.8888888888888888,
             "#fdca26"
            ],
            [
             1,
             "#f0f921"
            ]
           ],
           "sequentialminus": [
            [
             0,
             "#0d0887"
            ],
            [
             0.1111111111111111,
             "#46039f"
            ],
            [
             0.2222222222222222,
             "#7201a8"
            ],
            [
             0.3333333333333333,
             "#9c179e"
            ],
            [
             0.4444444444444444,
             "#bd3786"
            ],
            [
             0.5555555555555556,
             "#d8576b"
            ],
            [
             0.6666666666666666,
             "#ed7953"
            ],
            [
             0.7777777777777778,
             "#fb9f3a"
            ],
            [
             0.8888888888888888,
             "#fdca26"
            ],
            [
             1,
             "#f0f921"
            ]
           ]
          },
          "colorway": [
           "#636efa",
           "#EF553B",
           "#00cc96",
           "#ab63fa",
           "#FFA15A",
           "#19d3f3",
           "#FF6692",
           "#B6E880",
           "#FF97FF",
           "#FECB52"
          ],
          "font": {
           "color": "#2a3f5f"
          },
          "geo": {
           "bgcolor": "white",
           "lakecolor": "white",
           "landcolor": "#E5ECF6",
           "showlakes": true,
           "showland": true,
           "subunitcolor": "white"
          },
          "hoverlabel": {
           "align": "left"
          },
          "hovermode": "closest",
          "mapbox": {
           "style": "light"
          },
          "paper_bgcolor": "white",
          "plot_bgcolor": "#E5ECF6",
          "polar": {
           "angularaxis": {
            "gridcolor": "white",
            "linecolor": "white",
            "ticks": ""
           },
           "bgcolor": "#E5ECF6",
           "radialaxis": {
            "gridcolor": "white",
            "linecolor": "white",
            "ticks": ""
           }
          },
          "scene": {
           "xaxis": {
            "backgroundcolor": "#E5ECF6",
            "gridcolor": "white",
            "gridwidth": 2,
            "linecolor": "white",
            "showbackground": true,
            "ticks": "",
            "zerolinecolor": "white"
           },
           "yaxis": {
            "backgroundcolor": "#E5ECF6",
            "gridcolor": "white",
            "gridwidth": 2,
            "linecolor": "white",
            "showbackground": true,
            "ticks": "",
            "zerolinecolor": "white"
           },
           "zaxis": {
            "backgroundcolor": "#E5ECF6",
            "gridcolor": "white",
            "gridwidth": 2,
            "linecolor": "white",
            "showbackground": true,
            "ticks": "",
            "zerolinecolor": "white"
           }
          },
          "shapedefaults": {
           "line": {
            "color": "#2a3f5f"
           }
          },
          "ternary": {
           "aaxis": {
            "gridcolor": "white",
            "linecolor": "white",
            "ticks": ""
           },
           "baxis": {
            "gridcolor": "white",
            "linecolor": "white",
            "ticks": ""
           },
           "bgcolor": "#E5ECF6",
           "caxis": {
            "gridcolor": "white",
            "linecolor": "white",
            "ticks": ""
           }
          },
          "title": {
           "x": 0.05
          },
          "xaxis": {
           "automargin": true,
           "gridcolor": "white",
           "linecolor": "white",
           "ticks": "",
           "title": {
            "standoff": 15
           },
           "zerolinecolor": "white",
           "zerolinewidth": 2
          },
          "yaxis": {
           "automargin": true,
           "gridcolor": "white",
           "linecolor": "white",
           "ticks": "",
           "title": {
            "standoff": 15
           },
           "zerolinecolor": "white",
           "zerolinewidth": 2
          }
         }
        },
        "title": {
         "font": {
          "color": "#D9D9D9"
         },
         "text": "Correlation Matrix"
        },
        "xaxis": {
         "autorange": true,
         "gridcolor": "#434343",
         "range": [
          -0.5,
          4.5
         ],
         "showgrid": true,
         "tickfont": {
          "color": "#C2C2C2"
         },
         "title": {
          "font": {
           "color": "#D9D9D9"
          },
          "text": ""
         },
         "type": "category",
         "zerolinecolor": "#666570"
        },
        "yaxis": {
         "autorange": true,
         "gridcolor": "#434343",
         "range": [
          -0.5,
          4.5
         ],
         "showgrid": true,
         "tickfont": {
          "color": "#C2C2C2"
         },
         "title": {
          "font": {
           "color": "#D9D9D9"
          },
          "text": ""
         },
         "type": "category",
         "zerolinecolor": "#666570"
        }
       }
      },
      "text/html": [
       "<div>                            <div id=\"4f982709-adfe-4198-bbb8-e9046b8ed921\" class=\"plotly-graph-div\" style=\"height:525px; width:100%;\"></div>            <script type=\"text/javascript\">                require([\"plotly\"], function(Plotly) {                    window.PLOTLYENV=window.PLOTLYENV || {};\n",
       "                    window.PLOTLYENV.BASE_URL='https://plot.ly';                                    if (document.getElementById(\"4f982709-adfe-4198-bbb8-e9046b8ed921\")) {                    Plotly.newPlot(                        \"4f982709-adfe-4198-bbb8-e9046b8ed921\",                        [{\"colorscale\":[[0.0,\"rgb(8,48,107)\"],[0.125,\"rgb(8,81,156)\"],[0.25,\"rgb(33,113,181)\"],[0.375,\"rgb(66,146,198)\"],[0.5,\"rgb(107,174,214)\"],[0.625,\"rgb(158,202,225)\"],[0.75,\"rgb(198,219,239)\"],[0.875,\"rgb(222,235,247)\"],[1.0,\"rgb(247,251,255)\"]],\"x\":[\"AMGN\",\"GS\",\"HD\",\"MCD\",\"UNH\"],\"y\":[\"AMGN\",\"GS\",\"HD\",\"MCD\",\"UNH\"],\"z\":[[1.0,0.1193797368112527,0.15877681827176704,0.38399234113722863,0.22759912136270638],[0.1193797368112527,1.0,0.38392712455278316,0.10575596046996603,0.12770487931928393],[0.15877681827176704,0.38392712455278316,1.0,0.20705374354826167,0.11528724757943379],[0.38399234113722863,0.10575596046996603,0.20705374354826167,1.0,0.3121948565410192],[0.22759912136270638,0.12770487931928393,0.11528724757943379,0.3121948565410192,1.0]],\"zmax\":1.0,\"zmin\":0.10575596046996603,\"type\":\"heatmap\"}],                        {\"legend\":{\"bgcolor\":\"#151516\",\"font\":{\"color\":\"#D9D9D9\"}},\"paper_bgcolor\":\"#151516\",\"plot_bgcolor\":\"#151516\",\"template\":{\"data\":{\"barpolar\":[{\"marker\":{\"line\":{\"color\":\"#E5ECF6\",\"width\":0.5},\"pattern\":{\"fillmode\":\"overlay\",\"size\":10,\"solidity\":0.2}},\"type\":\"barpolar\"}],\"bar\":[{\"error_x\":{\"color\":\"#2a3f5f\"},\"error_y\":{\"color\":\"#2a3f5f\"},\"marker\":{\"line\":{\"color\":\"#E5ECF6\",\"width\":0.5},\"pattern\":{\"fillmode\":\"overlay\",\"size\":10,\"solidity\":0.2}},\"type\":\"bar\"}],\"carpet\":[{\"aaxis\":{\"endlinecolor\":\"#2a3f5f\",\"gridcolor\":\"white\",\"linecolor\":\"white\",\"minorgridcolor\":\"white\",\"startlinecolor\":\"#2a3f5f\"},\"baxis\":{\"endlinecolor\":\"#2a3f5f\",\"gridcolor\":\"white\",\"linecolor\":\"white\",\"minorgridcolor\":\"white\",\"startlinecolor\":\"#2a3f5f\"},\"type\":\"carpet\"}],\"choropleth\":[{\"colorbar\":{\"outlinewidth\":0,\"ticks\":\"\"},\"type\":\"choropleth\"}],\"contourcarpet\":[{\"colorbar\":{\"outlinewidth\":0,\"ticks\":\"\"},\"type\":\"contourcarpet\"}],\"contour\":[{\"colorbar\":{\"outlinewidth\":0,\"ticks\":\"\"},\"colorscale\":[[0.0,\"#0d0887\"],[0.1111111111111111,\"#46039f\"],[0.2222222222222222,\"#7201a8\"],[0.3333333333333333,\"#9c179e\"],[0.4444444444444444,\"#bd3786\"],[0.5555555555555556,\"#d8576b\"],[0.6666666666666666,\"#ed7953\"],[0.7777777777777778,\"#fb9f3a\"],[0.8888888888888888,\"#fdca26\"],[1.0,\"#f0f921\"]],\"type\":\"contour\"}],\"heatmapgl\":[{\"colorbar\":{\"outlinewidth\":0,\"ticks\":\"\"},\"colorscale\":[[0.0,\"#0d0887\"],[0.1111111111111111,\"#46039f\"],[0.2222222222222222,\"#7201a8\"],[0.3333333333333333,\"#9c179e\"],[0.4444444444444444,\"#bd3786\"],[0.5555555555555556,\"#d8576b\"],[0.6666666666666666,\"#ed7953\"],[0.7777777777777778,\"#fb9f3a\"],[0.8888888888888888,\"#fdca26\"],[1.0,\"#f0f921\"]],\"type\":\"heatmapgl\"}],\"heatmap\":[{\"colorbar\":{\"outlinewidth\":0,\"ticks\":\"\"},\"colorscale\":[[0.0,\"#0d0887\"],[0.1111111111111111,\"#46039f\"],[0.2222222222222222,\"#7201a8\"],[0.3333333333333333,\"#9c179e\"],[0.4444444444444444,\"#bd3786\"],[0.5555555555555556,\"#d8576b\"],[0.6666666666666666,\"#ed7953\"],[0.7777777777777778,\"#fb9f3a\"],[0.8888888888888888,\"#fdca26\"],[1.0,\"#f0f921\"]],\"type\":\"heatmap\"}],\"histogram2dcontour\":[{\"colorbar\":{\"outlinewidth\":0,\"ticks\":\"\"},\"colorscale\":[[0.0,\"#0d0887\"],[0.1111111111111111,\"#46039f\"],[0.2222222222222222,\"#7201a8\"],[0.3333333333333333,\"#9c179e\"],[0.4444444444444444,\"#bd3786\"],[0.5555555555555556,\"#d8576b\"],[0.6666666666666666,\"#ed7953\"],[0.7777777777777778,\"#fb9f3a\"],[0.8888888888888888,\"#fdca26\"],[1.0,\"#f0f921\"]],\"type\":\"histogram2dcontour\"}],\"histogram2d\":[{\"colorbar\":{\"outlinewidth\":0,\"ticks\":\"\"},\"colorscale\":[[0.0,\"#0d0887\"],[0.1111111111111111,\"#46039f\"],[0.2222222222222222,\"#7201a8\"],[0.3333333333333333,\"#9c179e\"],[0.4444444444444444,\"#bd3786\"],[0.5555555555555556,\"#d8576b\"],[0.6666666666666666,\"#ed7953\"],[0.7777777777777778,\"#fb9f3a\"],[0.8888888888888888,\"#fdca26\"],[1.0,\"#f0f921\"]],\"type\":\"histogram2d\"}],\"histogram\":[{\"marker\":{\"pattern\":{\"fillmode\":\"overlay\",\"size\":10,\"solidity\":0.2}},\"type\":\"histogram\"}],\"mesh3d\":[{\"colorbar\":{\"outlinewidth\":0,\"ticks\":\"\"},\"type\":\"mesh3d\"}],\"parcoords\":[{\"line\":{\"colorbar\":{\"outlinewidth\":0,\"ticks\":\"\"}},\"type\":\"parcoords\"}],\"pie\":[{\"automargin\":true,\"type\":\"pie\"}],\"scatter3d\":[{\"line\":{\"colorbar\":{\"outlinewidth\":0,\"ticks\":\"\"}},\"marker\":{\"colorbar\":{\"outlinewidth\":0,\"ticks\":\"\"}},\"type\":\"scatter3d\"}],\"scattercarpet\":[{\"marker\":{\"colorbar\":{\"outlinewidth\":0,\"ticks\":\"\"}},\"type\":\"scattercarpet\"}],\"scattergeo\":[{\"marker\":{\"colorbar\":{\"outlinewidth\":0,\"ticks\":\"\"}},\"type\":\"scattergeo\"}],\"scattergl\":[{\"marker\":{\"colorbar\":{\"outlinewidth\":0,\"ticks\":\"\"}},\"type\":\"scattergl\"}],\"scattermapbox\":[{\"marker\":{\"colorbar\":{\"outlinewidth\":0,\"ticks\":\"\"}},\"type\":\"scattermapbox\"}],\"scatterpolargl\":[{\"marker\":{\"colorbar\":{\"outlinewidth\":0,\"ticks\":\"\"}},\"type\":\"scatterpolargl\"}],\"scatterpolar\":[{\"marker\":{\"colorbar\":{\"outlinewidth\":0,\"ticks\":\"\"}},\"type\":\"scatterpolar\"}],\"scatter\":[{\"fillpattern\":{\"fillmode\":\"overlay\",\"size\":10,\"solidity\":0.2},\"type\":\"scatter\"}],\"scatterternary\":[{\"marker\":{\"colorbar\":{\"outlinewidth\":0,\"ticks\":\"\"}},\"type\":\"scatterternary\"}],\"surface\":[{\"colorbar\":{\"outlinewidth\":0,\"ticks\":\"\"},\"colorscale\":[[0.0,\"#0d0887\"],[0.1111111111111111,\"#46039f\"],[0.2222222222222222,\"#7201a8\"],[0.3333333333333333,\"#9c179e\"],[0.4444444444444444,\"#bd3786\"],[0.5555555555555556,\"#d8576b\"],[0.6666666666666666,\"#ed7953\"],[0.7777777777777778,\"#fb9f3a\"],[0.8888888888888888,\"#fdca26\"],[1.0,\"#f0f921\"]],\"type\":\"surface\"}],\"table\":[{\"cells\":{\"fill\":{\"color\":\"#EBF0F8\"},\"line\":{\"color\":\"white\"}},\"header\":{\"fill\":{\"color\":\"#C8D4E3\"},\"line\":{\"color\":\"white\"}},\"type\":\"table\"}]},\"layout\":{\"annotationdefaults\":{\"arrowcolor\":\"#2a3f5f\",\"arrowhead\":0,\"arrowwidth\":1},\"autotypenumbers\":\"strict\",\"coloraxis\":{\"colorbar\":{\"outlinewidth\":0,\"ticks\":\"\"}},\"colorscale\":{\"diverging\":[[0,\"#8e0152\"],[0.1,\"#c51b7d\"],[0.2,\"#de77ae\"],[0.3,\"#f1b6da\"],[0.4,\"#fde0ef\"],[0.5,\"#f7f7f7\"],[0.6,\"#e6f5d0\"],[0.7,\"#b8e186\"],[0.8,\"#7fbc41\"],[0.9,\"#4d9221\"],[1,\"#276419\"]],\"sequential\":[[0.0,\"#0d0887\"],[0.1111111111111111,\"#46039f\"],[0.2222222222222222,\"#7201a8\"],[0.3333333333333333,\"#9c179e\"],[0.4444444444444444,\"#bd3786\"],[0.5555555555555556,\"#d8576b\"],[0.6666666666666666,\"#ed7953\"],[0.7777777777777778,\"#fb9f3a\"],[0.8888888888888888,\"#fdca26\"],[1.0,\"#f0f921\"]],\"sequentialminus\":[[0.0,\"#0d0887\"],[0.1111111111111111,\"#46039f\"],[0.2222222222222222,\"#7201a8\"],[0.3333333333333333,\"#9c179e\"],[0.4444444444444444,\"#bd3786\"],[0.5555555555555556,\"#d8576b\"],[0.6666666666666666,\"#ed7953\"],[0.7777777777777778,\"#fb9f3a\"],[0.8888888888888888,\"#fdca26\"],[1.0,\"#f0f921\"]]},\"colorway\":[\"#636efa\",\"#EF553B\",\"#00cc96\",\"#ab63fa\",\"#FFA15A\",\"#19d3f3\",\"#FF6692\",\"#B6E880\",\"#FF97FF\",\"#FECB52\"],\"font\":{\"color\":\"#2a3f5f\"},\"geo\":{\"bgcolor\":\"white\",\"lakecolor\":\"white\",\"landcolor\":\"#E5ECF6\",\"showlakes\":true,\"showland\":true,\"subunitcolor\":\"white\"},\"hoverlabel\":{\"align\":\"left\"},\"hovermode\":\"closest\",\"mapbox\":{\"style\":\"light\"},\"paper_bgcolor\":\"white\",\"plot_bgcolor\":\"#E5ECF6\",\"polar\":{\"angularaxis\":{\"gridcolor\":\"white\",\"linecolor\":\"white\",\"ticks\":\"\"},\"bgcolor\":\"#E5ECF6\",\"radialaxis\":{\"gridcolor\":\"white\",\"linecolor\":\"white\",\"ticks\":\"\"}},\"scene\":{\"xaxis\":{\"backgroundcolor\":\"#E5ECF6\",\"gridcolor\":\"white\",\"gridwidth\":2,\"linecolor\":\"white\",\"showbackground\":true,\"ticks\":\"\",\"zerolinecolor\":\"white\"},\"yaxis\":{\"backgroundcolor\":\"#E5ECF6\",\"gridcolor\":\"white\",\"gridwidth\":2,\"linecolor\":\"white\",\"showbackground\":true,\"ticks\":\"\",\"zerolinecolor\":\"white\"},\"zaxis\":{\"backgroundcolor\":\"#E5ECF6\",\"gridcolor\":\"white\",\"gridwidth\":2,\"linecolor\":\"white\",\"showbackground\":true,\"ticks\":\"\",\"zerolinecolor\":\"white\"}},\"shapedefaults\":{\"line\":{\"color\":\"#2a3f5f\"}},\"ternary\":{\"aaxis\":{\"gridcolor\":\"white\",\"linecolor\":\"white\",\"ticks\":\"\"},\"baxis\":{\"gridcolor\":\"white\",\"linecolor\":\"white\",\"ticks\":\"\"},\"bgcolor\":\"#E5ECF6\",\"caxis\":{\"gridcolor\":\"white\",\"linecolor\":\"white\",\"ticks\":\"\"}},\"title\":{\"x\":0.05},\"xaxis\":{\"automargin\":true,\"gridcolor\":\"white\",\"linecolor\":\"white\",\"ticks\":\"\",\"title\":{\"standoff\":15},\"zerolinecolor\":\"white\",\"zerolinewidth\":2},\"yaxis\":{\"automargin\":true,\"gridcolor\":\"white\",\"linecolor\":\"white\",\"ticks\":\"\",\"title\":{\"standoff\":15},\"zerolinecolor\":\"white\",\"zerolinewidth\":2}}},\"title\":{\"font\":{\"color\":\"#D9D9D9\"},\"text\":\"Correlation Matrix\"},\"xaxis\":{\"gridcolor\":\"#434343\",\"showgrid\":true,\"tickfont\":{\"color\":\"#C2C2C2\"},\"title\":{\"font\":{\"color\":\"#D9D9D9\"},\"text\":\"\"},\"zerolinecolor\":\"#666570\"},\"yaxis\":{\"gridcolor\":\"#434343\",\"showgrid\":true,\"tickfont\":{\"color\":\"#C2C2C2\"},\"title\":{\"font\":{\"color\":\"#D9D9D9\"},\"text\":\"\"},\"zerolinecolor\":\"#666570\"}},                        {\"showLink\": true, \"linkText\": \"Export to plot.ly\", \"plotlyServerURL\": \"https://plot.ly\", \"responsive\": true}                    ).then(function(){\n",
       "                            \n",
       "var gd = document.getElementById('4f982709-adfe-4198-bbb8-e9046b8ed921');\n",
       "var x = new MutationObserver(function (mutations, observer) {{\n",
       "        var display = window.getComputedStyle(gd).display;\n",
       "        if (!display || display === 'none') {{\n",
       "            console.log([gd, 'removed!']);\n",
       "            Plotly.purge(gd);\n",
       "            observer.disconnect();\n",
       "        }}\n",
       "}});\n",
       "\n",
       "// Listen for the removal of the full notebook cells\n",
       "var notebookContainer = gd.closest('#notebook-container');\n",
       "if (notebookContainer) {{\n",
       "    x.observe(notebookContainer, {childList: true});\n",
       "}}\n",
       "\n",
       "// Listen for the clearing of the current output cell\n",
       "var outputEl = gd.closest('.output');\n",
       "if (outputEl) {{\n",
       "    x.observe(outputEl, {childList: true});\n",
       "}}\n",
       "\n",
       "                        })                };                });            </script>        </div>"
      ]
     },
     "metadata": {},
     "output_type": "display_data"
    }
   ],
   "source": [
    "# Plot correlation of returns\n",
    "daily_returns.corr().iplot(kind='heatmap', title=\"Correlation Matrix\", colorscale=\"-blues\")"
   ]
  }
 ],
 "metadata": {
  "kernelspec": {
   "display_name": "app",
   "language": "python",
   "name": "app"
  },
  "language_info": {
   "codemirror_mode": {
    "name": "ipython",
    "version": 3
   },
   "file_extension": ".py",
   "mimetype": "text/x-python",
   "name": "python",
   "nbconvert_exporter": "python",
   "pygments_lexer": "ipython3",
   "version": "3.9.16"
  }
 },
 "nbformat": 4,
 "nbformat_minor": 5
}
